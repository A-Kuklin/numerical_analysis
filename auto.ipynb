{
 "cells": [
  {
   "cell_type": "markdown",
   "metadata": {},
   "source": [
    "# Определение стоимости автомобилей"
   ]
  },
  {
   "cell_type": "markdown",
   "metadata": {},
   "source": [
    "Сервис по продаже автомобилей с пробегом «Не бит, не крашен» разрабатывает приложение для привлечения новых клиентов.  \n",
    "В нём можно быстро узнать рыночную стоимость своего автомобиля.  \n",
    "В вашем распоряжении исторические данные:  \n",
    "технические характеристики, комплектации и цены автомобилей.  \n",
    "<b>Вам нужно построить модель для определения стоимости.</b>\n",
    "\n",
    "Заказчику важны:\n",
    "\n",
    "- качество предсказания;\n",
    "- скорость предсказания;\n",
    "- время обучения."
   ]
  },
  {
   "cell_type": "markdown",
   "metadata": {},
   "source": [
    "## Подготовка данных"
   ]
  },
  {
   "cell_type": "code",
   "execution_count": 2,
   "metadata": {},
   "outputs": [],
   "source": [
    "import re\n",
    "import numpy as np\n",
    "import pandas as pd\n",
    "import seaborn as sns\n",
    "import matplotlib.pyplot as plt\n",
    "from lightgbm import LGBMRegressor\n",
    "from catboost import CatBoostRegressor\n",
    "from sklearn.metrics import mean_squared_error\n",
    "from sklearn.linear_model import LinearRegression\n",
    "from sklearn.ensemble import RandomForestRegressor\n",
    "from sklearn.model_selection import train_test_split\n",
    "from sklearn.preprocessing import OrdinalEncoder, RobustScaler"
   ]
  },
  {
   "cell_type": "code",
   "execution_count": 3,
   "metadata": {},
   "outputs": [],
   "source": [
    "data = pd.read_csv('autos.csv')\n",
    "palette = [\"#03071e\", \"#370617\", \"#6a040f\", \"#9d0208\", \"#d00000\", \"#dc2f02\", \"#e85d04\", \"#f48c06\", \"#faa307\", \"#ffba08\"]"
   ]
  },
  {
   "cell_type": "markdown",
   "metadata": {},
   "source": [
    "### Новые названия столбцов"
   ]
  },
  {
   "cell_type": "code",
   "execution_count": 4,
   "metadata": {},
   "outputs": [
    {
     "data": {
      "text/html": [
       "<div>\n",
       "<style scoped>\n",
       "    .dataframe tbody tr th:only-of-type {\n",
       "        vertical-align: middle;\n",
       "    }\n",
       "\n",
       "    .dataframe tbody tr th {\n",
       "        vertical-align: top;\n",
       "    }\n",
       "\n",
       "    .dataframe thead th {\n",
       "        text-align: right;\n",
       "    }\n",
       "</style>\n",
       "<table border=\"1\" class=\"dataframe\">\n",
       "  <thead>\n",
       "    <tr style=\"text-align: right;\">\n",
       "      <th></th>\n",
       "      <th>_____ Столбцы _____</th>\n",
       "      <th>_ ____________ _</th>\n",
       "      <th>__ __________ __</th>\n",
       "      <th>___ ________ ___</th>\n",
       "    </tr>\n",
       "  </thead>\n",
       "  <tbody>\n",
       "    <tr>\n",
       "      <th>0</th>\n",
       "      <td>DateCrawled</td>\n",
       "      <td>Gearbox</td>\n",
       "      <td>RegistrationMonth</td>\n",
       "      <td>DateCreated</td>\n",
       "    </tr>\n",
       "    <tr>\n",
       "      <th>1</th>\n",
       "      <td>Price</td>\n",
       "      <td>Power</td>\n",
       "      <td>FuelType</td>\n",
       "      <td>NumberOfPictures</td>\n",
       "    </tr>\n",
       "    <tr>\n",
       "      <th>2</th>\n",
       "      <td>VehicleType</td>\n",
       "      <td>Model</td>\n",
       "      <td>Brand</td>\n",
       "      <td>PostalCode</td>\n",
       "    </tr>\n",
       "    <tr>\n",
       "      <th>3</th>\n",
       "      <td>RegistrationYear</td>\n",
       "      <td>Kilometer</td>\n",
       "      <td>NotRepaired</td>\n",
       "      <td>LastSeen</td>\n",
       "    </tr>\n",
       "  </tbody>\n",
       "</table>\n",
       "</div>"
      ],
      "text/plain": [
       "  _____ Столбцы _____ _ ____________ _   __ __________ __  ___ ________ ___\n",
       "0         DateCrawled          Gearbox  RegistrationMonth       DateCreated\n",
       "1               Price            Power           FuelType  NumberOfPictures\n",
       "2         VehicleType            Model              Brand        PostalCode\n",
       "3    RegistrationYear        Kilometer        NotRepaired          LastSeen"
      ]
     },
     "execution_count": 4,
     "metadata": {},
     "output_type": "execute_result"
    }
   ],
   "source": [
    "pd.DataFrame({\n",
    "    '_____ Столбцы _____': data.columns[:4], \n",
    "    '_ ____________ _': data.columns[4:8], \n",
    "    '__ __________ __': data.columns[8:12],\n",
    "    '___ ________ ___': data.columns[12:]\n",
    "})"
   ]
  },
  {
   "cell_type": "code",
   "execution_count": 5,
   "metadata": {},
   "outputs": [
    {
     "data": {
      "text/html": [
       "<div>\n",
       "<style scoped>\n",
       "    .dataframe tbody tr th:only-of-type {\n",
       "        vertical-align: middle;\n",
       "    }\n",
       "\n",
       "    .dataframe tbody tr th {\n",
       "        vertical-align: top;\n",
       "    }\n",
       "\n",
       "    .dataframe thead th {\n",
       "        text-align: right;\n",
       "    }\n",
       "</style>\n",
       "<table border=\"1\" class=\"dataframe\">\n",
       "  <thead>\n",
       "    <tr style=\"text-align: right;\">\n",
       "      <th></th>\n",
       "      <th>date_crawled</th>\n",
       "      <th>price</th>\n",
       "      <th>vehicle_type</th>\n",
       "      <th>registration_year</th>\n",
       "      <th>gearbox</th>\n",
       "      <th>power</th>\n",
       "      <th>model</th>\n",
       "      <th>mileage_km</th>\n",
       "      <th>month_of_registration</th>\n",
       "      <th>fuel_type</th>\n",
       "      <th>brand</th>\n",
       "      <th>not_repaired</th>\n",
       "      <th>date_of_creation</th>\n",
       "      <th>number_of_pictures</th>\n",
       "      <th>postal_code</th>\n",
       "      <th>last_seen</th>\n",
       "    </tr>\n",
       "  </thead>\n",
       "  <tbody>\n",
       "    <tr>\n",
       "      <th>0</th>\n",
       "      <td>2016-03-24 11:52:17</td>\n",
       "      <td>480</td>\n",
       "      <td>NaN</td>\n",
       "      <td>1993</td>\n",
       "      <td>manual</td>\n",
       "      <td>0</td>\n",
       "      <td>golf</td>\n",
       "      <td>150000</td>\n",
       "      <td>0</td>\n",
       "      <td>petrol</td>\n",
       "      <td>volkswagen</td>\n",
       "      <td>NaN</td>\n",
       "      <td>2016-03-24 00:00:00</td>\n",
       "      <td>0</td>\n",
       "      <td>70435</td>\n",
       "      <td>2016-04-07 03:16:57</td>\n",
       "    </tr>\n",
       "    <tr>\n",
       "      <th>1</th>\n",
       "      <td>2016-03-24 10:58:45</td>\n",
       "      <td>18300</td>\n",
       "      <td>coupe</td>\n",
       "      <td>2011</td>\n",
       "      <td>manual</td>\n",
       "      <td>190</td>\n",
       "      <td>NaN</td>\n",
       "      <td>125000</td>\n",
       "      <td>5</td>\n",
       "      <td>gasoline</td>\n",
       "      <td>audi</td>\n",
       "      <td>yes</td>\n",
       "      <td>2016-03-24 00:00:00</td>\n",
       "      <td>0</td>\n",
       "      <td>66954</td>\n",
       "      <td>2016-04-07 01:46:50</td>\n",
       "    </tr>\n",
       "    <tr>\n",
       "      <th>2</th>\n",
       "      <td>2016-03-14 12:52:21</td>\n",
       "      <td>9800</td>\n",
       "      <td>suv</td>\n",
       "      <td>2004</td>\n",
       "      <td>auto</td>\n",
       "      <td>163</td>\n",
       "      <td>grand</td>\n",
       "      <td>125000</td>\n",
       "      <td>8</td>\n",
       "      <td>gasoline</td>\n",
       "      <td>jeep</td>\n",
       "      <td>NaN</td>\n",
       "      <td>2016-03-14 00:00:00</td>\n",
       "      <td>0</td>\n",
       "      <td>90480</td>\n",
       "      <td>2016-04-05 12:47:46</td>\n",
       "    </tr>\n",
       "    <tr>\n",
       "      <th>3</th>\n",
       "      <td>2016-03-17 16:54:04</td>\n",
       "      <td>1500</td>\n",
       "      <td>small</td>\n",
       "      <td>2001</td>\n",
       "      <td>manual</td>\n",
       "      <td>75</td>\n",
       "      <td>golf</td>\n",
       "      <td>150000</td>\n",
       "      <td>6</td>\n",
       "      <td>petrol</td>\n",
       "      <td>volkswagen</td>\n",
       "      <td>no</td>\n",
       "      <td>2016-03-17 00:00:00</td>\n",
       "      <td>0</td>\n",
       "      <td>91074</td>\n",
       "      <td>2016-03-17 17:40:17</td>\n",
       "    </tr>\n",
       "    <tr>\n",
       "      <th>4</th>\n",
       "      <td>2016-03-31 17:25:20</td>\n",
       "      <td>3600</td>\n",
       "      <td>small</td>\n",
       "      <td>2008</td>\n",
       "      <td>manual</td>\n",
       "      <td>69</td>\n",
       "      <td>fabia</td>\n",
       "      <td>90000</td>\n",
       "      <td>7</td>\n",
       "      <td>gasoline</td>\n",
       "      <td>skoda</td>\n",
       "      <td>no</td>\n",
       "      <td>2016-03-31 00:00:00</td>\n",
       "      <td>0</td>\n",
       "      <td>60437</td>\n",
       "      <td>2016-04-06 10:17:21</td>\n",
       "    </tr>\n",
       "  </tbody>\n",
       "</table>\n",
       "</div>"
      ],
      "text/plain": [
       "          date_crawled  price vehicle_type  registration_year gearbox  power  \\\n",
       "0  2016-03-24 11:52:17    480          NaN               1993  manual      0   \n",
       "1  2016-03-24 10:58:45  18300        coupe               2011  manual    190   \n",
       "2  2016-03-14 12:52:21   9800          suv               2004    auto    163   \n",
       "3  2016-03-17 16:54:04   1500        small               2001  manual     75   \n",
       "4  2016-03-31 17:25:20   3600        small               2008  manual     69   \n",
       "\n",
       "   model  mileage_km  month_of_registration fuel_type       brand  \\\n",
       "0   golf      150000                      0    petrol  volkswagen   \n",
       "1    NaN      125000                      5  gasoline        audi   \n",
       "2  grand      125000                      8  gasoline        jeep   \n",
       "3   golf      150000                      6    petrol  volkswagen   \n",
       "4  fabia       90000                      7  gasoline       skoda   \n",
       "\n",
       "  not_repaired     date_of_creation  number_of_pictures  postal_code  \\\n",
       "0          NaN  2016-03-24 00:00:00                   0        70435   \n",
       "1          yes  2016-03-24 00:00:00                   0        66954   \n",
       "2          NaN  2016-03-14 00:00:00                   0        90480   \n",
       "3           no  2016-03-17 00:00:00                   0        91074   \n",
       "4           no  2016-03-31 00:00:00                   0        60437   \n",
       "\n",
       "             last_seen  \n",
       "0  2016-04-07 03:16:57  \n",
       "1  2016-04-07 01:46:50  \n",
       "2  2016-04-05 12:47:46  \n",
       "3  2016-03-17 17:40:17  \n",
       "4  2016-04-06 10:17:21  "
      ]
     },
     "execution_count": 5,
     "metadata": {},
     "output_type": "execute_result"
    }
   ],
   "source": [
    "columns = {\n",
    "    'DateCrawled': 'date_crawled',\n",
    "    'Price': 'price',\n",
    "    'VehicleType': 'vehicle_type',\n",
    "    'RegistrationYear': 'registration_year',\n",
    "    'Gearbox': 'gearbox',\n",
    "    'Power': 'power',\n",
    "    'Model': 'model',\n",
    "    'Kilometer': 'mileage_km',\n",
    "    'RegistrationMonth': 'month_of_registration',\n",
    "    'FuelType': 'fuel_type',\n",
    "    'Brand': 'brand',\n",
    "    'NotRepaired': 'not_repaired',\n",
    "    'DateCreated': 'date_of_creation',\n",
    "    'NumberOfPictures': 'number_of_pictures',\n",
    "    'PostalCode': 'postal_code',\n",
    "    'LastSeen': 'last_seen'\n",
    "}\n",
    "data = data.rename(columns=columns)\n",
    "data.head()"
   ]
  },
  {
   "cell_type": "markdown",
   "metadata": {},
   "source": [
    "- `price` — цена (евро) || **целевой признак**\n",
    "\n",
    "\n",
    "- `date_crawled` — дата скачивания анкеты из базы\n",
    "- `vehicle_type` — тип автомобильного кузова\n",
    "- `registration_year` — год регистрации автомобиля\n",
    "- `gearbox` — тип коробки передач\n",
    "- `power` — мощность (л. с.)\n",
    "- `model` — модель автомобиля\n",
    "- `mileage_km` — пробег (км)\n",
    "- `month_of_registration` — месяц регистрации автомобиля\n",
    "- `fuel_type` — тип топлива\n",
    "- `brand` — марка автомобиля\n",
    "- `not_repaired` — была машина в ремонте или нет\n",
    "- `date_of_creation` — дата создания анкеты\n",
    "- `number_of_pictures` — количество фотографий автомобиля\n",
    "- `postal_code` — почтовый индекс владельца анкеты (пользователя)\n",
    "- `last_seen` — дата последней активности пользователя"
   ]
  },
  {
   "cell_type": "code",
   "execution_count": 6,
   "metadata": {
    "scrolled": true
   },
   "outputs": [
    {
     "data": {
      "text/html": [
       "<div>\n",
       "<style scoped>\n",
       "    .dataframe tbody tr th:only-of-type {\n",
       "        vertical-align: middle;\n",
       "    }\n",
       "\n",
       "    .dataframe tbody tr th {\n",
       "        vertical-align: top;\n",
       "    }\n",
       "\n",
       "    .dataframe thead th {\n",
       "        text-align: right;\n",
       "    }\n",
       "</style>\n",
       "<table border=\"1\" class=\"dataframe\">\n",
       "  <thead>\n",
       "    <tr style=\"text-align: right;\">\n",
       "      <th></th>\n",
       "      <th>price</th>\n",
       "      <th>registration_year</th>\n",
       "      <th>power</th>\n",
       "      <th>mileage_km</th>\n",
       "      <th>month_of_registration</th>\n",
       "      <th>number_of_pictures</th>\n",
       "      <th>postal_code</th>\n",
       "    </tr>\n",
       "  </thead>\n",
       "  <tbody>\n",
       "    <tr>\n",
       "      <th>count</th>\n",
       "      <td>354369.000000</td>\n",
       "      <td>354369.000000</td>\n",
       "      <td>354369.000000</td>\n",
       "      <td>354369.000000</td>\n",
       "      <td>354369.000000</td>\n",
       "      <td>354369.0</td>\n",
       "      <td>354369.000000</td>\n",
       "    </tr>\n",
       "    <tr>\n",
       "      <th>mean</th>\n",
       "      <td>4416.656776</td>\n",
       "      <td>2004.234448</td>\n",
       "      <td>110.094337</td>\n",
       "      <td>128211.172535</td>\n",
       "      <td>5.714645</td>\n",
       "      <td>0.0</td>\n",
       "      <td>50508.689087</td>\n",
       "    </tr>\n",
       "    <tr>\n",
       "      <th>std</th>\n",
       "      <td>4514.158514</td>\n",
       "      <td>90.227958</td>\n",
       "      <td>189.850405</td>\n",
       "      <td>37905.341530</td>\n",
       "      <td>3.726421</td>\n",
       "      <td>0.0</td>\n",
       "      <td>25783.096248</td>\n",
       "    </tr>\n",
       "    <tr>\n",
       "      <th>min</th>\n",
       "      <td>0.000000</td>\n",
       "      <td>1000.000000</td>\n",
       "      <td>0.000000</td>\n",
       "      <td>5000.000000</td>\n",
       "      <td>0.000000</td>\n",
       "      <td>0.0</td>\n",
       "      <td>1067.000000</td>\n",
       "    </tr>\n",
       "    <tr>\n",
       "      <th>25%</th>\n",
       "      <td>1050.000000</td>\n",
       "      <td>1999.000000</td>\n",
       "      <td>69.000000</td>\n",
       "      <td>125000.000000</td>\n",
       "      <td>3.000000</td>\n",
       "      <td>0.0</td>\n",
       "      <td>30165.000000</td>\n",
       "    </tr>\n",
       "    <tr>\n",
       "      <th>50%</th>\n",
       "      <td>2700.000000</td>\n",
       "      <td>2003.000000</td>\n",
       "      <td>105.000000</td>\n",
       "      <td>150000.000000</td>\n",
       "      <td>6.000000</td>\n",
       "      <td>0.0</td>\n",
       "      <td>49413.000000</td>\n",
       "    </tr>\n",
       "    <tr>\n",
       "      <th>75%</th>\n",
       "      <td>6400.000000</td>\n",
       "      <td>2008.000000</td>\n",
       "      <td>143.000000</td>\n",
       "      <td>150000.000000</td>\n",
       "      <td>9.000000</td>\n",
       "      <td>0.0</td>\n",
       "      <td>71083.000000</td>\n",
       "    </tr>\n",
       "    <tr>\n",
       "      <th>max</th>\n",
       "      <td>20000.000000</td>\n",
       "      <td>9999.000000</td>\n",
       "      <td>20000.000000</td>\n",
       "      <td>150000.000000</td>\n",
       "      <td>12.000000</td>\n",
       "      <td>0.0</td>\n",
       "      <td>99998.000000</td>\n",
       "    </tr>\n",
       "  </tbody>\n",
       "</table>\n",
       "</div>"
      ],
      "text/plain": [
       "               price  registration_year          power     mileage_km  \\\n",
       "count  354369.000000      354369.000000  354369.000000  354369.000000   \n",
       "mean     4416.656776        2004.234448     110.094337  128211.172535   \n",
       "std      4514.158514          90.227958     189.850405   37905.341530   \n",
       "min         0.000000        1000.000000       0.000000    5000.000000   \n",
       "25%      1050.000000        1999.000000      69.000000  125000.000000   \n",
       "50%      2700.000000        2003.000000     105.000000  150000.000000   \n",
       "75%      6400.000000        2008.000000     143.000000  150000.000000   \n",
       "max     20000.000000        9999.000000   20000.000000  150000.000000   \n",
       "\n",
       "       month_of_registration  number_of_pictures    postal_code  \n",
       "count          354369.000000            354369.0  354369.000000  \n",
       "mean                5.714645                 0.0   50508.689087  \n",
       "std                 3.726421                 0.0   25783.096248  \n",
       "min                 0.000000                 0.0    1067.000000  \n",
       "25%                 3.000000                 0.0   30165.000000  \n",
       "50%                 6.000000                 0.0   49413.000000  \n",
       "75%                 9.000000                 0.0   71083.000000  \n",
       "max                12.000000                 0.0   99998.000000  "
      ]
     },
     "execution_count": 6,
     "metadata": {},
     "output_type": "execute_result"
    }
   ],
   "source": [
    "data.describe()"
   ]
  },
  {
   "cell_type": "code",
   "execution_count": 7,
   "metadata": {},
   "outputs": [
    {
     "name": "stdout",
     "output_type": "stream",
     "text": [
      "<class 'pandas.core.frame.DataFrame'>\n",
      "RangeIndex: 354369 entries, 0 to 354368\n",
      "Data columns (total 16 columns):\n",
      " #   Column                 Non-Null Count   Dtype \n",
      "---  ------                 --------------   ----- \n",
      " 0   date_crawled           354369 non-null  object\n",
      " 1   price                  354369 non-null  int64 \n",
      " 2   vehicle_type           316879 non-null  object\n",
      " 3   registration_year      354369 non-null  int64 \n",
      " 4   gearbox                334536 non-null  object\n",
      " 5   power                  354369 non-null  int64 \n",
      " 6   model                  334664 non-null  object\n",
      " 7   mileage_km             354369 non-null  int64 \n",
      " 8   month_of_registration  354369 non-null  int64 \n",
      " 9   fuel_type              321474 non-null  object\n",
      " 10  brand                  354369 non-null  object\n",
      " 11  not_repaired           283215 non-null  object\n",
      " 12  date_of_creation       354369 non-null  object\n",
      " 13  number_of_pictures     354369 non-null  int64 \n",
      " 14  postal_code            354369 non-null  int64 \n",
      " 15  last_seen              354369 non-null  object\n",
      "dtypes: int64(7), object(9)\n",
      "memory usage: 43.3+ MB\n"
     ]
    }
   ],
   "source": [
    "data.info()"
   ]
  },
  {
   "cell_type": "markdown",
   "metadata": {},
   "source": [
    "### Поиск дубликатов"
   ]
  },
  {
   "cell_type": "code",
   "execution_count": 8,
   "metadata": {},
   "outputs": [],
   "source": [
    "def show_duplicates(data):\n",
    "    duplicates = data.duplicated().sum()\n",
    "    print(f'Количество дубликатов: {duplicates} ({duplicates / len(data):.3%})')"
   ]
  },
  {
   "cell_type": "code",
   "execution_count": 9,
   "metadata": {},
   "outputs": [
    {
     "name": "stdout",
     "output_type": "stream",
     "text": [
      "Количество дубликатов: 4 (0.001%)\n"
     ]
    }
   ],
   "source": [
    "show_duplicates(data)"
   ]
  },
  {
   "cell_type": "code",
   "execution_count": 10,
   "metadata": {},
   "outputs": [
    {
     "name": "stdout",
     "output_type": "stream",
     "text": [
      "Количество дубликатов: 0 (0.000%)\n"
     ]
    }
   ],
   "source": [
    "processed_data = data.drop_duplicates().reset_index(drop=True)\n",
    "show_duplicates(processed_data)"
   ]
  },
  {
   "cell_type": "markdown",
   "metadata": {},
   "source": [
    "### Анализ признаков"
   ]
  },
  {
   "cell_type": "markdown",
   "metadata": {},
   "source": [
    "Признаки, которые не помогут в определении стоимости:\n",
    "- `date_crawled`  \n",
    "    Дата скачивания анкеты не может влиять на стоимость автомобиля.\n",
    "- `month_of_registration`  \n",
    "    Непонятно для чего в принципе может понадобится порядковый номер месяца регистрации автомобиля.\n",
    "- `date_of_creation`  \n",
    "    Точная дата публикации не понадобится, непонятно как обрабатывать этот признак для обучения.  \n",
    "    Оставлю год публикации, так как стоимость может меняться год от года, как минимум под влиянием инфляции.\n",
    "- `number_of_pictures`  \n",
    "    Судя по описанию данных, столбец не заполнен, во всех строках стоят нули.  \n",
    "    К тому же, количество фотографий автомобиля вряд ли влияет на его стоимость.\n",
    "- `last_seen`  \n",
    "    Дата последней активности пользователя не может влиять на стоимость автомобиля."
   ]
  },
  {
   "cell_type": "code",
   "execution_count": 11,
   "metadata": {},
   "outputs": [
    {
     "name": "stdout",
     "output_type": "stream",
     "text": [
      "Данных удалено: 14530 (4.10%)\n"
     ]
    }
   ],
   "source": [
    "processed_data['date_crawled'] = processed_data['date_crawled'].astype('datetime64').dt.year\n",
    "deleted_data = processed_data.query('date_crawled < registration_year')\n",
    "print(f'Данных удалено: {len(deleted_data)} ({len(deleted_data)/len(processed_data):.2%})')\n",
    "processed_data = processed_data.query('date_crawled >= registration_year')"
   ]
  },
  {
   "cell_type": "code",
   "execution_count": 12,
   "metadata": {},
   "outputs": [],
   "source": [
    "columns_to_drop = ['postal_code']"
   ]
  },
  {
   "cell_type": "code",
   "execution_count": 13,
   "metadata": {},
   "outputs": [],
   "source": [
    "processed_data['date_of_creation'] = processed_data['date_of_creation'].astype('datetime64')\n",
    "processed_data['year_of_creation'] = processed_data['date_of_creation'].dt.year"
   ]
  },
  {
   "cell_type": "code",
   "execution_count": 14,
   "metadata": {},
   "outputs": [],
   "source": [
    "columns_to_drop += [\n",
    "    'date_crawled',\n",
    "    'month_of_registration',\n",
    "    'number_of_pictures',\n",
    "    'last_seen',\n",
    "    'date_of_creation',\n",
    "]\n",
    "processed_data = processed_data.drop(columns_to_drop, axis=1)"
   ]
  },
  {
   "cell_type": "markdown",
   "metadata": {},
   "source": [
    "### Обработка пропусков"
   ]
  },
  {
   "cell_type": "code",
   "execution_count": 15,
   "metadata": {},
   "outputs": [],
   "source": [
    "def show_nulls(data):\n",
    "    nulls = data.isnull().sum()\n",
    "    data_null = pd.DataFrame({\n",
    "        'quantity': nulls,\n",
    "        'percentage': round(nulls / len(data) * 100, 1)\n",
    "    })\n",
    "    data_null = data_null.query('percentage != 0').sort_values(by='percentage', ascending=False)\n",
    "    data_null.columns = pd.MultiIndex.from_tuples(\n",
    "        zip(['Количество пропусков в столбцах', 'Количество пропусков в столбцах'], data_null.columns)\n",
    "    )\n",
    "    if len(data_null) == 0:\n",
    "        return 'Пропусков нет'\n",
    "    return data_null"
   ]
  },
  {
   "cell_type": "code",
   "execution_count": 16,
   "metadata": {},
   "outputs": [
    {
     "data": {
      "text/html": [
       "<div>\n",
       "<style scoped>\n",
       "    .dataframe tbody tr th:only-of-type {\n",
       "        vertical-align: middle;\n",
       "    }\n",
       "\n",
       "    .dataframe tbody tr th {\n",
       "        vertical-align: top;\n",
       "    }\n",
       "\n",
       "    .dataframe thead tr th {\n",
       "        text-align: left;\n",
       "    }\n",
       "</style>\n",
       "<table border=\"1\" class=\"dataframe\">\n",
       "  <thead>\n",
       "    <tr>\n",
       "      <th></th>\n",
       "      <th colspan=\"2\" halign=\"left\">Количество пропусков в столбцах</th>\n",
       "    </tr>\n",
       "    <tr>\n",
       "      <th></th>\n",
       "      <th>quantity</th>\n",
       "      <th>percentage</th>\n",
       "    </tr>\n",
       "  </thead>\n",
       "  <tbody>\n",
       "    <tr>\n",
       "      <th>not_repaired</th>\n",
       "      <td>64855</td>\n",
       "      <td>19.1</td>\n",
       "    </tr>\n",
       "    <tr>\n",
       "      <th>fuel_type</th>\n",
       "      <td>27301</td>\n",
       "      <td>8.0</td>\n",
       "    </tr>\n",
       "    <tr>\n",
       "      <th>vehicle_type</th>\n",
       "      <td>22980</td>\n",
       "      <td>6.8</td>\n",
       "    </tr>\n",
       "    <tr>\n",
       "      <th>gearbox</th>\n",
       "      <td>17966</td>\n",
       "      <td>5.3</td>\n",
       "    </tr>\n",
       "    <tr>\n",
       "      <th>model</th>\n",
       "      <td>17658</td>\n",
       "      <td>5.2</td>\n",
       "    </tr>\n",
       "  </tbody>\n",
       "</table>\n",
       "</div>"
      ],
      "text/plain": [
       "             Количество пропусков в столбцах           \n",
       "                                    quantity percentage\n",
       "not_repaired                           64855       19.1\n",
       "fuel_type                              27301        8.0\n",
       "vehicle_type                           22980        6.8\n",
       "gearbox                                17966        5.3\n",
       "model                                  17658        5.2"
      ]
     },
     "execution_count": 16,
     "metadata": {},
     "output_type": "execute_result"
    }
   ],
   "source": [
    "show_nulls(processed_data)"
   ]
  },
  {
   "cell_type": "markdown",
   "metadata": {},
   "source": [
    "#### Столбец `not_repaired`\n",
    "Описание: была машина в ремонте или нет  \n",
    "\n",
    "В этом столбце больше всего пропусков, заменить их с помощью других данных нельзя.  \n",
    "Данных много, чтобы удалить без последствий.  \n",
    "Присвою пропускам категорию `unknown`."
   ]
  },
  {
   "cell_type": "code",
   "execution_count": 17,
   "metadata": {},
   "outputs": [
    {
     "data": {
      "text/html": [
       "<div>\n",
       "<style scoped>\n",
       "    .dataframe tbody tr th:only-of-type {\n",
       "        vertical-align: middle;\n",
       "    }\n",
       "\n",
       "    .dataframe tbody tr th {\n",
       "        vertical-align: top;\n",
       "    }\n",
       "\n",
       "    .dataframe thead tr th {\n",
       "        text-align: left;\n",
       "    }\n",
       "</style>\n",
       "<table border=\"1\" class=\"dataframe\">\n",
       "  <thead>\n",
       "    <tr>\n",
       "      <th></th>\n",
       "      <th colspan=\"2\" halign=\"left\">Количество пропусков в столбцах</th>\n",
       "    </tr>\n",
       "    <tr>\n",
       "      <th></th>\n",
       "      <th>quantity</th>\n",
       "      <th>percentage</th>\n",
       "    </tr>\n",
       "  </thead>\n",
       "  <tbody>\n",
       "    <tr>\n",
       "      <th>fuel_type</th>\n",
       "      <td>27301</td>\n",
       "      <td>8.0</td>\n",
       "    </tr>\n",
       "    <tr>\n",
       "      <th>vehicle_type</th>\n",
       "      <td>22980</td>\n",
       "      <td>6.8</td>\n",
       "    </tr>\n",
       "    <tr>\n",
       "      <th>gearbox</th>\n",
       "      <td>17966</td>\n",
       "      <td>5.3</td>\n",
       "    </tr>\n",
       "    <tr>\n",
       "      <th>model</th>\n",
       "      <td>17658</td>\n",
       "      <td>5.2</td>\n",
       "    </tr>\n",
       "  </tbody>\n",
       "</table>\n",
       "</div>"
      ],
      "text/plain": [
       "             Количество пропусков в столбцах           \n",
       "                                    quantity percentage\n",
       "fuel_type                              27301        8.0\n",
       "vehicle_type                           22980        6.8\n",
       "gearbox                                17966        5.3\n",
       "model                                  17658        5.2"
      ]
     },
     "execution_count": 17,
     "metadata": {},
     "output_type": "execute_result"
    }
   ],
   "source": [
    "processed_data['not_repaired'] = processed_data['not_repaired'].fillna('unknown')\n",
    "show_nulls(processed_data)"
   ]
  },
  {
   "cell_type": "markdown",
   "metadata": {},
   "source": [
    "#### Столбец `vehicle_type`"
   ]
  },
  {
   "cell_type": "code",
   "execution_count": 18,
   "metadata": {},
   "outputs": [
    {
     "data": {
      "text/html": [
       "<div>\n",
       "<style scoped>\n",
       "    .dataframe tbody tr th:only-of-type {\n",
       "        vertical-align: middle;\n",
       "    }\n",
       "\n",
       "    .dataframe tbody tr th {\n",
       "        vertical-align: top;\n",
       "    }\n",
       "\n",
       "    .dataframe thead th {\n",
       "        text-align: right;\n",
       "    }\n",
       "</style>\n",
       "<table border=\"1\" class=\"dataframe\">\n",
       "  <thead>\n",
       "    <tr style=\"text-align: right;\">\n",
       "      <th></th>\n",
       "      <th>Типы автомобилей</th>\n",
       "    </tr>\n",
       "  </thead>\n",
       "  <tbody>\n",
       "    <tr>\n",
       "      <th>sedan</th>\n",
       "      <td>91453</td>\n",
       "    </tr>\n",
       "    <tr>\n",
       "      <th>small</th>\n",
       "      <td>79826</td>\n",
       "    </tr>\n",
       "    <tr>\n",
       "      <th>wagon</th>\n",
       "      <td>65161</td>\n",
       "    </tr>\n",
       "    <tr>\n",
       "      <th>bus</th>\n",
       "      <td>28773</td>\n",
       "    </tr>\n",
       "    <tr>\n",
       "      <th>convertible</th>\n",
       "      <td>20202</td>\n",
       "    </tr>\n",
       "    <tr>\n",
       "      <th>coupe</th>\n",
       "      <td>16158</td>\n",
       "    </tr>\n",
       "    <tr>\n",
       "      <th>suv</th>\n",
       "      <td>11995</td>\n",
       "    </tr>\n",
       "    <tr>\n",
       "      <th>other</th>\n",
       "      <td>3287</td>\n",
       "    </tr>\n",
       "  </tbody>\n",
       "</table>\n",
       "</div>"
      ],
      "text/plain": [
       "             Типы автомобилей\n",
       "sedan                   91453\n",
       "small                   79826\n",
       "wagon                   65161\n",
       "bus                     28773\n",
       "convertible             20202\n",
       "coupe                   16158\n",
       "suv                     11995\n",
       "other                    3287"
      ]
     },
     "execution_count": 18,
     "metadata": {},
     "output_type": "execute_result"
    }
   ],
   "source": [
    "vehicles = processed_data['vehicle_type'].value_counts()\n",
    "vehicles_df = pd.DataFrame({'Типы автомобилей': vehicles}).sort_values(by='Типы автомобилей', ascending=False)\n",
    "vehicles_df"
   ]
  },
  {
   "cell_type": "markdown",
   "metadata": {},
   "source": [
    "Помимо пропусков есть тип `other`, пропуски можно отнести к нему."
   ]
  },
  {
   "cell_type": "code",
   "execution_count": 19,
   "metadata": {},
   "outputs": [
    {
     "data": {
      "text/html": [
       "<div>\n",
       "<style scoped>\n",
       "    .dataframe tbody tr th:only-of-type {\n",
       "        vertical-align: middle;\n",
       "    }\n",
       "\n",
       "    .dataframe tbody tr th {\n",
       "        vertical-align: top;\n",
       "    }\n",
       "\n",
       "    .dataframe thead tr th {\n",
       "        text-align: left;\n",
       "    }\n",
       "</style>\n",
       "<table border=\"1\" class=\"dataframe\">\n",
       "  <thead>\n",
       "    <tr>\n",
       "      <th></th>\n",
       "      <th colspan=\"2\" halign=\"left\">Количество пропусков в столбцах</th>\n",
       "    </tr>\n",
       "    <tr>\n",
       "      <th></th>\n",
       "      <th>quantity</th>\n",
       "      <th>percentage</th>\n",
       "    </tr>\n",
       "  </thead>\n",
       "  <tbody>\n",
       "    <tr>\n",
       "      <th>fuel_type</th>\n",
       "      <td>27301</td>\n",
       "      <td>8.0</td>\n",
       "    </tr>\n",
       "    <tr>\n",
       "      <th>gearbox</th>\n",
       "      <td>17966</td>\n",
       "      <td>5.3</td>\n",
       "    </tr>\n",
       "    <tr>\n",
       "      <th>model</th>\n",
       "      <td>17658</td>\n",
       "      <td>5.2</td>\n",
       "    </tr>\n",
       "  </tbody>\n",
       "</table>\n",
       "</div>"
      ],
      "text/plain": [
       "          Количество пропусков в столбцах           \n",
       "                                 quantity percentage\n",
       "fuel_type                           27301        8.0\n",
       "gearbox                             17966        5.3\n",
       "model                               17658        5.2"
      ]
     },
     "execution_count": 19,
     "metadata": {},
     "output_type": "execute_result"
    }
   ],
   "source": [
    "processed_data['vehicle_type'] = processed_data['vehicle_type'].fillna('other')\n",
    "show_nulls(processed_data)"
   ]
  },
  {
   "cell_type": "markdown",
   "metadata": {},
   "source": [
    "#### Столбец `fuel_type`"
   ]
  },
  {
   "cell_type": "code",
   "execution_count": 20,
   "metadata": {},
   "outputs": [
    {
     "data": {
      "text/html": [
       "<div>\n",
       "<style scoped>\n",
       "    .dataframe tbody tr th:only-of-type {\n",
       "        vertical-align: middle;\n",
       "    }\n",
       "\n",
       "    .dataframe tbody tr th {\n",
       "        vertical-align: top;\n",
       "    }\n",
       "\n",
       "    .dataframe thead th {\n",
       "        text-align: right;\n",
       "    }\n",
       "</style>\n",
       "<table border=\"1\" class=\"dataframe\">\n",
       "  <thead>\n",
       "    <tr style=\"text-align: right;\">\n",
       "      <th></th>\n",
       "      <th>Типы топлива</th>\n",
       "    </tr>\n",
       "  </thead>\n",
       "  <tbody>\n",
       "    <tr>\n",
       "      <th>petrol</th>\n",
       "      <td>210015</td>\n",
       "    </tr>\n",
       "    <tr>\n",
       "      <th>gasoline</th>\n",
       "      <td>96308</td>\n",
       "    </tr>\n",
       "    <tr>\n",
       "      <th>lpg</th>\n",
       "      <td>5159</td>\n",
       "    </tr>\n",
       "    <tr>\n",
       "      <th>cng</th>\n",
       "      <td>542</td>\n",
       "    </tr>\n",
       "    <tr>\n",
       "      <th>hybrid</th>\n",
       "      <td>225</td>\n",
       "    </tr>\n",
       "    <tr>\n",
       "      <th>other</th>\n",
       "      <td>196</td>\n",
       "    </tr>\n",
       "    <tr>\n",
       "      <th>electric</th>\n",
       "      <td>89</td>\n",
       "    </tr>\n",
       "  </tbody>\n",
       "</table>\n",
       "</div>"
      ],
      "text/plain": [
       "          Типы топлива\n",
       "petrol          210015\n",
       "gasoline         96308\n",
       "lpg               5159\n",
       "cng                542\n",
       "hybrid             225\n",
       "other              196\n",
       "electric            89"
      ]
     },
     "execution_count": 20,
     "metadata": {},
     "output_type": "execute_result"
    }
   ],
   "source": [
    "fuels = processed_data['fuel_type'].value_counts()\n",
    "fuel_df = pd.DataFrame({'Типы топлива': fuels}).sort_values(by='Типы топлива', ascending=False)\n",
    "fuel_df"
   ]
  },
  {
   "cell_type": "markdown",
   "metadata": {},
   "source": [
    "Аналогично пропускам в `vehicle_type`, можно отнести пропуски в группу `other`."
   ]
  },
  {
   "cell_type": "code",
   "execution_count": 21,
   "metadata": {},
   "outputs": [
    {
     "data": {
      "text/html": [
       "<div>\n",
       "<style scoped>\n",
       "    .dataframe tbody tr th:only-of-type {\n",
       "        vertical-align: middle;\n",
       "    }\n",
       "\n",
       "    .dataframe tbody tr th {\n",
       "        vertical-align: top;\n",
       "    }\n",
       "\n",
       "    .dataframe thead tr th {\n",
       "        text-align: left;\n",
       "    }\n",
       "</style>\n",
       "<table border=\"1\" class=\"dataframe\">\n",
       "  <thead>\n",
       "    <tr>\n",
       "      <th></th>\n",
       "      <th colspan=\"2\" halign=\"left\">Количество пропусков в столбцах</th>\n",
       "    </tr>\n",
       "    <tr>\n",
       "      <th></th>\n",
       "      <th>quantity</th>\n",
       "      <th>percentage</th>\n",
       "    </tr>\n",
       "  </thead>\n",
       "  <tbody>\n",
       "    <tr>\n",
       "      <th>gearbox</th>\n",
       "      <td>17966</td>\n",
       "      <td>5.3</td>\n",
       "    </tr>\n",
       "    <tr>\n",
       "      <th>model</th>\n",
       "      <td>17658</td>\n",
       "      <td>5.2</td>\n",
       "    </tr>\n",
       "  </tbody>\n",
       "</table>\n",
       "</div>"
      ],
      "text/plain": [
       "        Количество пропусков в столбцах           \n",
       "                               quantity percentage\n",
       "gearbox                           17966        5.3\n",
       "model                             17658        5.2"
      ]
     },
     "execution_count": 21,
     "metadata": {},
     "output_type": "execute_result"
    }
   ],
   "source": [
    "processed_data['fuel_type'] = processed_data['fuel_type'].fillna('other')\n",
    "show_nulls(processed_data)"
   ]
  },
  {
   "cell_type": "markdown",
   "metadata": {},
   "source": [
    "#### Столбец `gearbox`"
   ]
  },
  {
   "cell_type": "markdown",
   "metadata": {},
   "source": [
    "Заменить пропуски с помощью других данных нельзя.  \n",
    "Данных много, чтобы удалить без последствий.  \n",
    "Присвою пропускам категорию `unknown`.  "
   ]
  },
  {
   "cell_type": "code",
   "execution_count": 22,
   "metadata": {},
   "outputs": [
    {
     "data": {
      "text/html": [
       "<div>\n",
       "<style scoped>\n",
       "    .dataframe tbody tr th:only-of-type {\n",
       "        vertical-align: middle;\n",
       "    }\n",
       "\n",
       "    .dataframe tbody tr th {\n",
       "        vertical-align: top;\n",
       "    }\n",
       "\n",
       "    .dataframe thead tr th {\n",
       "        text-align: left;\n",
       "    }\n",
       "</style>\n",
       "<table border=\"1\" class=\"dataframe\">\n",
       "  <thead>\n",
       "    <tr>\n",
       "      <th></th>\n",
       "      <th colspan=\"2\" halign=\"left\">Количество пропусков в столбцах</th>\n",
       "    </tr>\n",
       "    <tr>\n",
       "      <th></th>\n",
       "      <th>quantity</th>\n",
       "      <th>percentage</th>\n",
       "    </tr>\n",
       "  </thead>\n",
       "  <tbody>\n",
       "    <tr>\n",
       "      <th>model</th>\n",
       "      <td>17658</td>\n",
       "      <td>5.2</td>\n",
       "    </tr>\n",
       "  </tbody>\n",
       "</table>\n",
       "</div>"
      ],
      "text/plain": [
       "      Количество пропусков в столбцах           \n",
       "                             quantity percentage\n",
       "model                           17658        5.2"
      ]
     },
     "execution_count": 22,
     "metadata": {},
     "output_type": "execute_result"
    }
   ],
   "source": [
    "processed_data['gearbox'] = processed_data['gearbox'].fillna('unknown')\n",
    "show_nulls(processed_data)"
   ]
  },
  {
   "cell_type": "markdown",
   "metadata": {},
   "source": [
    "#### Столбец `model`"
   ]
  },
  {
   "cell_type": "markdown",
   "metadata": {},
   "source": [
    "Аналогично пропускам в `fuel_type` и `vehicle_type`, можно отнести пропуски в группу `other`."
   ]
  },
  {
   "cell_type": "code",
   "execution_count": 23,
   "metadata": {},
   "outputs": [
    {
     "data": {
      "text/plain": [
       "'Пропусков нет'"
      ]
     },
     "execution_count": 23,
     "metadata": {},
     "output_type": "execute_result"
    }
   ],
   "source": [
    "processed_data['model'] = processed_data['model'].fillna('other')\n",
    "show_nulls(processed_data)"
   ]
  },
  {
   "cell_type": "markdown",
   "metadata": {},
   "source": [
    "### Обработка выбросов"
   ]
  },
  {
   "cell_type": "code",
   "execution_count": 24,
   "metadata": {},
   "outputs": [
    {
     "name": "stdout",
     "output_type": "stream",
     "text": [
      "<class 'pandas.core.frame.DataFrame'>\n",
      "Int64Index: 339835 entries, 0 to 354364\n",
      "Data columns (total 11 columns):\n",
      " #   Column             Non-Null Count   Dtype \n",
      "---  ------             --------------   ----- \n",
      " 0   price              339835 non-null  int64 \n",
      " 1   vehicle_type       339835 non-null  object\n",
      " 2   registration_year  339835 non-null  int64 \n",
      " 3   gearbox            339835 non-null  object\n",
      " 4   power              339835 non-null  int64 \n",
      " 5   model              339835 non-null  object\n",
      " 6   mileage_km         339835 non-null  int64 \n",
      " 7   fuel_type          339835 non-null  object\n",
      " 8   brand              339835 non-null  object\n",
      " 9   not_repaired       339835 non-null  object\n",
      " 10  year_of_creation   339835 non-null  int64 \n",
      "dtypes: int64(5), object(6)\n",
      "memory usage: 31.1+ MB\n"
     ]
    }
   ],
   "source": [
    "processed_data.info()"
   ]
  },
  {
   "cell_type": "markdown",
   "metadata": {},
   "source": [
    "#### Столбец `price`"
   ]
  },
  {
   "cell_type": "code",
   "execution_count": 25,
   "metadata": {},
   "outputs": [
    {
     "data": {
      "image/png": "[encoded data removed]",
      "text/plain": [
       "<Figure size 1080x576 with 2 Axes>"
      ]
     },
     "metadata": {
      "needs_background": "light"
     },
     "output_type": "display_data"
    }
   ],
   "source": [
    "fig, axes = plt.subplots(1, 2, figsize=(15, 8))\n",
    "sns.histplot(processed_data['price'], color='#03071E', ax=axes[0])\n",
    "axes[0].set_title('Распределение стоимости машин\\n')\n",
    "sns.histplot(processed_data['price'], color='#03071E', ax=axes[1])\n",
    "axes[1].set_title('Распределение стоимости машин\\n(0–500 €)')\n",
    "plt.xlim([0, 500])\n",
    "plt.show()"
   ]
  },
  {
   "cell_type": "code",
   "execution_count": 26,
   "metadata": {},
   "outputs": [
    {
     "name": "stdout",
     "output_type": "stream",
     "text": [
      "Количество автомобилей со стоимостью 0 €: 10021 (2.95%)\n"
     ]
    }
   ],
   "source": [
    "low_price = processed_data.query('price == 0')['power'].count()\n",
    "print(f'Количество автомобилей со стоимостью 0 €: {low_price} ({low_price / len(processed_data):.2%})')"
   ]
  },
  {
   "cell_type": "markdown",
   "metadata": {},
   "source": [
    "Минимальная стоимость автомобиля на `auto.ru` на текущий момент — 15 тыс. руб. / ≈ 215 €.  \n",
    "Можно удалить данные, у которых стоимость ниже 150 € (с учётом поправки на текущий курс евро).  "
   ]
  },
  {
   "cell_type": "code",
   "execution_count": 27,
   "metadata": {},
   "outputs": [
    {
     "name": "stdout",
     "output_type": "stream",
     "text": [
      "Количество автомобилей со стоимостью менее 150 €: 14066 (4.14%)\n"
     ]
    }
   ],
   "source": [
    "low_price_150 = processed_data.query('price < 150')['power'].count()\n",
    "print(f'Количество автомобилей со стоимостью менее 150 €: {low_price_150} ({low_price_150 / len(processed_data):.2%})')"
   ]
  },
  {
   "cell_type": "markdown",
   "metadata": {},
   "source": [
    "Количество довольно большое но попробую так."
   ]
  },
  {
   "cell_type": "code",
   "execution_count": 28,
   "metadata": {},
   "outputs": [],
   "source": [
    "processed_data = processed_data.query('price > 150')"
   ]
  },
  {
   "cell_type": "markdown",
   "metadata": {},
   "source": [
    "#### Столбец `registration_year`"
   ]
  },
  {
   "cell_type": "code",
   "execution_count": 29,
   "metadata": {},
   "outputs": [
    {
     "data": {
      "image/png": "[encoded data removed]",
      "text/plain": [
       "<Figure size 1080x360 with 1 Axes>"
      ]
     },
     "metadata": {
      "needs_background": "light"
     },
     "output_type": "display_data"
    }
   ],
   "source": [
    "filt_data = processed_data.query('registration_year > 1959 & registration_year < 2023')\n",
    "plt.figure(figsize=(15, 5))\n",
    "pivot_years = filt_data.pivot_table(index='registration_year', values='power', aggfunc='count')\n",
    "fig = sns.barplot(x=pivot_years.index, y='power', data=pivot_years, palette='cividis')\n",
    "plt.title('Распределение дат регистрации машин\\n')\n",
    "plt.xlabel('')\n",
    "plt.ylabel('количество')\n",
    "plt.setp(fig.get_xticklabels(),rotation=90)\n",
    "plt.show()"
   ]
  },
  {
   "cell_type": "code",
   "execution_count": 30,
   "metadata": {},
   "outputs": [
    {
     "data": {
      "image/png": "[encoded data removed]",
      "text/plain": [
       "<Figure size 432x288 with 1 Axes>"
      ]
     },
     "metadata": {
      "needs_background": "light"
     },
     "output_type": "display_data"
    }
   ],
   "source": [
    "sns.boxplot(data=filt_data['registration_year'], color='#FFBA08')\n",
    "plt.show()"
   ]
  },
  {
   "cell_type": "code",
   "execution_count": 31,
   "metadata": {},
   "outputs": [
    {
     "name": "stdout",
     "output_type": "stream",
     "text": [
      "Количество отфильтрованных данных (до 1960 и после 2022 года)\n",
      "293 (0.08%)\n"
     ]
    }
   ],
   "source": [
    "rejected_year = processed_data.query('registration_year <= 1959 | registration_year >= 2023')['power'].count()\n",
    "print(\n",
    "    f'Количество отфильтрованных данных (до 1960 и после 2022 года)\\n'\n",
    "    f'{rejected_year} ({rejected_year / len(data):.2%})'\n",
    ")"
   ]
  },
  {
   "cell_type": "markdown",
   "metadata": {},
   "source": [
    "Непонятно от какой даты можно считать валидными дату регистрации автомобиля.  \n",
    "Предварительно возьму рамки 1960–2022 годы.  "
   ]
  },
  {
   "cell_type": "code",
   "execution_count": 32,
   "metadata": {},
   "outputs": [],
   "source": [
    "processed_data = filt_data"
   ]
  },
  {
   "cell_type": "markdown",
   "metadata": {},
   "source": [
    "#### Столбец `power`"
   ]
  },
  {
   "cell_type": "code",
   "execution_count": 33,
   "metadata": {},
   "outputs": [
    {
     "data": {
      "text/plain": [
       "count    323900.000000\n",
       "mean        112.961902\n",
       "std         184.654344\n",
       "min           0.000000\n",
       "25%          74.000000\n",
       "50%         105.000000\n",
       "75%         143.000000\n",
       "max       20000.000000\n",
       "Name: power, dtype: float64"
      ]
     },
     "execution_count": 33,
     "metadata": {},
     "output_type": "execute_result"
    }
   ],
   "source": [
    "processed_data['power'].describe()"
   ]
  },
  {
   "cell_type": "markdown",
   "metadata": {},
   "source": [
    "Мощность серийных автомобилей находится в диапазоне ≈ 4-1600 л.с., судя по статьям в интернете.<br>"
   ]
  },
  {
   "cell_type": "code",
   "execution_count": 34,
   "metadata": {},
   "outputs": [
    {
     "name": "stdout",
     "output_type": "stream",
     "text": [
      "Потеря данных при фильтрации: 30537 (9.43%)\n"
     ]
    }
   ],
   "source": [
    "filt_data = processed_data.query('power > 3 & power <= 1600')\n",
    "data_loss = len(processed_data) - len(filt_data)\n",
    "print(f'Потеря данных при фильтрации: {data_loss} ({data_loss / len(processed_data):.2%})')"
   ]
  },
  {
   "cell_type": "markdown",
   "metadata": {},
   "source": [
    "У 10% данных указанная мощность менее или равна 3 л.с., это большое количество, убирать их вредно.  \n",
    "Несмотря на то, что автомобилей указанной мощности найти не удалось.  "
   ]
  },
  {
   "cell_type": "code",
   "execution_count": 35,
   "metadata": {},
   "outputs": [
    {
     "name": "stdout",
     "output_type": "stream",
     "text": [
      "Потеря данных при фильтрации: 147 (0.05%)\n"
     ]
    }
   ],
   "source": [
    "filt_data = processed_data.query('power <= 1600')\n",
    "data_loss = len(processed_data) - len(filt_data)\n",
    "print(f'Потеря данных при фильтрации: {data_loss} ({data_loss / len(processed_data):.2%})')"
   ]
  },
  {
   "cell_type": "code",
   "execution_count": 36,
   "metadata": {},
   "outputs": [
    {
     "data": {
      "image/png": "[encoded data removed]",
      "text/plain": [
       "<Figure size 1080x360 with 1 Axes>"
      ]
     },
     "metadata": {
      "needs_background": "light"
     },
     "output_type": "display_data"
    }
   ],
   "source": [
    "plt.figure(figsize=(15, 5))\n",
    "sns.histplot(filt_data['power'], color='#370617')\n",
    "plt.title('Распределение мощности машин\\n')\n",
    "plt.xlim([0, 500])\n",
    "plt.show()"
   ]
  },
  {
   "cell_type": "code",
   "execution_count": 37,
   "metadata": {},
   "outputs": [
    {
     "data": {
      "image/png": "[encoded data removed]",
      "text/plain": [
       "<Figure size 432x288 with 1 Axes>"
      ]
     },
     "metadata": {
      "needs_background": "light"
     },
     "output_type": "display_data"
    }
   ],
   "source": [
    "sns.boxplot(x=filt_data['power'], color='#E85D04')\n",
    "plt.show()"
   ]
  },
  {
   "cell_type": "code",
   "execution_count": 38,
   "metadata": {},
   "outputs": [],
   "source": [
    "processed_data = filt_data.copy()"
   ]
  },
  {
   "cell_type": "markdown",
   "metadata": {},
   "source": [
    "#### Столбец `mileage_km`"
   ]
  },
  {
   "cell_type": "code",
   "execution_count": 39,
   "metadata": {},
   "outputs": [
    {
     "data": {
      "image/png": "[encoded data removed]",
      "text/plain": [
       "<Figure size 1080x360 with 1 Axes>"
      ]
     },
     "metadata": {
      "needs_background": "light"
     },
     "output_type": "display_data"
    }
   ],
   "source": [
    "plt.figure(figsize=(15, 5))\n",
    "pivot_mileage = processed_data.pivot_table(index='mileage_km', values='price', aggfunc='count')\n",
    "fig = sns.barplot(x=pivot_mileage.index, y='price', data=pivot_mileage, palette=palette)\n",
    "plt.ylabel('количество')\n",
    "plt.title('Распределение пробега машин\\n')\n",
    "plt.show()"
   ]
  },
  {
   "cell_type": "code",
   "execution_count": 40,
   "metadata": {},
   "outputs": [
    {
     "data": {
      "text/html": [
       "<div>\n",
       "<style scoped>\n",
       "    .dataframe tbody tr th:only-of-type {\n",
       "        vertical-align: middle;\n",
       "    }\n",
       "\n",
       "    .dataframe tbody tr th {\n",
       "        vertical-align: top;\n",
       "    }\n",
       "\n",
       "    .dataframe thead th {\n",
       "        text-align: right;\n",
       "    }\n",
       "</style>\n",
       "<table border=\"1\" class=\"dataframe\">\n",
       "  <thead>\n",
       "    <tr style=\"text-align: right;\">\n",
       "      <th></th>\n",
       "      <th>price</th>\n",
       "      <th>vehicle_type</th>\n",
       "      <th>registration_year</th>\n",
       "      <th>gearbox</th>\n",
       "      <th>power</th>\n",
       "      <th>model</th>\n",
       "      <th>mileage_km</th>\n",
       "      <th>fuel_type</th>\n",
       "      <th>brand</th>\n",
       "      <th>not_repaired</th>\n",
       "      <th>year_of_creation</th>\n",
       "    </tr>\n",
       "  </thead>\n",
       "  <tbody>\n",
       "    <tr>\n",
       "      <th>0</th>\n",
       "      <td>480</td>\n",
       "      <td>other</td>\n",
       "      <td>1993</td>\n",
       "      <td>manual</td>\n",
       "      <td>0</td>\n",
       "      <td>golf</td>\n",
       "      <td>150000</td>\n",
       "      <td>petrol</td>\n",
       "      <td>volkswagen</td>\n",
       "      <td>unknown</td>\n",
       "      <td>2016</td>\n",
       "    </tr>\n",
       "    <tr>\n",
       "      <th>1</th>\n",
       "      <td>18300</td>\n",
       "      <td>coupe</td>\n",
       "      <td>2011</td>\n",
       "      <td>manual</td>\n",
       "      <td>190</td>\n",
       "      <td>other</td>\n",
       "      <td>125000</td>\n",
       "      <td>gasoline</td>\n",
       "      <td>audi</td>\n",
       "      <td>yes</td>\n",
       "      <td>2016</td>\n",
       "    </tr>\n",
       "    <tr>\n",
       "      <th>2</th>\n",
       "      <td>9800</td>\n",
       "      <td>suv</td>\n",
       "      <td>2004</td>\n",
       "      <td>auto</td>\n",
       "      <td>163</td>\n",
       "      <td>grand</td>\n",
       "      <td>125000</td>\n",
       "      <td>gasoline</td>\n",
       "      <td>jeep</td>\n",
       "      <td>unknown</td>\n",
       "      <td>2016</td>\n",
       "    </tr>\n",
       "    <tr>\n",
       "      <th>3</th>\n",
       "      <td>1500</td>\n",
       "      <td>small</td>\n",
       "      <td>2001</td>\n",
       "      <td>manual</td>\n",
       "      <td>75</td>\n",
       "      <td>golf</td>\n",
       "      <td>150000</td>\n",
       "      <td>petrol</td>\n",
       "      <td>volkswagen</td>\n",
       "      <td>no</td>\n",
       "      <td>2016</td>\n",
       "    </tr>\n",
       "    <tr>\n",
       "      <th>4</th>\n",
       "      <td>3600</td>\n",
       "      <td>small</td>\n",
       "      <td>2008</td>\n",
       "      <td>manual</td>\n",
       "      <td>69</td>\n",
       "      <td>fabia</td>\n",
       "      <td>90000</td>\n",
       "      <td>gasoline</td>\n",
       "      <td>skoda</td>\n",
       "      <td>no</td>\n",
       "      <td>2016</td>\n",
       "    </tr>\n",
       "  </tbody>\n",
       "</table>\n",
       "</div>"
      ],
      "text/plain": [
       "   price vehicle_type  registration_year gearbox  power  model  mileage_km  \\\n",
       "0    480        other               1993  manual      0   golf      150000   \n",
       "1  18300        coupe               2011  manual    190  other      125000   \n",
       "2   9800          suv               2004    auto    163  grand      125000   \n",
       "3   1500        small               2001  manual     75   golf      150000   \n",
       "4   3600        small               2008  manual     69  fabia       90000   \n",
       "\n",
       "  fuel_type       brand not_repaired  year_of_creation  \n",
       "0    petrol  volkswagen      unknown              2016  \n",
       "1  gasoline        audi          yes              2016  \n",
       "2  gasoline        jeep      unknown              2016  \n",
       "3    petrol  volkswagen           no              2016  \n",
       "4  gasoline       skoda           no              2016  "
      ]
     },
     "execution_count": 40,
     "metadata": {},
     "output_type": "execute_result"
    }
   ],
   "source": [
    "processed_data.head()"
   ]
  },
  {
   "cell_type": "markdown",
   "metadata": {},
   "source": [
    "Пробег разбит на категории несмотря на то, что категории заданы числами.  \n",
    "Бо́льшая часть в категории 150 тыс. км.  \n",
    "Возможно, что в эту категорию попадают автомобили с пробегом 150 000+ км.  "
   ]
  },
  {
   "cell_type": "code",
   "execution_count": 41,
   "metadata": {},
   "outputs": [
    {
     "data": {
      "image/png": "[encoded data removed]",
      "text/plain": [
       "<Figure size 432x288 with 1 Axes>"
      ]
     },
     "metadata": {
      "needs_background": "light"
     },
     "output_type": "display_data"
    }
   ],
   "source": [
    "sns.boxplot(data=processed_data['price'], color='#FFBA08')\n",
    "plt.show()"
   ]
  },
  {
   "cell_type": "markdown",
   "metadata": {},
   "source": [
    "### Обработка категориальных признаков"
   ]
  },
  {
   "cell_type": "markdown",
   "metadata": {},
   "source": [
    "Категориальные признаки,  \n",
    "которые можно обработать методом `One-Hot Encoding` из-за их малочисленности:\n",
    "- `vehicle_type`\n",
    "- `gearbox`\n",
    "- `fuel_type`\n",
    "- `not_repaired`\n",
    "\n",
    "Категориальные признаки,  \n",
    "которые можно обработать методом `Ordinal Encoding` из-за их многочисленности:\n",
    "- `model`\n",
    "- `brand`\n",
    "\n",
    "Категориальные признаки, которые не нужно обрабатывать:  \n",
    "- `postal_code`\n",
    "- `year_of_creation`"
   ]
  },
  {
   "cell_type": "code",
   "execution_count": 42,
   "metadata": {},
   "outputs": [],
   "source": [
    "def ohe(data, column):\n",
    "    data_ohe = pd.get_dummies(data[column], drop_first=True, prefix=column)\n",
    "    data = data.drop(column, axis=1).join(data_ohe)\n",
    "    return data"
   ]
  },
  {
   "cell_type": "code",
   "execution_count": 43,
   "metadata": {},
   "outputs": [
    {
     "name": "stdout",
     "output_type": "stream",
     "text": [
      "<class 'pandas.core.frame.DataFrame'>\n",
      "Int64Index: 323753 entries, 0 to 354364\n",
      "Data columns (total 11 columns):\n",
      " #   Column             Non-Null Count   Dtype \n",
      "---  ------             --------------   ----- \n",
      " 0   price              323753 non-null  int64 \n",
      " 1   vehicle_type       323753 non-null  object\n",
      " 2   registration_year  323753 non-null  int64 \n",
      " 3   gearbox            323753 non-null  object\n",
      " 4   power              323753 non-null  int64 \n",
      " 5   model              323753 non-null  object\n",
      " 6   mileage_km         323753 non-null  int64 \n",
      " 7   fuel_type          323753 non-null  object\n",
      " 8   brand              323753 non-null  object\n",
      " 9   not_repaired       323753 non-null  object\n",
      " 10  year_of_creation   323753 non-null  int64 \n",
      "dtypes: int64(5), object(6)\n",
      "memory usage: 37.7+ MB\n"
     ]
    }
   ],
   "source": [
    "processed_data.info()"
   ]
  },
  {
   "cell_type": "markdown",
   "metadata": {},
   "source": [
    "#### Столбец `vehicle_type`"
   ]
  },
  {
   "cell_type": "code",
   "execution_count": 44,
   "metadata": {},
   "outputs": [
    {
     "data": {
      "text/html": [
       "<div>\n",
       "<style scoped>\n",
       "    .dataframe tbody tr th:only-of-type {\n",
       "        vertical-align: middle;\n",
       "    }\n",
       "\n",
       "    .dataframe tbody tr th {\n",
       "        vertical-align: top;\n",
       "    }\n",
       "\n",
       "    .dataframe thead th {\n",
       "        text-align: right;\n",
       "    }\n",
       "</style>\n",
       "<table border=\"1\" class=\"dataframe\">\n",
       "  <thead>\n",
       "    <tr style=\"text-align: right;\">\n",
       "      <th></th>\n",
       "      <th>Типы автомобилей</th>\n",
       "    </tr>\n",
       "  </thead>\n",
       "  <tbody>\n",
       "    <tr>\n",
       "      <th>sedan</th>\n",
       "      <td>91453</td>\n",
       "    </tr>\n",
       "    <tr>\n",
       "      <th>small</th>\n",
       "      <td>79826</td>\n",
       "    </tr>\n",
       "    <tr>\n",
       "      <th>wagon</th>\n",
       "      <td>65161</td>\n",
       "    </tr>\n",
       "    <tr>\n",
       "      <th>bus</th>\n",
       "      <td>28773</td>\n",
       "    </tr>\n",
       "    <tr>\n",
       "      <th>convertible</th>\n",
       "      <td>20202</td>\n",
       "    </tr>\n",
       "    <tr>\n",
       "      <th>coupe</th>\n",
       "      <td>16158</td>\n",
       "    </tr>\n",
       "    <tr>\n",
       "      <th>suv</th>\n",
       "      <td>11995</td>\n",
       "    </tr>\n",
       "    <tr>\n",
       "      <th>other</th>\n",
       "      <td>3287</td>\n",
       "    </tr>\n",
       "  </tbody>\n",
       "</table>\n",
       "</div>"
      ],
      "text/plain": [
       "             Типы автомобилей\n",
       "sedan                   91453\n",
       "small                   79826\n",
       "wagon                   65161\n",
       "bus                     28773\n",
       "convertible             20202\n",
       "coupe                   16158\n",
       "suv                     11995\n",
       "other                    3287"
      ]
     },
     "execution_count": 44,
     "metadata": {},
     "output_type": "execute_result"
    }
   ],
   "source": [
    "vehicles_df"
   ]
  },
  {
   "cell_type": "code",
   "execution_count": 45,
   "metadata": {},
   "outputs": [],
   "source": [
    "processed_data = ohe(processed_data, 'vehicle_type')"
   ]
  },
  {
   "cell_type": "code",
   "execution_count": 46,
   "metadata": {},
   "outputs": [
    {
     "data": {
      "text/html": [
       "<div>\n",
       "<style scoped>\n",
       "    .dataframe tbody tr th:only-of-type {\n",
       "        vertical-align: middle;\n",
       "    }\n",
       "\n",
       "    .dataframe tbody tr th {\n",
       "        vertical-align: top;\n",
       "    }\n",
       "\n",
       "    .dataframe thead th {\n",
       "        text-align: right;\n",
       "    }\n",
       "</style>\n",
       "<table border=\"1\" class=\"dataframe\">\n",
       "  <thead>\n",
       "    <tr style=\"text-align: right;\">\n",
       "      <th></th>\n",
       "      <th>year_of_creation</th>\n",
       "      <th>vehicle_type_convertible</th>\n",
       "      <th>vehicle_type_coupe</th>\n",
       "      <th>vehicle_type_other</th>\n",
       "      <th>vehicle_type_sedan</th>\n",
       "      <th>vehicle_type_small</th>\n",
       "      <th>vehicle_type_suv</th>\n",
       "      <th>vehicle_type_wagon</th>\n",
       "    </tr>\n",
       "  </thead>\n",
       "  <tbody>\n",
       "    <tr>\n",
       "      <th>0</th>\n",
       "      <td>2016</td>\n",
       "      <td>0</td>\n",
       "      <td>0</td>\n",
       "      <td>1</td>\n",
       "      <td>0</td>\n",
       "      <td>0</td>\n",
       "      <td>0</td>\n",
       "      <td>0</td>\n",
       "    </tr>\n",
       "    <tr>\n",
       "      <th>1</th>\n",
       "      <td>2016</td>\n",
       "      <td>0</td>\n",
       "      <td>1</td>\n",
       "      <td>0</td>\n",
       "      <td>0</td>\n",
       "      <td>0</td>\n",
       "      <td>0</td>\n",
       "      <td>0</td>\n",
       "    </tr>\n",
       "    <tr>\n",
       "      <th>2</th>\n",
       "      <td>2016</td>\n",
       "      <td>0</td>\n",
       "      <td>0</td>\n",
       "      <td>0</td>\n",
       "      <td>0</td>\n",
       "      <td>0</td>\n",
       "      <td>1</td>\n",
       "      <td>0</td>\n",
       "    </tr>\n",
       "    <tr>\n",
       "      <th>3</th>\n",
       "      <td>2016</td>\n",
       "      <td>0</td>\n",
       "      <td>0</td>\n",
       "      <td>0</td>\n",
       "      <td>0</td>\n",
       "      <td>1</td>\n",
       "      <td>0</td>\n",
       "      <td>0</td>\n",
       "    </tr>\n",
       "    <tr>\n",
       "      <th>4</th>\n",
       "      <td>2016</td>\n",
       "      <td>0</td>\n",
       "      <td>0</td>\n",
       "      <td>0</td>\n",
       "      <td>0</td>\n",
       "      <td>1</td>\n",
       "      <td>0</td>\n",
       "      <td>0</td>\n",
       "    </tr>\n",
       "  </tbody>\n",
       "</table>\n",
       "</div>"
      ],
      "text/plain": [
       "   year_of_creation  vehicle_type_convertible  vehicle_type_coupe  \\\n",
       "0              2016                         0                   0   \n",
       "1              2016                         0                   1   \n",
       "2              2016                         0                   0   \n",
       "3              2016                         0                   0   \n",
       "4              2016                         0                   0   \n",
       "\n",
       "   vehicle_type_other  vehicle_type_sedan  vehicle_type_small  \\\n",
       "0                   1                   0                   0   \n",
       "1                   0                   0                   0   \n",
       "2                   0                   0                   0   \n",
       "3                   0                   0                   1   \n",
       "4                   0                   0                   1   \n",
       "\n",
       "   vehicle_type_suv  vehicle_type_wagon  \n",
       "0                 0                   0  \n",
       "1                 0                   0  \n",
       "2                 1                   0  \n",
       "3                 0                   0  \n",
       "4                 0                   0  "
      ]
     },
     "execution_count": 46,
     "metadata": {},
     "output_type": "execute_result"
    }
   ],
   "source": [
    "processed_data.loc[:, 'year_of_creation':].head()"
   ]
  },
  {
   "cell_type": "markdown",
   "metadata": {},
   "source": [
    "#### Столбец `gearbox`"
   ]
  },
  {
   "cell_type": "code",
   "execution_count": 47,
   "metadata": {},
   "outputs": [
    {
     "data": {
      "text/html": [
       "<div>\n",
       "<style scoped>\n",
       "    .dataframe tbody tr th:only-of-type {\n",
       "        vertical-align: middle;\n",
       "    }\n",
       "\n",
       "    .dataframe tbody tr th {\n",
       "        vertical-align: top;\n",
       "    }\n",
       "\n",
       "    .dataframe thead th {\n",
       "        text-align: right;\n",
       "    }\n",
       "</style>\n",
       "<table border=\"1\" class=\"dataframe\">\n",
       "  <thead>\n",
       "    <tr style=\"text-align: right;\">\n",
       "      <th></th>\n",
       "      <th>Типы коробки переключения передач</th>\n",
       "    </tr>\n",
       "  </thead>\n",
       "  <tbody>\n",
       "    <tr>\n",
       "      <th>manual</th>\n",
       "      <td>247213</td>\n",
       "    </tr>\n",
       "    <tr>\n",
       "      <th>auto</th>\n",
       "      <td>62620</td>\n",
       "    </tr>\n",
       "    <tr>\n",
       "      <th>unknown</th>\n",
       "      <td>13920</td>\n",
       "    </tr>\n",
       "  </tbody>\n",
       "</table>\n",
       "</div>"
      ],
      "text/plain": [
       "         Типы коробки переключения передач\n",
       "manual                              247213\n",
       "auto                                 62620\n",
       "unknown                              13920"
      ]
     },
     "execution_count": 47,
     "metadata": {},
     "output_type": "execute_result"
    }
   ],
   "source": [
    "gearboxes = processed_data['gearbox'].value_counts()\n",
    "gearbox_df = pd.DataFrame(\n",
    "    {'Типы коробки переключения передач': gearboxes}\n",
    ").sort_values(\n",
    "    by='Типы коробки переключения передач', ascending=False\n",
    ")\n",
    "gearbox_df"
   ]
  },
  {
   "cell_type": "code",
   "execution_count": 48,
   "metadata": {},
   "outputs": [],
   "source": [
    "processed_data = ohe(processed_data, 'gearbox')"
   ]
  },
  {
   "cell_type": "code",
   "execution_count": 49,
   "metadata": {},
   "outputs": [
    {
     "data": {
      "text/html": [
       "<div>\n",
       "<style scoped>\n",
       "    .dataframe tbody tr th:only-of-type {\n",
       "        vertical-align: middle;\n",
       "    }\n",
       "\n",
       "    .dataframe tbody tr th {\n",
       "        vertical-align: top;\n",
       "    }\n",
       "\n",
       "    .dataframe thead th {\n",
       "        text-align: right;\n",
       "    }\n",
       "</style>\n",
       "<table border=\"1\" class=\"dataframe\">\n",
       "  <thead>\n",
       "    <tr style=\"text-align: right;\">\n",
       "      <th></th>\n",
       "      <th>vehicle_type_wagon</th>\n",
       "      <th>gearbox_manual</th>\n",
       "      <th>gearbox_unknown</th>\n",
       "    </tr>\n",
       "  </thead>\n",
       "  <tbody>\n",
       "    <tr>\n",
       "      <th>0</th>\n",
       "      <td>0</td>\n",
       "      <td>1</td>\n",
       "      <td>0</td>\n",
       "    </tr>\n",
       "    <tr>\n",
       "      <th>1</th>\n",
       "      <td>0</td>\n",
       "      <td>1</td>\n",
       "      <td>0</td>\n",
       "    </tr>\n",
       "    <tr>\n",
       "      <th>2</th>\n",
       "      <td>0</td>\n",
       "      <td>0</td>\n",
       "      <td>0</td>\n",
       "    </tr>\n",
       "    <tr>\n",
       "      <th>3</th>\n",
       "      <td>0</td>\n",
       "      <td>1</td>\n",
       "      <td>0</td>\n",
       "    </tr>\n",
       "    <tr>\n",
       "      <th>4</th>\n",
       "      <td>0</td>\n",
       "      <td>1</td>\n",
       "      <td>0</td>\n",
       "    </tr>\n",
       "  </tbody>\n",
       "</table>\n",
       "</div>"
      ],
      "text/plain": [
       "   vehicle_type_wagon  gearbox_manual  gearbox_unknown\n",
       "0                   0               1                0\n",
       "1                   0               1                0\n",
       "2                   0               0                0\n",
       "3                   0               1                0\n",
       "4                   0               1                0"
      ]
     },
     "execution_count": 49,
     "metadata": {},
     "output_type": "execute_result"
    }
   ],
   "source": [
    "processed_data.loc[:, 'vehicle_type_wagon':].head()"
   ]
  },
  {
   "cell_type": "markdown",
   "metadata": {},
   "source": [
    "#### Столбец `fuel_type`"
   ]
  },
  {
   "cell_type": "code",
   "execution_count": 50,
   "metadata": {},
   "outputs": [
    {
     "data": {
      "text/html": [
       "<div>\n",
       "<style scoped>\n",
       "    .dataframe tbody tr th:only-of-type {\n",
       "        vertical-align: middle;\n",
       "    }\n",
       "\n",
       "    .dataframe tbody tr th {\n",
       "        vertical-align: top;\n",
       "    }\n",
       "\n",
       "    .dataframe thead th {\n",
       "        text-align: right;\n",
       "    }\n",
       "</style>\n",
       "<table border=\"1\" class=\"dataframe\">\n",
       "  <thead>\n",
       "    <tr style=\"text-align: right;\">\n",
       "      <th></th>\n",
       "      <th>Типы топлива</th>\n",
       "    </tr>\n",
       "  </thead>\n",
       "  <tbody>\n",
       "    <tr>\n",
       "      <th>petrol</th>\n",
       "      <td>210015</td>\n",
       "    </tr>\n",
       "    <tr>\n",
       "      <th>gasoline</th>\n",
       "      <td>96308</td>\n",
       "    </tr>\n",
       "    <tr>\n",
       "      <th>lpg</th>\n",
       "      <td>5159</td>\n",
       "    </tr>\n",
       "    <tr>\n",
       "      <th>cng</th>\n",
       "      <td>542</td>\n",
       "    </tr>\n",
       "    <tr>\n",
       "      <th>hybrid</th>\n",
       "      <td>225</td>\n",
       "    </tr>\n",
       "    <tr>\n",
       "      <th>other</th>\n",
       "      <td>196</td>\n",
       "    </tr>\n",
       "    <tr>\n",
       "      <th>electric</th>\n",
       "      <td>89</td>\n",
       "    </tr>\n",
       "  </tbody>\n",
       "</table>\n",
       "</div>"
      ],
      "text/plain": [
       "          Типы топлива\n",
       "petrol          210015\n",
       "gasoline         96308\n",
       "lpg               5159\n",
       "cng                542\n",
       "hybrid             225\n",
       "other              196\n",
       "electric            89"
      ]
     },
     "execution_count": 50,
     "metadata": {},
     "output_type": "execute_result"
    }
   ],
   "source": [
    "fuel_df"
   ]
  },
  {
   "cell_type": "code",
   "execution_count": 51,
   "metadata": {},
   "outputs": [],
   "source": [
    "processed_data = ohe(processed_data, 'fuel_type')"
   ]
  },
  {
   "cell_type": "code",
   "execution_count": 52,
   "metadata": {},
   "outputs": [
    {
     "data": {
      "text/html": [
       "<div>\n",
       "<style scoped>\n",
       "    .dataframe tbody tr th:only-of-type {\n",
       "        vertical-align: middle;\n",
       "    }\n",
       "\n",
       "    .dataframe tbody tr th {\n",
       "        vertical-align: top;\n",
       "    }\n",
       "\n",
       "    .dataframe thead th {\n",
       "        text-align: right;\n",
       "    }\n",
       "</style>\n",
       "<table border=\"1\" class=\"dataframe\">\n",
       "  <thead>\n",
       "    <tr style=\"text-align: right;\">\n",
       "      <th></th>\n",
       "      <th>gearbox_unknown</th>\n",
       "      <th>fuel_type_electric</th>\n",
       "      <th>fuel_type_gasoline</th>\n",
       "      <th>fuel_type_hybrid</th>\n",
       "      <th>fuel_type_lpg</th>\n",
       "      <th>fuel_type_other</th>\n",
       "      <th>fuel_type_petrol</th>\n",
       "    </tr>\n",
       "  </thead>\n",
       "  <tbody>\n",
       "    <tr>\n",
       "      <th>0</th>\n",
       "      <td>0</td>\n",
       "      <td>0</td>\n",
       "      <td>0</td>\n",
       "      <td>0</td>\n",
       "      <td>0</td>\n",
       "      <td>0</td>\n",
       "      <td>1</td>\n",
       "    </tr>\n",
       "    <tr>\n",
       "      <th>1</th>\n",
       "      <td>0</td>\n",
       "      <td>0</td>\n",
       "      <td>1</td>\n",
       "      <td>0</td>\n",
       "      <td>0</td>\n",
       "      <td>0</td>\n",
       "      <td>0</td>\n",
       "    </tr>\n",
       "    <tr>\n",
       "      <th>2</th>\n",
       "      <td>0</td>\n",
       "      <td>0</td>\n",
       "      <td>1</td>\n",
       "      <td>0</td>\n",
       "      <td>0</td>\n",
       "      <td>0</td>\n",
       "      <td>0</td>\n",
       "    </tr>\n",
       "    <tr>\n",
       "      <th>3</th>\n",
       "      <td>0</td>\n",
       "      <td>0</td>\n",
       "      <td>0</td>\n",
       "      <td>0</td>\n",
       "      <td>0</td>\n",
       "      <td>0</td>\n",
       "      <td>1</td>\n",
       "    </tr>\n",
       "    <tr>\n",
       "      <th>4</th>\n",
       "      <td>0</td>\n",
       "      <td>0</td>\n",
       "      <td>1</td>\n",
       "      <td>0</td>\n",
       "      <td>0</td>\n",
       "      <td>0</td>\n",
       "      <td>0</td>\n",
       "    </tr>\n",
       "  </tbody>\n",
       "</table>\n",
       "</div>"
      ],
      "text/plain": [
       "   gearbox_unknown  fuel_type_electric  fuel_type_gasoline  fuel_type_hybrid  \\\n",
       "0                0                   0                   0                 0   \n",
       "1                0                   0                   1                 0   \n",
       "2                0                   0                   1                 0   \n",
       "3                0                   0                   0                 0   \n",
       "4                0                   0                   1                 0   \n",
       "\n",
       "   fuel_type_lpg  fuel_type_other  fuel_type_petrol  \n",
       "0              0                0                 1  \n",
       "1              0                0                 0  \n",
       "2              0                0                 0  \n",
       "3              0                0                 1  \n",
       "4              0                0                 0  "
      ]
     },
     "execution_count": 52,
     "metadata": {},
     "output_type": "execute_result"
    }
   ],
   "source": [
    "processed_data.loc[:, 'gearbox_unknown':].head()"
   ]
  },
  {
   "cell_type": "markdown",
   "metadata": {},
   "source": [
    "#### Столбец `not_repaired`"
   ]
  },
  {
   "cell_type": "code",
   "execution_count": 53,
   "metadata": {},
   "outputs": [
    {
     "data": {
      "text/plain": [
       "0    unknown\n",
       "1        yes\n",
       "2    unknown\n",
       "3         no\n",
       "4         no\n",
       "Name: not_repaired, dtype: object"
      ]
     },
     "execution_count": 53,
     "metadata": {},
     "output_type": "execute_result"
    }
   ],
   "source": [
    "processed_data['not_repaired'].head()"
   ]
  },
  {
   "cell_type": "code",
   "execution_count": 54,
   "metadata": {},
   "outputs": [],
   "source": [
    "processed_data = ohe(processed_data, 'not_repaired')"
   ]
  },
  {
   "cell_type": "code",
   "execution_count": 55,
   "metadata": {},
   "outputs": [
    {
     "data": {
      "text/html": [
       "<div>\n",
       "<style scoped>\n",
       "    .dataframe tbody tr th:only-of-type {\n",
       "        vertical-align: middle;\n",
       "    }\n",
       "\n",
       "    .dataframe tbody tr th {\n",
       "        vertical-align: top;\n",
       "    }\n",
       "\n",
       "    .dataframe thead th {\n",
       "        text-align: right;\n",
       "    }\n",
       "</style>\n",
       "<table border=\"1\" class=\"dataframe\">\n",
       "  <thead>\n",
       "    <tr style=\"text-align: right;\">\n",
       "      <th></th>\n",
       "      <th>fuel_type_petrol</th>\n",
       "      <th>not_repaired_unknown</th>\n",
       "      <th>not_repaired_yes</th>\n",
       "    </tr>\n",
       "  </thead>\n",
       "  <tbody>\n",
       "    <tr>\n",
       "      <th>0</th>\n",
       "      <td>1</td>\n",
       "      <td>1</td>\n",
       "      <td>0</td>\n",
       "    </tr>\n",
       "    <tr>\n",
       "      <th>1</th>\n",
       "      <td>0</td>\n",
       "      <td>0</td>\n",
       "      <td>1</td>\n",
       "    </tr>\n",
       "    <tr>\n",
       "      <th>2</th>\n",
       "      <td>0</td>\n",
       "      <td>1</td>\n",
       "      <td>0</td>\n",
       "    </tr>\n",
       "    <tr>\n",
       "      <th>3</th>\n",
       "      <td>1</td>\n",
       "      <td>0</td>\n",
       "      <td>0</td>\n",
       "    </tr>\n",
       "    <tr>\n",
       "      <th>4</th>\n",
       "      <td>0</td>\n",
       "      <td>0</td>\n",
       "      <td>0</td>\n",
       "    </tr>\n",
       "  </tbody>\n",
       "</table>\n",
       "</div>"
      ],
      "text/plain": [
       "   fuel_type_petrol  not_repaired_unknown  not_repaired_yes\n",
       "0                 1                     1                 0\n",
       "1                 0                     0                 1\n",
       "2                 0                     1                 0\n",
       "3                 1                     0                 0\n",
       "4                 0                     0                 0"
      ]
     },
     "execution_count": 55,
     "metadata": {},
     "output_type": "execute_result"
    }
   ],
   "source": [
    "processed_data.loc[:, 'fuel_type_petrol':].head()"
   ]
  },
  {
   "cell_type": "markdown",
   "metadata": {},
   "source": [
    "#### Столбцы `model` и `brand`"
   ]
  },
  {
   "cell_type": "code",
   "execution_count": 56,
   "metadata": {},
   "outputs": [],
   "source": [
    "encoder = OrdinalEncoder()\n",
    "\n",
    "processed_data = processed_data.reset_index()\n",
    "data_ordinal = pd.DataFrame(encoder.fit_transform(processed_data), columns=processed_data.columns)\n",
    "processed_data[['model', 'brand']] = data_ordinal[['model', 'brand']]\n",
    "processed_data[['model', 'brand']] = processed_data[['model', 'brand']].astype(int)"
   ]
  },
  {
   "cell_type": "code",
   "execution_count": 57,
   "metadata": {},
   "outputs": [
    {
     "data": {
      "text/html": [
       "<div>\n",
       "<style scoped>\n",
       "    .dataframe tbody tr th:only-of-type {\n",
       "        vertical-align: middle;\n",
       "    }\n",
       "\n",
       "    .dataframe tbody tr th {\n",
       "        vertical-align: top;\n",
       "    }\n",
       "\n",
       "    .dataframe thead th {\n",
       "        text-align: right;\n",
       "    }\n",
       "</style>\n",
       "<table border=\"1\" class=\"dataframe\">\n",
       "  <thead>\n",
       "    <tr style=\"text-align: right;\">\n",
       "      <th></th>\n",
       "      <th>model</th>\n",
       "      <th>brand</th>\n",
       "    </tr>\n",
       "  </thead>\n",
       "  <tbody>\n",
       "    <tr>\n",
       "      <th>0</th>\n",
       "      <td>116</td>\n",
       "      <td>38</td>\n",
       "    </tr>\n",
       "    <tr>\n",
       "      <th>1</th>\n",
       "      <td>166</td>\n",
       "      <td>1</td>\n",
       "    </tr>\n",
       "    <tr>\n",
       "      <th>2</th>\n",
       "      <td>117</td>\n",
       "      <td>14</td>\n",
       "    </tr>\n",
       "    <tr>\n",
       "      <th>3</th>\n",
       "      <td>116</td>\n",
       "      <td>38</td>\n",
       "    </tr>\n",
       "    <tr>\n",
       "      <th>4</th>\n",
       "      <td>101</td>\n",
       "      <td>31</td>\n",
       "    </tr>\n",
       "  </tbody>\n",
       "</table>\n",
       "</div>"
      ],
      "text/plain": [
       "   model  brand\n",
       "0    116     38\n",
       "1    166      1\n",
       "2    117     14\n",
       "3    116     38\n",
       "4    101     31"
      ]
     },
     "execution_count": 57,
     "metadata": {},
     "output_type": "execute_result"
    }
   ],
   "source": [
    "processed_data[['model', 'brand']].head()"
   ]
  },
  {
   "cell_type": "markdown",
   "metadata": {},
   "source": [
    "### Подготовка выборок"
   ]
  },
  {
   "cell_type": "code",
   "execution_count": 58,
   "metadata": {},
   "outputs": [],
   "source": [
    "target = processed_data['price']\n",
    "features = processed_data.drop('price', axis=1)\n",
    "#features_train, features_test, target_train, target_test = train_test_split(\n",
    "#    features, target, test_size=0.25, random_state=12345\n",
    "#)"
   ]
  },
  {
   "cell_type": "code",
   "execution_count": 59,
   "metadata": {},
   "outputs": [
    {
     "name": "stdout",
     "output_type": "stream",
     "text": [
      "Разделение выборки в следующих пропорциях:\n",
      "60% — тренировочная;\n",
      "20% — тестовая;\n",
      "20% — валидационная.\n"
     ]
    }
   ],
   "source": [
    "features_train, features_test_valid, target_train, target_test_valid = train_test_split(\n",
    "    features, target, test_size=0.40, random_state=12345\n",
    ")\n",
    "features_test, features_valid, target_test, target_valid = train_test_split(\n",
    "    features_test_valid, target_test_valid, test_size=0.50, random_state=12345\n",
    ")\n",
    "print(\n",
    "    f'Разделение выборки в следующих пропорциях:\\n'\n",
    "    f'{(len(features_train)/len(processed_data)):.0%} — тренировочная;\\n'\n",
    "    f'{(len(features_test)/len(processed_data)):.0%} — тестовая;\\n'\n",
    "    f'{(len(features_valid)/len(processed_data)):.0%} — валидационная.'\n",
    ")"
   ]
  },
  {
   "cell_type": "code",
   "execution_count": 60,
   "metadata": {},
   "outputs": [],
   "source": [
    "scaler = RobustScaler()\n",
    "features_train = scaler.fit_transform(features_train)\n",
    "features_test = scaler.fit_transform(features_test)\n",
    "features_valid = scaler.fit_transform(features_valid)"
   ]
  },
  {
   "cell_type": "markdown",
   "metadata": {},
   "source": [
    "***\n",
    "### Вывод \n",
    "\n",
    "- Поправил название столбцов\n",
    "- Удалил столбцы, которые не могут повлиять на стоимость автомобиля  \n",
    "    (`date_crawled`, `month_of_registration`, `number_of_pictures`, `last_seen`)\n",
    "- Столбец `date_of_creation` преобразовал в год публикации\n",
    "- Обработал пропуски\n",
    "- Обработал выбросы\n",
    "- Преобразовал категориальные признаки  \n",
    "    - Методом *One-Hot Encoding*:  \n",
    "    `vehicle_type`, `gearbox`, `fuel_type`, `not_repaired`  \n",
    "    - Методом *Ordinal Encoding*:  \n",
    "    `model`, `brand`\n",
    "- Подготовил выборки<br><br>\n",
    "***"
   ]
  },
  {
   "cell_type": "markdown",
   "metadata": {},
   "source": [
    "## Обучение и анализ моделей"
   ]
  },
  {
   "cell_type": "markdown",
   "metadata": {},
   "source": [
    "### Модель `Linear Regression`"
   ]
  },
  {
   "cell_type": "code",
   "execution_count": 61,
   "metadata": {},
   "outputs": [],
   "source": [
    "model = LinearRegression()"
   ]
  },
  {
   "cell_type": "code",
   "execution_count": 62,
   "metadata": {},
   "outputs": [],
   "source": [
    "%%capture result\n",
    "%%timeit\n",
    "model.fit(features_train, target_train)"
   ]
  },
  {
   "cell_type": "code",
   "execution_count": 63,
   "metadata": {},
   "outputs": [],
   "source": [
    "linear_fit_time = result.stdout\n",
    "linear_fit_time_short = linear_fit_time.split(' per loop ')[0]"
   ]
  },
  {
   "cell_type": "code",
   "execution_count": 64,
   "metadata": {},
   "outputs": [],
   "source": [
    "predictions = model.predict(features_valid)"
   ]
  },
  {
   "cell_type": "code",
   "execution_count": 65,
   "metadata": {},
   "outputs": [],
   "source": [
    "%%capture result\n",
    "%%timeit\n",
    "model.predict(features_valid)"
   ]
  },
  {
   "cell_type": "code",
   "execution_count": 66,
   "metadata": {},
   "outputs": [],
   "source": [
    "linear_prediction_time = result.stdout\n",
    "linear_prediction_time_short = linear_prediction_time.split(' per loop ')[0]"
   ]
  },
  {
   "cell_type": "code",
   "execution_count": 67,
   "metadata": {},
   "outputs": [],
   "source": [
    "linear_rmse = mean_squared_error(target_valid, predictions) ** 0.5"
   ]
  },
  {
   "cell_type": "code",
   "execution_count": 68,
   "metadata": {},
   "outputs": [
    {
     "data": {
      "text/html": [
       "<div>\n",
       "<style scoped>\n",
       "    .dataframe tbody tr th:only-of-type {\n",
       "        vertical-align: middle;\n",
       "    }\n",
       "\n",
       "    .dataframe tbody tr th {\n",
       "        vertical-align: top;\n",
       "    }\n",
       "\n",
       "    .dataframe thead th {\n",
       "        text-align: right;\n",
       "    }\n",
       "</style>\n",
       "<table border=\"1\" class=\"dataframe\">\n",
       "  <thead>\n",
       "    <tr style=\"text-align: right;\">\n",
       "      <th></th>\n",
       "      <th>fit_time</th>\n",
       "      <th>prediction_time</th>\n",
       "      <th>rmse</th>\n",
       "    </tr>\n",
       "  </thead>\n",
       "  <tbody>\n",
       "    <tr>\n",
       "      <th>LinearRegression</th>\n",
       "      <td>357 ms +- 39.3 ms</td>\n",
       "      <td>14.1 ms +- 1 ms</td>\n",
       "      <td>2995.744553</td>\n",
       "    </tr>\n",
       "  </tbody>\n",
       "</table>\n",
       "</div>"
      ],
      "text/plain": [
       "                           fit_time  prediction_time         rmse\n",
       "LinearRegression  357 ms +- 39.3 ms  14.1 ms +- 1 ms  2995.744553"
      ]
     },
     "execution_count": 68,
     "metadata": {},
     "output_type": "execute_result"
    }
   ],
   "source": [
    "models_compares = {\n",
    "    'LinearRegression': {\n",
    "        'fit_time': linear_fit_time_short,\n",
    "        'prediction_time': linear_prediction_time_short,\n",
    "        'rmse': linear_rmse,\n",
    "    },\n",
    "}\n",
    "models_statistics = pd.DataFrame(models_compares).T\n",
    "models_statistics "
   ]
  },
  {
   "cell_type": "markdown",
   "metadata": {},
   "source": [
    "### Модель `Случайный лес`"
   ]
  },
  {
   "cell_type": "code",
   "execution_count": 69,
   "metadata": {},
   "outputs": [
    {
     "name": "stdout",
     "output_type": "stream",
     "text": [
      "Количество деревьев: 19\n",
      "Глубина: 23\n",
      "RMSE: 1677.2070654762488\n"
     ]
    }
   ],
   "source": [
    "best_rmse = 10000\n",
    "best_depth = 0\n",
    "best_estim = 0\n",
    "for estim in range(19, 20, 3):\n",
    "    for depth in range(23, 24, 3):\n",
    "        model = RandomForestRegressor(random_state=1234, n_estimators=estim, max_depth=depth)\n",
    "        model.fit(features_train, target_train)\n",
    "        predictions = model.predict(features_valid)\n",
    "        rmse = mean_squared_error(target_valid, predictions) ** 0.5\n",
    "        if rmse < best_rmse:\n",
    "            best_rmse = rmse\n",
    "            best_depth = depth\n",
    "            best_estim = estim\n",
    "print(\n",
    "    f'Количество деревьев: {best_estim}\\n'\n",
    "    f'Глубина: {best_depth}\\n'\n",
    "    f'RMSE: {best_rmse}'\n",
    ")"
   ]
  },
  {
   "cell_type": "code",
   "execution_count": 70,
   "metadata": {},
   "outputs": [],
   "source": [
    "model = RandomForestRegressor(random_state=1234, n_estimators=best_estim, max_depth=best_depth)"
   ]
  },
  {
   "cell_type": "code",
   "execution_count": 71,
   "metadata": {},
   "outputs": [],
   "source": [
    "%%capture result\n",
    "%%timeit\n",
    "model.fit(features_train, target_train)"
   ]
  },
  {
   "cell_type": "code",
   "execution_count": 72,
   "metadata": {},
   "outputs": [],
   "source": [
    "forest_fit_time = result.stdout\n",
    "forest_fit_time_short = forest_fit_time.split(' per loop ')[0]"
   ]
  },
  {
   "cell_type": "code",
   "execution_count": 73,
   "metadata": {},
   "outputs": [],
   "source": [
    "predictions = model.predict(features_valid)"
   ]
  },
  {
   "cell_type": "code",
   "execution_count": 74,
   "metadata": {},
   "outputs": [],
   "source": [
    "%%capture result\n",
    "%%timeit\n",
    "model.predict(features_valid)"
   ]
  },
  {
   "cell_type": "code",
   "execution_count": 75,
   "metadata": {},
   "outputs": [],
   "source": [
    "forest_prediction_time = result.stdout\n",
    "forest_prediction_time_short = forest_prediction_time.split(' per loop ')[0]"
   ]
  },
  {
   "cell_type": "code",
   "execution_count": 76,
   "metadata": {},
   "outputs": [],
   "source": [
    "forest_rmse = mean_squared_error(target_valid, predictions) ** 0.5"
   ]
  },
  {
   "cell_type": "code",
   "execution_count": 77,
   "metadata": {},
   "outputs": [
    {
     "data": {
      "text/html": [
       "<div>\n",
       "<style scoped>\n",
       "    .dataframe tbody tr th:only-of-type {\n",
       "        vertical-align: middle;\n",
       "    }\n",
       "\n",
       "    .dataframe tbody tr th {\n",
       "        vertical-align: top;\n",
       "    }\n",
       "\n",
       "    .dataframe thead th {\n",
       "        text-align: right;\n",
       "    }\n",
       "</style>\n",
       "<table border=\"1\" class=\"dataframe\">\n",
       "  <thead>\n",
       "    <tr style=\"text-align: right;\">\n",
       "      <th></th>\n",
       "      <th>fit_time</th>\n",
       "      <th>prediction_time</th>\n",
       "      <th>rmse</th>\n",
       "    </tr>\n",
       "  </thead>\n",
       "  <tbody>\n",
       "    <tr>\n",
       "      <th>LinearRegression</th>\n",
       "      <td>357 ms +- 39.3 ms</td>\n",
       "      <td>14.1 ms +- 1 ms</td>\n",
       "      <td>2995.744553</td>\n",
       "    </tr>\n",
       "    <tr>\n",
       "      <th>RandomForestRegressor</th>\n",
       "      <td>15.7 s +- 210 ms</td>\n",
       "      <td>439 ms +- 4.69 ms</td>\n",
       "      <td>1677.207065</td>\n",
       "    </tr>\n",
       "  </tbody>\n",
       "</table>\n",
       "</div>"
      ],
      "text/plain": [
       "                                fit_time    prediction_time         rmse\n",
       "LinearRegression       357 ms +- 39.3 ms    14.1 ms +- 1 ms  2995.744553\n",
       "RandomForestRegressor   15.7 s +- 210 ms  439 ms +- 4.69 ms  1677.207065"
      ]
     },
     "execution_count": 77,
     "metadata": {},
     "output_type": "execute_result"
    }
   ],
   "source": [
    "models_compares['RandomForestRegressor'] = {\n",
    "        'fit_time': forest_fit_time_short,\n",
    "        'prediction_time': forest_prediction_time_short,\n",
    "        'rmse': forest_rmse,\n",
    "    }\n",
    "models_statistics = pd.DataFrame(models_compares).T\n",
    "models_statistics "
   ]
  },
  {
   "cell_type": "markdown",
   "metadata": {},
   "source": [
    "### Модель `CatBoostRegressor`"
   ]
  },
  {
   "cell_type": "code",
   "execution_count": 78,
   "metadata": {},
   "outputs": [],
   "source": [
    "model = CatBoostRegressor(random_state=1234, learning_rate=0.5, verbose=False)"
   ]
  },
  {
   "cell_type": "code",
   "execution_count": 79,
   "metadata": {},
   "outputs": [],
   "source": [
    "%%capture result\n",
    "%%timeit\n",
    "model.fit(features_train, target_train)"
   ]
  },
  {
   "cell_type": "code",
   "execution_count": 80,
   "metadata": {},
   "outputs": [],
   "source": [
    "catboost_fit_time = result.stdout\n",
    "catboost_fit_time_short = catboost_fit_time.split(' per loop ')[0]"
   ]
  },
  {
   "cell_type": "code",
   "execution_count": 81,
   "metadata": {},
   "outputs": [],
   "source": [
    "predictions = model.predict(features_valid)"
   ]
  },
  {
   "cell_type": "code",
   "execution_count": 82,
   "metadata": {},
   "outputs": [],
   "source": [
    "%%capture result\n",
    "%%timeit\n",
    "model.predict(features_valid)"
   ]
  },
  {
   "cell_type": "code",
   "execution_count": 83,
   "metadata": {},
   "outputs": [],
   "source": [
    "catboost_prediction_time = result.stdout\n",
    "catboost_prediction_time_short = catboost_prediction_time.split(' per loop ')[0]"
   ]
  },
  {
   "cell_type": "code",
   "execution_count": 84,
   "metadata": {},
   "outputs": [],
   "source": [
    "catboost_rmse = mean_squared_error(target_valid, predictions) ** 0.5"
   ]
  },
  {
   "cell_type": "code",
   "execution_count": 85,
   "metadata": {},
   "outputs": [
    {
     "data": {
      "text/html": [
       "<div>\n",
       "<style scoped>\n",
       "    .dataframe tbody tr th:only-of-type {\n",
       "        vertical-align: middle;\n",
       "    }\n",
       "\n",
       "    .dataframe tbody tr th {\n",
       "        vertical-align: top;\n",
       "    }\n",
       "\n",
       "    .dataframe thead th {\n",
       "        text-align: right;\n",
       "    }\n",
       "</style>\n",
       "<table border=\"1\" class=\"dataframe\">\n",
       "  <thead>\n",
       "    <tr style=\"text-align: right;\">\n",
       "      <th></th>\n",
       "      <th>fit_time</th>\n",
       "      <th>prediction_time</th>\n",
       "      <th>rmse</th>\n",
       "    </tr>\n",
       "  </thead>\n",
       "  <tbody>\n",
       "    <tr>\n",
       "      <th>LinearRegression</th>\n",
       "      <td>357 ms +- 39.3 ms</td>\n",
       "      <td>14.1 ms +- 1 ms</td>\n",
       "      <td>2995.744553</td>\n",
       "    </tr>\n",
       "    <tr>\n",
       "      <th>RandomForestRegressor</th>\n",
       "      <td>15.7 s +- 210 ms</td>\n",
       "      <td>439 ms +- 4.69 ms</td>\n",
       "      <td>1677.207065</td>\n",
       "    </tr>\n",
       "    <tr>\n",
       "      <th>CatBoostRegressor</th>\n",
       "      <td>26 s +- 344 ms</td>\n",
       "      <td>64.9 ms +- 2.25 ms</td>\n",
       "      <td>1593.626303</td>\n",
       "    </tr>\n",
       "  </tbody>\n",
       "</table>\n",
       "</div>"
      ],
      "text/plain": [
       "                                fit_time     prediction_time         rmse\n",
       "LinearRegression       357 ms +- 39.3 ms     14.1 ms +- 1 ms  2995.744553\n",
       "RandomForestRegressor   15.7 s +- 210 ms   439 ms +- 4.69 ms  1677.207065\n",
       "CatBoostRegressor         26 s +- 344 ms  64.9 ms +- 2.25 ms  1593.626303"
      ]
     },
     "execution_count": 85,
     "metadata": {},
     "output_type": "execute_result"
    }
   ],
   "source": [
    "models_compares['CatBoostRegressor'] = {\n",
    "        'fit_time': catboost_fit_time_short,\n",
    "        'prediction_time': catboost_prediction_time_short,\n",
    "        'rmse': catboost_rmse,\n",
    "    }\n",
    "models_statistics = pd.DataFrame(models_compares).T\n",
    "models_statistics "
   ]
  },
  {
   "cell_type": "markdown",
   "metadata": {},
   "source": [
    "### Модель `LGBMRegressor`"
   ]
  },
  {
   "cell_type": "code",
   "execution_count": 86,
   "metadata": {},
   "outputs": [],
   "source": [
    "model = LGBMRegressor(random_state=1234, learning_rate=0.5, num_leaves=100)"
   ]
  },
  {
   "cell_type": "code",
   "execution_count": 87,
   "metadata": {},
   "outputs": [],
   "source": [
    "%%capture result\n",
    "%%timeit\n",
    "model.fit(features_train, target_train)"
   ]
  },
  {
   "cell_type": "code",
   "execution_count": 88,
   "metadata": {},
   "outputs": [],
   "source": [
    "lgbm_fit_time = result.stdout\n",
    "lgbm_fit_time_short = lgbm_fit_time.split(' per loop ')[0]"
   ]
  },
  {
   "cell_type": "code",
   "execution_count": 89,
   "metadata": {},
   "outputs": [],
   "source": [
    "predictions = model.predict(features_valid)"
   ]
  },
  {
   "cell_type": "code",
   "execution_count": 90,
   "metadata": {},
   "outputs": [],
   "source": [
    "%%capture result\n",
    "%%timeit\n",
    "model.predict(features_valid)"
   ]
  },
  {
   "cell_type": "code",
   "execution_count": 91,
   "metadata": {},
   "outputs": [],
   "source": [
    "lgbm_prediction_time = result.stdout\n",
    "lgbm_prediction_time_short = lgbm_prediction_time.split(' per loop ')[0]"
   ]
  },
  {
   "cell_type": "code",
   "execution_count": 92,
   "metadata": {},
   "outputs": [],
   "source": [
    "lgbm_rmse = mean_squared_error(target_valid, predictions) ** 0.5"
   ]
  },
  {
   "cell_type": "code",
   "execution_count": 93,
   "metadata": {},
   "outputs": [
    {
     "data": {
      "text/html": [
       "<div>\n",
       "<style scoped>\n",
       "    .dataframe tbody tr th:only-of-type {\n",
       "        vertical-align: middle;\n",
       "    }\n",
       "\n",
       "    .dataframe tbody tr th {\n",
       "        vertical-align: top;\n",
       "    }\n",
       "\n",
       "    .dataframe thead th {\n",
       "        text-align: right;\n",
       "    }\n",
       "</style>\n",
       "<table border=\"1\" class=\"dataframe\">\n",
       "  <thead>\n",
       "    <tr style=\"text-align: right;\">\n",
       "      <th></th>\n",
       "      <th>fit_time</th>\n",
       "      <th>prediction_time</th>\n",
       "      <th>rmse</th>\n",
       "    </tr>\n",
       "  </thead>\n",
       "  <tbody>\n",
       "    <tr>\n",
       "      <th>LinearRegression</th>\n",
       "      <td>357 ms +- 39.3 ms</td>\n",
       "      <td>14.1 ms +- 1 ms</td>\n",
       "      <td>2995.744553</td>\n",
       "    </tr>\n",
       "    <tr>\n",
       "      <th>RandomForestRegressor</th>\n",
       "      <td>15.7 s +- 210 ms</td>\n",
       "      <td>439 ms +- 4.69 ms</td>\n",
       "      <td>1677.207065</td>\n",
       "    </tr>\n",
       "    <tr>\n",
       "      <th>CatBoostRegressor</th>\n",
       "      <td>26 s +- 344 ms</td>\n",
       "      <td>64.9 ms +- 2.25 ms</td>\n",
       "      <td>1593.626303</td>\n",
       "    </tr>\n",
       "    <tr>\n",
       "      <th>LGBMRegressor</th>\n",
       "      <td>4min 2s +- 7min 1s</td>\n",
       "      <td>415 ms +- 31.9 ms</td>\n",
       "      <td>1648.020385</td>\n",
       "    </tr>\n",
       "  </tbody>\n",
       "</table>\n",
       "</div>"
      ],
      "text/plain": [
       "                                 fit_time     prediction_time         rmse\n",
       "LinearRegression        357 ms +- 39.3 ms     14.1 ms +- 1 ms  2995.744553\n",
       "RandomForestRegressor    15.7 s +- 210 ms   439 ms +- 4.69 ms  1677.207065\n",
       "CatBoostRegressor          26 s +- 344 ms  64.9 ms +- 2.25 ms  1593.626303\n",
       "LGBMRegressor          4min 2s +- 7min 1s   415 ms +- 31.9 ms  1648.020385"
      ]
     },
     "execution_count": 93,
     "metadata": {},
     "output_type": "execute_result"
    }
   ],
   "source": [
    "models_compares['LGBMRegressor'] = {\n",
    "        'fit_time': '4min 2s +- 7min 1s',\n",
    "        'prediction_time': lgbm_prediction_time_short,\n",
    "        'rmse': lgbm_rmse,\n",
    "    }\n",
    "models_statistics = pd.DataFrame(models_compares).T\n",
    "models_statistics"
   ]
  },
  {
   "cell_type": "markdown",
   "metadata": {},
   "source": [
    "### Финальное тестирование `RandomForestRegressor`"
   ]
  },
  {
   "cell_type": "code",
   "execution_count": 94,
   "metadata": {},
   "outputs": [],
   "source": [
    "model = RandomForestRegressor(random_state=1234, n_estimators=best_estim, max_depth=best_depth)"
   ]
  },
  {
   "cell_type": "code",
   "execution_count": 95,
   "metadata": {},
   "outputs": [],
   "source": [
    "%%capture result\n",
    "%%timeit\n",
    "model.fit(features_train, target_train)"
   ]
  },
  {
   "cell_type": "code",
   "execution_count": 96,
   "metadata": {},
   "outputs": [],
   "source": [
    "forest_fit_time = result.stdout\n",
    "forest_fit_time_short = forest_fit_time.split(' per loop ')[0]"
   ]
  },
  {
   "cell_type": "code",
   "execution_count": 97,
   "metadata": {},
   "outputs": [],
   "source": [
    "predictions = model.predict(features_test)"
   ]
  },
  {
   "cell_type": "code",
   "execution_count": 98,
   "metadata": {},
   "outputs": [],
   "source": [
    "%%capture result\n",
    "%%timeit\n",
    "model.predict(features_test)"
   ]
  },
  {
   "cell_type": "code",
   "execution_count": 99,
   "metadata": {},
   "outputs": [],
   "source": [
    "forest_prediction_time = result.stdout\n",
    "forest_prediction_time_short = forest_prediction_time.split(' per loop ')[0]"
   ]
  },
  {
   "cell_type": "code",
   "execution_count": 100,
   "metadata": {},
   "outputs": [],
   "source": [
    "forest_rmse = mean_squared_error(target_test, predictions) ** 0.5"
   ]
  },
  {
   "cell_type": "code",
   "execution_count": 101,
   "metadata": {},
   "outputs": [
    {
     "data": {
      "text/html": [
       "<div>\n",
       "<style scoped>\n",
       "    .dataframe tbody tr th:only-of-type {\n",
       "        vertical-align: middle;\n",
       "    }\n",
       "\n",
       "    .dataframe tbody tr th {\n",
       "        vertical-align: top;\n",
       "    }\n",
       "\n",
       "    .dataframe thead th {\n",
       "        text-align: right;\n",
       "    }\n",
       "</style>\n",
       "<table border=\"1\" class=\"dataframe\">\n",
       "  <thead>\n",
       "    <tr style=\"text-align: right;\">\n",
       "      <th></th>\n",
       "      <th>fit_time</th>\n",
       "      <th>prediction_time</th>\n",
       "      <th>rmse</th>\n",
       "    </tr>\n",
       "  </thead>\n",
       "  <tbody>\n",
       "    <tr>\n",
       "      <th>LinearRegression</th>\n",
       "      <td>357 ms +- 39.3 ms</td>\n",
       "      <td>14.1 ms +- 1 ms</td>\n",
       "      <td>2995.744553</td>\n",
       "    </tr>\n",
       "    <tr>\n",
       "      <th>RandomForestRegressor</th>\n",
       "      <td>15.7 s +- 210 ms</td>\n",
       "      <td>439 ms +- 4.69 ms</td>\n",
       "      <td>1677.207065</td>\n",
       "    </tr>\n",
       "    <tr>\n",
       "      <th>CatBoostRegressor</th>\n",
       "      <td>26 s +- 344 ms</td>\n",
       "      <td>64.9 ms +- 2.25 ms</td>\n",
       "      <td>1593.626303</td>\n",
       "    </tr>\n",
       "    <tr>\n",
       "      <th>LGBMRegressor</th>\n",
       "      <td>4min 2s +- 7min 1s</td>\n",
       "      <td>415 ms +- 31.9 ms</td>\n",
       "      <td>1648.020385</td>\n",
       "    </tr>\n",
       "    <tr>\n",
       "      <th>RandomForestRegressor (test)</th>\n",
       "      <td>15.5 s +- 162 ms</td>\n",
       "      <td>436 ms +- 5.61 ms</td>\n",
       "      <td>1821.464273</td>\n",
       "    </tr>\n",
       "  </tbody>\n",
       "</table>\n",
       "</div>"
      ],
      "text/plain": [
       "                                        fit_time     prediction_time  \\\n",
       "LinearRegression               357 ms +- 39.3 ms     14.1 ms +- 1 ms   \n",
       "RandomForestRegressor           15.7 s +- 210 ms   439 ms +- 4.69 ms   \n",
       "CatBoostRegressor                 26 s +- 344 ms  64.9 ms +- 2.25 ms   \n",
       "LGBMRegressor                 4min 2s +- 7min 1s   415 ms +- 31.9 ms   \n",
       "RandomForestRegressor (test)    15.5 s +- 162 ms   436 ms +- 5.61 ms   \n",
       "\n",
       "                                     rmse  \n",
       "LinearRegression              2995.744553  \n",
       "RandomForestRegressor         1677.207065  \n",
       "CatBoostRegressor             1593.626303  \n",
       "LGBMRegressor                 1648.020385  \n",
       "RandomForestRegressor (test)  1821.464273  "
      ]
     },
     "execution_count": 101,
     "metadata": {},
     "output_type": "execute_result"
    }
   ],
   "source": [
    "models_compares['RandomForestRegressor (test)'] = {\n",
    "        'fit_time': forest_fit_time_short,\n",
    "        'prediction_time': forest_prediction_time_short,\n",
    "        'rmse': forest_rmse,\n",
    "    }\n",
    "models_statistics = pd.DataFrame(models_compares).T\n",
    "models_statistics "
   ]
  },
  {
   "cell_type": "markdown",
   "metadata": {
    "pycharm": {
     "name": "#%% md\n"
    }
   },
   "source": [
    "***\n",
    "## Общий вывод\n",
    "\n",
    "- Худшая по времени обучения модель — `LGBMRegressor` — 4 ± 7 минут.  \n",
    "    По данной модели был комментарий:  \n",
    "    The slowest run took 20.26 times longer than the fastest.  \n",
    "    This could mean that an intermediate result is being cached.  \n",
    "- `RandomForestRegressor` и `CatBoostRegressor` примерно похожи по времени и по RMSE.  \n",
    "    Тем не менее `RandomForestRegressor` отрабатывает быстрее примерно на 10 секунд  \n",
    "    при незначительной потери точности предсказаний.\n",
    "- При условии, что для `RandomForestRegressor` можно подобрать даже лучшие параметры, следует рекомендовать эту модель.<br><br>\n",
    "\n",
    "***"
   ]
  }
 ],
 "metadata": {
  "ExecuteTimeLog": [
   {
    "duration": 1652,
    "start_time": "2022-05-29T21:15:27.192Z"
   },
   {
    "duration": 3276,
    "start_time": "2022-05-29T21:15:28.846Z"
   },
   {
    "duration": 992,
    "start_time": "2022-05-29T21:15:53.877Z"
   },
   {
    "duration": 973,
    "start_time": "2022-05-29T21:15:58.847Z"
   },
   {
    "duration": 1005,
    "start_time": "2022-05-29T21:16:44.020Z"
   },
   {
    "duration": 899,
    "start_time": "2022-05-29T21:16:59.644Z"
   },
   {
    "duration": 973,
    "start_time": "2022-05-29T21:17:39.152Z"
   },
   {
    "duration": 947,
    "start_time": "2022-05-29T21:18:06.893Z"
   },
   {
    "duration": 936,
    "start_time": "2022-05-29T21:18:23.749Z"
   },
   {
    "duration": 900,
    "start_time": "2022-05-29T21:19:25.926Z"
   },
   {
    "duration": 929,
    "start_time": "2022-05-29T21:19:59.105Z"
   },
   {
    "duration": 915,
    "start_time": "2022-05-29T21:20:17.945Z"
   },
   {
    "duration": 916,
    "start_time": "2022-05-29T21:20:49.881Z"
   },
   {
    "duration": 890,
    "start_time": "2022-05-29T21:23:53.495Z"
   },
   {
    "duration": 897,
    "start_time": "2022-05-29T21:24:00.953Z"
   },
   {
    "duration": 937,
    "start_time": "2022-05-29T21:24:39.110Z"
   },
   {
    "duration": 4,
    "start_time": "2022-05-29T21:25:22.694Z"
   },
   {
    "duration": 3,
    "start_time": "2022-05-29T21:25:30.945Z"
   },
   {
    "duration": 11,
    "start_time": "2022-05-29T21:25:48.758Z"
   },
   {
    "duration": 909,
    "start_time": "2022-05-29T21:25:54.653Z"
   },
   {
    "duration": 4,
    "start_time": "2022-05-29T21:50:31.322Z"
   },
   {
    "duration": 863,
    "start_time": "2022-05-29T21:50:51.953Z"
   },
   {
    "duration": 868,
    "start_time": "2022-05-29T21:51:32.934Z"
   },
   {
    "duration": 8,
    "start_time": "2022-05-29T21:54:11.814Z"
   },
   {
    "duration": 19,
    "start_time": "2022-05-29T21:54:36.671Z"
   },
   {
    "duration": 6,
    "start_time": "2022-05-29T21:55:03.693Z"
   },
   {
    "duration": 5,
    "start_time": "2022-05-29T21:55:13.295Z"
   },
   {
    "duration": 13,
    "start_time": "2022-05-29T21:55:34.914Z"
   },
   {
    "duration": 7,
    "start_time": "2022-05-29T21:58:37.035Z"
   },
   {
    "duration": 13,
    "start_time": "2022-05-29T21:58:47.951Z"
   },
   {
    "duration": 9,
    "start_time": "2022-05-29T21:59:08.257Z"
   },
   {
    "duration": 7,
    "start_time": "2022-05-29T21:59:27.545Z"
   },
   {
    "duration": 11,
    "start_time": "2022-05-29T21:59:30.009Z"
   },
   {
    "duration": 9,
    "start_time": "2022-05-29T21:59:41.709Z"
   },
   {
    "duration": 12,
    "start_time": "2022-05-29T21:59:52.606Z"
   },
   {
    "duration": 10,
    "start_time": "2022-05-29T22:00:28.712Z"
   },
   {
    "duration": 10,
    "start_time": "2022-05-29T22:00:48.888Z"
   },
   {
    "duration": 9,
    "start_time": "2022-05-29T22:00:52.389Z"
   },
   {
    "duration": 12,
    "start_time": "2022-05-29T22:01:21.695Z"
   },
   {
    "duration": 8,
    "start_time": "2022-05-29T22:02:28.510Z"
   },
   {
    "duration": 8,
    "start_time": "2022-05-29T22:02:34.325Z"
   },
   {
    "duration": 21,
    "start_time": "2022-05-29T22:02:55.858Z"
   },
   {
    "duration": 31,
    "start_time": "2022-05-29T22:03:21.885Z"
   },
   {
    "duration": 13,
    "start_time": "2022-05-29T22:03:30.358Z"
   },
   {
    "duration": 8,
    "start_time": "2022-05-29T22:03:54.031Z"
   },
   {
    "duration": 10,
    "start_time": "2022-05-29T22:03:59.824Z"
   },
   {
    "duration": 13,
    "start_time": "2022-05-29T22:04:06.874Z"
   },
   {
    "duration": 8,
    "start_time": "2022-05-29T22:04:12.432Z"
   },
   {
    "duration": 17,
    "start_time": "2022-05-29T22:04:17.554Z"
   },
   {
    "duration": 8,
    "start_time": "2022-05-29T22:04:25.194Z"
   },
   {
    "duration": 12,
    "start_time": "2022-05-29T22:04:30.597Z"
   },
   {
    "duration": 8,
    "start_time": "2022-05-29T22:04:35.723Z"
   },
   {
    "duration": 18,
    "start_time": "2022-05-29T22:04:43.683Z"
   },
   {
    "duration": 19,
    "start_time": "2022-05-29T22:05:01.969Z"
   },
   {
    "duration": 9,
    "start_time": "2022-05-29T22:06:15.110Z"
   },
   {
    "duration": 8,
    "start_time": "2022-05-29T22:06:29.938Z"
   },
   {
    "duration": 17,
    "start_time": "2022-05-29T22:07:15.090Z"
   },
   {
    "duration": 9,
    "start_time": "2022-05-29T22:07:32.740Z"
   },
   {
    "duration": 13,
    "start_time": "2022-05-29T22:07:46.114Z"
   },
   {
    "duration": 10,
    "start_time": "2022-05-29T22:08:58.381Z"
   },
   {
    "duration": 15,
    "start_time": "2022-05-29T22:09:05.193Z"
   },
   {
    "duration": 17,
    "start_time": "2022-05-29T22:09:15.756Z"
   },
   {
    "duration": 21,
    "start_time": "2022-05-29T22:10:15.767Z"
   },
   {
    "duration": 14,
    "start_time": "2022-05-29T22:10:48.760Z"
   },
   {
    "duration": 12,
    "start_time": "2022-05-29T22:11:31.425Z"
   },
   {
    "duration": 818,
    "start_time": "2022-05-29T22:15:50.397Z"
   },
   {
    "duration": 9,
    "start_time": "2022-05-29T22:15:52.318Z"
   },
   {
    "duration": 54,
    "start_time": "2022-05-29T23:12:10.519Z"
   },
   {
    "duration": 398,
    "start_time": "2022-05-30T00:53:40.448Z"
   },
   {
    "duration": 392,
    "start_time": "2022-05-30T00:53:45.503Z"
   },
   {
    "duration": 4,
    "start_time": "2022-05-30T00:55:00.695Z"
   },
   {
    "duration": 461,
    "start_time": "2022-05-30T00:55:01.343Z"
   },
   {
    "duration": 4,
    "start_time": "2022-05-30T00:55:07.697Z"
   },
   {
    "duration": 3,
    "start_time": "2022-05-30T00:55:09.873Z"
   },
   {
    "duration": 377,
    "start_time": "2022-05-30T00:55:10.072Z"
   },
   {
    "duration": 914,
    "start_time": "2022-05-30T00:55:23.773Z"
   },
   {
    "duration": 97,
    "start_time": "2022-05-30T01:00:44.701Z"
   },
   {
    "duration": 120,
    "start_time": "2022-05-30T01:02:56.971Z"
   },
   {
    "duration": 61,
    "start_time": "2022-05-30T10:28:22.274Z"
   },
   {
    "duration": 1528,
    "start_time": "2022-05-30T10:28:39.466Z"
   },
   {
    "duration": 1214,
    "start_time": "2022-05-30T10:28:40.996Z"
   },
   {
    "duration": 16,
    "start_time": "2022-05-30T10:28:42.212Z"
   },
   {
    "duration": 77,
    "start_time": "2022-05-30T10:28:42.230Z"
   },
   {
    "duration": 125,
    "start_time": "2022-05-30T10:28:42.309Z"
   },
   {
    "duration": 153,
    "start_time": "2022-05-30T10:28:42.436Z"
   },
   {
    "duration": 4,
    "start_time": "2022-05-30T10:28:42.592Z"
   },
   {
    "duration": 556,
    "start_time": "2022-05-30T10:28:42.599Z"
   },
   {
    "duration": 1096,
    "start_time": "2022-05-30T10:28:43.156Z"
   },
   {
    "duration": 13,
    "start_time": "2022-05-30T10:28:44.254Z"
   },
   {
    "duration": 5,
    "start_time": "2022-05-30T10:30:07.272Z"
   },
   {
    "duration": 22,
    "start_time": "2022-05-30T10:30:12.146Z"
   },
   {
    "duration": 18,
    "start_time": "2022-05-30T10:30:16.223Z"
   },
   {
    "duration": 18,
    "start_time": "2022-05-30T10:30:19.240Z"
   },
   {
    "duration": 4,
    "start_time": "2022-05-30T10:30:52.452Z"
   },
   {
    "duration": 19,
    "start_time": "2022-05-30T10:31:09.539Z"
   },
   {
    "duration": 7,
    "start_time": "2022-05-30T10:32:12.243Z"
   },
   {
    "duration": 5,
    "start_time": "2022-05-30T10:32:18.621Z"
   },
   {
    "duration": 4,
    "start_time": "2022-05-30T10:32:32.679Z"
   },
   {
    "duration": 4,
    "start_time": "2022-05-30T10:32:58.065Z"
   },
   {
    "duration": 17,
    "start_time": "2022-05-30T10:33:01.049Z"
   },
   {
    "duration": 4,
    "start_time": "2022-05-30T10:33:12.203Z"
   },
   {
    "duration": 131,
    "start_time": "2022-05-30T11:15:21.255Z"
   },
   {
    "duration": 123,
    "start_time": "2022-05-30T11:15:26.713Z"
   },
   {
    "duration": 506,
    "start_time": "2022-05-30T11:15:43.548Z"
   },
   {
    "duration": 135,
    "start_time": "2022-05-30T11:15:58.246Z"
   },
   {
    "duration": 261,
    "start_time": "2022-05-30T11:16:23.550Z"
   },
   {
    "duration": 126,
    "start_time": "2022-05-30T11:16:38.420Z"
   },
   {
    "duration": 128,
    "start_time": "2022-05-30T11:16:45.599Z"
   },
   {
    "duration": 126,
    "start_time": "2022-05-30T11:17:00.141Z"
   },
   {
    "duration": 655,
    "start_time": "2022-05-30T11:17:45.570Z"
   },
   {
    "duration": 564,
    "start_time": "2022-05-30T11:18:14.698Z"
   },
   {
    "duration": 129,
    "start_time": "2022-05-30T11:18:20.346Z"
   },
   {
    "duration": 127,
    "start_time": "2022-05-30T11:18:26.840Z"
   },
   {
    "duration": 135,
    "start_time": "2022-05-30T11:18:39.873Z"
   },
   {
    "duration": 97,
    "start_time": "2022-05-30T11:18:45.478Z"
   },
   {
    "duration": 175,
    "start_time": "2022-05-30T11:18:48.973Z"
   },
   {
    "duration": 124,
    "start_time": "2022-05-30T11:19:21.252Z"
   },
   {
    "duration": 123,
    "start_time": "2022-05-30T11:19:25.885Z"
   },
   {
    "duration": 26,
    "start_time": "2022-05-30T11:19:57.016Z"
   },
   {
    "duration": 2346,
    "start_time": "2022-05-30T11:20:01.879Z"
   },
   {
    "duration": 450,
    "start_time": "2022-05-30T11:20:35.442Z"
   },
   {
    "duration": 277,
    "start_time": "2022-05-30T11:21:17.740Z"
   },
   {
    "duration": 526,
    "start_time": "2022-05-30T11:21:29.340Z"
   },
   {
    "duration": 135,
    "start_time": "2022-05-30T11:22:34.570Z"
   },
   {
    "duration": 517,
    "start_time": "2022-05-30T11:22:46.161Z"
   },
   {
    "duration": 133,
    "start_time": "2022-05-30T11:23:01.788Z"
   },
   {
    "duration": 131,
    "start_time": "2022-05-30T11:23:07.053Z"
   },
   {
    "duration": 137,
    "start_time": "2022-05-30T11:23:37.770Z"
   },
   {
    "duration": 809,
    "start_time": "2022-05-30T11:23:55.584Z"
   },
   {
    "duration": 774,
    "start_time": "2022-05-30T11:24:16.308Z"
   },
   {
    "duration": 132,
    "start_time": "2022-05-30T11:24:22.242Z"
   },
   {
    "duration": 140,
    "start_time": "2022-05-30T11:24:36.851Z"
   },
   {
    "duration": 126,
    "start_time": "2022-05-30T11:24:40.308Z"
   },
   {
    "duration": 140,
    "start_time": "2022-05-30T11:24:52.886Z"
   },
   {
    "duration": 129,
    "start_time": "2022-05-30T11:24:59.851Z"
   },
   {
    "duration": 131,
    "start_time": "2022-05-30T11:26:15.376Z"
   },
   {
    "duration": 124,
    "start_time": "2022-05-30T11:26:32.984Z"
   },
   {
    "duration": 145,
    "start_time": "2022-05-30T11:26:38.163Z"
   },
   {
    "duration": 143,
    "start_time": "2022-05-30T11:26:47.375Z"
   },
   {
    "duration": 135,
    "start_time": "2022-05-30T11:27:24.659Z"
   },
   {
    "duration": 133,
    "start_time": "2022-05-30T11:27:32.955Z"
   },
   {
    "duration": 131,
    "start_time": "2022-05-30T11:27:41.184Z"
   },
   {
    "duration": 129,
    "start_time": "2022-05-30T11:27:45.690Z"
   },
   {
    "duration": 131,
    "start_time": "2022-05-30T11:28:04.164Z"
   },
   {
    "duration": 129,
    "start_time": "2022-05-30T11:30:49.327Z"
   },
   {
    "duration": 130,
    "start_time": "2022-05-30T11:32:40.845Z"
   },
   {
    "duration": 134,
    "start_time": "2022-05-30T11:32:50.061Z"
   },
   {
    "duration": 136,
    "start_time": "2022-05-30T11:32:59.512Z"
   },
   {
    "duration": 149,
    "start_time": "2022-05-30T11:37:09.600Z"
   },
   {
    "duration": 124,
    "start_time": "2022-05-30T11:37:18.073Z"
   },
   {
    "duration": 138,
    "start_time": "2022-05-30T11:37:23.101Z"
   },
   {
    "duration": 135,
    "start_time": "2022-05-30T11:37:49.873Z"
   },
   {
    "duration": 162,
    "start_time": "2022-05-30T11:43:26.571Z"
   },
   {
    "duration": 132,
    "start_time": "2022-05-30T11:43:35.544Z"
   },
   {
    "duration": 3,
    "start_time": "2022-05-30T11:44:18.052Z"
   },
   {
    "duration": 8,
    "start_time": "2022-05-30T11:44:21.683Z"
   },
   {
    "duration": 21,
    "start_time": "2022-05-30T11:46:11.620Z"
   },
   {
    "duration": 18,
    "start_time": "2022-05-30T11:46:32.782Z"
   },
   {
    "duration": 16,
    "start_time": "2022-05-30T11:46:48.691Z"
   },
   {
    "duration": 16,
    "start_time": "2022-05-30T11:46:52.258Z"
   },
   {
    "duration": 11,
    "start_time": "2022-05-30T11:47:50.129Z"
   },
   {
    "duration": 159,
    "start_time": "2022-05-30T11:48:29.756Z"
   },
   {
    "duration": 14,
    "start_time": "2022-05-30T11:48:52.280Z"
   },
   {
    "duration": 18,
    "start_time": "2022-05-30T11:49:02.367Z"
   },
   {
    "duration": 5,
    "start_time": "2022-05-30T11:49:13.256Z"
   },
   {
    "duration": 4,
    "start_time": "2022-05-30T11:49:27.753Z"
   },
   {
    "duration": 18,
    "start_time": "2022-05-30T11:49:39.956Z"
   },
   {
    "duration": 18,
    "start_time": "2022-05-30T11:50:02.959Z"
   },
   {
    "duration": 10,
    "start_time": "2022-05-30T11:50:24.303Z"
   },
   {
    "duration": 15,
    "start_time": "2022-05-30T11:50:33.179Z"
   },
   {
    "duration": 10,
    "start_time": "2022-05-30T11:50:39.455Z"
   },
   {
    "duration": 13,
    "start_time": "2022-05-30T11:50:46.307Z"
   },
   {
    "duration": 14,
    "start_time": "2022-05-30T11:50:52.752Z"
   },
   {
    "duration": 28,
    "start_time": "2022-05-30T11:51:01.890Z"
   },
   {
    "duration": 18,
    "start_time": "2022-05-30T11:51:41.106Z"
   },
   {
    "duration": 10,
    "start_time": "2022-05-30T11:51:52.661Z"
   },
   {
    "duration": 17,
    "start_time": "2022-05-30T11:51:58.211Z"
   },
   {
    "duration": 17,
    "start_time": "2022-05-30T11:53:37.090Z"
   },
   {
    "duration": 10,
    "start_time": "2022-05-30T11:53:53.316Z"
   },
   {
    "duration": 4,
    "start_time": "2022-05-30T11:55:30.863Z"
   },
   {
    "duration": 28,
    "start_time": "2022-05-30T11:56:04.202Z"
   },
   {
    "duration": 38,
    "start_time": "2022-05-30T11:56:12.173Z"
   },
   {
    "duration": 5,
    "start_time": "2022-05-30T11:56:25.454Z"
   },
   {
    "duration": 5,
    "start_time": "2022-05-30T11:56:31.078Z"
   },
   {
    "duration": 6,
    "start_time": "2022-05-30T11:57:55.671Z"
   },
   {
    "duration": 10,
    "start_time": "2022-05-30T11:58:29.798Z"
   },
   {
    "duration": 16,
    "start_time": "2022-05-30T11:58:59.214Z"
   },
   {
    "duration": 17,
    "start_time": "2022-05-30T11:59:07.659Z"
   },
   {
    "duration": 11,
    "start_time": "2022-05-30T11:59:27.999Z"
   },
   {
    "duration": 5,
    "start_time": "2022-05-30T12:00:12.679Z"
   },
   {
    "duration": 26,
    "start_time": "2022-05-30T12:01:02.331Z"
   },
   {
    "duration": 10,
    "start_time": "2022-05-30T12:01:05.091Z"
   },
   {
    "duration": 8,
    "start_time": "2022-05-30T12:02:22.903Z"
   },
   {
    "duration": 9,
    "start_time": "2022-05-30T12:02:28.569Z"
   },
   {
    "duration": 16,
    "start_time": "2022-05-30T12:02:51.374Z"
   },
   {
    "duration": 12,
    "start_time": "2022-05-30T12:02:59.951Z"
   },
   {
    "duration": 12,
    "start_time": "2022-05-30T12:03:15.658Z"
   },
   {
    "duration": 7,
    "start_time": "2022-05-30T12:03:31.731Z"
   },
   {
    "duration": 19,
    "start_time": "2022-05-30T12:05:04.148Z"
   },
   {
    "duration": 12,
    "start_time": "2022-05-30T12:05:16.379Z"
   },
   {
    "duration": 10,
    "start_time": "2022-05-30T12:05:30.761Z"
   },
   {
    "duration": 15,
    "start_time": "2022-05-30T12:11:04.348Z"
   },
   {
    "duration": 11,
    "start_time": "2022-05-30T12:11:12.165Z"
   },
   {
    "duration": 12,
    "start_time": "2022-05-30T12:11:31.206Z"
   },
   {
    "duration": 12,
    "start_time": "2022-05-30T12:11:46.857Z"
   },
   {
    "duration": 8,
    "start_time": "2022-05-30T12:13:44.525Z"
   },
   {
    "duration": 62,
    "start_time": "2022-05-30T17:27:41.396Z"
   },
   {
    "duration": 1317,
    "start_time": "2022-05-30T17:27:46.954Z"
   },
   {
    "duration": 1299,
    "start_time": "2022-05-30T17:27:48.273Z"
   },
   {
    "duration": 12,
    "start_time": "2022-05-30T17:27:49.574Z"
   },
   {
    "duration": 77,
    "start_time": "2022-05-30T17:27:49.588Z"
   },
   {
    "duration": 105,
    "start_time": "2022-05-30T17:27:49.667Z"
   },
   {
    "duration": 129,
    "start_time": "2022-05-30T17:27:49.774Z"
   },
   {
    "duration": 3,
    "start_time": "2022-05-30T17:27:49.904Z"
   },
   {
    "duration": 463,
    "start_time": "2022-05-30T17:27:49.909Z"
   },
   {
    "duration": 970,
    "start_time": "2022-05-30T17:27:50.374Z"
   },
   {
    "duration": 139,
    "start_time": "2022-05-30T17:27:51.345Z"
   },
   {
    "duration": 0,
    "start_time": "2022-05-30T17:27:51.486Z"
   },
   {
    "duration": 0,
    "start_time": "2022-05-30T17:27:51.488Z"
   },
   {
    "duration": 0,
    "start_time": "2022-05-30T17:27:51.489Z"
   },
   {
    "duration": 0,
    "start_time": "2022-05-30T17:27:51.490Z"
   },
   {
    "duration": 0,
    "start_time": "2022-05-30T17:27:51.491Z"
   },
   {
    "duration": 0,
    "start_time": "2022-05-30T17:27:51.492Z"
   },
   {
    "duration": 0,
    "start_time": "2022-05-30T17:27:51.493Z"
   },
   {
    "duration": 0,
    "start_time": "2022-05-30T17:27:51.494Z"
   },
   {
    "duration": 0,
    "start_time": "2022-05-30T17:27:51.495Z"
   },
   {
    "duration": 8,
    "start_time": "2022-05-30T17:31:23.100Z"
   },
   {
    "duration": 1057,
    "start_time": "2022-05-30T17:31:52.566Z"
   },
   {
    "duration": 817,
    "start_time": "2022-05-30T17:31:53.625Z"
   },
   {
    "duration": 13,
    "start_time": "2022-05-30T17:31:54.444Z"
   },
   {
    "duration": 84,
    "start_time": "2022-05-30T17:31:54.459Z"
   },
   {
    "duration": 94,
    "start_time": "2022-05-30T17:31:54.545Z"
   },
   {
    "duration": 124,
    "start_time": "2022-05-30T17:31:54.641Z"
   },
   {
    "duration": 2,
    "start_time": "2022-05-30T17:31:54.767Z"
   },
   {
    "duration": 443,
    "start_time": "2022-05-30T17:31:54.771Z"
   },
   {
    "duration": 894,
    "start_time": "2022-05-30T17:31:55.216Z"
   },
   {
    "duration": 162,
    "start_time": "2022-05-30T17:31:56.112Z"
   },
   {
    "duration": 0,
    "start_time": "2022-05-30T17:31:56.276Z"
   },
   {
    "duration": 0,
    "start_time": "2022-05-30T17:31:56.277Z"
   },
   {
    "duration": 0,
    "start_time": "2022-05-30T17:31:56.279Z"
   },
   {
    "duration": 0,
    "start_time": "2022-05-30T17:31:56.280Z"
   },
   {
    "duration": 0,
    "start_time": "2022-05-30T17:31:56.281Z"
   },
   {
    "duration": 0,
    "start_time": "2022-05-30T17:31:56.282Z"
   },
   {
    "duration": 0,
    "start_time": "2022-05-30T17:31:56.284Z"
   },
   {
    "duration": 0,
    "start_time": "2022-05-30T17:31:56.285Z"
   },
   {
    "duration": 0,
    "start_time": "2022-05-30T17:31:56.286Z"
   },
   {
    "duration": 44,
    "start_time": "2022-05-30T17:32:08.639Z"
   },
   {
    "duration": 26,
    "start_time": "2022-05-30T17:32:19.715Z"
   },
   {
    "duration": 13,
    "start_time": "2022-05-30T17:32:23.178Z"
   },
   {
    "duration": 1109,
    "start_time": "2022-05-30T17:32:28.942Z"
   },
   {
    "duration": 823,
    "start_time": "2022-05-30T17:32:30.054Z"
   },
   {
    "duration": 12,
    "start_time": "2022-05-30T17:32:30.879Z"
   },
   {
    "duration": 84,
    "start_time": "2022-05-30T17:32:30.893Z"
   },
   {
    "duration": 100,
    "start_time": "2022-05-30T17:32:30.979Z"
   },
   {
    "duration": 123,
    "start_time": "2022-05-30T17:32:31.080Z"
   },
   {
    "duration": 3,
    "start_time": "2022-05-30T17:32:31.204Z"
   },
   {
    "duration": 477,
    "start_time": "2022-05-30T17:32:31.208Z"
   },
   {
    "duration": 936,
    "start_time": "2022-05-30T17:32:31.687Z"
   },
   {
    "duration": 38,
    "start_time": "2022-05-30T17:32:32.624Z"
   },
   {
    "duration": 6,
    "start_time": "2022-05-30T17:32:32.664Z"
   },
   {
    "duration": 115,
    "start_time": "2022-05-30T17:32:32.671Z"
   },
   {
    "duration": 6,
    "start_time": "2022-05-30T17:32:32.787Z"
   },
   {
    "duration": 17,
    "start_time": "2022-05-30T17:32:32.795Z"
   },
   {
    "duration": 27,
    "start_time": "2022-05-30T17:32:32.813Z"
   },
   {
    "duration": 11,
    "start_time": "2022-05-30T17:32:32.842Z"
   },
   {
    "duration": 15,
    "start_time": "2022-05-30T17:32:32.854Z"
   },
   {
    "duration": 16,
    "start_time": "2022-05-30T17:32:32.870Z"
   },
   {
    "duration": 10,
    "start_time": "2022-05-30T17:32:32.888Z"
   },
   {
    "duration": 6,
    "start_time": "2022-05-30T17:34:28.519Z"
   },
   {
    "duration": 5,
    "start_time": "2022-05-30T17:35:22.551Z"
   },
   {
    "duration": 9,
    "start_time": "2022-05-30T17:35:27.954Z"
   },
   {
    "duration": 186,
    "start_time": "2022-05-30T17:35:52.385Z"
   },
   {
    "duration": 11,
    "start_time": "2022-05-30T17:35:56.754Z"
   },
   {
    "duration": 10,
    "start_time": "2022-05-30T17:36:07.381Z"
   },
   {
    "duration": 21,
    "start_time": "2022-05-30T17:36:20.227Z"
   },
   {
    "duration": 22,
    "start_time": "2022-05-30T17:36:22.120Z"
   },
   {
    "duration": 10,
    "start_time": "2022-05-30T17:36:22.596Z"
   },
   {
    "duration": 20,
    "start_time": "2022-05-30T17:36:22.943Z"
   },
   {
    "duration": 10,
    "start_time": "2022-05-30T17:36:23.181Z"
   },
   {
    "duration": 10,
    "start_time": "2022-05-30T17:36:23.396Z"
   },
   {
    "duration": 10,
    "start_time": "2022-05-30T17:36:23.580Z"
   },
   {
    "duration": 10,
    "start_time": "2022-05-30T17:36:23.773Z"
   },
   {
    "duration": 9,
    "start_time": "2022-05-30T17:36:23.972Z"
   },
   {
    "duration": 10,
    "start_time": "2022-05-30T17:36:24.181Z"
   },
   {
    "duration": 11,
    "start_time": "2022-05-30T17:36:24.372Z"
   },
   {
    "duration": 10,
    "start_time": "2022-05-30T17:36:24.550Z"
   },
   {
    "duration": 10,
    "start_time": "2022-05-30T17:36:24.740Z"
   },
   {
    "duration": 10,
    "start_time": "2022-05-30T17:36:24.940Z"
   },
   {
    "duration": 10,
    "start_time": "2022-05-30T17:36:25.388Z"
   },
   {
    "duration": 10,
    "start_time": "2022-05-30T17:36:25.796Z"
   },
   {
    "duration": 9,
    "start_time": "2022-05-30T17:37:07.156Z"
   },
   {
    "duration": 111,
    "start_time": "2022-05-30T17:37:12.939Z"
   },
   {
    "duration": 7,
    "start_time": "2022-05-30T17:37:14.594Z"
   },
   {
    "duration": 14,
    "start_time": "2022-05-30T17:37:15.802Z"
   },
   {
    "duration": 3,
    "start_time": "2022-05-30T17:37:16.066Z"
   },
   {
    "duration": 8,
    "start_time": "2022-05-30T17:37:16.491Z"
   },
   {
    "duration": 4,
    "start_time": "2022-05-30T17:37:27.239Z"
   },
   {
    "duration": 7,
    "start_time": "2022-05-30T17:37:28.612Z"
   },
   {
    "duration": 10,
    "start_time": "2022-05-30T17:37:32.805Z"
   },
   {
    "duration": 117,
    "start_time": "2022-05-30T17:37:48.261Z"
   },
   {
    "duration": 10,
    "start_time": "2022-05-30T17:37:52.476Z"
   },
   {
    "duration": 119,
    "start_time": "2022-05-30T17:38:39.268Z"
   },
   {
    "duration": 31,
    "start_time": "2022-05-30T18:20:12.170Z"
   },
   {
    "duration": 167,
    "start_time": "2022-05-30T18:21:16.066Z"
   },
   {
    "duration": 3,
    "start_time": "2022-05-30T18:21:32.721Z"
   },
   {
    "duration": 158,
    "start_time": "2022-05-30T18:21:33.346Z"
   },
   {
    "duration": 196,
    "start_time": "2022-05-30T18:21:46.115Z"
   },
   {
    "duration": 248,
    "start_time": "2022-05-30T18:21:56.974Z"
   },
   {
    "duration": 7,
    "start_time": "2022-05-30T18:23:50.400Z"
   },
   {
    "duration": 46,
    "start_time": "2022-05-30T18:24:01.803Z"
   },
   {
    "duration": 43,
    "start_time": "2022-05-30T18:25:06.479Z"
   },
   {
    "duration": 76,
    "start_time": "2022-05-30T18:25:11.023Z"
   },
   {
    "duration": 48,
    "start_time": "2022-05-30T18:25:35.756Z"
   },
   {
    "duration": 47,
    "start_time": "2022-05-30T18:25:44.560Z"
   },
   {
    "duration": 177,
    "start_time": "2022-05-30T18:32:23.046Z"
   },
   {
    "duration": 96,
    "start_time": "2022-05-30T18:34:08.553Z"
   },
   {
    "duration": 132,
    "start_time": "2022-05-30T18:48:26.080Z"
   },
   {
    "duration": 37,
    "start_time": "2022-05-30T18:50:11.161Z"
   },
   {
    "duration": 143,
    "start_time": "2022-05-30T18:59:59.864Z"
   },
   {
    "duration": 163,
    "start_time": "2022-05-30T19:00:13.662Z"
   },
   {
    "duration": 48,
    "start_time": "2022-05-30T19:00:44.842Z"
   },
   {
    "duration": 11,
    "start_time": "2022-05-30T19:01:18.687Z"
   },
   {
    "duration": 45,
    "start_time": "2022-05-30T19:01:45.993Z"
   },
   {
    "duration": 148,
    "start_time": "2022-05-30T19:13:32.170Z"
   },
   {
    "duration": 4,
    "start_time": "2022-05-30T19:14:20.763Z"
   },
   {
    "duration": 165,
    "start_time": "2022-05-30T19:14:25.221Z"
   },
   {
    "duration": 36,
    "start_time": "2022-05-30T19:17:01.822Z"
   },
   {
    "duration": 21,
    "start_time": "2022-05-30T19:17:07.414Z"
   },
   {
    "duration": 1255,
    "start_time": "2022-05-30T19:20:54.313Z"
   },
   {
    "duration": 1001,
    "start_time": "2022-05-30T19:20:55.574Z"
   },
   {
    "duration": 18,
    "start_time": "2022-05-30T19:20:56.578Z"
   },
   {
    "duration": 98,
    "start_time": "2022-05-30T19:20:56.599Z"
   },
   {
    "duration": 143,
    "start_time": "2022-05-30T19:20:56.704Z"
   },
   {
    "duration": 154,
    "start_time": "2022-05-30T19:20:56.849Z"
   },
   {
    "duration": 2,
    "start_time": "2022-05-30T19:20:57.005Z"
   },
   {
    "duration": 531,
    "start_time": "2022-05-30T19:20:57.009Z"
   },
   {
    "duration": 1066,
    "start_time": "2022-05-30T19:20:57.545Z"
   },
   {
    "duration": 49,
    "start_time": "2022-05-30T19:20:58.615Z"
   },
   {
    "duration": 8,
    "start_time": "2022-05-30T19:20:58.665Z"
   },
   {
    "duration": 140,
    "start_time": "2022-05-30T19:20:58.675Z"
   },
   {
    "duration": 162,
    "start_time": "2022-05-30T19:20:58.817Z"
   },
   {
    "duration": 34,
    "start_time": "2022-05-30T19:20:58.980Z"
   },
   {
    "duration": 168,
    "start_time": "2022-05-30T19:20:59.016Z"
   },
   {
    "duration": 51,
    "start_time": "2022-05-30T19:20:59.185Z"
   },
   {
    "duration": 213,
    "start_time": "2022-05-30T19:20:59.240Z"
   },
   {
    "duration": 133,
    "start_time": "2022-05-30T19:20:59.455Z"
   },
   {
    "duration": 128,
    "start_time": "2022-05-30T19:20:59.589Z"
   },
   {
    "duration": 22,
    "start_time": "2022-05-30T19:26:50.483Z"
   },
   {
    "duration": 2655,
    "start_time": "2022-05-30T19:29:08.409Z"
   },
   {
    "duration": 1999,
    "start_time": "2022-05-30T19:29:58.046Z"
   },
   {
    "duration": 2109,
    "start_time": "2022-05-30T19:30:03.738Z"
   },
   {
    "duration": 2068,
    "start_time": "2022-05-30T19:30:19.247Z"
   },
   {
    "duration": 2113,
    "start_time": "2022-05-30T19:30:28.082Z"
   },
   {
    "duration": 141,
    "start_time": "2022-05-30T19:32:53.867Z"
   },
   {
    "duration": 3907,
    "start_time": "2022-05-30T19:33:12.290Z"
   },
   {
    "duration": 3815,
    "start_time": "2022-05-30T19:34:03.286Z"
   },
   {
    "duration": 6,
    "start_time": "2022-05-30T19:34:25.677Z"
   },
   {
    "duration": 3145,
    "start_time": "2022-05-30T19:34:46.948Z"
   },
   {
    "duration": 3357,
    "start_time": "2022-05-30T19:35:33.096Z"
   },
   {
    "duration": 1227,
    "start_time": "2022-05-30T19:37:11.585Z"
   },
   {
    "duration": 1074,
    "start_time": "2022-05-30T19:37:12.813Z"
   },
   {
    "duration": 13,
    "start_time": "2022-05-30T19:37:13.889Z"
   },
   {
    "duration": 104,
    "start_time": "2022-05-30T19:37:13.904Z"
   },
   {
    "duration": 111,
    "start_time": "2022-05-30T19:37:14.011Z"
   },
   {
    "duration": 170,
    "start_time": "2022-05-30T19:37:14.123Z"
   },
   {
    "duration": 3,
    "start_time": "2022-05-30T19:37:14.295Z"
   },
   {
    "duration": 538,
    "start_time": "2022-05-30T19:37:14.300Z"
   },
   {
    "duration": 1096,
    "start_time": "2022-05-30T19:37:14.850Z"
   },
   {
    "duration": 41,
    "start_time": "2022-05-30T19:37:15.952Z"
   },
   {
    "duration": 5,
    "start_time": "2022-05-30T19:37:15.994Z"
   },
   {
    "duration": 134,
    "start_time": "2022-05-30T19:37:16.000Z"
   },
   {
    "duration": 153,
    "start_time": "2022-05-30T19:37:16.139Z"
   },
   {
    "duration": 51,
    "start_time": "2022-05-30T19:37:16.296Z"
   },
   {
    "duration": 234,
    "start_time": "2022-05-30T19:37:16.349Z"
   },
   {
    "duration": 65,
    "start_time": "2022-05-30T19:37:16.585Z"
   },
   {
    "duration": 229,
    "start_time": "2022-05-30T19:37:16.653Z"
   },
   {
    "duration": 140,
    "start_time": "2022-05-30T19:37:16.883Z"
   },
   {
    "duration": 187,
    "start_time": "2022-05-30T19:37:17.025Z"
   },
   {
    "duration": 17,
    "start_time": "2022-05-30T19:37:17.213Z"
   },
   {
    "duration": 23,
    "start_time": "2022-05-30T19:37:17.233Z"
   },
   {
    "duration": 20,
    "start_time": "2022-05-30T20:53:38.658Z"
   },
   {
    "duration": 1115,
    "start_time": "2022-05-30T20:55:14.767Z"
   },
   {
    "duration": 890,
    "start_time": "2022-05-30T20:55:15.884Z"
   },
   {
    "duration": 12,
    "start_time": "2022-05-30T20:55:16.776Z"
   },
   {
    "duration": 92,
    "start_time": "2022-05-30T20:55:16.790Z"
   },
   {
    "duration": 103,
    "start_time": "2022-05-30T20:55:16.884Z"
   },
   {
    "duration": 124,
    "start_time": "2022-05-30T20:55:16.990Z"
   },
   {
    "duration": 12,
    "start_time": "2022-05-30T20:55:17.116Z"
   },
   {
    "duration": 484,
    "start_time": "2022-05-30T20:55:17.130Z"
   },
   {
    "duration": 931,
    "start_time": "2022-05-30T20:55:17.617Z"
   },
   {
    "duration": 31,
    "start_time": "2022-05-30T20:55:18.550Z"
   },
   {
    "duration": 5,
    "start_time": "2022-05-30T20:55:18.582Z"
   },
   {
    "duration": 109,
    "start_time": "2022-05-30T20:55:18.589Z"
   },
   {
    "duration": 117,
    "start_time": "2022-05-30T20:55:18.700Z"
   },
   {
    "duration": 35,
    "start_time": "2022-05-30T20:55:18.826Z"
   },
   {
    "duration": 112,
    "start_time": "2022-05-30T20:55:18.863Z"
   },
   {
    "duration": 35,
    "start_time": "2022-05-30T20:55:18.976Z"
   },
   {
    "duration": 111,
    "start_time": "2022-05-30T20:55:19.027Z"
   },
   {
    "duration": 118,
    "start_time": "2022-05-30T20:55:19.140Z"
   },
   {
    "duration": 111,
    "start_time": "2022-05-30T20:55:19.259Z"
   },
   {
    "duration": 5,
    "start_time": "2022-05-30T20:55:19.372Z"
   },
   {
    "duration": 5,
    "start_time": "2022-05-30T20:55:19.379Z"
   },
   {
    "duration": 41,
    "start_time": "2022-05-30T20:55:19.386Z"
   },
   {
    "duration": 48404,
    "start_time": "2022-05-30T20:55:19.429Z"
   },
   {
    "duration": 1904,
    "start_time": "2022-05-30T20:56:41.322Z"
   },
   {
    "duration": 1894,
    "start_time": "2022-05-30T20:56:50.284Z"
   },
   {
    "duration": 2012,
    "start_time": "2022-05-30T20:56:56.732Z"
   },
   {
    "duration": 1855,
    "start_time": "2022-05-30T20:57:56.793Z"
   },
   {
    "duration": 2286,
    "start_time": "2022-05-30T20:58:09.220Z"
   },
   {
    "duration": 1970,
    "start_time": "2022-05-30T20:58:25.957Z"
   },
   {
    "duration": 590,
    "start_time": "2022-05-30T20:58:44.373Z"
   },
   {
    "duration": 2041,
    "start_time": "2022-05-30T20:58:56.984Z"
   },
   {
    "duration": 1965,
    "start_time": "2022-05-30T20:59:03.425Z"
   },
   {
    "duration": 1994,
    "start_time": "2022-05-30T20:59:08.683Z"
   },
   {
    "duration": 1897,
    "start_time": "2022-05-30T20:59:21.271Z"
   },
   {
    "duration": 1892,
    "start_time": "2022-05-30T21:02:08.893Z"
   },
   {
    "duration": 2180,
    "start_time": "2022-05-30T21:03:04.668Z"
   },
   {
    "duration": 10,
    "start_time": "2022-05-30T21:07:54.444Z"
   },
   {
    "duration": 11,
    "start_time": "2022-05-30T21:07:55.362Z"
   },
   {
    "duration": 20,
    "start_time": "2022-05-30T21:08:22.469Z"
   },
   {
    "duration": 15,
    "start_time": "2022-05-30T21:08:28.520Z"
   },
   {
    "duration": 11,
    "start_time": "2022-05-30T21:08:41.861Z"
   },
   {
    "duration": 11,
    "start_time": "2022-05-30T21:09:17.492Z"
   },
   {
    "duration": 11,
    "start_time": "2022-05-30T21:10:11.618Z"
   },
   {
    "duration": 11,
    "start_time": "2022-05-30T21:10:24.980Z"
   },
   {
    "duration": 2127,
    "start_time": "2022-05-30T21:23:37.878Z"
   },
   {
    "duration": 1964,
    "start_time": "2022-05-30T21:23:49.822Z"
   },
   {
    "duration": 2251,
    "start_time": "2022-05-30T21:25:09.318Z"
   },
   {
    "duration": 1854,
    "start_time": "2022-05-30T21:25:31.424Z"
   },
   {
    "duration": 521,
    "start_time": "2022-05-30T21:25:39.362Z"
   },
   {
    "duration": 606,
    "start_time": "2022-05-30T21:26:08.277Z"
   },
   {
    "duration": 1842,
    "start_time": "2022-05-30T21:26:34.632Z"
   },
   {
    "duration": 823,
    "start_time": "2022-05-30T21:26:58.546Z"
   },
   {
    "duration": 822,
    "start_time": "2022-05-30T21:27:38.471Z"
   },
   {
    "duration": 1183,
    "start_time": "2022-05-30T21:27:46.739Z"
   },
   {
    "duration": 845,
    "start_time": "2022-05-30T21:28:14.958Z"
   },
   {
    "duration": 917,
    "start_time": "2022-05-30T21:28:48.688Z"
   },
   {
    "duration": 12,
    "start_time": "2022-05-30T21:39:01.898Z"
   },
   {
    "duration": 12,
    "start_time": "2022-05-30T21:39:10.707Z"
   },
   {
    "duration": 13,
    "start_time": "2022-05-30T21:42:45.842Z"
   },
   {
    "duration": 24,
    "start_time": "2022-05-30T21:43:33.209Z"
   },
   {
    "duration": 18,
    "start_time": "2022-05-30T21:43:37.264Z"
   },
   {
    "duration": 1097,
    "start_time": "2022-05-30T21:44:00.276Z"
   },
   {
    "duration": 855,
    "start_time": "2022-05-30T21:44:01.375Z"
   },
   {
    "duration": 12,
    "start_time": "2022-05-30T21:44:02.232Z"
   },
   {
    "duration": 95,
    "start_time": "2022-05-30T21:44:02.245Z"
   },
   {
    "duration": 95,
    "start_time": "2022-05-30T21:44:02.342Z"
   },
   {
    "duration": 150,
    "start_time": "2022-05-30T21:44:02.438Z"
   },
   {
    "duration": 3,
    "start_time": "2022-05-30T21:44:02.590Z"
   },
   {
    "duration": 419,
    "start_time": "2022-05-30T21:44:02.594Z"
   },
   {
    "duration": 942,
    "start_time": "2022-05-30T21:44:03.015Z"
   },
   {
    "duration": 31,
    "start_time": "2022-05-30T21:44:03.958Z"
   },
   {
    "duration": 4,
    "start_time": "2022-05-30T21:44:03.991Z"
   },
   {
    "duration": 135,
    "start_time": "2022-05-30T21:44:03.996Z"
   },
   {
    "duration": 117,
    "start_time": "2022-05-30T21:44:04.133Z"
   },
   {
    "duration": 32,
    "start_time": "2022-05-30T21:44:04.252Z"
   },
   {
    "duration": 115,
    "start_time": "2022-05-30T21:44:04.286Z"
   },
   {
    "duration": 36,
    "start_time": "2022-05-30T21:44:04.402Z"
   },
   {
    "duration": 136,
    "start_time": "2022-05-30T21:44:04.440Z"
   },
   {
    "duration": 139,
    "start_time": "2022-05-30T21:44:04.577Z"
   },
   {
    "duration": 130,
    "start_time": "2022-05-30T21:44:04.718Z"
   },
   {
    "duration": 121,
    "start_time": "2022-05-30T21:44:04.849Z"
   },
   {
    "duration": 1035,
    "start_time": "2022-05-30T21:44:04.972Z"
   },
   {
    "duration": 22,
    "start_time": "2022-05-30T21:44:06.009Z"
   },
   {
    "duration": 14,
    "start_time": "2022-05-30T21:44:06.033Z"
   },
   {
    "duration": 37,
    "start_time": "2022-05-30T21:44:06.049Z"
   },
   {
    "duration": 1132,
    "start_time": "2022-05-30T21:47:02.830Z"
   },
   {
    "duration": 786,
    "start_time": "2022-05-30T21:47:03.964Z"
   },
   {
    "duration": 13,
    "start_time": "2022-05-30T21:47:04.751Z"
   },
   {
    "duration": 96,
    "start_time": "2022-05-30T21:47:04.766Z"
   },
   {
    "duration": 103,
    "start_time": "2022-05-30T21:47:04.866Z"
   },
   {
    "duration": 124,
    "start_time": "2022-05-30T21:47:04.970Z"
   },
   {
    "duration": 3,
    "start_time": "2022-05-30T21:47:05.096Z"
   },
   {
    "duration": 420,
    "start_time": "2022-05-30T21:47:05.100Z"
   },
   {
    "duration": 992,
    "start_time": "2022-05-30T21:47:05.522Z"
   },
   {
    "duration": 41,
    "start_time": "2022-05-30T21:47:06.516Z"
   },
   {
    "duration": 9,
    "start_time": "2022-05-30T21:47:06.559Z"
   },
   {
    "duration": 125,
    "start_time": "2022-05-30T21:47:06.570Z"
   },
   {
    "duration": 132,
    "start_time": "2022-05-30T21:47:06.696Z"
   },
   {
    "duration": 37,
    "start_time": "2022-05-30T21:47:06.831Z"
   },
   {
    "duration": 151,
    "start_time": "2022-05-30T21:47:06.869Z"
   },
   {
    "duration": 33,
    "start_time": "2022-05-30T21:47:07.021Z"
   },
   {
    "duration": 117,
    "start_time": "2022-05-30T21:47:07.056Z"
   },
   {
    "duration": 132,
    "start_time": "2022-05-30T21:47:07.175Z"
   },
   {
    "duration": 103,
    "start_time": "2022-05-30T21:47:07.308Z"
   },
   {
    "duration": 93,
    "start_time": "2022-05-30T21:47:07.413Z"
   },
   {
    "duration": 1016,
    "start_time": "2022-05-30T21:47:07.508Z"
   },
   {
    "duration": 14,
    "start_time": "2022-05-30T21:47:08.526Z"
   },
   {
    "duration": 14,
    "start_time": "2022-05-30T21:47:08.542Z"
   },
   {
    "duration": 38,
    "start_time": "2022-05-30T21:47:08.558Z"
   },
   {
    "duration": 49488,
    "start_time": "2022-05-30T21:47:08.598Z"
   },
   {
    "duration": 1136,
    "start_time": "2022-05-30T21:49:42.734Z"
   },
   {
    "duration": 795,
    "start_time": "2022-05-30T21:49:43.873Z"
   },
   {
    "duration": 15,
    "start_time": "2022-05-30T21:49:44.670Z"
   },
   {
    "duration": 90,
    "start_time": "2022-05-30T21:49:44.687Z"
   },
   {
    "duration": 108,
    "start_time": "2022-05-30T21:49:44.780Z"
   },
   {
    "duration": 126,
    "start_time": "2022-05-30T21:49:44.890Z"
   },
   {
    "duration": 3,
    "start_time": "2022-05-30T21:49:45.027Z"
   },
   {
    "duration": 429,
    "start_time": "2022-05-30T21:49:45.032Z"
   },
   {
    "duration": 988,
    "start_time": "2022-05-30T21:49:45.463Z"
   },
   {
    "duration": 37,
    "start_time": "2022-05-30T21:49:46.454Z"
   },
   {
    "duration": 6,
    "start_time": "2022-05-30T21:49:46.493Z"
   },
   {
    "duration": 140,
    "start_time": "2022-05-30T21:49:46.500Z"
   },
   {
    "duration": 119,
    "start_time": "2022-05-30T21:49:46.641Z"
   },
   {
    "duration": 32,
    "start_time": "2022-05-30T21:49:46.762Z"
   },
   {
    "duration": 114,
    "start_time": "2022-05-30T21:49:46.795Z"
   },
   {
    "duration": 38,
    "start_time": "2022-05-30T21:49:46.910Z"
   },
   {
    "duration": 115,
    "start_time": "2022-05-30T21:49:46.949Z"
   },
   {
    "duration": 109,
    "start_time": "2022-05-30T21:49:47.066Z"
   },
   {
    "duration": 120,
    "start_time": "2022-05-30T21:49:47.177Z"
   },
   {
    "duration": 103,
    "start_time": "2022-05-30T21:49:47.299Z"
   },
   {
    "duration": 940,
    "start_time": "2022-05-30T21:49:47.404Z"
   },
   {
    "duration": 14,
    "start_time": "2022-05-30T21:49:48.346Z"
   },
   {
    "duration": 13,
    "start_time": "2022-05-30T21:49:48.362Z"
   },
   {
    "duration": 55,
    "start_time": "2022-05-30T21:49:48.377Z"
   },
   {
    "duration": 3,
    "start_time": "2022-05-30T21:49:48.434Z"
   },
   {
    "duration": 10,
    "start_time": "2022-05-30T21:49:48.438Z"
   },
   {
    "duration": 48924,
    "start_time": "2022-05-30T21:50:00.822Z"
   },
   {
    "duration": 1134,
    "start_time": "2022-05-30T21:54:13.709Z"
   },
   {
    "duration": 756,
    "start_time": "2022-05-30T21:54:14.845Z"
   },
   {
    "duration": 13,
    "start_time": "2022-05-30T21:54:15.603Z"
   },
   {
    "duration": 80,
    "start_time": "2022-05-30T21:54:15.617Z"
   },
   {
    "duration": 110,
    "start_time": "2022-05-30T21:54:15.699Z"
   },
   {
    "duration": 122,
    "start_time": "2022-05-30T21:54:15.811Z"
   },
   {
    "duration": 3,
    "start_time": "2022-05-30T21:54:15.935Z"
   },
   {
    "duration": 819,
    "start_time": "2022-05-30T21:54:15.939Z"
   },
   {
    "duration": 1718,
    "start_time": "2022-05-30T21:54:16.761Z"
   },
   {
    "duration": 33,
    "start_time": "2022-05-30T21:54:18.481Z"
   },
   {
    "duration": 13,
    "start_time": "2022-05-30T21:54:18.516Z"
   },
   {
    "duration": 100,
    "start_time": "2022-05-30T21:54:18.531Z"
   },
   {
    "duration": 115,
    "start_time": "2022-05-30T21:54:18.633Z"
   },
   {
    "duration": 48,
    "start_time": "2022-05-30T21:54:18.752Z"
   },
   {
    "duration": 130,
    "start_time": "2022-05-30T21:54:18.801Z"
   },
   {
    "duration": 49,
    "start_time": "2022-05-30T21:54:18.934Z"
   },
   {
    "duration": 116,
    "start_time": "2022-05-30T21:54:18.984Z"
   },
   {
    "duration": 128,
    "start_time": "2022-05-30T21:54:19.102Z"
   },
   {
    "duration": 125,
    "start_time": "2022-05-30T21:54:19.232Z"
   },
   {
    "duration": 100,
    "start_time": "2022-05-30T21:54:19.358Z"
   },
   {
    "duration": 954,
    "start_time": "2022-05-30T21:54:19.460Z"
   },
   {
    "duration": 19,
    "start_time": "2022-05-30T21:54:20.416Z"
   },
   {
    "duration": 11,
    "start_time": "2022-05-30T21:54:20.437Z"
   },
   {
    "duration": 35,
    "start_time": "2022-05-30T21:54:20.450Z"
   },
   {
    "duration": 126,
    "start_time": "2022-05-30T21:55:08.267Z"
   },
   {
    "duration": 0,
    "start_time": "2022-05-30T21:55:08.396Z"
   },
   {
    "duration": 0,
    "start_time": "2022-05-30T21:55:08.398Z"
   },
   {
    "duration": 0,
    "start_time": "2022-05-30T21:55:08.398Z"
   },
   {
    "duration": 44,
    "start_time": "2022-05-30T21:55:12.861Z"
   },
   {
    "duration": 126,
    "start_time": "2022-05-30T21:55:13.557Z"
   },
   {
    "duration": 52012,
    "start_time": "2022-05-30T21:55:30.360Z"
   },
   {
    "duration": 3,
    "start_time": "2022-05-30T21:56:37.144Z"
   },
   {
    "duration": 3,
    "start_time": "2022-05-30T21:56:45.447Z"
   },
   {
    "duration": 23,
    "start_time": "2022-05-30T21:56:51.496Z"
   },
   {
    "duration": 1923,
    "start_time": "2022-05-30T21:57:30.455Z"
   },
   {
    "duration": 3475,
    "start_time": "2022-05-30T21:57:48.612Z"
   },
   {
    "duration": 1877,
    "start_time": "2022-05-30T21:58:09.473Z"
   },
   {
    "duration": 1930,
    "start_time": "2022-05-30T21:58:52.890Z"
   },
   {
    "duration": 529,
    "start_time": "2022-05-30T21:59:21.933Z"
   },
   {
    "duration": 528,
    "start_time": "2022-05-30T21:59:31.990Z"
   },
   {
    "duration": 1724,
    "start_time": "2022-05-30T21:59:36.334Z"
   },
   {
    "duration": 1571,
    "start_time": "2022-05-30T22:00:50.976Z"
   },
   {
    "duration": 1655,
    "start_time": "2022-05-30T22:01:10.487Z"
   },
   {
    "duration": 1531,
    "start_time": "2022-05-30T22:01:18.728Z"
   },
   {
    "duration": 1488,
    "start_time": "2022-05-30T22:01:26.964Z"
   },
   {
    "duration": 1484,
    "start_time": "2022-05-30T22:01:31.644Z"
   },
   {
    "duration": 1595,
    "start_time": "2022-05-30T22:01:35.892Z"
   },
   {
    "duration": 1440,
    "start_time": "2022-05-30T22:03:52.083Z"
   },
   {
    "duration": 1393,
    "start_time": "2022-05-30T22:04:10.973Z"
   },
   {
    "duration": 961,
    "start_time": "2022-05-30T22:04:25.189Z"
   },
   {
    "duration": 980,
    "start_time": "2022-05-30T22:04:44.567Z"
   },
   {
    "duration": 995,
    "start_time": "2022-05-30T22:06:05.528Z"
   },
   {
    "duration": 922,
    "start_time": "2022-05-30T22:07:24.247Z"
   },
   {
    "duration": 911,
    "start_time": "2022-05-30T22:08:51.897Z"
   },
   {
    "duration": 972,
    "start_time": "2022-05-30T22:09:24.628Z"
   },
   {
    "duration": 24,
    "start_time": "2022-05-30T22:10:15.235Z"
   },
   {
    "duration": 34,
    "start_time": "2022-05-30T22:21:30.184Z"
   },
   {
    "duration": 29,
    "start_time": "2022-05-30T22:21:47.556Z"
   },
   {
    "duration": 111,
    "start_time": "2022-05-30T22:33:54.151Z"
   },
   {
    "duration": 118,
    "start_time": "2022-05-30T22:34:24.713Z"
   },
   {
    "duration": 1319,
    "start_time": "2022-05-30T22:34:33.115Z"
   },
   {
    "duration": 1357,
    "start_time": "2022-05-30T22:34:56.772Z"
   },
   {
    "duration": 100,
    "start_time": "2022-05-30T22:34:58.789Z"
   },
   {
    "duration": 23,
    "start_time": "2022-05-30T22:48:16.916Z"
   },
   {
    "duration": 106,
    "start_time": "2022-05-30T22:48:58.793Z"
   },
   {
    "duration": 115,
    "start_time": "2022-05-30T22:49:16.586Z"
   },
   {
    "duration": 996,
    "start_time": "2022-05-30T23:00:53.769Z"
   },
   {
    "duration": 135,
    "start_time": "2022-05-30T23:00:54.767Z"
   },
   {
    "duration": 914,
    "start_time": "2022-05-30T23:01:07.855Z"
   },
   {
    "duration": 955,
    "start_time": "2022-05-30T23:01:10.493Z"
   },
   {
    "duration": 125,
    "start_time": "2022-05-30T23:01:11.450Z"
   },
   {
    "duration": 12,
    "start_time": "2022-05-30T23:02:07.106Z"
   },
   {
    "duration": 23,
    "start_time": "2022-05-30T23:02:19.572Z"
   },
   {
    "duration": 9,
    "start_time": "2022-05-30T23:02:44.026Z"
   },
   {
    "duration": 9,
    "start_time": "2022-05-30T23:24:34.630Z"
   },
   {
    "duration": 9,
    "start_time": "2022-05-30T23:24:40.277Z"
   },
   {
    "duration": 6,
    "start_time": "2022-05-30T23:25:17.782Z"
   },
   {
    "duration": 21,
    "start_time": "2022-05-30T23:44:32.803Z"
   },
   {
    "duration": 15,
    "start_time": "2022-05-30T23:44:54.478Z"
   },
   {
    "duration": 10459,
    "start_time": "2022-05-30T23:45:54.996Z"
   },
   {
    "duration": 370,
    "start_time": "2022-05-30T23:46:54.850Z"
   },
   {
    "duration": 226,
    "start_time": "2022-05-30T23:47:07.613Z"
   },
   {
    "duration": 404,
    "start_time": "2022-05-30T23:47:17.197Z"
   },
   {
    "duration": 12241,
    "start_time": "2022-05-30T23:47:23.926Z"
   },
   {
    "duration": 16,
    "start_time": "2022-05-30T23:48:13.580Z"
   },
   {
    "duration": 16,
    "start_time": "2022-05-31T01:10:35.122Z"
   },
   {
    "duration": 24,
    "start_time": "2022-05-31T01:14:21.395Z"
   },
   {
    "duration": 9029,
    "start_time": "2022-05-31T01:14:42.077Z"
   },
   {
    "duration": 66,
    "start_time": "2022-05-31T01:15:04.823Z"
   },
   {
    "duration": 16,
    "start_time": "2022-05-31T01:15:13.673Z"
   },
   {
    "duration": 1318,
    "start_time": "2022-05-31T10:09:56.046Z"
   },
   {
    "duration": 1297,
    "start_time": "2022-05-31T10:09:57.371Z"
   },
   {
    "duration": 15,
    "start_time": "2022-05-31T10:09:58.670Z"
   },
   {
    "duration": 79,
    "start_time": "2022-05-31T10:09:58.687Z"
   },
   {
    "duration": 91,
    "start_time": "2022-05-31T10:09:58.768Z"
   },
   {
    "duration": 150,
    "start_time": "2022-05-31T10:09:58.861Z"
   },
   {
    "duration": 3,
    "start_time": "2022-05-31T10:09:59.013Z"
   },
   {
    "duration": 525,
    "start_time": "2022-05-31T10:09:59.018Z"
   },
   {
    "duration": 973,
    "start_time": "2022-05-31T10:09:59.545Z"
   },
   {
    "duration": 36,
    "start_time": "2022-05-31T10:10:00.520Z"
   },
   {
    "duration": 5,
    "start_time": "2022-05-31T10:10:00.565Z"
   },
   {
    "duration": 132,
    "start_time": "2022-05-31T10:10:00.572Z"
   },
   {
    "duration": 119,
    "start_time": "2022-05-31T10:10:00.706Z"
   },
   {
    "duration": 45,
    "start_time": "2022-05-31T10:10:00.827Z"
   },
   {
    "duration": 125,
    "start_time": "2022-05-31T10:10:00.874Z"
   },
   {
    "duration": 37,
    "start_time": "2022-05-31T10:10:01.001Z"
   },
   {
    "duration": 157,
    "start_time": "2022-05-31T10:10:01.039Z"
   },
   {
    "duration": 131,
    "start_time": "2022-05-31T10:10:01.198Z"
   },
   {
    "duration": 156,
    "start_time": "2022-05-31T10:10:01.331Z"
   },
   {
    "duration": 129,
    "start_time": "2022-05-31T10:10:01.489Z"
   },
   {
    "duration": 1032,
    "start_time": "2022-05-31T10:10:01.620Z"
   },
   {
    "duration": 19,
    "start_time": "2022-05-31T10:10:02.653Z"
   },
   {
    "duration": 18,
    "start_time": "2022-05-31T10:10:02.678Z"
   },
   {
    "duration": 33,
    "start_time": "2022-05-31T10:10:02.698Z"
   },
   {
    "duration": 3,
    "start_time": "2022-05-31T10:10:02.732Z"
   },
   {
    "duration": 13,
    "start_time": "2022-05-31T10:10:02.736Z"
   },
   {
    "duration": 918,
    "start_time": "2022-05-31T10:10:02.751Z"
   },
   {
    "duration": 111,
    "start_time": "2022-05-31T10:10:03.670Z"
   },
   {
    "duration": 8,
    "start_time": "2022-05-31T10:10:03.783Z"
   },
   {
    "duration": 5,
    "start_time": "2022-05-31T10:10:03.793Z"
   },
   {
    "duration": 18,
    "start_time": "2022-05-31T10:10:03.799Z"
   },
   {
    "duration": 45,
    "start_time": "2022-05-31T10:10:03.818Z"
   },
   {
    "duration": 15,
    "start_time": "2022-05-31T10:10:03.870Z"
   },
   {
    "duration": 11,
    "start_time": "2022-05-31T10:10:03.886Z"
   },
   {
    "duration": 1120,
    "start_time": "2022-05-31T10:10:03.898Z"
   },
   {
    "duration": 16,
    "start_time": "2022-05-31T10:10:05.020Z"
   },
   {
    "duration": 1528,
    "start_time": "2022-05-31T10:10:59.180Z"
   },
   {
    "duration": 1160,
    "start_time": "2022-05-31T10:11:06.414Z"
   },
   {
    "duration": 1428,
    "start_time": "2022-05-31T10:11:21.313Z"
   },
   {
    "duration": 1407,
    "start_time": "2022-05-31T10:12:51.477Z"
   },
   {
    "duration": 773,
    "start_time": "2022-05-31T10:14:15.210Z"
   },
   {
    "duration": 1113,
    "start_time": "2022-05-31T10:14:52.733Z"
   },
   {
    "duration": 769,
    "start_time": "2022-05-31T10:14:53.848Z"
   },
   {
    "duration": 11,
    "start_time": "2022-05-31T10:14:54.619Z"
   },
   {
    "duration": 74,
    "start_time": "2022-05-31T10:14:54.632Z"
   },
   {
    "duration": 98,
    "start_time": "2022-05-31T10:14:54.708Z"
   },
   {
    "duration": 128,
    "start_time": "2022-05-31T10:14:54.808Z"
   },
   {
    "duration": 4,
    "start_time": "2022-05-31T10:14:54.938Z"
   },
   {
    "duration": 418,
    "start_time": "2022-05-31T10:14:54.954Z"
   },
   {
    "duration": 914,
    "start_time": "2022-05-31T10:14:55.375Z"
   },
   {
    "duration": 31,
    "start_time": "2022-05-31T10:14:56.291Z"
   },
   {
    "duration": 4,
    "start_time": "2022-05-31T10:14:56.324Z"
   },
   {
    "duration": 110,
    "start_time": "2022-05-31T10:14:56.329Z"
   },
   {
    "duration": 126,
    "start_time": "2022-05-31T10:14:56.440Z"
   },
   {
    "duration": 34,
    "start_time": "2022-05-31T10:14:56.567Z"
   },
   {
    "duration": 113,
    "start_time": "2022-05-31T10:14:56.603Z"
   },
   {
    "duration": 38,
    "start_time": "2022-05-31T10:14:56.717Z"
   },
   {
    "duration": 122,
    "start_time": "2022-05-31T10:14:56.766Z"
   },
   {
    "duration": 118,
    "start_time": "2022-05-31T10:14:56.889Z"
   },
   {
    "duration": 119,
    "start_time": "2022-05-31T10:14:57.008Z"
   },
   {
    "duration": 97,
    "start_time": "2022-05-31T10:14:57.128Z"
   },
   {
    "duration": 937,
    "start_time": "2022-05-31T10:14:57.227Z"
   },
   {
    "duration": 13,
    "start_time": "2022-05-31T10:14:58.166Z"
   },
   {
    "duration": 10,
    "start_time": "2022-05-31T10:14:58.181Z"
   },
   {
    "duration": 33,
    "start_time": "2022-05-31T10:14:58.192Z"
   },
   {
    "duration": 2,
    "start_time": "2022-05-31T10:14:58.227Z"
   },
   {
    "duration": 31,
    "start_time": "2022-05-31T10:14:58.231Z"
   },
   {
    "duration": 913,
    "start_time": "2022-05-31T10:14:58.263Z"
   },
   {
    "duration": 125,
    "start_time": "2022-05-31T10:14:59.180Z"
   },
   {
    "duration": 9,
    "start_time": "2022-05-31T10:14:59.306Z"
   },
   {
    "duration": 8,
    "start_time": "2022-05-31T10:14:59.316Z"
   },
   {
    "duration": 32,
    "start_time": "2022-05-31T10:14:59.326Z"
   },
   {
    "duration": 25,
    "start_time": "2022-05-31T10:14:59.360Z"
   },
   {
    "duration": 15,
    "start_time": "2022-05-31T10:14:59.387Z"
   },
   {
    "duration": 2,
    "start_time": "2022-05-31T10:14:59.403Z"
   },
   {
    "duration": 1129,
    "start_time": "2022-05-31T10:14:59.407Z"
   },
   {
    "duration": 146,
    "start_time": "2022-05-31T10:15:00.537Z"
   },
   {
    "duration": 0,
    "start_time": "2022-05-31T10:15:00.685Z"
   },
   {
    "duration": 43,
    "start_time": "2022-05-31T10:15:10.137Z"
   },
   {
    "duration": 107,
    "start_time": "2022-05-31T10:15:16.241Z"
   },
   {
    "duration": 50,
    "start_time": "2022-05-31T10:15:44.437Z"
   },
   {
    "duration": 496,
    "start_time": "2022-05-31T10:16:06.216Z"
   },
   {
    "duration": 118,
    "start_time": "2022-05-31T10:16:10.112Z"
   },
   {
    "duration": 114,
    "start_time": "2022-05-31T10:16:41.074Z"
   },
   {
    "duration": 115,
    "start_time": "2022-05-31T10:16:47.084Z"
   },
   {
    "duration": 457,
    "start_time": "2022-05-31T10:16:55.936Z"
   },
   {
    "duration": 570,
    "start_time": "2022-05-31T10:17:00.677Z"
   },
   {
    "duration": 125,
    "start_time": "2022-05-31T10:17:32.544Z"
   },
   {
    "duration": 10845,
    "start_time": "2022-05-31T10:18:00.870Z"
   },
   {
    "duration": 133,
    "start_time": "2022-05-31T10:18:42.728Z"
   },
   {
    "duration": 7,
    "start_time": "2022-05-31T10:19:11.733Z"
   },
   {
    "duration": 7,
    "start_time": "2022-05-31T10:19:12.456Z"
   },
   {
    "duration": 650,
    "start_time": "2022-05-31T10:27:18.459Z"
   },
   {
    "duration": 654,
    "start_time": "2022-05-31T10:29:12.525Z"
   },
   {
    "duration": 113,
    "start_time": "2022-05-31T10:37:43.716Z"
   },
   {
    "duration": 613,
    "start_time": "2022-05-31T10:38:17.054Z"
   },
   {
    "duration": 1053,
    "start_time": "2022-05-31T11:12:26.096Z"
   },
   {
    "duration": 780,
    "start_time": "2022-05-31T11:12:27.151Z"
   },
   {
    "duration": 12,
    "start_time": "2022-05-31T11:12:27.933Z"
   },
   {
    "duration": 75,
    "start_time": "2022-05-31T11:12:27.947Z"
   },
   {
    "duration": 96,
    "start_time": "2022-05-31T11:12:28.024Z"
   },
   {
    "duration": 140,
    "start_time": "2022-05-31T11:12:28.122Z"
   },
   {
    "duration": 5,
    "start_time": "2022-05-31T11:12:28.267Z"
   },
   {
    "duration": 416,
    "start_time": "2022-05-31T11:12:28.273Z"
   },
   {
    "duration": 942,
    "start_time": "2022-05-31T11:12:28.690Z"
   },
   {
    "duration": 44,
    "start_time": "2022-05-31T11:12:29.635Z"
   },
   {
    "duration": 3,
    "start_time": "2022-05-31T11:12:29.681Z"
   },
   {
    "duration": 120,
    "start_time": "2022-05-31T11:12:29.686Z"
   },
   {
    "duration": 120,
    "start_time": "2022-05-31T11:12:29.807Z"
   },
   {
    "duration": 43,
    "start_time": "2022-05-31T11:12:29.929Z"
   },
   {
    "duration": 126,
    "start_time": "2022-05-31T11:12:29.974Z"
   },
   {
    "duration": 33,
    "start_time": "2022-05-31T11:12:30.101Z"
   },
   {
    "duration": 164,
    "start_time": "2022-05-31T11:12:30.136Z"
   },
   {
    "duration": 188,
    "start_time": "2022-05-31T11:12:30.302Z"
   },
   {
    "duration": 121,
    "start_time": "2022-05-31T11:12:30.492Z"
   },
   {
    "duration": 99,
    "start_time": "2022-05-31T11:12:30.614Z"
   },
   {
    "duration": 1029,
    "start_time": "2022-05-31T11:12:30.715Z"
   },
   {
    "duration": 18,
    "start_time": "2022-05-31T11:12:31.745Z"
   },
   {
    "duration": 24,
    "start_time": "2022-05-31T11:12:31.768Z"
   },
   {
    "duration": 75,
    "start_time": "2022-05-31T11:12:31.794Z"
   },
   {
    "duration": 3,
    "start_time": "2022-05-31T11:12:31.870Z"
   },
   {
    "duration": 41,
    "start_time": "2022-05-31T11:12:31.875Z"
   },
   {
    "duration": 969,
    "start_time": "2022-05-31T11:12:31.918Z"
   },
   {
    "duration": 212,
    "start_time": "2022-05-31T11:12:32.890Z"
   },
   {
    "duration": 62,
    "start_time": "2022-05-31T11:12:33.103Z"
   },
   {
    "duration": 7,
    "start_time": "2022-05-31T11:12:33.167Z"
   },
   {
    "duration": 21,
    "start_time": "2022-05-31T11:12:33.176Z"
   },
   {
    "duration": 71,
    "start_time": "2022-05-31T11:12:33.198Z"
   },
   {
    "duration": 17,
    "start_time": "2022-05-31T11:12:33.270Z"
   },
   {
    "duration": 2,
    "start_time": "2022-05-31T11:12:33.288Z"
   },
   {
    "duration": 1205,
    "start_time": "2022-05-31T11:12:33.292Z"
   },
   {
    "duration": 140,
    "start_time": "2022-05-31T11:12:34.499Z"
   },
   {
    "duration": 0,
    "start_time": "2022-05-31T11:12:34.640Z"
   },
   {
    "duration": 0,
    "start_time": "2022-05-31T11:12:34.641Z"
   },
   {
    "duration": 0,
    "start_time": "2022-05-31T11:12:34.642Z"
   },
   {
    "duration": 35,
    "start_time": "2022-05-31T11:12:59.982Z"
   },
   {
    "duration": 16,
    "start_time": "2022-05-31T11:13:00.430Z"
   },
   {
    "duration": 3,
    "start_time": "2022-05-31T11:13:01.072Z"
   },
   {
    "duration": 1345,
    "start_time": "2022-05-31T11:13:01.430Z"
   },
   {
    "duration": 56,
    "start_time": "2022-05-31T11:13:03.127Z"
   },
   {
    "duration": 129,
    "start_time": "2022-05-31T12:13:41.544Z"
   },
   {
    "duration": 11,
    "start_time": "2022-05-31T12:13:53.505Z"
   },
   {
    "duration": 5,
    "start_time": "2022-05-31T12:14:09.647Z"
   },
   {
    "duration": 12,
    "start_time": "2022-05-31T12:14:16.145Z"
   },
   {
    "duration": 78,
    "start_time": "2022-05-31T12:14:19.483Z"
   },
   {
    "duration": 10,
    "start_time": "2022-05-31T12:14:35.710Z"
   },
   {
    "duration": 9,
    "start_time": "2022-05-31T12:14:45.198Z"
   },
   {
    "duration": 87,
    "start_time": "2022-05-31T12:15:31.211Z"
   },
   {
    "duration": 108,
    "start_time": "2022-05-31T12:16:22.772Z"
   },
   {
    "duration": 348,
    "start_time": "2022-05-31T12:16:28.232Z"
   },
   {
    "duration": 1080,
    "start_time": "2022-05-31T12:18:19.367Z"
   },
   {
    "duration": 726,
    "start_time": "2022-05-31T12:18:20.449Z"
   },
   {
    "duration": 12,
    "start_time": "2022-05-31T12:18:21.177Z"
   },
   {
    "duration": 83,
    "start_time": "2022-05-31T12:18:21.191Z"
   },
   {
    "duration": 105,
    "start_time": "2022-05-31T12:18:21.276Z"
   },
   {
    "duration": 157,
    "start_time": "2022-05-31T12:18:21.383Z"
   },
   {
    "duration": 4,
    "start_time": "2022-05-31T12:18:21.542Z"
   },
   {
    "duration": 394,
    "start_time": "2022-05-31T12:18:21.554Z"
   },
   {
    "duration": 831,
    "start_time": "2022-05-31T12:18:21.954Z"
   },
   {
    "duration": 30,
    "start_time": "2022-05-31T12:18:22.787Z"
   },
   {
    "duration": 4,
    "start_time": "2022-05-31T12:18:22.818Z"
   },
   {
    "duration": 105,
    "start_time": "2022-05-31T12:18:22.823Z"
   },
   {
    "duration": 114,
    "start_time": "2022-05-31T12:18:22.929Z"
   },
   {
    "duration": 32,
    "start_time": "2022-05-31T12:18:23.055Z"
   },
   {
    "duration": 110,
    "start_time": "2022-05-31T12:18:23.089Z"
   },
   {
    "duration": 31,
    "start_time": "2022-05-31T12:18:23.201Z"
   },
   {
    "duration": 112,
    "start_time": "2022-05-31T12:18:23.234Z"
   },
   {
    "duration": 107,
    "start_time": "2022-05-31T12:18:23.348Z"
   },
   {
    "duration": 108,
    "start_time": "2022-05-31T12:18:23.457Z"
   },
   {
    "duration": 109,
    "start_time": "2022-05-31T12:18:23.566Z"
   },
   {
    "duration": 920,
    "start_time": "2022-05-31T12:18:23.676Z"
   },
   {
    "duration": 13,
    "start_time": "2022-05-31T12:18:24.598Z"
   },
   {
    "duration": 10,
    "start_time": "2022-05-31T12:18:24.612Z"
   },
   {
    "duration": 52,
    "start_time": "2022-05-31T12:18:24.623Z"
   },
   {
    "duration": 2,
    "start_time": "2022-05-31T12:18:24.677Z"
   },
   {
    "duration": 4,
    "start_time": "2022-05-31T12:18:24.681Z"
   },
   {
    "duration": 877,
    "start_time": "2022-05-31T12:18:24.687Z"
   },
   {
    "duration": 124,
    "start_time": "2022-05-31T12:18:25.565Z"
   },
   {
    "duration": 9,
    "start_time": "2022-05-31T12:18:25.691Z"
   },
   {
    "duration": 5,
    "start_time": "2022-05-31T12:18:25.701Z"
   },
   {
    "duration": 17,
    "start_time": "2022-05-31T12:18:25.708Z"
   },
   {
    "duration": 39,
    "start_time": "2022-05-31T12:18:25.726Z"
   },
   {
    "duration": 15,
    "start_time": "2022-05-31T12:18:25.767Z"
   },
   {
    "duration": 2,
    "start_time": "2022-05-31T12:18:25.784Z"
   },
   {
    "duration": 1103,
    "start_time": "2022-05-31T12:18:25.787Z"
   },
   {
    "duration": 127,
    "start_time": "2022-05-31T12:18:26.892Z"
   },
   {
    "duration": 0,
    "start_time": "2022-05-31T12:18:27.021Z"
   },
   {
    "duration": 0,
    "start_time": "2022-05-31T12:18:27.022Z"
   },
   {
    "duration": 0,
    "start_time": "2022-05-31T12:18:27.023Z"
   },
   {
    "duration": 0,
    "start_time": "2022-05-31T12:18:27.024Z"
   },
   {
    "duration": 0,
    "start_time": "2022-05-31T12:18:27.024Z"
   },
   {
    "duration": 393,
    "start_time": "2022-05-31T12:19:40.371Z"
   },
   {
    "duration": 10,
    "start_time": "2022-05-31T12:21:14.926Z"
   },
   {
    "duration": 13,
    "start_time": "2022-05-31T12:21:24.500Z"
   },
   {
    "duration": 30,
    "start_time": "2022-05-31T12:21:43.513Z"
   },
   {
    "duration": 12,
    "start_time": "2022-05-31T12:21:51.749Z"
   },
   {
    "duration": 30,
    "start_time": "2022-05-31T12:22:13.933Z"
   },
   {
    "duration": 121,
    "start_time": "2022-05-31T12:22:18.958Z"
   },
   {
    "duration": 32,
    "start_time": "2022-05-31T12:22:36.494Z"
   },
   {
    "duration": 32,
    "start_time": "2022-05-31T12:22:37.672Z"
   },
   {
    "duration": 109,
    "start_time": "2022-05-31T12:22:38.204Z"
   },
   {
    "duration": 12,
    "start_time": "2022-05-31T12:24:13.922Z"
   },
   {
    "duration": 45,
    "start_time": "2022-05-31T12:28:10.440Z"
   },
   {
    "duration": 34,
    "start_time": "2022-05-31T12:29:07.072Z"
   },
   {
    "duration": 25,
    "start_time": "2022-05-31T12:29:09.787Z"
   },
   {
    "duration": 464,
    "start_time": "2022-05-31T12:29:11.012Z"
   },
   {
    "duration": 134,
    "start_time": "2022-05-31T12:29:40.291Z"
   },
   {
    "duration": 135,
    "start_time": "2022-05-31T12:29:41.788Z"
   },
   {
    "duration": 334,
    "start_time": "2022-05-31T12:29:42.726Z"
   },
   {
    "duration": 35,
    "start_time": "2022-05-31T12:30:02.600Z"
   },
   {
    "duration": 112,
    "start_time": "2022-05-31T12:30:10.732Z"
   },
   {
    "duration": 9,
    "start_time": "2022-05-31T12:30:47.351Z"
   },
   {
    "duration": 18,
    "start_time": "2022-05-31T12:31:34.106Z"
   },
   {
    "duration": 11,
    "start_time": "2022-05-31T12:32:03.150Z"
   },
   {
    "duration": 5,
    "start_time": "2022-05-31T12:32:19.081Z"
   },
   {
    "duration": 5,
    "start_time": "2022-05-31T12:32:23.914Z"
   },
   {
    "duration": 647,
    "start_time": "2022-05-31T12:32:55.395Z"
   },
   {
    "duration": 32,
    "start_time": "2022-05-31T12:33:12.947Z"
   },
   {
    "duration": 386,
    "start_time": "2022-05-31T12:33:19.164Z"
   },
   {
    "duration": 76,
    "start_time": "2022-05-31T12:33:37.526Z"
   },
   {
    "duration": 91,
    "start_time": "2022-05-31T12:33:53.304Z"
   },
   {
    "duration": 69,
    "start_time": "2022-05-31T12:33:58.697Z"
   },
   {
    "duration": 18,
    "start_time": "2022-05-31T12:34:09.802Z"
   },
   {
    "duration": 24,
    "start_time": "2022-05-31T12:36:45.291Z"
   },
   {
    "duration": 1057,
    "start_time": "2022-05-31T12:36:53.008Z"
   },
   {
    "duration": 741,
    "start_time": "2022-05-31T12:36:54.066Z"
   },
   {
    "duration": 12,
    "start_time": "2022-05-31T12:36:54.809Z"
   },
   {
    "duration": 84,
    "start_time": "2022-05-31T12:36:54.823Z"
   },
   {
    "duration": 97,
    "start_time": "2022-05-31T12:36:54.909Z"
   },
   {
    "duration": 117,
    "start_time": "2022-05-31T12:36:55.007Z"
   },
   {
    "duration": 3,
    "start_time": "2022-05-31T12:36:55.126Z"
   },
   {
    "duration": 417,
    "start_time": "2022-05-31T12:36:55.131Z"
   },
   {
    "duration": 911,
    "start_time": "2022-05-31T12:36:55.550Z"
   },
   {
    "duration": 33,
    "start_time": "2022-05-31T12:36:56.464Z"
   },
   {
    "duration": 3,
    "start_time": "2022-05-31T12:36:56.499Z"
   },
   {
    "duration": 103,
    "start_time": "2022-05-31T12:36:56.504Z"
   },
   {
    "duration": 111,
    "start_time": "2022-05-31T12:36:56.609Z"
   },
   {
    "duration": 36,
    "start_time": "2022-05-31T12:36:56.721Z"
   },
   {
    "duration": 108,
    "start_time": "2022-05-31T12:36:56.759Z"
   },
   {
    "duration": 31,
    "start_time": "2022-05-31T12:36:56.869Z"
   },
   {
    "duration": 116,
    "start_time": "2022-05-31T12:36:56.902Z"
   },
   {
    "duration": 109,
    "start_time": "2022-05-31T12:36:57.019Z"
   },
   {
    "duration": 101,
    "start_time": "2022-05-31T12:36:57.130Z"
   },
   {
    "duration": 89,
    "start_time": "2022-05-31T12:36:57.232Z"
   },
   {
    "duration": 900,
    "start_time": "2022-05-31T12:36:57.323Z"
   },
   {
    "duration": 13,
    "start_time": "2022-05-31T12:36:58.225Z"
   },
   {
    "duration": 24,
    "start_time": "2022-05-31T12:36:58.240Z"
   },
   {
    "duration": 37,
    "start_time": "2022-05-31T12:36:58.265Z"
   },
   {
    "duration": 2,
    "start_time": "2022-05-31T12:36:58.304Z"
   },
   {
    "duration": 10,
    "start_time": "2022-05-31T12:36:58.307Z"
   },
   {
    "duration": 969,
    "start_time": "2022-05-31T12:36:58.318Z"
   },
   {
    "duration": 113,
    "start_time": "2022-05-31T12:36:59.290Z"
   },
   {
    "duration": 10,
    "start_time": "2022-05-31T12:36:59.405Z"
   },
   {
    "duration": 6,
    "start_time": "2022-05-31T12:36:59.417Z"
   },
   {
    "duration": 40,
    "start_time": "2022-05-31T12:36:59.424Z"
   },
   {
    "duration": 25,
    "start_time": "2022-05-31T12:36:59.466Z"
   },
   {
    "duration": 15,
    "start_time": "2022-05-31T12:36:59.493Z"
   },
   {
    "duration": 2,
    "start_time": "2022-05-31T12:36:59.510Z"
   },
   {
    "duration": 1106,
    "start_time": "2022-05-31T12:36:59.513Z"
   },
   {
    "duration": 4,
    "start_time": "2022-05-31T12:37:00.621Z"
   },
   {
    "duration": 47,
    "start_time": "2022-05-31T12:37:00.626Z"
   },
   {
    "duration": 129,
    "start_time": "2022-05-31T12:37:00.675Z"
   },
   {
    "duration": 8,
    "start_time": "2022-05-31T12:37:00.806Z"
   },
   {
    "duration": 37,
    "start_time": "2022-05-31T12:37:00.815Z"
   },
   {
    "duration": 131,
    "start_time": "2022-05-31T12:37:00.854Z"
   },
   {
    "duration": 0,
    "start_time": "2022-05-31T12:37:00.987Z"
   },
   {
    "duration": 0,
    "start_time": "2022-05-31T12:37:00.988Z"
   },
   {
    "duration": 0,
    "start_time": "2022-05-31T12:37:00.990Z"
   },
   {
    "duration": 0,
    "start_time": "2022-05-31T12:37:00.991Z"
   },
   {
    "duration": 0,
    "start_time": "2022-05-31T12:37:00.993Z"
   },
   {
    "duration": 106,
    "start_time": "2022-05-31T12:37:13.013Z"
   },
   {
    "duration": 105,
    "start_time": "2022-05-31T12:37:20.919Z"
   },
   {
    "duration": 124,
    "start_time": "2022-05-31T12:38:01.033Z"
   },
   {
    "duration": 104,
    "start_time": "2022-05-31T12:38:18.363Z"
   },
   {
    "duration": 33,
    "start_time": "2022-05-31T12:39:23.470Z"
   },
   {
    "duration": 39,
    "start_time": "2022-05-31T12:45:52.620Z"
   },
   {
    "duration": 35,
    "start_time": "2022-05-31T12:46:32.849Z"
   },
   {
    "duration": 29,
    "start_time": "2022-05-31T12:46:39.656Z"
   },
   {
    "duration": 26,
    "start_time": "2022-05-31T12:47:05.931Z"
   },
   {
    "duration": 29,
    "start_time": "2022-05-31T12:47:10.884Z"
   },
   {
    "duration": 30,
    "start_time": "2022-05-31T12:52:49.099Z"
   },
   {
    "duration": 32,
    "start_time": "2022-05-31T12:52:50.108Z"
   },
   {
    "duration": 36,
    "start_time": "2022-05-31T12:52:51.371Z"
   },
   {
    "duration": 6,
    "start_time": "2022-05-31T12:55:23.664Z"
   },
   {
    "duration": 602,
    "start_time": "2022-05-31T13:40:16.223Z"
   },
   {
    "duration": 858,
    "start_time": "2022-05-31T13:40:55.329Z"
   },
   {
    "duration": 880,
    "start_time": "2022-05-31T13:41:00.057Z"
   },
   {
    "duration": 887,
    "start_time": "2022-05-31T13:41:18.982Z"
   },
   {
    "duration": 51,
    "start_time": "2022-05-31T13:41:44.848Z"
   },
   {
    "duration": 1004,
    "start_time": "2022-05-31T13:41:48.673Z"
   },
   {
    "duration": 864,
    "start_time": "2022-05-31T13:42:11.856Z"
   },
   {
    "duration": 846,
    "start_time": "2022-05-31T13:42:25.980Z"
   },
   {
    "duration": 979,
    "start_time": "2022-05-31T13:42:48.045Z"
   },
   {
    "duration": 1021,
    "start_time": "2022-05-31T13:43:36.484Z"
   },
   {
    "duration": 2385,
    "start_time": "2022-05-31T13:46:02.950Z"
   },
   {
    "duration": 335,
    "start_time": "2022-05-31T13:47:43.300Z"
   },
   {
    "duration": 463,
    "start_time": "2022-05-31T13:47:53.381Z"
   },
   {
    "duration": 732,
    "start_time": "2022-05-31T13:50:28.473Z"
   },
   {
    "duration": 1104,
    "start_time": "2022-05-31T13:50:35.270Z"
   },
   {
    "duration": 799,
    "start_time": "2022-05-31T13:50:36.376Z"
   },
   {
    "duration": 14,
    "start_time": "2022-05-31T13:50:37.177Z"
   },
   {
    "duration": 84,
    "start_time": "2022-05-31T13:50:37.193Z"
   },
   {
    "duration": 104,
    "start_time": "2022-05-31T13:50:37.279Z"
   },
   {
    "duration": 119,
    "start_time": "2022-05-31T13:50:37.385Z"
   },
   {
    "duration": 3,
    "start_time": "2022-05-31T13:50:37.506Z"
   },
   {
    "duration": 447,
    "start_time": "2022-05-31T13:50:37.511Z"
   },
   {
    "duration": 945,
    "start_time": "2022-05-31T13:50:37.960Z"
   },
   {
    "duration": 34,
    "start_time": "2022-05-31T13:50:38.908Z"
   },
   {
    "duration": 14,
    "start_time": "2022-05-31T13:50:38.944Z"
   },
   {
    "duration": 105,
    "start_time": "2022-05-31T13:50:38.959Z"
   },
   {
    "duration": 120,
    "start_time": "2022-05-31T13:50:39.066Z"
   },
   {
    "duration": 37,
    "start_time": "2022-05-31T13:50:39.188Z"
   },
   {
    "duration": 118,
    "start_time": "2022-05-31T13:50:39.226Z"
   },
   {
    "duration": 40,
    "start_time": "2022-05-31T13:50:39.345Z"
   },
   {
    "duration": 120,
    "start_time": "2022-05-31T13:50:39.386Z"
   },
   {
    "duration": 121,
    "start_time": "2022-05-31T13:50:39.508Z"
   },
   {
    "duration": 108,
    "start_time": "2022-05-31T13:50:39.631Z"
   },
   {
    "duration": 115,
    "start_time": "2022-05-31T13:50:39.740Z"
   },
   {
    "duration": 905,
    "start_time": "2022-05-31T13:50:39.856Z"
   },
   {
    "duration": 15,
    "start_time": "2022-05-31T13:50:40.763Z"
   },
   {
    "duration": 12,
    "start_time": "2022-05-31T13:50:40.779Z"
   },
   {
    "duration": 36,
    "start_time": "2022-05-31T13:50:40.793Z"
   },
   {
    "duration": 2,
    "start_time": "2022-05-31T13:50:40.831Z"
   },
   {
    "duration": 3,
    "start_time": "2022-05-31T13:50:40.855Z"
   },
   {
    "duration": 948,
    "start_time": "2022-05-31T13:50:40.860Z"
   },
   {
    "duration": 116,
    "start_time": "2022-05-31T13:50:41.810Z"
   },
   {
    "duration": 9,
    "start_time": "2022-05-31T13:50:41.927Z"
   },
   {
    "duration": 17,
    "start_time": "2022-05-31T13:50:41.937Z"
   },
   {
    "duration": 18,
    "start_time": "2022-05-31T13:50:41.955Z"
   },
   {
    "duration": 24,
    "start_time": "2022-05-31T13:50:41.975Z"
   },
   {
    "duration": 54,
    "start_time": "2022-05-31T13:50:42.000Z"
   },
   {
    "duration": 1151,
    "start_time": "2022-05-31T13:50:42.056Z"
   },
   {
    "duration": 117,
    "start_time": "2022-05-31T13:50:43.209Z"
   },
   {
    "duration": 6,
    "start_time": "2022-05-31T13:50:43.328Z"
   },
   {
    "duration": 194,
    "start_time": "2022-05-31T13:50:43.335Z"
   },
   {
    "duration": 483,
    "start_time": "2022-05-31T13:50:43.530Z"
   },
   {
    "duration": 184,
    "start_time": "2022-05-31T13:50:52.651Z"
   },
   {
    "duration": 337,
    "start_time": "2022-05-31T13:51:24.319Z"
   },
   {
    "duration": 83,
    "start_time": "2022-05-31T13:56:37.864Z"
   },
   {
    "duration": 12,
    "start_time": "2022-05-31T14:12:09.074Z"
   },
   {
    "duration": 1222,
    "start_time": "2022-05-31T14:21:40.548Z"
   },
   {
    "duration": 834,
    "start_time": "2022-05-31T14:21:41.773Z"
   },
   {
    "duration": 16,
    "start_time": "2022-05-31T14:21:42.611Z"
   },
   {
    "duration": 96,
    "start_time": "2022-05-31T14:21:42.628Z"
   },
   {
    "duration": 117,
    "start_time": "2022-05-31T14:21:42.726Z"
   },
   {
    "duration": 142,
    "start_time": "2022-05-31T14:21:42.844Z"
   },
   {
    "duration": 3,
    "start_time": "2022-05-31T14:21:42.988Z"
   },
   {
    "duration": 489,
    "start_time": "2022-05-31T14:21:42.993Z"
   },
   {
    "duration": 1024,
    "start_time": "2022-05-31T14:21:43.484Z"
   },
   {
    "duration": 36,
    "start_time": "2022-05-31T14:21:44.509Z"
   },
   {
    "duration": 7,
    "start_time": "2022-05-31T14:21:44.554Z"
   },
   {
    "duration": 118,
    "start_time": "2022-05-31T14:21:44.563Z"
   },
   {
    "duration": 119,
    "start_time": "2022-05-31T14:21:44.682Z"
   },
   {
    "duration": 32,
    "start_time": "2022-05-31T14:21:44.804Z"
   },
   {
    "duration": 128,
    "start_time": "2022-05-31T14:21:44.838Z"
   },
   {
    "duration": 38,
    "start_time": "2022-05-31T14:21:44.968Z"
   },
   {
    "duration": 128,
    "start_time": "2022-05-31T14:21:45.007Z"
   },
   {
    "duration": 133,
    "start_time": "2022-05-31T14:21:45.137Z"
   },
   {
    "duration": 103,
    "start_time": "2022-05-31T14:21:45.272Z"
   },
   {
    "duration": 95,
    "start_time": "2022-05-31T14:21:45.377Z"
   },
   {
    "duration": 1013,
    "start_time": "2022-05-31T14:21:45.474Z"
   },
   {
    "duration": 12,
    "start_time": "2022-05-31T14:21:46.489Z"
   },
   {
    "duration": 12,
    "start_time": "2022-05-31T14:21:46.503Z"
   },
   {
    "duration": 64,
    "start_time": "2022-05-31T14:21:46.516Z"
   },
   {
    "duration": 3,
    "start_time": "2022-05-31T14:21:46.581Z"
   },
   {
    "duration": 6,
    "start_time": "2022-05-31T14:21:46.585Z"
   },
   {
    "duration": 979,
    "start_time": "2022-05-31T14:21:46.593Z"
   },
   {
    "duration": 137,
    "start_time": "2022-05-31T14:21:47.574Z"
   },
   {
    "duration": 9,
    "start_time": "2022-05-31T14:21:47.712Z"
   },
   {
    "duration": 6,
    "start_time": "2022-05-31T14:21:47.723Z"
   },
   {
    "duration": 35,
    "start_time": "2022-05-31T14:21:47.731Z"
   },
   {
    "duration": 30,
    "start_time": "2022-05-31T14:21:47.769Z"
   },
   {
    "duration": 37,
    "start_time": "2022-05-31T14:21:47.800Z"
   },
   {
    "duration": 1273,
    "start_time": "2022-05-31T14:21:47.855Z"
   },
   {
    "duration": 150,
    "start_time": "2022-05-31T14:21:49.130Z"
   },
   {
    "duration": 7,
    "start_time": "2022-05-31T14:21:49.281Z"
   },
   {
    "duration": 216,
    "start_time": "2022-05-31T14:21:49.289Z"
   },
   {
    "duration": 11,
    "start_time": "2022-05-31T14:21:49.506Z"
   },
   {
    "duration": 114,
    "start_time": "2022-05-31T18:38:23.160Z"
   },
   {
    "duration": 32,
    "start_time": "2022-05-31T18:46:39.102Z"
   },
   {
    "duration": 11,
    "start_time": "2022-05-31T18:47:20.452Z"
   },
   {
    "duration": 45,
    "start_time": "2022-05-31T19:10:23.478Z"
   },
   {
    "duration": 1005,
    "start_time": "2022-05-31T19:12:19.388Z"
   },
   {
    "duration": 28,
    "start_time": "2022-05-31T19:12:41.915Z"
   },
   {
    "duration": 14,
    "start_time": "2022-05-31T19:13:23.519Z"
   },
   {
    "duration": 35,
    "start_time": "2022-05-31T19:14:11.936Z"
   },
   {
    "duration": 17,
    "start_time": "2022-05-31T19:14:19.629Z"
   },
   {
    "duration": 43,
    "start_time": "2022-05-31T19:14:34.396Z"
   },
   {
    "duration": 45,
    "start_time": "2022-05-31T19:14:43.204Z"
   },
   {
    "duration": 13,
    "start_time": "2022-05-31T19:14:47.405Z"
   },
   {
    "duration": 53,
    "start_time": "2022-05-31T19:17:04.635Z"
   },
   {
    "duration": 4,
    "start_time": "2022-05-31T19:25:44.756Z"
   },
   {
    "duration": 24,
    "start_time": "2022-05-31T19:26:35.785Z"
   },
   {
    "duration": 101,
    "start_time": "2022-05-31T19:26:56.156Z"
   },
   {
    "duration": 91,
    "start_time": "2022-05-31T19:30:34.545Z"
   },
   {
    "duration": 360,
    "start_time": "2022-05-31T19:30:41.390Z"
   },
   {
    "duration": 1162,
    "start_time": "2022-05-31T19:31:08.137Z"
   },
   {
    "duration": 1299,
    "start_time": "2022-05-31T19:31:09.300Z"
   },
   {
    "duration": 13,
    "start_time": "2022-05-31T19:31:10.601Z"
   },
   {
    "duration": 80,
    "start_time": "2022-05-31T19:31:10.616Z"
   },
   {
    "duration": 112,
    "start_time": "2022-05-31T19:31:10.698Z"
   },
   {
    "duration": 159,
    "start_time": "2022-05-31T19:31:10.812Z"
   },
   {
    "duration": 3,
    "start_time": "2022-05-31T19:31:10.974Z"
   },
   {
    "duration": 512,
    "start_time": "2022-05-31T19:31:10.978Z"
   },
   {
    "duration": 1129,
    "start_time": "2022-05-31T19:31:11.492Z"
   },
   {
    "duration": 46,
    "start_time": "2022-05-31T19:31:12.624Z"
   },
   {
    "duration": 11,
    "start_time": "2022-05-31T19:31:12.672Z"
   },
   {
    "duration": 110,
    "start_time": "2022-05-31T19:31:12.684Z"
   },
   {
    "duration": 125,
    "start_time": "2022-05-31T19:31:12.796Z"
   },
   {
    "duration": 46,
    "start_time": "2022-05-31T19:31:12.923Z"
   },
   {
    "duration": 128,
    "start_time": "2022-05-31T19:31:12.971Z"
   },
   {
    "duration": 32,
    "start_time": "2022-05-31T19:31:13.100Z"
   },
   {
    "duration": 145,
    "start_time": "2022-05-31T19:31:13.133Z"
   },
   {
    "duration": 117,
    "start_time": "2022-05-31T19:31:13.280Z"
   },
   {
    "duration": 133,
    "start_time": "2022-05-31T19:31:13.399Z"
   },
   {
    "duration": 116,
    "start_time": "2022-05-31T19:31:13.535Z"
   },
   {
    "duration": 1023,
    "start_time": "2022-05-31T19:31:13.655Z"
   },
   {
    "duration": 14,
    "start_time": "2022-05-31T19:31:14.681Z"
   },
   {
    "duration": 12,
    "start_time": "2022-05-31T19:31:14.696Z"
   },
   {
    "duration": 58,
    "start_time": "2022-05-31T19:31:14.710Z"
   },
   {
    "duration": 4,
    "start_time": "2022-05-31T19:31:14.778Z"
   },
   {
    "duration": 5,
    "start_time": "2022-05-31T19:31:14.784Z"
   },
   {
    "duration": 987,
    "start_time": "2022-05-31T19:31:14.791Z"
   },
   {
    "duration": 119,
    "start_time": "2022-05-31T19:31:15.786Z"
   },
   {
    "duration": 9,
    "start_time": "2022-05-31T19:31:15.907Z"
   },
   {
    "duration": 8,
    "start_time": "2022-05-31T19:31:15.917Z"
   },
   {
    "duration": 35,
    "start_time": "2022-05-31T19:31:15.926Z"
   },
   {
    "duration": 26,
    "start_time": "2022-05-31T19:31:15.963Z"
   },
   {
    "duration": 36,
    "start_time": "2022-05-31T19:31:15.991Z"
   },
   {
    "duration": 1333,
    "start_time": "2022-05-31T19:31:16.029Z"
   },
   {
    "duration": 124,
    "start_time": "2022-05-31T19:31:17.364Z"
   },
   {
    "duration": 8,
    "start_time": "2022-05-31T19:31:17.490Z"
   },
   {
    "duration": 212,
    "start_time": "2022-05-31T19:31:17.499Z"
   },
   {
    "duration": 11,
    "start_time": "2022-05-31T19:31:17.713Z"
   },
   {
    "duration": 6,
    "start_time": "2022-05-31T19:31:17.725Z"
   },
   {
    "duration": 108,
    "start_time": "2022-05-31T19:31:17.732Z"
   },
   {
    "duration": 5,
    "start_time": "2022-05-31T19:31:17.842Z"
   },
   {
    "duration": 71,
    "start_time": "2022-05-31T19:31:17.862Z"
   },
   {
    "duration": 13,
    "start_time": "2022-05-31T19:31:17.935Z"
   },
   {
    "duration": 30,
    "start_time": "2022-05-31T19:34:07.687Z"
   },
   {
    "duration": 29,
    "start_time": "2022-05-31T19:34:35.867Z"
   },
   {
    "duration": 121,
    "start_time": "2022-05-31T19:34:36.294Z"
   },
   {
    "duration": 12,
    "start_time": "2022-05-31T19:34:36.991Z"
   },
   {
    "duration": 405,
    "start_time": "2022-05-31T19:35:31.835Z"
   },
   {
    "duration": 303,
    "start_time": "2022-05-31T19:35:37.202Z"
   },
   {
    "duration": 313,
    "start_time": "2022-05-31T19:36:36.275Z"
   },
   {
    "duration": 225,
    "start_time": "2022-05-31T19:36:59.592Z"
   },
   {
    "duration": 3,
    "start_time": "2022-05-31T19:37:12.224Z"
   },
   {
    "duration": 11,
    "start_time": "2022-05-31T19:37:28.777Z"
   },
   {
    "duration": 10,
    "start_time": "2022-05-31T19:37:34.176Z"
   },
   {
    "duration": 11,
    "start_time": "2022-05-31T19:37:47.144Z"
   },
   {
    "duration": 9,
    "start_time": "2022-05-31T19:37:56.584Z"
   },
   {
    "duration": 9,
    "start_time": "2022-05-31T19:38:08.897Z"
   },
   {
    "duration": 11,
    "start_time": "2022-05-31T19:38:32.133Z"
   },
   {
    "duration": 10,
    "start_time": "2022-05-31T19:44:03.297Z"
   },
   {
    "duration": 14,
    "start_time": "2022-05-31T19:44:09.207Z"
   },
   {
    "duration": 8,
    "start_time": "2022-05-31T19:45:40.110Z"
   },
   {
    "duration": 9,
    "start_time": "2022-05-31T19:45:45.632Z"
   },
   {
    "duration": 5,
    "start_time": "2022-05-31T19:45:53.272Z"
   },
   {
    "duration": 6,
    "start_time": "2022-05-31T19:46:48.197Z"
   },
   {
    "duration": 7,
    "start_time": "2022-05-31T19:46:58.150Z"
   },
   {
    "duration": 10,
    "start_time": "2022-05-31T19:47:10.160Z"
   },
   {
    "duration": 10,
    "start_time": "2022-05-31T19:50:52.000Z"
   },
   {
    "duration": 5,
    "start_time": "2022-05-31T19:51:12.975Z"
   },
   {
    "duration": 10,
    "start_time": "2022-05-31T19:51:56.831Z"
   },
   {
    "duration": 5,
    "start_time": "2022-05-31T19:52:08.897Z"
   },
   {
    "duration": 4,
    "start_time": "2022-05-31T19:52:20.290Z"
   },
   {
    "duration": 15,
    "start_time": "2022-05-31T19:54:09.338Z"
   },
   {
    "duration": 11,
    "start_time": "2022-05-31T19:54:21.940Z"
   },
   {
    "duration": 7,
    "start_time": "2022-05-31T19:56:04.153Z"
   },
   {
    "duration": 7,
    "start_time": "2022-05-31T19:56:43.930Z"
   },
   {
    "duration": 6,
    "start_time": "2022-05-31T20:00:33.076Z"
   },
   {
    "duration": 22,
    "start_time": "2022-05-31T20:00:43.794Z"
   },
   {
    "duration": 33,
    "start_time": "2022-05-31T20:00:54.248Z"
   },
   {
    "duration": 30,
    "start_time": "2022-05-31T20:01:14.538Z"
   },
   {
    "duration": 21,
    "start_time": "2022-05-31T20:10:21.372Z"
   },
   {
    "duration": 5,
    "start_time": "2022-05-31T20:10:36.351Z"
   },
   {
    "duration": 9,
    "start_time": "2022-05-31T20:45:44.743Z"
   },
   {
    "duration": 67,
    "start_time": "2022-05-31T20:47:06.839Z"
   },
   {
    "duration": 11,
    "start_time": "2022-05-31T20:49:32.311Z"
   },
   {
    "duration": 50,
    "start_time": "2022-05-31T20:49:55.681Z"
   },
   {
    "duration": 265,
    "start_time": "2022-05-31T20:49:57.549Z"
   },
   {
    "duration": 1064,
    "start_time": "2022-05-31T20:50:24.586Z"
   },
   {
    "duration": 766,
    "start_time": "2022-05-31T20:50:25.652Z"
   },
   {
    "duration": 12,
    "start_time": "2022-05-31T20:50:26.419Z"
   },
   {
    "duration": 85,
    "start_time": "2022-05-31T20:50:26.433Z"
   },
   {
    "duration": 103,
    "start_time": "2022-05-31T20:50:26.521Z"
   },
   {
    "duration": 118,
    "start_time": "2022-05-31T20:50:26.625Z"
   },
   {
    "duration": 11,
    "start_time": "2022-05-31T20:50:26.744Z"
   },
   {
    "duration": 438,
    "start_time": "2022-05-31T20:50:26.756Z"
   },
   {
    "duration": 915,
    "start_time": "2022-05-31T20:50:27.196Z"
   },
   {
    "duration": 36,
    "start_time": "2022-05-31T20:50:28.112Z"
   },
   {
    "duration": 52,
    "start_time": "2022-05-31T20:50:28.155Z"
   },
   {
    "duration": 104,
    "start_time": "2022-05-31T20:50:28.209Z"
   },
   {
    "duration": 0,
    "start_time": "2022-05-31T20:50:28.316Z"
   },
   {
    "duration": 0,
    "start_time": "2022-05-31T20:50:28.318Z"
   },
   {
    "duration": 0,
    "start_time": "2022-05-31T20:50:28.319Z"
   },
   {
    "duration": 0,
    "start_time": "2022-05-31T20:50:28.320Z"
   },
   {
    "duration": 0,
    "start_time": "2022-05-31T20:50:28.321Z"
   },
   {
    "duration": 0,
    "start_time": "2022-05-31T20:50:28.323Z"
   },
   {
    "duration": 0,
    "start_time": "2022-05-31T20:50:28.324Z"
   },
   {
    "duration": 0,
    "start_time": "2022-05-31T20:50:28.325Z"
   },
   {
    "duration": 0,
    "start_time": "2022-05-31T20:50:28.327Z"
   },
   {
    "duration": 0,
    "start_time": "2022-05-31T20:50:28.328Z"
   },
   {
    "duration": 0,
    "start_time": "2022-05-31T20:50:28.355Z"
   },
   {
    "duration": 0,
    "start_time": "2022-05-31T20:50:28.356Z"
   },
   {
    "duration": 0,
    "start_time": "2022-05-31T20:50:28.357Z"
   },
   {
    "duration": 0,
    "start_time": "2022-05-31T20:50:28.359Z"
   },
   {
    "duration": 0,
    "start_time": "2022-05-31T20:50:28.360Z"
   },
   {
    "duration": 0,
    "start_time": "2022-05-31T20:50:28.361Z"
   },
   {
    "duration": 0,
    "start_time": "2022-05-31T20:50:28.363Z"
   },
   {
    "duration": 0,
    "start_time": "2022-05-31T20:50:28.364Z"
   },
   {
    "duration": 0,
    "start_time": "2022-05-31T20:50:28.365Z"
   },
   {
    "duration": 0,
    "start_time": "2022-05-31T20:50:28.366Z"
   },
   {
    "duration": 0,
    "start_time": "2022-05-31T20:50:28.368Z"
   },
   {
    "duration": 0,
    "start_time": "2022-05-31T20:50:28.369Z"
   },
   {
    "duration": 0,
    "start_time": "2022-05-31T20:50:28.371Z"
   },
   {
    "duration": 0,
    "start_time": "2022-05-31T20:50:28.372Z"
   },
   {
    "duration": 0,
    "start_time": "2022-05-31T20:50:28.373Z"
   },
   {
    "duration": 0,
    "start_time": "2022-05-31T20:50:28.375Z"
   },
   {
    "duration": 0,
    "start_time": "2022-05-31T20:50:28.376Z"
   },
   {
    "duration": 0,
    "start_time": "2022-05-31T20:50:28.378Z"
   },
   {
    "duration": 0,
    "start_time": "2022-05-31T20:50:28.379Z"
   },
   {
    "duration": 0,
    "start_time": "2022-05-31T20:50:28.380Z"
   },
   {
    "duration": 0,
    "start_time": "2022-05-31T20:50:28.382Z"
   },
   {
    "duration": 0,
    "start_time": "2022-05-31T20:50:28.383Z"
   },
   {
    "duration": 0,
    "start_time": "2022-05-31T20:50:28.384Z"
   },
   {
    "duration": 0,
    "start_time": "2022-05-31T20:50:28.385Z"
   },
   {
    "duration": 0,
    "start_time": "2022-05-31T20:50:28.386Z"
   },
   {
    "duration": 0,
    "start_time": "2022-05-31T20:50:28.387Z"
   },
   {
    "duration": 1,
    "start_time": "2022-05-31T20:50:28.387Z"
   },
   {
    "duration": 12,
    "start_time": "2022-05-31T20:50:52.416Z"
   },
   {
    "duration": 6,
    "start_time": "2022-05-31T20:50:59.331Z"
   },
   {
    "duration": 1130,
    "start_time": "2022-05-31T20:51:17.325Z"
   },
   {
    "duration": 791,
    "start_time": "2022-05-31T20:51:18.456Z"
   },
   {
    "duration": 12,
    "start_time": "2022-05-31T20:51:19.249Z"
   },
   {
    "duration": 77,
    "start_time": "2022-05-31T20:51:19.262Z"
   },
   {
    "duration": 100,
    "start_time": "2022-05-31T20:51:19.355Z"
   },
   {
    "duration": 121,
    "start_time": "2022-05-31T20:51:19.456Z"
   },
   {
    "duration": 3,
    "start_time": "2022-05-31T20:51:19.578Z"
   },
   {
    "duration": 432,
    "start_time": "2022-05-31T20:51:19.582Z"
   },
   {
    "duration": 912,
    "start_time": "2022-05-31T20:51:20.016Z"
   },
   {
    "duration": 39,
    "start_time": "2022-05-31T20:51:20.929Z"
   },
   {
    "duration": 72,
    "start_time": "2022-05-31T20:51:20.970Z"
   },
   {
    "duration": 38,
    "start_time": "2022-05-31T20:51:21.043Z"
   },
   {
    "duration": 3,
    "start_time": "2022-05-31T20:51:21.083Z"
   },
   {
    "duration": 96,
    "start_time": "2022-05-31T20:51:21.089Z"
   },
   {
    "duration": 104,
    "start_time": "2022-05-31T20:51:21.186Z"
   },
   {
    "duration": 32,
    "start_time": "2022-05-31T20:51:21.291Z"
   },
   {
    "duration": 146,
    "start_time": "2022-05-31T20:51:21.325Z"
   },
   {
    "duration": 47,
    "start_time": "2022-05-31T20:51:21.473Z"
   },
   {
    "duration": 159,
    "start_time": "2022-05-31T20:51:21.522Z"
   },
   {
    "duration": 104,
    "start_time": "2022-05-31T20:51:21.683Z"
   },
   {
    "duration": 92,
    "start_time": "2022-05-31T20:51:21.789Z"
   },
   {
    "duration": 82,
    "start_time": "2022-05-31T20:51:21.883Z"
   },
   {
    "duration": 950,
    "start_time": "2022-05-31T20:51:21.967Z"
   },
   {
    "duration": 12,
    "start_time": "2022-05-31T20:51:22.919Z"
   },
   {
    "duration": 22,
    "start_time": "2022-05-31T20:51:22.933Z"
   },
   {
    "duration": 40,
    "start_time": "2022-05-31T20:51:22.957Z"
   },
   {
    "duration": 3,
    "start_time": "2022-05-31T20:51:22.998Z"
   },
   {
    "duration": 6,
    "start_time": "2022-05-31T20:51:23.002Z"
   },
   {
    "duration": 933,
    "start_time": "2022-05-31T20:51:23.009Z"
   },
   {
    "duration": 118,
    "start_time": "2022-05-31T20:51:23.943Z"
   },
   {
    "duration": 9,
    "start_time": "2022-05-31T20:51:24.063Z"
   },
   {
    "duration": 6,
    "start_time": "2022-05-31T20:51:24.073Z"
   },
   {
    "duration": 18,
    "start_time": "2022-05-31T20:51:24.080Z"
   },
   {
    "duration": 56,
    "start_time": "2022-05-31T20:51:24.099Z"
   },
   {
    "duration": 35,
    "start_time": "2022-05-31T20:51:24.157Z"
   },
   {
    "duration": 1165,
    "start_time": "2022-05-31T20:51:24.193Z"
   },
   {
    "duration": 114,
    "start_time": "2022-05-31T20:51:25.359Z"
   },
   {
    "duration": 5,
    "start_time": "2022-05-31T20:51:25.475Z"
   },
   {
    "duration": 206,
    "start_time": "2022-05-31T20:51:25.482Z"
   },
   {
    "duration": 12,
    "start_time": "2022-05-31T20:51:25.690Z"
   },
   {
    "duration": 9,
    "start_time": "2022-05-31T20:51:25.705Z"
   },
   {
    "duration": 3,
    "start_time": "2022-05-31T20:51:25.715Z"
   },
   {
    "duration": 97,
    "start_time": "2022-05-31T20:51:25.719Z"
   },
   {
    "duration": 5,
    "start_time": "2022-05-31T20:51:25.818Z"
   },
   {
    "duration": 75,
    "start_time": "2022-05-31T20:51:25.825Z"
   },
   {
    "duration": 10,
    "start_time": "2022-05-31T20:51:25.902Z"
   },
   {
    "duration": 41,
    "start_time": "2022-05-31T20:51:25.913Z"
   },
   {
    "duration": 88,
    "start_time": "2022-05-31T20:51:25.956Z"
   },
   {
    "duration": 7,
    "start_time": "2022-05-31T20:51:26.055Z"
   },
   {
    "duration": 1072,
    "start_time": "2022-05-31T21:06:18.998Z"
   },
   {
    "duration": 816,
    "start_time": "2022-05-31T21:06:20.071Z"
   },
   {
    "duration": 13,
    "start_time": "2022-05-31T21:06:20.888Z"
   },
   {
    "duration": 88,
    "start_time": "2022-05-31T21:06:20.903Z"
   },
   {
    "duration": 100,
    "start_time": "2022-05-31T21:06:20.993Z"
   },
   {
    "duration": 121,
    "start_time": "2022-05-31T21:06:21.095Z"
   },
   {
    "duration": 2,
    "start_time": "2022-05-31T21:06:21.218Z"
   },
   {
    "duration": 500,
    "start_time": "2022-05-31T21:06:21.222Z"
   },
   {
    "duration": 960,
    "start_time": "2022-05-31T21:06:21.724Z"
   },
   {
    "duration": 114,
    "start_time": "2022-05-31T21:06:22.687Z"
   },
   {
    "duration": 54,
    "start_time": "2022-05-31T21:06:22.803Z"
   },
   {
    "duration": 4,
    "start_time": "2022-05-31T21:06:22.870Z"
   },
   {
    "duration": 90,
    "start_time": "2022-05-31T21:06:22.876Z"
   },
   {
    "duration": 93,
    "start_time": "2022-05-31T21:06:22.968Z"
   },
   {
    "duration": 33,
    "start_time": "2022-05-31T21:06:23.064Z"
   },
   {
    "duration": 109,
    "start_time": "2022-05-31T21:06:23.099Z"
   },
   {
    "duration": 32,
    "start_time": "2022-05-31T21:06:23.210Z"
   },
   {
    "duration": 111,
    "start_time": "2022-05-31T21:06:23.254Z"
   },
   {
    "duration": 98,
    "start_time": "2022-05-31T21:06:23.369Z"
   },
   {
    "duration": 105,
    "start_time": "2022-05-31T21:06:23.468Z"
   },
   {
    "duration": 92,
    "start_time": "2022-05-31T21:06:23.575Z"
   },
   {
    "duration": 916,
    "start_time": "2022-05-31T21:06:23.669Z"
   },
   {
    "duration": 13,
    "start_time": "2022-05-31T21:06:24.587Z"
   },
   {
    "duration": 12,
    "start_time": "2022-05-31T21:06:24.601Z"
   },
   {
    "duration": 56,
    "start_time": "2022-05-31T21:06:24.614Z"
   },
   {
    "duration": 2,
    "start_time": "2022-05-31T21:06:24.672Z"
   },
   {
    "duration": 5,
    "start_time": "2022-05-31T21:06:24.675Z"
   },
   {
    "duration": 899,
    "start_time": "2022-05-31T21:06:24.683Z"
   },
   {
    "duration": 126,
    "start_time": "2022-05-31T21:06:25.584Z"
   },
   {
    "duration": 8,
    "start_time": "2022-05-31T21:06:25.712Z"
   },
   {
    "duration": 10,
    "start_time": "2022-05-31T21:06:25.722Z"
   },
   {
    "duration": 35,
    "start_time": "2022-05-31T21:06:25.734Z"
   },
   {
    "duration": 28,
    "start_time": "2022-05-31T21:06:25.771Z"
   },
   {
    "duration": 35,
    "start_time": "2022-05-31T21:06:25.800Z"
   },
   {
    "duration": 1189,
    "start_time": "2022-05-31T21:06:25.836Z"
   },
   {
    "duration": 118,
    "start_time": "2022-05-31T21:06:27.027Z"
   },
   {
    "duration": 15,
    "start_time": "2022-05-31T21:06:27.147Z"
   },
   {
    "duration": 202,
    "start_time": "2022-05-31T21:06:27.166Z"
   },
   {
    "duration": 14,
    "start_time": "2022-05-31T21:06:27.370Z"
   },
   {
    "duration": 7,
    "start_time": "2022-05-31T21:06:27.385Z"
   },
   {
    "duration": 92,
    "start_time": "2022-05-31T21:06:27.393Z"
   },
   {
    "duration": 6,
    "start_time": "2022-05-31T21:06:27.487Z"
   },
   {
    "duration": 72,
    "start_time": "2022-05-31T21:06:27.494Z"
   },
   {
    "duration": 11,
    "start_time": "2022-05-31T21:06:27.568Z"
   },
   {
    "duration": 34,
    "start_time": "2022-05-31T21:06:27.580Z"
   },
   {
    "duration": 96,
    "start_time": "2022-05-31T21:06:27.616Z"
   },
   {
    "duration": 9,
    "start_time": "2022-05-31T21:06:27.714Z"
   },
   {
    "duration": 6,
    "start_time": "2022-05-31T21:08:01.335Z"
   },
   {
    "duration": 510,
    "start_time": "2022-05-31T21:09:33.440Z"
   },
   {
    "duration": 1089,
    "start_time": "2022-05-31T21:10:15.968Z"
   },
   {
    "duration": 787,
    "start_time": "2022-05-31T21:10:17.059Z"
   },
   {
    "duration": 20,
    "start_time": "2022-05-31T21:10:17.847Z"
   },
   {
    "duration": 82,
    "start_time": "2022-05-31T21:10:17.869Z"
   },
   {
    "duration": 93,
    "start_time": "2022-05-31T21:10:17.954Z"
   },
   {
    "duration": 133,
    "start_time": "2022-05-31T21:10:18.048Z"
   },
   {
    "duration": 3,
    "start_time": "2022-05-31T21:10:18.182Z"
   },
   {
    "duration": 453,
    "start_time": "2022-05-31T21:10:18.186Z"
   },
   {
    "duration": 967,
    "start_time": "2022-05-31T21:10:18.641Z"
   },
   {
    "duration": 121,
    "start_time": "2022-05-31T21:10:19.609Z"
   },
   {
    "duration": 53,
    "start_time": "2022-05-31T21:10:19.731Z"
   },
   {
    "duration": 4,
    "start_time": "2022-05-31T21:10:19.785Z"
   },
   {
    "duration": 96,
    "start_time": "2022-05-31T21:10:19.791Z"
   },
   {
    "duration": 105,
    "start_time": "2022-05-31T21:10:19.890Z"
   },
   {
    "duration": 37,
    "start_time": "2022-05-31T21:10:19.997Z"
   },
   {
    "duration": 110,
    "start_time": "2022-05-31T21:10:20.036Z"
   },
   {
    "duration": 48,
    "start_time": "2022-05-31T21:10:20.148Z"
   },
   {
    "duration": 98,
    "start_time": "2022-05-31T21:10:20.198Z"
   },
   {
    "duration": 99,
    "start_time": "2022-05-31T21:10:20.297Z"
   },
   {
    "duration": 105,
    "start_time": "2022-05-31T21:10:20.397Z"
   },
   {
    "duration": 90,
    "start_time": "2022-05-31T21:10:20.504Z"
   },
   {
    "duration": 969,
    "start_time": "2022-05-31T21:10:20.596Z"
   },
   {
    "duration": 13,
    "start_time": "2022-05-31T21:10:21.566Z"
   },
   {
    "duration": 11,
    "start_time": "2022-05-31T21:10:21.581Z"
   },
   {
    "duration": 41,
    "start_time": "2022-05-31T21:10:21.594Z"
   },
   {
    "duration": 21,
    "start_time": "2022-05-31T21:10:21.637Z"
   },
   {
    "duration": 12,
    "start_time": "2022-05-31T21:10:21.660Z"
   },
   {
    "duration": 872,
    "start_time": "2022-05-31T21:10:21.673Z"
   },
   {
    "duration": 125,
    "start_time": "2022-05-31T21:10:22.546Z"
   },
   {
    "duration": 9,
    "start_time": "2022-05-31T21:10:22.673Z"
   },
   {
    "duration": 6,
    "start_time": "2022-05-31T21:10:22.684Z"
   },
   {
    "duration": 17,
    "start_time": "2022-05-31T21:10:22.691Z"
   },
   {
    "duration": 24,
    "start_time": "2022-05-31T21:10:22.710Z"
   },
   {
    "duration": 36,
    "start_time": "2022-05-31T21:10:22.761Z"
   },
   {
    "duration": 1231,
    "start_time": "2022-05-31T21:10:22.799Z"
   },
   {
    "duration": 118,
    "start_time": "2022-05-31T21:10:24.031Z"
   },
   {
    "duration": 9,
    "start_time": "2022-05-31T21:10:24.155Z"
   },
   {
    "duration": 202,
    "start_time": "2022-05-31T21:10:24.166Z"
   },
   {
    "duration": 11,
    "start_time": "2022-05-31T21:10:24.370Z"
   },
   {
    "duration": 10,
    "start_time": "2022-05-31T21:10:24.383Z"
   },
   {
    "duration": 86,
    "start_time": "2022-05-31T21:10:24.396Z"
   },
   {
    "duration": 6,
    "start_time": "2022-05-31T21:10:24.483Z"
   },
   {
    "duration": 76,
    "start_time": "2022-05-31T21:10:24.490Z"
   },
   {
    "duration": 11,
    "start_time": "2022-05-31T21:10:24.568Z"
   },
   {
    "duration": 31,
    "start_time": "2022-05-31T21:10:24.580Z"
   },
   {
    "duration": 97,
    "start_time": "2022-05-31T21:10:24.613Z"
   },
   {
    "duration": 7,
    "start_time": "2022-05-31T21:10:24.712Z"
   },
   {
    "duration": 5,
    "start_time": "2022-05-31T21:10:24.721Z"
   },
   {
    "duration": 69,
    "start_time": "2022-05-31T21:12:34.942Z"
   },
   {
    "duration": 9,
    "start_time": "2022-05-31T21:12:35.422Z"
   },
   {
    "duration": 6,
    "start_time": "2022-05-31T21:14:08.070Z"
   },
   {
    "duration": 5,
    "start_time": "2022-05-31T21:14:51.229Z"
   },
   {
    "duration": 62,
    "start_time": "2022-05-31T21:16:16.622Z"
   },
   {
    "duration": 9,
    "start_time": "2022-05-31T21:16:17.070Z"
   },
   {
    "duration": 1031,
    "start_time": "2022-05-31T21:20:32.616Z"
   },
   {
    "duration": 87,
    "start_time": "2022-05-31T21:22:29.908Z"
   },
   {
    "duration": 184,
    "start_time": "2022-05-31T21:25:31.530Z"
   },
   {
    "duration": 172,
    "start_time": "2022-05-31T21:34:53.310Z"
   },
   {
    "duration": 59,
    "start_time": "2022-05-31T21:34:53.831Z"
   },
   {
    "duration": 1244,
    "start_time": "2022-05-31T21:36:02.599Z"
   },
   {
    "duration": 843,
    "start_time": "2022-05-31T21:36:03.845Z"
   },
   {
    "duration": 14,
    "start_time": "2022-05-31T21:36:04.689Z"
   },
   {
    "duration": 87,
    "start_time": "2022-05-31T21:36:04.704Z"
   },
   {
    "duration": 109,
    "start_time": "2022-05-31T21:36:04.793Z"
   },
   {
    "duration": 131,
    "start_time": "2022-05-31T21:36:04.904Z"
   },
   {
    "duration": 3,
    "start_time": "2022-05-31T21:36:05.037Z"
   },
   {
    "duration": 480,
    "start_time": "2022-05-31T21:36:05.054Z"
   },
   {
    "duration": 999,
    "start_time": "2022-05-31T21:36:05.535Z"
   },
   {
    "duration": 118,
    "start_time": "2022-05-31T21:36:06.536Z"
   },
   {
    "duration": 50,
    "start_time": "2022-05-31T21:36:06.656Z"
   },
   {
    "duration": 4,
    "start_time": "2022-05-31T21:36:06.708Z"
   },
   {
    "duration": 95,
    "start_time": "2022-05-31T21:36:06.713Z"
   },
   {
    "duration": 104,
    "start_time": "2022-05-31T21:36:06.811Z"
   },
   {
    "duration": 40,
    "start_time": "2022-05-31T21:36:06.917Z"
   },
   {
    "duration": 106,
    "start_time": "2022-05-31T21:36:06.959Z"
   },
   {
    "duration": 32,
    "start_time": "2022-05-31T21:36:07.067Z"
   },
   {
    "duration": 107,
    "start_time": "2022-05-31T21:36:07.101Z"
   },
   {
    "duration": 97,
    "start_time": "2022-05-31T21:36:07.209Z"
   },
   {
    "duration": 96,
    "start_time": "2022-05-31T21:36:07.307Z"
   },
   {
    "duration": 80,
    "start_time": "2022-05-31T21:36:07.404Z"
   },
   {
    "duration": 945,
    "start_time": "2022-05-31T21:36:07.485Z"
   },
   {
    "duration": 13,
    "start_time": "2022-05-31T21:36:08.432Z"
   },
   {
    "duration": 11,
    "start_time": "2022-05-31T21:36:08.454Z"
   },
   {
    "duration": 34,
    "start_time": "2022-05-31T21:36:08.466Z"
   },
   {
    "duration": 955,
    "start_time": "2022-05-31T21:36:08.502Z"
   },
   {
    "duration": 117,
    "start_time": "2022-05-31T21:36:09.458Z"
   },
   {
    "duration": 9,
    "start_time": "2022-05-31T21:36:09.576Z"
   },
   {
    "duration": 11,
    "start_time": "2022-05-31T21:36:09.586Z"
   },
   {
    "duration": 20,
    "start_time": "2022-05-31T21:36:09.599Z"
   },
   {
    "duration": 36,
    "start_time": "2022-05-31T21:36:09.620Z"
   },
   {
    "duration": 34,
    "start_time": "2022-05-31T21:36:09.658Z"
   },
   {
    "duration": 1219,
    "start_time": "2022-05-31T21:36:09.693Z"
   },
   {
    "duration": 123,
    "start_time": "2022-05-31T21:36:10.914Z"
   },
   {
    "duration": 5,
    "start_time": "2022-05-31T21:36:11.038Z"
   },
   {
    "duration": 199,
    "start_time": "2022-05-31T21:36:11.044Z"
   },
   {
    "duration": 25,
    "start_time": "2022-05-31T21:36:11.245Z"
   },
   {
    "duration": 3,
    "start_time": "2022-05-31T21:36:11.271Z"
   },
   {
    "duration": 99,
    "start_time": "2022-05-31T21:36:11.276Z"
   },
   {
    "duration": 8,
    "start_time": "2022-05-31T21:36:11.377Z"
   },
   {
    "duration": 93,
    "start_time": "2022-05-31T21:36:11.390Z"
   },
   {
    "duration": 12,
    "start_time": "2022-05-31T21:36:11.484Z"
   },
   {
    "duration": 41,
    "start_time": "2022-05-31T21:36:11.498Z"
   },
   {
    "duration": 107,
    "start_time": "2022-05-31T21:36:11.541Z"
   },
   {
    "duration": 13,
    "start_time": "2022-05-31T21:36:11.657Z"
   },
   {
    "duration": 10,
    "start_time": "2022-05-31T21:36:11.671Z"
   },
   {
    "duration": 75,
    "start_time": "2022-05-31T21:36:11.683Z"
   },
   {
    "duration": 13,
    "start_time": "2022-05-31T21:36:11.760Z"
   },
   {
    "duration": 6,
    "start_time": "2022-05-31T21:36:11.774Z"
   },
   {
    "duration": 82,
    "start_time": "2022-05-31T21:36:11.781Z"
   },
   {
    "duration": 11,
    "start_time": "2022-05-31T21:36:11.867Z"
   },
   {
    "duration": 202,
    "start_time": "2022-05-31T21:36:11.879Z"
   },
   {
    "duration": 58,
    "start_time": "2022-05-31T21:36:12.082Z"
   },
   {
    "duration": 1116,
    "start_time": "2022-05-31T21:36:52.364Z"
   },
   {
    "duration": 767,
    "start_time": "2022-05-31T21:36:53.482Z"
   },
   {
    "duration": 13,
    "start_time": "2022-05-31T21:36:54.250Z"
   },
   {
    "duration": 79,
    "start_time": "2022-05-31T21:36:54.264Z"
   },
   {
    "duration": 99,
    "start_time": "2022-05-31T21:36:54.355Z"
   },
   {
    "duration": 121,
    "start_time": "2022-05-31T21:36:54.456Z"
   },
   {
    "duration": 3,
    "start_time": "2022-05-31T21:36:54.579Z"
   },
   {
    "duration": 418,
    "start_time": "2022-05-31T21:36:54.583Z"
   },
   {
    "duration": 905,
    "start_time": "2022-05-31T21:36:55.003Z"
   },
   {
    "duration": 116,
    "start_time": "2022-05-31T21:36:55.910Z"
   },
   {
    "duration": 50,
    "start_time": "2022-05-31T21:36:56.028Z"
   },
   {
    "duration": 4,
    "start_time": "2022-05-31T21:36:56.080Z"
   },
   {
    "duration": 93,
    "start_time": "2022-05-31T21:36:56.085Z"
   },
   {
    "duration": 158,
    "start_time": "2022-05-31T21:36:56.180Z"
   },
   {
    "duration": 39,
    "start_time": "2022-05-31T21:36:56.340Z"
   },
   {
    "duration": 107,
    "start_time": "2022-05-31T21:36:56.381Z"
   },
   {
    "duration": 34,
    "start_time": "2022-05-31T21:36:56.490Z"
   },
   {
    "duration": 110,
    "start_time": "2022-05-31T21:36:56.526Z"
   },
   {
    "duration": 102,
    "start_time": "2022-05-31T21:36:56.638Z"
   },
   {
    "duration": 99,
    "start_time": "2022-05-31T21:36:56.742Z"
   },
   {
    "duration": 88,
    "start_time": "2022-05-31T21:36:56.842Z"
   },
   {
    "duration": 952,
    "start_time": "2022-05-31T21:36:56.931Z"
   },
   {
    "duration": 13,
    "start_time": "2022-05-31T21:36:57.884Z"
   },
   {
    "duration": 12,
    "start_time": "2022-05-31T21:36:57.898Z"
   },
   {
    "duration": 48,
    "start_time": "2022-05-31T21:36:57.911Z"
   },
   {
    "duration": 875,
    "start_time": "2022-05-31T21:36:57.961Z"
   },
   {
    "duration": 120,
    "start_time": "2022-05-31T21:36:58.837Z"
   },
   {
    "duration": 9,
    "start_time": "2022-05-31T21:36:58.959Z"
   },
   {
    "duration": 5,
    "start_time": "2022-05-31T21:36:58.970Z"
   },
   {
    "duration": 21,
    "start_time": "2022-05-31T21:36:58.977Z"
   },
   {
    "duration": 25,
    "start_time": "2022-05-31T21:36:59.000Z"
   },
   {
    "duration": 64,
    "start_time": "2022-05-31T21:36:59.027Z"
   },
   {
    "duration": 1254,
    "start_time": "2022-05-31T21:36:59.092Z"
   },
   {
    "duration": 113,
    "start_time": "2022-05-31T21:37:00.348Z"
   },
   {
    "duration": 5,
    "start_time": "2022-05-31T21:37:00.463Z"
   },
   {
    "duration": 189,
    "start_time": "2022-05-31T21:37:00.470Z"
   },
   {
    "duration": 11,
    "start_time": "2022-05-31T21:37:00.661Z"
   },
   {
    "duration": 56,
    "start_time": "2022-05-31T21:37:00.674Z"
   },
   {
    "duration": 86,
    "start_time": "2022-05-31T21:37:00.732Z"
   },
   {
    "duration": 6,
    "start_time": "2022-05-31T21:37:00.820Z"
   },
   {
    "duration": 87,
    "start_time": "2022-05-31T21:37:00.829Z"
   },
   {
    "duration": 10,
    "start_time": "2022-05-31T21:37:00.918Z"
   },
   {
    "duration": 48,
    "start_time": "2022-05-31T21:37:00.930Z"
   },
   {
    "duration": 99,
    "start_time": "2022-05-31T21:37:00.980Z"
   },
   {
    "duration": 8,
    "start_time": "2022-05-31T21:37:01.080Z"
   },
   {
    "duration": 26,
    "start_time": "2022-05-31T21:37:01.090Z"
   },
   {
    "duration": 96,
    "start_time": "2022-05-31T21:37:01.117Z"
   },
   {
    "duration": 9,
    "start_time": "2022-05-31T21:37:01.215Z"
   },
   {
    "duration": 18,
    "start_time": "2022-05-31T21:37:01.225Z"
   },
   {
    "duration": 86,
    "start_time": "2022-05-31T21:37:01.245Z"
   },
   {
    "duration": 8,
    "start_time": "2022-05-31T21:37:01.333Z"
   },
   {
    "duration": 220,
    "start_time": "2022-05-31T21:37:01.343Z"
   },
   {
    "duration": 68,
    "start_time": "2022-05-31T21:37:01.565Z"
   },
   {
    "duration": 4,
    "start_time": "2022-05-31T21:37:22.141Z"
   },
   {
    "duration": 4,
    "start_time": "2022-05-31T21:37:37.513Z"
   },
   {
    "duration": 61,
    "start_time": "2022-05-31T21:38:03.664Z"
   },
   {
    "duration": 4,
    "start_time": "2022-05-31T21:38:31.075Z"
   },
   {
    "duration": 10,
    "start_time": "2022-05-31T21:39:06.581Z"
   },
   {
    "duration": 33,
    "start_time": "2022-05-31T21:41:40.214Z"
   },
   {
    "duration": 147,
    "start_time": "2022-05-31T21:41:55.320Z"
   },
   {
    "duration": 4,
    "start_time": "2022-05-31T21:42:00.891Z"
   },
   {
    "duration": 150,
    "start_time": "2022-05-31T21:42:22.274Z"
   },
   {
    "duration": 754,
    "start_time": "2022-05-31T21:48:17.008Z"
   },
   {
    "duration": 739,
    "start_time": "2022-05-31T21:48:20.163Z"
   },
   {
    "duration": 62,
    "start_time": "2022-05-31T21:48:20.904Z"
   },
   {
    "duration": 4,
    "start_time": "2022-05-31T21:48:21.668Z"
   },
   {
    "duration": 3,
    "start_time": "2022-05-31T21:48:25.581Z"
   },
   {
    "duration": 58,
    "start_time": "2022-05-31T21:48:26.062Z"
   },
   {
    "duration": 231,
    "start_time": "2022-05-31T21:48:27.716Z"
   },
   {
    "duration": 9,
    "start_time": "2022-05-31T21:49:12.609Z"
   },
   {
    "duration": 4,
    "start_time": "2022-05-31T21:49:46.374Z"
   },
   {
    "duration": 5,
    "start_time": "2022-05-31T21:49:55.173Z"
   },
   {
    "duration": 115,
    "start_time": "2022-05-31T21:50:05.647Z"
   },
   {
    "duration": 5,
    "start_time": "2022-05-31T21:50:10.261Z"
   },
   {
    "duration": 9,
    "start_time": "2022-05-31T21:50:50.301Z"
   },
   {
    "duration": 4,
    "start_time": "2022-05-31T21:51:03.940Z"
   },
   {
    "duration": 3,
    "start_time": "2022-05-31T21:51:10.486Z"
   },
   {
    "duration": 4,
    "start_time": "2022-05-31T21:51:15.230Z"
   },
   {
    "duration": 4,
    "start_time": "2022-05-31T21:51:26.231Z"
   },
   {
    "duration": 5,
    "start_time": "2022-05-31T21:51:57.123Z"
   },
   {
    "duration": 5,
    "start_time": "2022-05-31T21:52:32.463Z"
   },
   {
    "duration": 261,
    "start_time": "2022-05-31T21:53:06.346Z"
   },
   {
    "duration": 772,
    "start_time": "2022-05-31T21:55:31.221Z"
   },
   {
    "duration": 68,
    "start_time": "2022-05-31T21:55:31.995Z"
   },
   {
    "duration": 4,
    "start_time": "2022-05-31T21:55:33.675Z"
   },
   {
    "duration": 4,
    "start_time": "2022-05-31T21:55:34.269Z"
   },
   {
    "duration": 59,
    "start_time": "2022-05-31T21:55:34.733Z"
   },
   {
    "duration": 255,
    "start_time": "2022-05-31T21:55:35.788Z"
   },
   {
    "duration": 740,
    "start_time": "2022-05-31T21:56:25.742Z"
   },
   {
    "duration": 66,
    "start_time": "2022-05-31T21:56:27.106Z"
   },
   {
    "duration": 776,
    "start_time": "2022-05-31T21:56:33.586Z"
   },
   {
    "duration": 56,
    "start_time": "2022-05-31T21:56:36.340Z"
   },
   {
    "duration": 16,
    "start_time": "2022-05-31T21:57:15.972Z"
   },
   {
    "duration": 1082,
    "start_time": "2022-05-31T21:57:26.598Z"
   },
   {
    "duration": 747,
    "start_time": "2022-05-31T21:57:27.682Z"
   },
   {
    "duration": 12,
    "start_time": "2022-05-31T21:57:28.431Z"
   },
   {
    "duration": 83,
    "start_time": "2022-05-31T21:57:28.444Z"
   },
   {
    "duration": 98,
    "start_time": "2022-05-31T21:57:28.529Z"
   },
   {
    "duration": 116,
    "start_time": "2022-05-31T21:57:28.628Z"
   },
   {
    "duration": 10,
    "start_time": "2022-05-31T21:57:28.745Z"
   },
   {
    "duration": 448,
    "start_time": "2022-05-31T21:57:28.756Z"
   },
   {
    "duration": 918,
    "start_time": "2022-05-31T21:57:29.206Z"
   },
   {
    "duration": 107,
    "start_time": "2022-05-31T21:57:30.125Z"
   },
   {
    "duration": 52,
    "start_time": "2022-05-31T21:57:30.233Z"
   },
   {
    "duration": 3,
    "start_time": "2022-05-31T21:57:30.287Z"
   },
   {
    "duration": 118,
    "start_time": "2022-05-31T21:57:30.292Z"
   },
   {
    "duration": 101,
    "start_time": "2022-05-31T21:57:30.413Z"
   },
   {
    "duration": 39,
    "start_time": "2022-05-31T21:57:30.516Z"
   },
   {
    "duration": 105,
    "start_time": "2022-05-31T21:57:30.557Z"
   },
   {
    "duration": 31,
    "start_time": "2022-05-31T21:57:30.664Z"
   },
   {
    "duration": 107,
    "start_time": "2022-05-31T21:57:30.696Z"
   },
   {
    "duration": 96,
    "start_time": "2022-05-31T21:57:30.804Z"
   },
   {
    "duration": 96,
    "start_time": "2022-05-31T21:57:30.901Z"
   },
   {
    "duration": 85,
    "start_time": "2022-05-31T21:57:30.999Z"
   },
   {
    "duration": 940,
    "start_time": "2022-05-31T21:57:31.086Z"
   },
   {
    "duration": 13,
    "start_time": "2022-05-31T21:57:32.028Z"
   },
   {
    "duration": 21,
    "start_time": "2022-05-31T21:57:32.042Z"
   },
   {
    "duration": 35,
    "start_time": "2022-05-31T21:57:32.064Z"
   },
   {
    "duration": 858,
    "start_time": "2022-05-31T21:57:32.101Z"
   },
   {
    "duration": 115,
    "start_time": "2022-05-31T21:57:32.961Z"
   },
   {
    "duration": 9,
    "start_time": "2022-05-31T21:57:33.077Z"
   },
   {
    "duration": 5,
    "start_time": "2022-05-31T21:57:33.088Z"
   },
   {
    "duration": 18,
    "start_time": "2022-05-31T21:57:33.094Z"
   },
   {
    "duration": 41,
    "start_time": "2022-05-31T21:57:33.113Z"
   },
   {
    "duration": 34,
    "start_time": "2022-05-31T21:57:33.156Z"
   },
   {
    "duration": 1176,
    "start_time": "2022-05-31T21:57:33.191Z"
   },
   {
    "duration": 112,
    "start_time": "2022-05-31T21:57:34.368Z"
   },
   {
    "duration": 5,
    "start_time": "2022-05-31T21:57:34.482Z"
   },
   {
    "duration": 194,
    "start_time": "2022-05-31T21:57:34.489Z"
   },
   {
    "duration": 11,
    "start_time": "2022-05-31T21:57:34.685Z"
   },
   {
    "duration": 4,
    "start_time": "2022-05-31T21:57:34.698Z"
   },
   {
    "duration": 85,
    "start_time": "2022-05-31T21:57:34.704Z"
   },
   {
    "duration": 5,
    "start_time": "2022-05-31T21:57:34.791Z"
   },
   {
    "duration": 70,
    "start_time": "2022-05-31T21:57:34.799Z"
   },
   {
    "duration": 11,
    "start_time": "2022-05-31T21:57:34.870Z"
   },
   {
    "duration": 30,
    "start_time": "2022-05-31T21:57:34.882Z"
   },
   {
    "duration": 97,
    "start_time": "2022-05-31T21:57:34.914Z"
   },
   {
    "duration": 7,
    "start_time": "2022-05-31T21:57:35.013Z"
   },
   {
    "duration": 8,
    "start_time": "2022-05-31T21:57:35.022Z"
   },
   {
    "duration": 84,
    "start_time": "2022-05-31T21:57:35.031Z"
   },
   {
    "duration": 10,
    "start_time": "2022-05-31T21:57:35.117Z"
   },
   {
    "duration": 5,
    "start_time": "2022-05-31T21:57:35.128Z"
   },
   {
    "duration": 69,
    "start_time": "2022-05-31T21:57:35.135Z"
   },
   {
    "duration": 9,
    "start_time": "2022-05-31T21:57:35.206Z"
   },
   {
    "duration": 973,
    "start_time": "2022-05-31T21:57:35.216Z"
   },
   {
    "duration": 89,
    "start_time": "2022-05-31T21:57:36.191Z"
   },
   {
    "duration": 4,
    "start_time": "2022-05-31T21:57:36.282Z"
   },
   {
    "duration": 5,
    "start_time": "2022-05-31T21:57:36.288Z"
   },
   {
    "duration": 95,
    "start_time": "2022-05-31T21:57:36.295Z"
   },
   {
    "duration": 185,
    "start_time": "2022-05-31T21:57:36.392Z"
   },
   {
    "duration": 4,
    "start_time": "2022-05-31T21:57:36.579Z"
   },
   {
    "duration": 1151,
    "start_time": "2022-05-31T21:58:24.025Z"
   },
   {
    "duration": 755,
    "start_time": "2022-05-31T21:58:25.178Z"
   },
   {
    "duration": 12,
    "start_time": "2022-05-31T21:58:25.934Z"
   },
   {
    "duration": 86,
    "start_time": "2022-05-31T21:58:25.947Z"
   },
   {
    "duration": 97,
    "start_time": "2022-05-31T21:58:26.035Z"
   },
   {
    "duration": 124,
    "start_time": "2022-05-31T21:58:26.134Z"
   },
   {
    "duration": 3,
    "start_time": "2022-05-31T21:58:26.259Z"
   },
   {
    "duration": 425,
    "start_time": "2022-05-31T21:58:26.263Z"
   },
   {
    "duration": 877,
    "start_time": "2022-05-31T21:58:26.690Z"
   },
   {
    "duration": 113,
    "start_time": "2022-05-31T21:58:27.569Z"
   },
   {
    "duration": 41,
    "start_time": "2022-05-31T21:58:27.684Z"
   },
   {
    "duration": 4,
    "start_time": "2022-05-31T21:58:27.727Z"
   },
   {
    "duration": 94,
    "start_time": "2022-05-31T21:58:27.732Z"
   },
   {
    "duration": 100,
    "start_time": "2022-05-31T21:58:27.829Z"
   },
   {
    "duration": 32,
    "start_time": "2022-05-31T21:58:27.930Z"
   },
   {
    "duration": 103,
    "start_time": "2022-05-31T21:58:27.963Z"
   },
   {
    "duration": 31,
    "start_time": "2022-05-31T21:58:28.067Z"
   },
   {
    "duration": 100,
    "start_time": "2022-05-31T21:58:28.100Z"
   },
   {
    "duration": 98,
    "start_time": "2022-05-31T21:58:28.202Z"
   },
   {
    "duration": 94,
    "start_time": "2022-05-31T21:58:28.301Z"
   },
   {
    "duration": 78,
    "start_time": "2022-05-31T21:58:28.397Z"
   },
   {
    "duration": 904,
    "start_time": "2022-05-31T21:58:28.477Z"
   },
   {
    "duration": 13,
    "start_time": "2022-05-31T21:58:29.382Z"
   },
   {
    "duration": 12,
    "start_time": "2022-05-31T21:58:29.397Z"
   },
   {
    "duration": 46,
    "start_time": "2022-05-31T21:58:29.411Z"
   },
   {
    "duration": 845,
    "start_time": "2022-05-31T21:58:29.459Z"
   },
   {
    "duration": 113,
    "start_time": "2022-05-31T21:58:30.305Z"
   },
   {
    "duration": 10,
    "start_time": "2022-05-31T21:58:30.420Z"
   },
   {
    "duration": 7,
    "start_time": "2022-05-31T21:58:30.431Z"
   },
   {
    "duration": 20,
    "start_time": "2022-05-31T21:58:30.455Z"
   },
   {
    "duration": 28,
    "start_time": "2022-05-31T21:58:30.477Z"
   },
   {
    "duration": 67,
    "start_time": "2022-05-31T21:58:30.506Z"
   },
   {
    "duration": 1204,
    "start_time": "2022-05-31T21:58:30.574Z"
   },
   {
    "duration": 119,
    "start_time": "2022-05-31T21:58:31.779Z"
   },
   {
    "duration": 5,
    "start_time": "2022-05-31T21:58:31.900Z"
   },
   {
    "duration": 205,
    "start_time": "2022-05-31T21:58:31.907Z"
   },
   {
    "duration": 16,
    "start_time": "2022-05-31T21:58:32.114Z"
   },
   {
    "duration": 5,
    "start_time": "2022-05-31T21:58:32.131Z"
   },
   {
    "duration": 84,
    "start_time": "2022-05-31T21:58:32.137Z"
   },
   {
    "duration": 6,
    "start_time": "2022-05-31T21:58:32.222Z"
   },
   {
    "duration": 72,
    "start_time": "2022-05-31T21:58:32.231Z"
   },
   {
    "duration": 11,
    "start_time": "2022-05-31T21:58:32.304Z"
   },
   {
    "duration": 43,
    "start_time": "2022-05-31T21:58:32.317Z"
   },
   {
    "duration": 94,
    "start_time": "2022-05-31T21:58:32.361Z"
   },
   {
    "duration": 8,
    "start_time": "2022-05-31T21:58:32.456Z"
   },
   {
    "duration": 5,
    "start_time": "2022-05-31T21:58:32.465Z"
   },
   {
    "duration": 82,
    "start_time": "2022-05-31T21:58:32.472Z"
   },
   {
    "duration": 9,
    "start_time": "2022-05-31T21:58:32.556Z"
   },
   {
    "duration": 4,
    "start_time": "2022-05-31T21:58:32.566Z"
   },
   {
    "duration": 66,
    "start_time": "2022-05-31T21:58:32.572Z"
   },
   {
    "duration": 16,
    "start_time": "2022-05-31T21:58:32.639Z"
   },
   {
    "duration": 890,
    "start_time": "2022-05-31T21:58:32.656Z"
   },
   {
    "duration": 110,
    "start_time": "2022-05-31T21:58:33.548Z"
   },
   {
    "duration": 5,
    "start_time": "2022-05-31T21:58:33.660Z"
   },
   {
    "duration": 6,
    "start_time": "2022-05-31T21:58:33.667Z"
   },
   {
    "duration": 110,
    "start_time": "2022-05-31T21:58:33.675Z"
   },
   {
    "duration": 148,
    "start_time": "2022-05-31T21:58:33.787Z"
   },
   {
    "duration": 4,
    "start_time": "2022-05-31T21:58:33.936Z"
   },
   {
    "duration": 34,
    "start_time": "2022-05-31T21:59:09.255Z"
   },
   {
    "duration": 14,
    "start_time": "2022-05-31T21:59:30.229Z"
   },
   {
    "duration": 136,
    "start_time": "2022-05-31T22:11:20.309Z"
   },
   {
    "duration": 49,
    "start_time": "2022-05-31T22:11:26.740Z"
   },
   {
    "duration": 1132,
    "start_time": "2022-05-31T22:11:35.651Z"
   },
   {
    "duration": 785,
    "start_time": "2022-05-31T22:11:36.785Z"
   },
   {
    "duration": 11,
    "start_time": "2022-05-31T22:11:37.572Z"
   },
   {
    "duration": 93,
    "start_time": "2022-05-31T22:11:37.585Z"
   },
   {
    "duration": 102,
    "start_time": "2022-05-31T22:11:37.680Z"
   },
   {
    "duration": 120,
    "start_time": "2022-05-31T22:11:37.783Z"
   },
   {
    "duration": 3,
    "start_time": "2022-05-31T22:11:37.904Z"
   },
   {
    "duration": 434,
    "start_time": "2022-05-31T22:11:37.909Z"
   },
   {
    "duration": 950,
    "start_time": "2022-05-31T22:11:38.344Z"
   },
   {
    "duration": 111,
    "start_time": "2022-05-31T22:11:39.295Z"
   },
   {
    "duration": 50,
    "start_time": "2022-05-31T22:11:39.408Z"
   },
   {
    "duration": 4,
    "start_time": "2022-05-31T22:11:39.459Z"
   },
   {
    "duration": 81,
    "start_time": "2022-05-31T22:11:39.464Z"
   },
   {
    "duration": 91,
    "start_time": "2022-05-31T22:11:39.555Z"
   },
   {
    "duration": 37,
    "start_time": "2022-05-31T22:11:39.647Z"
   },
   {
    "duration": 104,
    "start_time": "2022-05-31T22:11:39.686Z"
   },
   {
    "duration": 31,
    "start_time": "2022-05-31T22:11:39.792Z"
   },
   {
    "duration": 99,
    "start_time": "2022-05-31T22:11:39.825Z"
   },
   {
    "duration": 98,
    "start_time": "2022-05-31T22:11:39.925Z"
   },
   {
    "duration": 94,
    "start_time": "2022-05-31T22:11:40.025Z"
   },
   {
    "duration": 77,
    "start_time": "2022-05-31T22:11:40.121Z"
   },
   {
    "duration": 857,
    "start_time": "2022-05-31T22:11:40.199Z"
   },
   {
    "duration": 12,
    "start_time": "2022-05-31T22:11:41.058Z"
   },
   {
    "duration": 12,
    "start_time": "2022-05-31T22:11:41.071Z"
   },
   {
    "duration": 26,
    "start_time": "2022-05-31T22:11:41.084Z"
   },
   {
    "duration": 902,
    "start_time": "2022-05-31T22:11:41.112Z"
   },
   {
    "duration": 115,
    "start_time": "2022-05-31T22:11:42.016Z"
   },
   {
    "duration": 8,
    "start_time": "2022-05-31T22:11:42.132Z"
   },
   {
    "duration": 13,
    "start_time": "2022-05-31T22:11:42.142Z"
   },
   {
    "duration": 23,
    "start_time": "2022-05-31T22:11:42.156Z"
   },
   {
    "duration": 23,
    "start_time": "2022-05-31T22:11:42.180Z"
   },
   {
    "duration": 49,
    "start_time": "2022-05-31T22:11:42.205Z"
   },
   {
    "duration": 1144,
    "start_time": "2022-05-31T22:11:42.256Z"
   },
   {
    "duration": 110,
    "start_time": "2022-05-31T22:11:43.401Z"
   },
   {
    "duration": 6,
    "start_time": "2022-05-31T22:11:43.512Z"
   },
   {
    "duration": 187,
    "start_time": "2022-05-31T22:11:43.519Z"
   },
   {
    "duration": 10,
    "start_time": "2022-05-31T22:11:43.708Z"
   },
   {
    "duration": 7,
    "start_time": "2022-05-31T22:11:43.719Z"
   },
   {
    "duration": 81,
    "start_time": "2022-05-31T22:11:43.728Z"
   },
   {
    "duration": 5,
    "start_time": "2022-05-31T22:11:43.811Z"
   },
   {
    "duration": 72,
    "start_time": "2022-05-31T22:11:43.821Z"
   },
   {
    "duration": 11,
    "start_time": "2022-05-31T22:11:43.895Z"
   },
   {
    "duration": 47,
    "start_time": "2022-05-31T22:11:43.907Z"
   },
   {
    "duration": 79,
    "start_time": "2022-05-31T22:11:43.956Z"
   },
   {
    "duration": 21,
    "start_time": "2022-05-31T22:11:44.037Z"
   },
   {
    "duration": 5,
    "start_time": "2022-05-31T22:11:44.060Z"
   },
   {
    "duration": 67,
    "start_time": "2022-05-31T22:11:44.067Z"
   },
   {
    "duration": 27,
    "start_time": "2022-05-31T22:11:44.135Z"
   },
   {
    "duration": 4,
    "start_time": "2022-05-31T22:11:44.164Z"
   },
   {
    "duration": 61,
    "start_time": "2022-05-31T22:11:44.169Z"
   },
   {
    "duration": 24,
    "start_time": "2022-05-31T22:11:44.232Z"
   },
   {
    "duration": 797,
    "start_time": "2022-05-31T22:11:44.257Z"
   },
   {
    "duration": 38,
    "start_time": "2022-05-31T22:11:45.056Z"
   },
   {
    "duration": 18,
    "start_time": "2022-05-31T22:11:45.095Z"
   },
   {
    "duration": 7,
    "start_time": "2022-05-31T22:11:45.115Z"
   },
   {
    "duration": 88,
    "start_time": "2022-05-31T22:11:45.123Z"
   },
   {
    "duration": 256,
    "start_time": "2022-05-31T22:11:45.213Z"
   },
   {
    "duration": 4,
    "start_time": "2022-05-31T22:11:45.471Z"
   },
   {
    "duration": 12,
    "start_time": "2022-05-31T23:30:33.911Z"
   },
   {
    "duration": 955,
    "start_time": "2022-05-31T23:30:38.733Z"
   },
   {
    "duration": 33,
    "start_time": "2022-05-31T23:30:39.690Z"
   },
   {
    "duration": 10,
    "start_time": "2022-05-31T23:30:47.596Z"
   },
   {
    "duration": 109,
    "start_time": "2022-05-31T23:34:04.270Z"
   },
   {
    "duration": 1116,
    "start_time": "2022-05-31T23:34:27.072Z"
   },
   {
    "duration": 769,
    "start_time": "2022-05-31T23:34:28.190Z"
   },
   {
    "duration": 84,
    "start_time": "2022-05-31T23:34:28.961Z"
   },
   {
    "duration": 88,
    "start_time": "2022-05-31T23:34:29.047Z"
   },
   {
    "duration": 104,
    "start_time": "2022-05-31T23:34:29.138Z"
   },
   {
    "duration": 127,
    "start_time": "2022-05-31T23:34:29.244Z"
   },
   {
    "duration": 3,
    "start_time": "2022-05-31T23:34:29.373Z"
   },
   {
    "duration": 437,
    "start_time": "2022-05-31T23:34:29.377Z"
   },
   {
    "duration": 966,
    "start_time": "2022-05-31T23:34:29.816Z"
   },
   {
    "duration": 110,
    "start_time": "2022-05-31T23:34:30.784Z"
   },
   {
    "duration": 58,
    "start_time": "2022-05-31T23:34:30.896Z"
   },
   {
    "duration": 4,
    "start_time": "2022-05-31T23:34:30.956Z"
   },
   {
    "duration": 89,
    "start_time": "2022-05-31T23:34:30.961Z"
   },
   {
    "duration": 103,
    "start_time": "2022-05-31T23:34:31.053Z"
   },
   {
    "duration": 32,
    "start_time": "2022-05-31T23:34:31.158Z"
   },
   {
    "duration": 103,
    "start_time": "2022-05-31T23:34:31.191Z"
   },
   {
    "duration": 32,
    "start_time": "2022-05-31T23:34:31.295Z"
   },
   {
    "duration": 122,
    "start_time": "2022-05-31T23:34:31.328Z"
   },
   {
    "duration": 99,
    "start_time": "2022-05-31T23:34:31.455Z"
   },
   {
    "duration": 102,
    "start_time": "2022-05-31T23:34:31.556Z"
   },
   {
    "duration": 73,
    "start_time": "2022-05-31T23:34:31.660Z"
   },
   {
    "duration": 800,
    "start_time": "2022-05-31T23:34:31.735Z"
   },
   {
    "duration": 18,
    "start_time": "2022-05-31T23:34:32.537Z"
   },
   {
    "duration": 11,
    "start_time": "2022-05-31T23:34:32.556Z"
   },
   {
    "duration": 34,
    "start_time": "2022-05-31T23:34:32.569Z"
   },
   {
    "duration": 852,
    "start_time": "2022-05-31T23:34:32.604Z"
   },
   {
    "duration": 110,
    "start_time": "2022-05-31T23:34:33.458Z"
   },
   {
    "duration": 8,
    "start_time": "2022-05-31T23:34:33.570Z"
   },
   {
    "duration": 5,
    "start_time": "2022-05-31T23:34:33.580Z"
   },
   {
    "duration": 18,
    "start_time": "2022-05-31T23:34:33.587Z"
   },
   {
    "duration": 24,
    "start_time": "2022-05-31T23:34:33.607Z"
   },
   {
    "duration": 34,
    "start_time": "2022-05-31T23:34:33.655Z"
   },
   {
    "duration": 1153,
    "start_time": "2022-05-31T23:34:33.690Z"
   },
   {
    "duration": 113,
    "start_time": "2022-05-31T23:34:34.845Z"
   },
   {
    "duration": 6,
    "start_time": "2022-05-31T23:34:34.959Z"
   },
   {
    "duration": 206,
    "start_time": "2022-05-31T23:34:34.966Z"
   },
   {
    "duration": 11,
    "start_time": "2022-05-31T23:34:35.174Z"
   },
   {
    "duration": 4,
    "start_time": "2022-05-31T23:34:35.187Z"
   },
   {
    "duration": 92,
    "start_time": "2022-05-31T23:34:35.193Z"
   },
   {
    "duration": 6,
    "start_time": "2022-05-31T23:34:35.286Z"
   },
   {
    "duration": 72,
    "start_time": "2022-05-31T23:34:35.295Z"
   },
   {
    "duration": 11,
    "start_time": "2022-05-31T23:34:35.368Z"
   },
   {
    "duration": 31,
    "start_time": "2022-05-31T23:34:35.381Z"
   },
   {
    "duration": 101,
    "start_time": "2022-05-31T23:34:35.413Z"
   },
   {
    "duration": 8,
    "start_time": "2022-05-31T23:34:35.516Z"
   },
   {
    "duration": 5,
    "start_time": "2022-05-31T23:34:35.525Z"
   },
   {
    "duration": 89,
    "start_time": "2022-05-31T23:34:35.531Z"
   },
   {
    "duration": 10,
    "start_time": "2022-05-31T23:34:35.622Z"
   },
   {
    "duration": 4,
    "start_time": "2022-05-31T23:34:35.633Z"
   },
   {
    "duration": 61,
    "start_time": "2022-05-31T23:34:35.654Z"
   },
   {
    "duration": 7,
    "start_time": "2022-05-31T23:34:35.717Z"
   },
   {
    "duration": 808,
    "start_time": "2022-05-31T23:34:35.725Z"
   },
   {
    "duration": 28,
    "start_time": "2022-05-31T23:34:36.535Z"
   },
   {
    "duration": 74,
    "start_time": "2022-05-31T23:34:36.564Z"
   },
   {
    "duration": 4,
    "start_time": "2022-05-31T23:46:07.381Z"
   },
   {
    "duration": 132,
    "start_time": "2022-05-31T23:46:35.528Z"
   },
   {
    "duration": 1234,
    "start_time": "2022-05-31T23:46:41.027Z"
   },
   {
    "duration": 749,
    "start_time": "2022-05-31T23:46:42.263Z"
   },
   {
    "duration": 12,
    "start_time": "2022-05-31T23:46:43.013Z"
   },
   {
    "duration": 86,
    "start_time": "2022-05-31T23:46:43.027Z"
   },
   {
    "duration": 97,
    "start_time": "2022-05-31T23:46:43.115Z"
   },
   {
    "duration": 119,
    "start_time": "2022-05-31T23:46:43.214Z"
   },
   {
    "duration": 3,
    "start_time": "2022-05-31T23:46:43.335Z"
   },
   {
    "duration": 427,
    "start_time": "2022-05-31T23:46:43.339Z"
   },
   {
    "duration": 898,
    "start_time": "2022-05-31T23:46:43.767Z"
   },
   {
    "duration": 108,
    "start_time": "2022-05-31T23:46:44.668Z"
   },
   {
    "duration": 42,
    "start_time": "2022-05-31T23:46:44.777Z"
   },
   {
    "duration": 4,
    "start_time": "2022-05-31T23:46:44.821Z"
   },
   {
    "duration": 93,
    "start_time": "2022-05-31T23:46:44.826Z"
   },
   {
    "duration": 100,
    "start_time": "2022-05-31T23:46:44.921Z"
   },
   {
    "duration": 37,
    "start_time": "2022-05-31T23:46:45.023Z"
   },
   {
    "duration": 103,
    "start_time": "2022-05-31T23:46:45.061Z"
   },
   {
    "duration": 31,
    "start_time": "2022-05-31T23:46:45.166Z"
   },
   {
    "duration": 102,
    "start_time": "2022-05-31T23:46:45.198Z"
   },
   {
    "duration": 99,
    "start_time": "2022-05-31T23:46:45.301Z"
   },
   {
    "duration": 90,
    "start_time": "2022-05-31T23:46:45.402Z"
   },
   {
    "duration": 90,
    "start_time": "2022-05-31T23:46:45.493Z"
   },
   {
    "duration": 793,
    "start_time": "2022-05-31T23:46:45.584Z"
   },
   {
    "duration": 13,
    "start_time": "2022-05-31T23:46:46.379Z"
   },
   {
    "duration": 12,
    "start_time": "2022-05-31T23:46:46.393Z"
   },
   {
    "duration": 47,
    "start_time": "2022-05-31T23:46:46.407Z"
   },
   {
    "duration": 830,
    "start_time": "2022-05-31T23:46:46.456Z"
   },
   {
    "duration": 118,
    "start_time": "2022-05-31T23:46:47.288Z"
   },
   {
    "duration": 8,
    "start_time": "2022-05-31T23:46:47.409Z"
   },
   {
    "duration": 5,
    "start_time": "2022-05-31T23:46:47.418Z"
   },
   {
    "duration": 31,
    "start_time": "2022-05-31T23:46:47.424Z"
   },
   {
    "duration": 23,
    "start_time": "2022-05-31T23:46:47.456Z"
   },
   {
    "duration": 34,
    "start_time": "2022-05-31T23:46:47.480Z"
   },
   {
    "duration": 1123,
    "start_time": "2022-05-31T23:46:47.516Z"
   },
   {
    "duration": 108,
    "start_time": "2022-05-31T23:46:48.641Z"
   },
   {
    "duration": 6,
    "start_time": "2022-05-31T23:46:48.750Z"
   },
   {
    "duration": 183,
    "start_time": "2022-05-31T23:46:48.757Z"
   },
   {
    "duration": 15,
    "start_time": "2022-05-31T23:46:48.941Z"
   },
   {
    "duration": 7,
    "start_time": "2022-05-31T23:46:48.957Z"
   },
   {
    "duration": 73,
    "start_time": "2022-05-31T23:46:48.965Z"
   },
   {
    "duration": 15,
    "start_time": "2022-05-31T23:46:49.040Z"
   },
   {
    "duration": 71,
    "start_time": "2022-05-31T23:46:49.057Z"
   },
   {
    "duration": 23,
    "start_time": "2022-05-31T23:46:49.130Z"
   },
   {
    "duration": 40,
    "start_time": "2022-05-31T23:46:49.155Z"
   },
   {
    "duration": 98,
    "start_time": "2022-05-31T23:46:49.197Z"
   },
   {
    "duration": 9,
    "start_time": "2022-05-31T23:46:49.297Z"
   },
   {
    "duration": 6,
    "start_time": "2022-05-31T23:46:49.307Z"
   },
   {
    "duration": 86,
    "start_time": "2022-05-31T23:46:49.315Z"
   },
   {
    "duration": 9,
    "start_time": "2022-05-31T23:46:49.402Z"
   },
   {
    "duration": 4,
    "start_time": "2022-05-31T23:46:49.413Z"
   },
   {
    "duration": 75,
    "start_time": "2022-05-31T23:46:49.418Z"
   },
   {
    "duration": 7,
    "start_time": "2022-05-31T23:46:49.494Z"
   },
   {
    "duration": 805,
    "start_time": "2022-05-31T23:46:49.503Z"
   },
   {
    "duration": 27,
    "start_time": "2022-05-31T23:46:50.310Z"
   },
   {
    "duration": 77,
    "start_time": "2022-05-31T23:46:50.339Z"
   },
   {
    "duration": 4,
    "start_time": "2022-05-31T23:46:50.418Z"
   },
   {
    "duration": 179,
    "start_time": "2022-05-31T23:47:41.222Z"
   },
   {
    "duration": 23,
    "start_time": "2022-05-31T23:48:20.708Z"
   },
   {
    "duration": 790,
    "start_time": "2022-05-31T23:49:19.523Z"
   },
   {
    "duration": 22,
    "start_time": "2022-05-31T23:49:21.699Z"
   },
   {
    "duration": 34,
    "start_time": "2022-05-31T23:49:23.044Z"
   },
   {
    "duration": 1249,
    "start_time": "2022-05-31T23:49:31.924Z"
   },
   {
    "duration": 751,
    "start_time": "2022-05-31T23:49:33.175Z"
   },
   {
    "duration": 11,
    "start_time": "2022-05-31T23:49:33.928Z"
   },
   {
    "duration": 86,
    "start_time": "2022-05-31T23:49:33.941Z"
   },
   {
    "duration": 89,
    "start_time": "2022-05-31T23:49:34.029Z"
   },
   {
    "duration": 119,
    "start_time": "2022-05-31T23:49:34.120Z"
   },
   {
    "duration": 3,
    "start_time": "2022-05-31T23:49:34.241Z"
   },
   {
    "duration": 407,
    "start_time": "2022-05-31T23:49:34.254Z"
   },
   {
    "duration": 891,
    "start_time": "2022-05-31T23:49:34.663Z"
   },
   {
    "duration": 115,
    "start_time": "2022-05-31T23:49:35.557Z"
   },
   {
    "duration": 48,
    "start_time": "2022-05-31T23:49:35.673Z"
   },
   {
    "duration": 4,
    "start_time": "2022-05-31T23:49:35.722Z"
   },
   {
    "duration": 91,
    "start_time": "2022-05-31T23:49:35.727Z"
   },
   {
    "duration": 104,
    "start_time": "2022-05-31T23:49:35.820Z"
   },
   {
    "duration": 36,
    "start_time": "2022-05-31T23:49:35.925Z"
   },
   {
    "duration": 97,
    "start_time": "2022-05-31T23:49:35.962Z"
   },
   {
    "duration": 32,
    "start_time": "2022-05-31T23:49:36.061Z"
   },
   {
    "duration": 108,
    "start_time": "2022-05-31T23:49:36.095Z"
   },
   {
    "duration": 100,
    "start_time": "2022-05-31T23:49:36.204Z"
   },
   {
    "duration": 96,
    "start_time": "2022-05-31T23:49:36.306Z"
   },
   {
    "duration": 79,
    "start_time": "2022-05-31T23:49:36.404Z"
   },
   {
    "duration": 818,
    "start_time": "2022-05-31T23:49:36.485Z"
   },
   {
    "duration": 12,
    "start_time": "2022-05-31T23:49:37.305Z"
   },
   {
    "duration": 11,
    "start_time": "2022-05-31T23:49:37.319Z"
   },
   {
    "duration": 58,
    "start_time": "2022-05-31T23:49:37.332Z"
   },
   {
    "duration": 874,
    "start_time": "2022-05-31T23:49:37.391Z"
   },
   {
    "duration": 116,
    "start_time": "2022-05-31T23:49:38.267Z"
   },
   {
    "duration": 9,
    "start_time": "2022-05-31T23:49:38.386Z"
   },
   {
    "duration": 7,
    "start_time": "2022-05-31T23:49:38.397Z"
   },
   {
    "duration": 18,
    "start_time": "2022-05-31T23:49:38.405Z"
   },
   {
    "duration": 40,
    "start_time": "2022-05-31T23:49:38.424Z"
   },
   {
    "duration": 35,
    "start_time": "2022-05-31T23:49:38.466Z"
   },
   {
    "duration": 1195,
    "start_time": "2022-05-31T23:49:38.503Z"
   },
   {
    "duration": 109,
    "start_time": "2022-05-31T23:49:39.700Z"
   },
   {
    "duration": 5,
    "start_time": "2022-05-31T23:49:39.811Z"
   },
   {
    "duration": 184,
    "start_time": "2022-05-31T23:49:39.817Z"
   },
   {
    "duration": 11,
    "start_time": "2022-05-31T23:49:40.002Z"
   },
   {
    "duration": 8,
    "start_time": "2022-05-31T23:49:40.014Z"
   },
   {
    "duration": 81,
    "start_time": "2022-05-31T23:49:40.024Z"
   },
   {
    "duration": 5,
    "start_time": "2022-05-31T23:49:40.106Z"
   },
   {
    "duration": 71,
    "start_time": "2022-05-31T23:49:40.113Z"
   },
   {
    "duration": 10,
    "start_time": "2022-05-31T23:49:40.186Z"
   },
   {
    "duration": 30,
    "start_time": "2022-05-31T23:49:40.198Z"
   },
   {
    "duration": 95,
    "start_time": "2022-05-31T23:49:40.229Z"
   },
   {
    "duration": 8,
    "start_time": "2022-05-31T23:49:40.325Z"
   },
   {
    "duration": 5,
    "start_time": "2022-05-31T23:49:40.334Z"
   },
   {
    "duration": 77,
    "start_time": "2022-05-31T23:49:40.340Z"
   },
   {
    "duration": 10,
    "start_time": "2022-05-31T23:49:40.419Z"
   },
   {
    "duration": 5,
    "start_time": "2022-05-31T23:49:40.430Z"
   },
   {
    "duration": 60,
    "start_time": "2022-05-31T23:49:40.454Z"
   },
   {
    "duration": 7,
    "start_time": "2022-05-31T23:49:40.516Z"
   },
   {
    "duration": 833,
    "start_time": "2022-05-31T23:49:40.524Z"
   },
   {
    "duration": 31,
    "start_time": "2022-05-31T23:49:41.360Z"
   },
   {
    "duration": 82,
    "start_time": "2022-05-31T23:49:41.393Z"
   },
   {
    "duration": 21,
    "start_time": "2022-05-31T23:49:41.476Z"
   },
   {
    "duration": 141,
    "start_time": "2022-05-31T23:49:41.499Z"
   },
   {
    "duration": 456,
    "start_time": "2022-05-31T23:51:23.913Z"
   },
   {
    "duration": 16,
    "start_time": "2022-05-31T23:53:56.311Z"
   },
   {
    "duration": 4,
    "start_time": "2022-06-01T00:01:07.413Z"
   },
   {
    "duration": 5,
    "start_time": "2022-06-01T00:01:16.993Z"
   },
   {
    "duration": 5,
    "start_time": "2022-06-01T00:02:05.118Z"
   },
   {
    "duration": 1623,
    "start_time": "2022-06-01T08:15:01.569Z"
   },
   {
    "duration": 1186,
    "start_time": "2022-06-01T08:15:03.194Z"
   },
   {
    "duration": 13,
    "start_time": "2022-06-01T08:15:04.382Z"
   },
   {
    "duration": 78,
    "start_time": "2022-06-01T08:15:04.397Z"
   },
   {
    "duration": 121,
    "start_time": "2022-06-01T08:15:04.478Z"
   },
   {
    "duration": 135,
    "start_time": "2022-06-01T08:15:04.600Z"
   },
   {
    "duration": 3,
    "start_time": "2022-06-01T08:15:04.737Z"
   },
   {
    "duration": 515,
    "start_time": "2022-06-01T08:15:04.742Z"
   },
   {
    "duration": 1002,
    "start_time": "2022-06-01T08:15:05.258Z"
   },
   {
    "duration": 122,
    "start_time": "2022-06-01T08:15:06.265Z"
   },
   {
    "duration": 40,
    "start_time": "2022-06-01T08:15:06.389Z"
   },
   {
    "duration": 5,
    "start_time": "2022-06-01T08:15:06.431Z"
   },
   {
    "duration": 119,
    "start_time": "2022-06-01T08:15:06.438Z"
   },
   {
    "duration": 134,
    "start_time": "2022-06-01T08:15:06.565Z"
   },
   {
    "duration": 37,
    "start_time": "2022-06-01T08:15:06.700Z"
   },
   {
    "duration": 131,
    "start_time": "2022-06-01T08:15:06.739Z"
   },
   {
    "duration": 47,
    "start_time": "2022-06-01T08:15:06.872Z"
   },
   {
    "duration": 149,
    "start_time": "2022-06-01T08:15:06.921Z"
   },
   {
    "duration": 123,
    "start_time": "2022-06-01T08:15:07.072Z"
   },
   {
    "duration": 128,
    "start_time": "2022-06-01T08:15:07.197Z"
   },
   {
    "duration": 109,
    "start_time": "2022-06-01T08:15:07.327Z"
   },
   {
    "duration": 1059,
    "start_time": "2022-06-01T08:15:07.439Z"
   },
   {
    "duration": 13,
    "start_time": "2022-06-01T08:15:08.500Z"
   },
   {
    "duration": 13,
    "start_time": "2022-06-01T08:15:08.515Z"
   },
   {
    "duration": 47,
    "start_time": "2022-06-01T08:15:08.530Z"
   },
   {
    "duration": 1072,
    "start_time": "2022-06-01T08:15:08.579Z"
   },
   {
    "duration": 134,
    "start_time": "2022-06-01T08:15:09.652Z"
   },
   {
    "duration": 9,
    "start_time": "2022-06-01T08:15:09.789Z"
   },
   {
    "duration": 7,
    "start_time": "2022-06-01T08:15:09.800Z"
   },
   {
    "duration": 21,
    "start_time": "2022-06-01T08:15:09.809Z"
   },
   {
    "duration": 51,
    "start_time": "2022-06-01T08:15:09.832Z"
   },
   {
    "duration": 36,
    "start_time": "2022-06-01T08:15:09.884Z"
   },
   {
    "duration": 1363,
    "start_time": "2022-06-01T08:15:09.922Z"
   },
   {
    "duration": 137,
    "start_time": "2022-06-01T08:15:11.287Z"
   },
   {
    "duration": 5,
    "start_time": "2022-06-01T08:15:11.426Z"
   },
   {
    "duration": 434,
    "start_time": "2022-06-01T08:15:11.433Z"
   },
   {
    "duration": 12,
    "start_time": "2022-06-01T08:15:11.869Z"
   },
   {
    "duration": 11,
    "start_time": "2022-06-01T08:15:11.883Z"
   },
   {
    "duration": 194,
    "start_time": "2022-06-01T08:15:11.895Z"
   },
   {
    "duration": 8,
    "start_time": "2022-06-01T08:15:12.092Z"
   },
   {
    "duration": 108,
    "start_time": "2022-06-01T08:15:12.101Z"
   },
   {
    "duration": 13,
    "start_time": "2022-06-01T08:15:12.264Z"
   },
   {
    "duration": 92,
    "start_time": "2022-06-01T08:15:12.279Z"
   },
   {
    "duration": 113,
    "start_time": "2022-06-01T08:15:12.373Z"
   },
   {
    "duration": 10,
    "start_time": "2022-06-01T08:15:12.488Z"
   },
   {
    "duration": 12,
    "start_time": "2022-06-01T08:15:12.500Z"
   },
   {
    "duration": 106,
    "start_time": "2022-06-01T08:15:12.514Z"
   },
   {
    "duration": 10,
    "start_time": "2022-06-01T08:15:12.622Z"
   },
   {
    "duration": 12,
    "start_time": "2022-06-01T08:15:12.634Z"
   },
   {
    "duration": 88,
    "start_time": "2022-06-01T08:15:12.648Z"
   },
   {
    "duration": 9,
    "start_time": "2022-06-01T08:15:12.738Z"
   },
   {
    "duration": 902,
    "start_time": "2022-06-01T08:15:12.748Z"
   },
   {
    "duration": 36,
    "start_time": "2022-06-01T08:15:13.652Z"
   },
   {
    "duration": 78,
    "start_time": "2022-06-01T08:15:13.690Z"
   },
   {
    "duration": 596,
    "start_time": "2022-06-01T08:15:13.770Z"
   },
   {
    "duration": 14,
    "start_time": "2022-06-01T08:15:14.368Z"
   },
   {
    "duration": 184,
    "start_time": "2022-06-01T08:15:14.385Z"
   },
   {
    "duration": 27,
    "start_time": "2022-06-01T08:37:59.942Z"
   },
   {
    "duration": 553,
    "start_time": "2022-06-01T08:38:11.713Z"
   },
   {
    "duration": 505,
    "start_time": "2022-06-01T08:38:56.862Z"
   },
   {
    "duration": 487,
    "start_time": "2022-06-01T08:39:21.387Z"
   },
   {
    "duration": 499,
    "start_time": "2022-06-01T08:39:34.474Z"
   },
   {
    "duration": 4310,
    "start_time": "2022-06-01T08:41:29.769Z"
   },
   {
    "duration": 654,
    "start_time": "2022-06-01T08:41:53.512Z"
   },
   {
    "duration": 4578,
    "start_time": "2022-06-01T08:42:02.003Z"
   },
   {
    "duration": 484,
    "start_time": "2022-06-01T08:42:12.405Z"
   },
   {
    "duration": 3,
    "start_time": "2022-06-01T08:42:30.784Z"
   },
   {
    "duration": 4561,
    "start_time": "2022-06-01T08:42:49.707Z"
   },
   {
    "duration": 4,
    "start_time": "2022-06-01T08:42:55.453Z"
   },
   {
    "duration": 4806,
    "start_time": "2022-06-01T08:43:12.780Z"
   },
   {
    "duration": 534,
    "start_time": "2022-06-01T08:43:31.532Z"
   },
   {
    "duration": 542,
    "start_time": "2022-06-01T08:44:03.241Z"
   },
   {
    "duration": 536,
    "start_time": "2022-06-01T08:44:07.945Z"
   },
   {
    "duration": 122,
    "start_time": "2022-06-01T08:44:12.931Z"
   },
   {
    "duration": 538,
    "start_time": "2022-06-01T08:44:22.236Z"
   },
   {
    "duration": 9,
    "start_time": "2022-06-01T08:44:23.420Z"
   },
   {
    "duration": 600,
    "start_time": "2022-06-01T08:44:38.917Z"
   },
   {
    "duration": 549,
    "start_time": "2022-06-01T08:44:50.520Z"
   },
   {
    "duration": 10,
    "start_time": "2022-06-01T08:44:52.031Z"
   },
   {
    "duration": 751,
    "start_time": "2022-06-01T08:44:59.634Z"
   },
   {
    "duration": 10,
    "start_time": "2022-06-01T08:45:00.387Z"
   },
   {
    "duration": 559,
    "start_time": "2022-06-01T08:45:45.317Z"
   },
   {
    "duration": 524,
    "start_time": "2022-06-01T08:46:03.461Z"
   },
   {
    "duration": 515,
    "start_time": "2022-06-01T08:46:50.051Z"
   },
   {
    "duration": 557,
    "start_time": "2022-06-01T08:46:55.621Z"
   },
   {
    "duration": 9,
    "start_time": "2022-06-01T08:46:56.732Z"
   },
   {
    "duration": 501,
    "start_time": "2022-06-01T08:47:08.091Z"
   },
   {
    "duration": 10,
    "start_time": "2022-06-01T08:47:09.272Z"
   },
   {
    "duration": 498,
    "start_time": "2022-06-01T08:47:16.487Z"
   },
   {
    "duration": 9,
    "start_time": "2022-06-01T08:47:17.729Z"
   },
   {
    "duration": 476,
    "start_time": "2022-06-01T08:48:40.609Z"
   },
   {
    "duration": 9,
    "start_time": "2022-06-01T08:48:41.271Z"
   },
   {
    "duration": 626,
    "start_time": "2022-06-01T08:48:52.849Z"
   },
   {
    "duration": 1371,
    "start_time": "2022-06-05T12:32:40.491Z"
   },
   {
    "duration": 1041,
    "start_time": "2022-06-05T12:32:41.863Z"
   },
   {
    "duration": 13,
    "start_time": "2022-06-05T12:32:42.906Z"
   },
   {
    "duration": 73,
    "start_time": "2022-06-05T12:32:42.921Z"
   },
   {
    "duration": 105,
    "start_time": "2022-06-05T12:32:42.996Z"
   },
   {
    "duration": 139,
    "start_time": "2022-06-05T12:32:43.103Z"
   },
   {
    "duration": 3,
    "start_time": "2022-06-05T12:32:43.244Z"
   },
   {
    "duration": 434,
    "start_time": "2022-06-05T12:32:43.248Z"
   },
   {
    "duration": 908,
    "start_time": "2022-06-05T12:32:43.684Z"
   },
   {
    "duration": 116,
    "start_time": "2022-06-05T12:32:44.594Z"
   },
   {
    "duration": 39,
    "start_time": "2022-06-05T12:32:44.712Z"
   },
   {
    "duration": 5,
    "start_time": "2022-06-05T12:32:44.764Z"
   },
   {
    "duration": 98,
    "start_time": "2022-06-05T12:32:44.771Z"
   },
   {
    "duration": 111,
    "start_time": "2022-06-05T12:32:44.872Z"
   },
   {
    "duration": 36,
    "start_time": "2022-06-05T12:32:44.985Z"
   },
   {
    "duration": 114,
    "start_time": "2022-06-05T12:32:45.022Z"
   },
   {
    "duration": 45,
    "start_time": "2022-06-05T12:32:45.137Z"
   },
   {
    "duration": 115,
    "start_time": "2022-06-05T12:32:45.184Z"
   },
   {
    "duration": 119,
    "start_time": "2022-06-05T12:32:45.301Z"
   },
   {
    "duration": 107,
    "start_time": "2022-06-05T12:32:45.422Z"
   },
   {
    "duration": 97,
    "start_time": "2022-06-05T12:32:45.531Z"
   },
   {
    "duration": 957,
    "start_time": "2022-06-05T12:32:45.630Z"
   },
   {
    "duration": 11,
    "start_time": "2022-06-05T12:32:46.589Z"
   },
   {
    "duration": 11,
    "start_time": "2022-06-05T12:32:46.602Z"
   },
   {
    "duration": 50,
    "start_time": "2022-06-05T12:32:46.615Z"
   },
   {
    "duration": 979,
    "start_time": "2022-06-05T12:32:46.666Z"
   },
   {
    "duration": 134,
    "start_time": "2022-06-05T12:32:47.647Z"
   },
   {
    "duration": 8,
    "start_time": "2022-06-05T12:32:47.783Z"
   },
   {
    "duration": 5,
    "start_time": "2022-06-05T12:32:47.793Z"
   },
   {
    "duration": 21,
    "start_time": "2022-06-05T12:32:47.799Z"
   },
   {
    "duration": 21,
    "start_time": "2022-06-05T12:32:47.822Z"
   },
   {
    "duration": 32,
    "start_time": "2022-06-05T12:32:47.865Z"
   },
   {
    "duration": 1301,
    "start_time": "2022-06-05T12:32:47.899Z"
   },
   {
    "duration": 122,
    "start_time": "2022-06-05T12:32:49.201Z"
   },
   {
    "duration": 5,
    "start_time": "2022-06-05T12:32:49.325Z"
   },
   {
    "duration": 198,
    "start_time": "2022-06-05T12:32:49.332Z"
   },
   {
    "duration": 11,
    "start_time": "2022-06-05T12:32:49.532Z"
   },
   {
    "duration": 6,
    "start_time": "2022-06-05T12:32:49.544Z"
   },
   {
    "duration": 92,
    "start_time": "2022-06-05T12:32:49.551Z"
   },
   {
    "duration": 6,
    "start_time": "2022-06-05T12:32:49.645Z"
   },
   {
    "duration": 58,
    "start_time": "2022-06-05T12:32:49.665Z"
   },
   {
    "duration": 12,
    "start_time": "2022-06-05T12:32:49.725Z"
   },
   {
    "duration": 49,
    "start_time": "2022-06-05T12:32:49.738Z"
   },
   {
    "duration": 88,
    "start_time": "2022-06-05T12:32:49.789Z"
   },
   {
    "duration": 7,
    "start_time": "2022-06-05T12:32:49.879Z"
   },
   {
    "duration": 5,
    "start_time": "2022-06-05T12:32:49.888Z"
   },
   {
    "duration": 82,
    "start_time": "2022-06-05T12:32:49.894Z"
   },
   {
    "duration": 9,
    "start_time": "2022-06-05T12:32:49.978Z"
   },
   {
    "duration": 6,
    "start_time": "2022-06-05T12:32:49.989Z"
   },
   {
    "duration": 73,
    "start_time": "2022-06-05T12:32:49.996Z"
   },
   {
    "duration": 8,
    "start_time": "2022-06-05T12:32:50.071Z"
   },
   {
    "duration": 832,
    "start_time": "2022-06-05T12:32:50.081Z"
   },
   {
    "duration": 29,
    "start_time": "2022-06-05T12:32:50.915Z"
   },
   {
    "duration": 70,
    "start_time": "2022-06-05T12:32:50.946Z"
   },
   {
    "duration": 551,
    "start_time": "2022-06-05T12:32:51.017Z"
   },
   {
    "duration": 99,
    "start_time": "2022-06-05T12:32:51.569Z"
   },
   {
    "duration": 113,
    "start_time": "2022-06-05T12:32:51.670Z"
   },
   {
    "duration": 690,
    "start_time": "2022-06-05T12:32:51.785Z"
   },
   {
    "duration": 0,
    "start_time": "2022-06-05T12:32:52.477Z"
   },
   {
    "duration": 625,
    "start_time": "2022-06-05T13:15:11.942Z"
   },
   {
    "duration": 5100,
    "start_time": "2022-06-05T13:15:57.687Z"
   },
   {
    "duration": 79,
    "start_time": "2022-06-05T13:16:02.790Z"
   },
   {
    "duration": 3,
    "start_time": "2022-06-05T13:16:10.305Z"
   },
   {
    "duration": 3,
    "start_time": "2022-06-05T13:16:19.876Z"
   },
   {
    "duration": 5,
    "start_time": "2022-06-05T13:16:35.977Z"
   },
   {
    "duration": 4843,
    "start_time": "2022-06-05T13:16:42.149Z"
   },
   {
    "duration": 4892,
    "start_time": "2022-06-05T13:16:51.492Z"
   },
   {
    "duration": 4634,
    "start_time": "2022-06-05T13:17:05.543Z"
   },
   {
    "duration": 4294,
    "start_time": "2022-06-05T13:17:16.271Z"
   },
   {
    "duration": 3,
    "start_time": "2022-06-05T13:17:40.972Z"
   },
   {
    "duration": 33,
    "start_time": "2022-06-05T13:18:01.184Z"
   },
   {
    "duration": 4,
    "start_time": "2022-06-05T13:18:06.593Z"
   },
   {
    "duration": 4338,
    "start_time": "2022-06-05T13:30:25.640Z"
   },
   {
    "duration": 10,
    "start_time": "2022-06-05T13:30:35.780Z"
   },
   {
    "duration": 1372,
    "start_time": "2022-06-05T13:30:50.337Z"
   },
   {
    "duration": 925,
    "start_time": "2022-06-05T13:30:51.712Z"
   },
   {
    "duration": 15,
    "start_time": "2022-06-05T13:30:52.639Z"
   },
   {
    "duration": 89,
    "start_time": "2022-06-05T13:30:52.665Z"
   },
   {
    "duration": 117,
    "start_time": "2022-06-05T13:30:52.766Z"
   },
   {
    "duration": 127,
    "start_time": "2022-06-05T13:30:52.885Z"
   },
   {
    "duration": 3,
    "start_time": "2022-06-05T13:30:53.015Z"
   },
   {
    "duration": 507,
    "start_time": "2022-06-05T13:30:53.021Z"
   },
   {
    "duration": 1037,
    "start_time": "2022-06-05T13:30:53.530Z"
   },
   {
    "duration": 118,
    "start_time": "2022-06-05T13:30:54.568Z"
   },
   {
    "duration": 41,
    "start_time": "2022-06-05T13:30:54.688Z"
   },
   {
    "duration": 5,
    "start_time": "2022-06-05T13:30:54.731Z"
   },
   {
    "duration": 109,
    "start_time": "2022-06-05T13:30:54.738Z"
   },
   {
    "duration": 116,
    "start_time": "2022-06-05T13:30:54.851Z"
   },
   {
    "duration": 39,
    "start_time": "2022-06-05T13:30:54.968Z"
   },
   {
    "duration": 120,
    "start_time": "2022-06-05T13:30:55.009Z"
   },
   {
    "duration": 44,
    "start_time": "2022-06-05T13:30:55.131Z"
   },
   {
    "duration": 122,
    "start_time": "2022-06-05T13:30:55.177Z"
   },
   {
    "duration": 116,
    "start_time": "2022-06-05T13:30:55.301Z"
   },
   {
    "duration": 102,
    "start_time": "2022-06-05T13:30:55.419Z"
   },
   {
    "duration": 88,
    "start_time": "2022-06-05T13:30:55.522Z"
   },
   {
    "duration": 910,
    "start_time": "2022-06-05T13:30:55.612Z"
   },
   {
    "duration": 12,
    "start_time": "2022-06-05T13:30:56.523Z"
   },
   {
    "duration": 31,
    "start_time": "2022-06-05T13:30:56.536Z"
   },
   {
    "duration": 28,
    "start_time": "2022-06-05T13:30:56.568Z"
   },
   {
    "duration": 994,
    "start_time": "2022-06-05T13:30:56.598Z"
   },
   {
    "duration": 126,
    "start_time": "2022-06-05T13:30:57.594Z"
   },
   {
    "duration": 8,
    "start_time": "2022-06-05T13:30:57.722Z"
   },
   {
    "duration": 9,
    "start_time": "2022-06-05T13:30:57.732Z"
   },
   {
    "duration": 36,
    "start_time": "2022-06-05T13:30:57.743Z"
   },
   {
    "duration": 25,
    "start_time": "2022-06-05T13:30:57.781Z"
   },
   {
    "duration": 34,
    "start_time": "2022-06-05T13:30:57.808Z"
   },
   {
    "duration": 1420,
    "start_time": "2022-06-05T13:30:57.864Z"
   },
   {
    "duration": 130,
    "start_time": "2022-06-05T13:30:59.286Z"
   },
   {
    "duration": 6,
    "start_time": "2022-06-05T13:30:59.417Z"
   },
   {
    "duration": 208,
    "start_time": "2022-06-05T13:30:59.425Z"
   },
   {
    "duration": 13,
    "start_time": "2022-06-05T13:30:59.635Z"
   },
   {
    "duration": 15,
    "start_time": "2022-06-05T13:30:59.650Z"
   },
   {
    "duration": 113,
    "start_time": "2022-06-05T13:30:59.667Z"
   },
   {
    "duration": 6,
    "start_time": "2022-06-05T13:30:59.782Z"
   },
   {
    "duration": 80,
    "start_time": "2022-06-05T13:30:59.794Z"
   },
   {
    "duration": 13,
    "start_time": "2022-06-05T13:30:59.875Z"
   },
   {
    "duration": 38,
    "start_time": "2022-06-05T13:30:59.889Z"
   },
   {
    "duration": 116,
    "start_time": "2022-06-05T13:30:59.929Z"
   },
   {
    "duration": 9,
    "start_time": "2022-06-05T13:31:00.046Z"
   },
   {
    "duration": 6,
    "start_time": "2022-06-05T13:31:00.065Z"
   },
   {
    "duration": 82,
    "start_time": "2022-06-05T13:31:00.073Z"
   },
   {
    "duration": 15,
    "start_time": "2022-06-05T13:31:00.157Z"
   },
   {
    "duration": 7,
    "start_time": "2022-06-05T13:31:00.174Z"
   },
   {
    "duration": 89,
    "start_time": "2022-06-05T13:31:00.183Z"
   },
   {
    "duration": 8,
    "start_time": "2022-06-05T13:31:00.274Z"
   },
   {
    "duration": 917,
    "start_time": "2022-06-05T13:31:00.284Z"
   },
   {
    "duration": 30,
    "start_time": "2022-06-05T13:31:01.203Z"
   },
   {
    "duration": 82,
    "start_time": "2022-06-05T13:31:01.235Z"
   },
   {
    "duration": 546,
    "start_time": "2022-06-05T13:31:01.319Z"
   },
   {
    "duration": 98,
    "start_time": "2022-06-05T13:31:01.867Z"
   },
   {
    "duration": 123,
    "start_time": "2022-06-05T13:31:01.967Z"
   },
   {
    "duration": 681,
    "start_time": "2022-06-05T13:31:02.092Z"
   },
   {
    "duration": 10,
    "start_time": "2022-06-05T13:31:02.774Z"
   },
   {
    "duration": 0,
    "start_time": "2022-06-05T13:31:02.786Z"
   },
   {
    "duration": 4113,
    "start_time": "2022-06-05T13:31:28.277Z"
   },
   {
    "duration": 4399,
    "start_time": "2022-06-05T13:31:33.477Z"
   },
   {
    "duration": 4,
    "start_time": "2022-06-05T13:31:37.880Z"
   },
   {
    "duration": 4077,
    "start_time": "2022-06-05T13:31:48.303Z"
   },
   {
    "duration": 6,
    "start_time": "2022-06-05T13:31:52.383Z"
   },
   {
    "duration": 5,
    "start_time": "2022-06-05T13:36:52.873Z"
   },
   {
    "duration": 1400,
    "start_time": "2022-06-05T13:40:21.571Z"
   },
   {
    "duration": 917,
    "start_time": "2022-06-05T13:40:22.973Z"
   },
   {
    "duration": 13,
    "start_time": "2022-06-05T13:40:23.891Z"
   },
   {
    "duration": 90,
    "start_time": "2022-06-05T13:40:23.906Z"
   },
   {
    "duration": 117,
    "start_time": "2022-06-05T13:40:23.998Z"
   },
   {
    "duration": 141,
    "start_time": "2022-06-05T13:40:24.117Z"
   },
   {
    "duration": 3,
    "start_time": "2022-06-05T13:40:24.265Z"
   },
   {
    "duration": 505,
    "start_time": "2022-06-05T13:40:24.270Z"
   },
   {
    "duration": 1065,
    "start_time": "2022-06-05T13:40:24.777Z"
   },
   {
    "duration": 123,
    "start_time": "2022-06-05T13:40:25.844Z"
   },
   {
    "duration": 48,
    "start_time": "2022-06-05T13:40:25.970Z"
   },
   {
    "duration": 6,
    "start_time": "2022-06-05T13:40:26.020Z"
   },
   {
    "duration": 141,
    "start_time": "2022-06-05T13:40:26.028Z"
   },
   {
    "duration": 136,
    "start_time": "2022-06-05T13:40:26.174Z"
   },
   {
    "duration": 38,
    "start_time": "2022-06-05T13:40:26.312Z"
   },
   {
    "duration": 111,
    "start_time": "2022-06-05T13:40:26.365Z"
   },
   {
    "duration": 52,
    "start_time": "2022-06-05T13:40:26.478Z"
   },
   {
    "duration": 135,
    "start_time": "2022-06-05T13:40:26.532Z"
   },
   {
    "duration": 105,
    "start_time": "2022-06-05T13:40:26.669Z"
   },
   {
    "duration": 115,
    "start_time": "2022-06-05T13:40:26.776Z"
   },
   {
    "duration": 88,
    "start_time": "2022-06-05T13:40:26.893Z"
   },
   {
    "duration": 1029,
    "start_time": "2022-06-05T13:40:26.983Z"
   },
   {
    "duration": 13,
    "start_time": "2022-06-05T13:40:28.013Z"
   },
   {
    "duration": 16,
    "start_time": "2022-06-05T13:40:28.029Z"
   },
   {
    "duration": 43,
    "start_time": "2022-06-05T13:40:28.065Z"
   },
   {
    "duration": 1056,
    "start_time": "2022-06-05T13:40:28.110Z"
   },
   {
    "duration": 173,
    "start_time": "2022-06-05T13:40:29.168Z"
   },
   {
    "duration": 9,
    "start_time": "2022-06-05T13:40:29.343Z"
   },
   {
    "duration": 6,
    "start_time": "2022-06-05T13:40:29.364Z"
   },
   {
    "duration": 26,
    "start_time": "2022-06-05T13:40:29.372Z"
   },
   {
    "duration": 25,
    "start_time": "2022-06-05T13:40:29.400Z"
   },
   {
    "duration": 50,
    "start_time": "2022-06-05T13:40:29.427Z"
   },
   {
    "duration": 1411,
    "start_time": "2022-06-05T13:40:29.479Z"
   },
   {
    "duration": 133,
    "start_time": "2022-06-05T13:40:30.892Z"
   },
   {
    "duration": 5,
    "start_time": "2022-06-05T13:40:31.027Z"
   },
   {
    "duration": 228,
    "start_time": "2022-06-05T13:40:31.034Z"
   },
   {
    "duration": 12,
    "start_time": "2022-06-05T13:40:31.265Z"
   },
   {
    "duration": 26,
    "start_time": "2022-06-05T13:40:31.279Z"
   },
   {
    "duration": 109,
    "start_time": "2022-06-05T13:40:31.307Z"
   },
   {
    "duration": 6,
    "start_time": "2022-06-05T13:40:31.417Z"
   },
   {
    "duration": 81,
    "start_time": "2022-06-05T13:40:31.427Z"
   },
   {
    "duration": 11,
    "start_time": "2022-06-05T13:40:31.510Z"
   },
   {
    "duration": 46,
    "start_time": "2022-06-05T13:40:31.522Z"
   },
   {
    "duration": 97,
    "start_time": "2022-06-05T13:40:31.569Z"
   },
   {
    "duration": 8,
    "start_time": "2022-06-05T13:40:31.668Z"
   },
   {
    "duration": 28,
    "start_time": "2022-06-05T13:40:31.678Z"
   },
   {
    "duration": 88,
    "start_time": "2022-06-05T13:40:31.708Z"
   },
   {
    "duration": 12,
    "start_time": "2022-06-05T13:40:31.798Z"
   },
   {
    "duration": 6,
    "start_time": "2022-06-05T13:40:31.812Z"
   },
   {
    "duration": 99,
    "start_time": "2022-06-05T13:40:31.819Z"
   },
   {
    "duration": 8,
    "start_time": "2022-06-05T13:40:31.920Z"
   },
   {
    "duration": 873,
    "start_time": "2022-06-05T13:40:31.930Z"
   },
   {
    "duration": 37,
    "start_time": "2022-06-05T13:40:32.805Z"
   },
   {
    "duration": 76,
    "start_time": "2022-06-05T13:40:32.845Z"
   },
   {
    "duration": 543,
    "start_time": "2022-06-05T13:40:32.923Z"
   },
   {
    "duration": 15,
    "start_time": "2022-06-05T13:40:33.468Z"
   },
   {
    "duration": 131,
    "start_time": "2022-06-05T13:40:33.564Z"
   },
   {
    "duration": 4365,
    "start_time": "2022-06-05T13:40:33.702Z"
   },
   {
    "duration": 4,
    "start_time": "2022-06-05T13:40:38.068Z"
   },
   {
    "duration": 32,
    "start_time": "2022-06-05T13:40:38.075Z"
   },
   {
    "duration": 4,
    "start_time": "2022-06-05T13:43:13.558Z"
   },
   {
    "duration": 3,
    "start_time": "2022-06-05T13:45:53.709Z"
   },
   {
    "duration": 3,
    "start_time": "2022-06-05T13:45:56.174Z"
   },
   {
    "duration": 3,
    "start_time": "2022-06-05T13:46:38.370Z"
   },
   {
    "duration": 127,
    "start_time": "2022-06-05T13:53:57.345Z"
   },
   {
    "duration": 1380,
    "start_time": "2022-06-05T13:54:07.750Z"
   },
   {
    "duration": 931,
    "start_time": "2022-06-05T13:54:09.133Z"
   },
   {
    "duration": 16,
    "start_time": "2022-06-05T13:54:10.066Z"
   },
   {
    "duration": 110,
    "start_time": "2022-06-05T13:54:10.084Z"
   },
   {
    "duration": 122,
    "start_time": "2022-06-05T13:54:10.197Z"
   },
   {
    "duration": 137,
    "start_time": "2022-06-05T13:54:10.321Z"
   },
   {
    "duration": 3,
    "start_time": "2022-06-05T13:54:10.465Z"
   },
   {
    "duration": 483,
    "start_time": "2022-06-05T13:54:10.470Z"
   },
   {
    "duration": 1030,
    "start_time": "2022-06-05T13:54:10.955Z"
   },
   {
    "duration": 117,
    "start_time": "2022-06-05T13:54:11.987Z"
   },
   {
    "duration": 47,
    "start_time": "2022-06-05T13:54:12.106Z"
   },
   {
    "duration": 11,
    "start_time": "2022-06-05T13:54:12.154Z"
   },
   {
    "duration": 106,
    "start_time": "2022-06-05T13:54:12.167Z"
   },
   {
    "duration": 132,
    "start_time": "2022-06-05T13:54:12.276Z"
   },
   {
    "duration": 38,
    "start_time": "2022-06-05T13:54:12.410Z"
   },
   {
    "duration": 98,
    "start_time": "2022-06-05T13:54:12.450Z"
   },
   {
    "duration": 52,
    "start_time": "2022-06-05T13:54:12.549Z"
   },
   {
    "duration": 114,
    "start_time": "2022-06-05T13:54:12.602Z"
   },
   {
    "duration": 115,
    "start_time": "2022-06-05T13:54:12.718Z"
   },
   {
    "duration": 105,
    "start_time": "2022-06-05T13:54:12.835Z"
   },
   {
    "duration": 97,
    "start_time": "2022-06-05T13:54:12.942Z"
   },
   {
    "duration": 956,
    "start_time": "2022-06-05T13:54:13.040Z"
   },
   {
    "duration": 13,
    "start_time": "2022-06-05T13:54:13.998Z"
   },
   {
    "duration": 11,
    "start_time": "2022-06-05T13:54:14.012Z"
   },
   {
    "duration": 52,
    "start_time": "2022-06-05T13:54:14.024Z"
   },
   {
    "duration": 982,
    "start_time": "2022-06-05T13:54:14.078Z"
   },
   {
    "duration": 130,
    "start_time": "2022-06-05T13:54:15.064Z"
   },
   {
    "duration": 9,
    "start_time": "2022-06-05T13:54:15.195Z"
   },
   {
    "duration": 5,
    "start_time": "2022-06-05T13:54:15.206Z"
   },
   {
    "duration": 21,
    "start_time": "2022-06-05T13:54:15.213Z"
   },
   {
    "duration": 42,
    "start_time": "2022-06-05T13:54:15.235Z"
   },
   {
    "duration": 33,
    "start_time": "2022-06-05T13:54:15.279Z"
   },
   {
    "duration": 1359,
    "start_time": "2022-06-05T13:54:15.314Z"
   },
   {
    "duration": 136,
    "start_time": "2022-06-05T13:54:16.675Z"
   },
   {
    "duration": 8,
    "start_time": "2022-06-05T13:54:16.812Z"
   },
   {
    "duration": 224,
    "start_time": "2022-06-05T13:54:16.822Z"
   },
   {
    "duration": 18,
    "start_time": "2022-06-05T13:54:17.047Z"
   },
   {
    "duration": 12,
    "start_time": "2022-06-05T13:54:17.066Z"
   },
   {
    "duration": 88,
    "start_time": "2022-06-05T13:54:17.079Z"
   },
   {
    "duration": 6,
    "start_time": "2022-06-05T13:54:17.169Z"
   },
   {
    "duration": 68,
    "start_time": "2022-06-05T13:54:17.179Z"
   },
   {
    "duration": 11,
    "start_time": "2022-06-05T13:54:17.264Z"
   },
   {
    "duration": 34,
    "start_time": "2022-06-05T13:54:17.277Z"
   },
   {
    "duration": 107,
    "start_time": "2022-06-05T13:54:17.313Z"
   },
   {
    "duration": 10,
    "start_time": "2022-06-05T13:54:17.422Z"
   },
   {
    "duration": 6,
    "start_time": "2022-06-05T13:54:17.434Z"
   },
   {
    "duration": 90,
    "start_time": "2022-06-05T13:54:17.441Z"
   },
   {
    "duration": 10,
    "start_time": "2022-06-05T13:54:17.533Z"
   },
   {
    "duration": 20,
    "start_time": "2022-06-05T13:54:17.545Z"
   },
   {
    "duration": 63,
    "start_time": "2022-06-05T13:54:17.567Z"
   },
   {
    "duration": 8,
    "start_time": "2022-06-05T13:54:17.632Z"
   },
   {
    "duration": 855,
    "start_time": "2022-06-05T13:54:17.642Z"
   },
   {
    "duration": 31,
    "start_time": "2022-06-05T13:54:18.498Z"
   },
   {
    "duration": 90,
    "start_time": "2022-06-05T13:54:18.530Z"
   },
   {
    "duration": 2,
    "start_time": "2022-06-05T13:54:18.622Z"
   },
   {
    "duration": 4248,
    "start_time": "2022-06-05T13:54:18.626Z"
   },
   {
    "duration": 3,
    "start_time": "2022-06-05T13:54:22.876Z"
   },
   {
    "duration": 203,
    "start_time": "2022-06-05T13:54:22.880Z"
   },
   {
    "duration": 12,
    "start_time": "2022-06-05T13:54:23.085Z"
   },
   {
    "duration": 0,
    "start_time": "2022-06-05T13:54:23.099Z"
   },
   {
    "duration": 0,
    "start_time": "2022-06-05T13:54:23.100Z"
   },
   {
    "duration": 4275,
    "start_time": "2022-06-05T13:55:18.290Z"
   },
   {
    "duration": 3,
    "start_time": "2022-06-05T13:55:23.443Z"
   },
   {
    "duration": 47,
    "start_time": "2022-06-05T13:55:24.789Z"
   },
   {
    "duration": 4214,
    "start_time": "2022-06-05T13:55:35.370Z"
   },
   {
    "duration": 4292,
    "start_time": "2022-06-05T13:55:48.483Z"
   },
   {
    "duration": 2,
    "start_time": "2022-06-05T13:55:52.778Z"
   },
   {
    "duration": 4,
    "start_time": "2022-06-05T13:56:03.372Z"
   },
   {
    "duration": 42,
    "start_time": "2022-06-05T13:56:47.073Z"
   },
   {
    "duration": 10,
    "start_time": "2022-06-05T13:57:31.793Z"
   },
   {
    "duration": 4349,
    "start_time": "2022-06-05T13:57:40.928Z"
   },
   {
    "duration": 5,
    "start_time": "2022-06-05T13:57:49.591Z"
   },
   {
    "duration": 9,
    "start_time": "2022-06-05T13:57:50.575Z"
   },
   {
    "duration": 4765,
    "start_time": "2022-06-05T13:59:09.205Z"
   },
   {
    "duration": 5,
    "start_time": "2022-06-05T13:59:13.972Z"
   },
   {
    "duration": 16,
    "start_time": "2022-06-05T13:59:14.052Z"
   },
   {
    "duration": 10,
    "start_time": "2022-06-05T13:59:28.496Z"
   },
   {
    "duration": 4424,
    "start_time": "2022-06-05T14:00:11.141Z"
   },
   {
    "duration": 9,
    "start_time": "2022-06-05T14:00:15.567Z"
   },
   {
    "duration": 3,
    "start_time": "2022-06-05T14:00:21.790Z"
   },
   {
    "duration": 5,
    "start_time": "2022-06-05T14:00:29.019Z"
   },
   {
    "duration": 3,
    "start_time": "2022-06-05T14:00:32.387Z"
   },
   {
    "duration": 5,
    "start_time": "2022-06-05T14:00:38.885Z"
   },
   {
    "duration": 10,
    "start_time": "2022-06-05T14:00:40.907Z"
   },
   {
    "duration": 432,
    "start_time": "2022-06-05T14:00:48.054Z"
   },
   {
    "duration": 5,
    "start_time": "2022-06-05T14:00:49.175Z"
   },
   {
    "duration": 4,
    "start_time": "2022-06-05T14:01:00.477Z"
   },
   {
    "duration": 498,
    "start_time": "2022-06-05T14:01:40.172Z"
   },
   {
    "duration": 521,
    "start_time": "2022-06-05T14:01:43.553Z"
   },
   {
    "duration": 6,
    "start_time": "2022-06-05T14:01:44.079Z"
   },
   {
    "duration": 4443,
    "start_time": "2022-06-05T14:02:12.229Z"
   },
   {
    "duration": 17,
    "start_time": "2022-06-05T14:02:21.997Z"
   },
   {
    "duration": 14,
    "start_time": "2022-06-05T14:02:32.470Z"
   },
   {
    "duration": 15,
    "start_time": "2022-06-05T14:03:02.287Z"
   },
   {
    "duration": 15,
    "start_time": "2022-06-05T14:03:53.621Z"
   },
   {
    "duration": 4,
    "start_time": "2022-06-05T14:04:01.000Z"
   },
   {
    "duration": 3,
    "start_time": "2022-06-05T14:04:12.282Z"
   },
   {
    "duration": 4,
    "start_time": "2022-06-05T14:04:14.805Z"
   },
   {
    "duration": 5,
    "start_time": "2022-06-05T14:04:19.481Z"
   },
   {
    "duration": 3,
    "start_time": "2022-06-05T14:04:30.300Z"
   },
   {
    "duration": 3,
    "start_time": "2022-06-05T14:04:53.846Z"
   },
   {
    "duration": 4311,
    "start_time": "2022-06-05T14:04:54.359Z"
   },
   {
    "duration": 3,
    "start_time": "2022-06-05T14:04:59.178Z"
   },
   {
    "duration": 4321,
    "start_time": "2022-06-05T14:05:08.759Z"
   },
   {
    "duration": 4227,
    "start_time": "2022-06-05T14:05:15.356Z"
   },
   {
    "duration": 4,
    "start_time": "2022-06-05T14:05:19.664Z"
   },
   {
    "duration": 3,
    "start_time": "2022-06-05T14:07:17.070Z"
   },
   {
    "duration": 4347,
    "start_time": "2022-06-05T14:07:17.542Z"
   },
   {
    "duration": 72,
    "start_time": "2022-06-05T14:07:21.893Z"
   },
   {
    "duration": 8406,
    "start_time": "2022-06-05T14:07:21.967Z"
   },
   {
    "duration": 91,
    "start_time": "2022-06-05T14:07:30.375Z"
   },
   {
    "duration": 105,
    "start_time": "2022-06-05T14:07:30.469Z"
   },
   {
    "duration": 0,
    "start_time": "2022-06-05T14:07:30.576Z"
   },
   {
    "duration": 2,
    "start_time": "2022-06-05T14:08:46.009Z"
   },
   {
    "duration": 4328,
    "start_time": "2022-06-05T14:08:46.443Z"
   },
   {
    "duration": 3,
    "start_time": "2022-06-05T14:08:50.773Z"
   },
   {
    "duration": 88,
    "start_time": "2022-06-05T14:08:50.778Z"
   },
   {
    "duration": 8201,
    "start_time": "2022-06-05T14:08:50.964Z"
   },
   {
    "duration": 8,
    "start_time": "2022-06-05T14:08:59.168Z"
   },
   {
    "duration": 96,
    "start_time": "2022-06-05T14:08:59.179Z"
   },
   {
    "duration": 15,
    "start_time": "2022-06-05T14:08:59.277Z"
   },
   {
    "duration": 48,
    "start_time": "2022-06-05T14:09:38.550Z"
   },
   {
    "duration": 6,
    "start_time": "2022-06-05T14:09:52.501Z"
   },
   {
    "duration": 8,
    "start_time": "2022-06-05T14:13:46.996Z"
   },
   {
    "duration": 11,
    "start_time": "2022-06-05T14:51:26.926Z"
   },
   {
    "duration": 1354,
    "start_time": "2022-06-05T14:51:43.856Z"
   },
   {
    "duration": 914,
    "start_time": "2022-06-05T14:51:45.212Z"
   },
   {
    "duration": 14,
    "start_time": "2022-06-05T14:51:46.128Z"
   },
   {
    "duration": 88,
    "start_time": "2022-06-05T14:51:46.144Z"
   },
   {
    "duration": 149,
    "start_time": "2022-06-05T14:51:46.235Z"
   },
   {
    "duration": 144,
    "start_time": "2022-06-05T14:51:46.386Z"
   },
   {
    "duration": 3,
    "start_time": "2022-06-05T14:51:46.532Z"
   },
   {
    "duration": 484,
    "start_time": "2022-06-05T14:51:46.537Z"
   },
   {
    "duration": 1099,
    "start_time": "2022-06-05T14:51:47.022Z"
   },
   {
    "duration": 126,
    "start_time": "2022-06-05T14:51:48.123Z"
   },
   {
    "duration": 59,
    "start_time": "2022-06-05T14:51:48.251Z"
   },
   {
    "duration": 7,
    "start_time": "2022-06-05T14:51:48.311Z"
   },
   {
    "duration": 99,
    "start_time": "2022-06-05T14:51:48.320Z"
   },
   {
    "duration": 115,
    "start_time": "2022-06-05T14:51:48.423Z"
   },
   {
    "duration": 64,
    "start_time": "2022-06-05T14:51:48.540Z"
   },
   {
    "duration": 133,
    "start_time": "2022-06-05T14:51:48.606Z"
   },
   {
    "duration": 47,
    "start_time": "2022-06-05T14:51:48.740Z"
   },
   {
    "duration": 166,
    "start_time": "2022-06-05T14:51:48.789Z"
   },
   {
    "duration": 188,
    "start_time": "2022-06-05T14:51:48.957Z"
   },
   {
    "duration": 168,
    "start_time": "2022-06-05T14:51:49.147Z"
   },
   {
    "duration": 91,
    "start_time": "2022-06-05T14:51:49.316Z"
   },
   {
    "duration": 983,
    "start_time": "2022-06-05T14:51:49.409Z"
   },
   {
    "duration": 18,
    "start_time": "2022-06-05T14:51:50.393Z"
   },
   {
    "duration": 16,
    "start_time": "2022-06-05T14:51:50.413Z"
   },
   {
    "duration": 59,
    "start_time": "2022-06-05T14:51:50.431Z"
   },
   {
    "duration": 1019,
    "start_time": "2022-06-05T14:51:50.492Z"
   },
   {
    "duration": 135,
    "start_time": "2022-06-05T14:51:51.512Z"
   },
   {
    "duration": 15,
    "start_time": "2022-06-05T14:51:51.649Z"
   },
   {
    "duration": 6,
    "start_time": "2022-06-05T14:51:51.666Z"
   },
   {
    "duration": 21,
    "start_time": "2022-06-05T14:51:51.674Z"
   },
   {
    "duration": 25,
    "start_time": "2022-06-05T14:51:51.697Z"
   },
   {
    "duration": 72,
    "start_time": "2022-06-05T14:51:51.725Z"
   },
   {
    "duration": 1401,
    "start_time": "2022-06-05T14:51:51.799Z"
   },
   {
    "duration": 139,
    "start_time": "2022-06-05T14:51:53.202Z"
   },
   {
    "duration": 6,
    "start_time": "2022-06-05T14:51:53.343Z"
   },
   {
    "duration": 230,
    "start_time": "2022-06-05T14:51:53.351Z"
   },
   {
    "duration": 11,
    "start_time": "2022-06-05T14:51:53.583Z"
   },
   {
    "duration": 8,
    "start_time": "2022-06-05T14:51:53.596Z"
   },
   {
    "duration": 129,
    "start_time": "2022-06-05T14:51:53.606Z"
   },
   {
    "duration": 6,
    "start_time": "2022-06-05T14:51:53.737Z"
   },
   {
    "duration": 75,
    "start_time": "2022-06-05T14:51:53.747Z"
   },
   {
    "duration": 15,
    "start_time": "2022-06-05T14:51:53.824Z"
   },
   {
    "duration": 50,
    "start_time": "2022-06-05T14:51:53.842Z"
   },
   {
    "duration": 107,
    "start_time": "2022-06-05T14:51:53.894Z"
   },
   {
    "duration": 9,
    "start_time": "2022-06-05T14:51:54.003Z"
   },
   {
    "duration": 9,
    "start_time": "2022-06-05T14:51:54.014Z"
   },
   {
    "duration": 91,
    "start_time": "2022-06-05T14:51:54.025Z"
   },
   {
    "duration": 11,
    "start_time": "2022-06-05T14:51:54.118Z"
   },
   {
    "duration": 6,
    "start_time": "2022-06-05T14:51:54.131Z"
   },
   {
    "duration": 85,
    "start_time": "2022-06-05T14:51:54.138Z"
   },
   {
    "duration": 8,
    "start_time": "2022-06-05T14:51:54.225Z"
   },
   {
    "duration": 889,
    "start_time": "2022-06-05T14:51:54.234Z"
   },
   {
    "duration": 41,
    "start_time": "2022-06-05T14:51:55.125Z"
   },
   {
    "duration": 70,
    "start_time": "2022-06-05T14:51:55.167Z"
   },
   {
    "duration": 3,
    "start_time": "2022-06-05T14:51:55.239Z"
   },
   {
    "duration": 7,
    "start_time": "2022-06-05T14:51:55.243Z"
   },
   {
    "duration": 5500,
    "start_time": "2022-06-05T14:51:55.265Z"
   },
   {
    "duration": 3,
    "start_time": "2022-06-05T14:52:00.767Z"
   },
   {
    "duration": 93,
    "start_time": "2022-06-05T14:52:00.772Z"
   },
   {
    "duration": 7002,
    "start_time": "2022-06-05T14:52:00.868Z"
   },
   {
    "duration": 3,
    "start_time": "2022-06-05T14:52:07.873Z"
   },
   {
    "duration": 90,
    "start_time": "2022-06-05T14:52:07.878Z"
   },
   {
    "duration": 99,
    "start_time": "2022-06-05T14:52:07.971Z"
   },
   {
    "duration": 440,
    "start_time": "2022-06-05T14:52:08.072Z"
   },
   {
    "duration": 152,
    "start_time": "2022-06-05T14:54:02.348Z"
   },
   {
    "duration": 14821,
    "start_time": "2022-06-05T15:11:23.338Z"
   },
   {
    "duration": 288551,
    "start_time": "2022-06-05T15:12:39.399Z"
   },
   {
    "duration": 30138,
    "start_time": "2022-06-05T15:18:50.793Z"
   },
   {
    "duration": 60778,
    "start_time": "2022-06-05T15:19:38.603Z"
   },
   {
    "duration": 31678,
    "start_time": "2022-06-05T15:24:05.065Z"
   },
   {
    "duration": 20,
    "start_time": "2022-06-05T15:31:34.590Z"
   },
   {
    "duration": 237889,
    "start_time": "2022-06-05T15:31:35.453Z"
   },
   {
    "duration": 3,
    "start_time": "2022-06-05T15:35:33.345Z"
   },
   {
    "duration": 686,
    "start_time": "2022-06-05T15:35:33.350Z"
   },
   {
    "duration": 5294,
    "start_time": "2022-06-05T15:35:34.038Z"
   },
   {
    "duration": 3,
    "start_time": "2022-06-05T15:35:39.334Z"
   },
   {
    "duration": 6,
    "start_time": "2022-06-05T15:35:39.339Z"
   },
   {
    "duration": 18,
    "start_time": "2022-06-05T15:35:39.347Z"
   },
   {
    "duration": 15,
    "start_time": "2022-06-05T15:39:31.299Z"
   },
   {
    "duration": 3,
    "start_time": "2022-06-05T15:39:32.189Z"
   },
   {
    "duration": 235522,
    "start_time": "2022-06-05T15:39:32.548Z"
   },
   {
    "duration": 2,
    "start_time": "2022-06-05T15:43:28.072Z"
   },
   {
    "duration": 682,
    "start_time": "2022-06-05T15:43:28.076Z"
   },
   {
    "duration": 5463,
    "start_time": "2022-06-05T15:43:28.760Z"
   },
   {
    "duration": 3,
    "start_time": "2022-06-05T15:43:34.225Z"
   },
   {
    "duration": 11,
    "start_time": "2022-06-05T15:43:34.230Z"
   },
   {
    "duration": 12,
    "start_time": "2022-06-05T15:43:34.243Z"
   },
   {
    "duration": 4,
    "start_time": "2022-06-05T15:43:43.181Z"
   },
   {
    "duration": 4,
    "start_time": "2022-06-05T15:44:52.178Z"
   },
   {
    "duration": 4,
    "start_time": "2022-06-05T15:45:06.009Z"
   },
   {
    "duration": 4,
    "start_time": "2022-06-05T15:46:02.733Z"
   },
   {
    "duration": 4,
    "start_time": "2022-06-05T15:46:17.098Z"
   },
   {
    "duration": 19,
    "start_time": "2022-06-05T15:46:55.846Z"
   },
   {
    "duration": 246049,
    "start_time": "2022-06-05T15:46:56.077Z"
   },
   {
    "duration": 3,
    "start_time": "2022-06-05T15:51:02.128Z"
   },
   {
    "duration": 701,
    "start_time": "2022-06-05T15:51:02.133Z"
   },
   {
    "duration": 5500,
    "start_time": "2022-06-05T15:51:02.836Z"
   },
   {
    "duration": 4,
    "start_time": "2022-06-05T15:51:08.338Z"
   },
   {
    "duration": 22,
    "start_time": "2022-06-05T15:51:08.344Z"
   },
   {
    "duration": 22,
    "start_time": "2022-06-05T15:51:08.368Z"
   },
   {
    "duration": 1371,
    "start_time": "2022-06-05T16:19:21.074Z"
   },
   {
    "duration": 870,
    "start_time": "2022-06-05T16:19:22.447Z"
   },
   {
    "duration": 14,
    "start_time": "2022-06-05T16:19:23.319Z"
   },
   {
    "duration": 106,
    "start_time": "2022-06-05T16:19:23.335Z"
   },
   {
    "duration": 100,
    "start_time": "2022-06-05T16:19:23.445Z"
   },
   {
    "duration": 134,
    "start_time": "2022-06-05T16:19:23.546Z"
   },
   {
    "duration": 3,
    "start_time": "2022-06-05T16:19:23.682Z"
   },
   {
    "duration": 508,
    "start_time": "2022-06-05T16:19:23.687Z"
   },
   {
    "duration": 1066,
    "start_time": "2022-06-05T16:19:24.197Z"
   },
   {
    "duration": 117,
    "start_time": "2022-06-05T16:19:25.265Z"
   },
   {
    "duration": 48,
    "start_time": "2022-06-05T16:19:25.384Z"
   },
   {
    "duration": 5,
    "start_time": "2022-06-05T16:19:25.434Z"
   },
   {
    "duration": 104,
    "start_time": "2022-06-05T16:19:25.440Z"
   },
   {
    "duration": 111,
    "start_time": "2022-06-05T16:19:25.547Z"
   },
   {
    "duration": 34,
    "start_time": "2022-06-05T16:19:25.664Z"
   },
   {
    "duration": 157,
    "start_time": "2022-06-05T16:19:25.700Z"
   },
   {
    "duration": 38,
    "start_time": "2022-06-05T16:19:25.859Z"
   },
   {
    "duration": 111,
    "start_time": "2022-06-05T16:19:25.899Z"
   },
   {
    "duration": 120,
    "start_time": "2022-06-05T16:19:26.011Z"
   },
   {
    "duration": 117,
    "start_time": "2022-06-05T16:19:26.133Z"
   },
   {
    "duration": 86,
    "start_time": "2022-06-05T16:19:26.252Z"
   },
   {
    "duration": 957,
    "start_time": "2022-06-05T16:19:26.340Z"
   },
   {
    "duration": 13,
    "start_time": "2022-06-05T16:19:27.299Z"
   },
   {
    "duration": 13,
    "start_time": "2022-06-05T16:19:27.314Z"
   },
   {
    "duration": 65,
    "start_time": "2022-06-05T16:19:27.329Z"
   },
   {
    "duration": 987,
    "start_time": "2022-06-05T16:19:27.396Z"
   },
   {
    "duration": 139,
    "start_time": "2022-06-05T16:19:28.385Z"
   },
   {
    "duration": 9,
    "start_time": "2022-06-05T16:19:28.525Z"
   },
   {
    "duration": 5,
    "start_time": "2022-06-05T16:19:28.536Z"
   },
   {
    "duration": 45,
    "start_time": "2022-06-05T16:19:28.543Z"
   },
   {
    "duration": 28,
    "start_time": "2022-06-05T16:19:28.591Z"
   },
   {
    "duration": 54,
    "start_time": "2022-06-05T16:19:28.621Z"
   },
   {
    "duration": 1467,
    "start_time": "2022-06-05T16:19:28.676Z"
   },
   {
    "duration": 146,
    "start_time": "2022-06-05T16:19:30.145Z"
   },
   {
    "duration": 6,
    "start_time": "2022-06-05T16:19:30.293Z"
   },
   {
    "duration": 217,
    "start_time": "2022-06-05T16:19:30.301Z"
   },
   {
    "duration": 15,
    "start_time": "2022-06-05T16:19:30.520Z"
   },
   {
    "duration": 22,
    "start_time": "2022-06-05T16:19:30.538Z"
   },
   {
    "duration": 111,
    "start_time": "2022-06-05T16:19:30.562Z"
   },
   {
    "duration": 7,
    "start_time": "2022-06-05T16:19:30.675Z"
   },
   {
    "duration": 86,
    "start_time": "2022-06-05T16:19:30.686Z"
   },
   {
    "duration": 13,
    "start_time": "2022-06-05T16:19:30.774Z"
   },
   {
    "duration": 35,
    "start_time": "2022-06-05T16:19:30.789Z"
   },
   {
    "duration": 119,
    "start_time": "2022-06-05T16:19:30.826Z"
   },
   {
    "duration": 10,
    "start_time": "2022-06-05T16:19:30.947Z"
   },
   {
    "duration": 20,
    "start_time": "2022-06-05T16:19:30.965Z"
   },
   {
    "duration": 88,
    "start_time": "2022-06-05T16:19:30.987Z"
   },
   {
    "duration": 12,
    "start_time": "2022-06-05T16:19:31.077Z"
   },
   {
    "duration": 7,
    "start_time": "2022-06-05T16:19:31.090Z"
   },
   {
    "duration": 84,
    "start_time": "2022-06-05T16:19:31.099Z"
   },
   {
    "duration": 8,
    "start_time": "2022-06-05T16:19:31.185Z"
   },
   {
    "duration": 879,
    "start_time": "2022-06-05T16:19:31.195Z"
   },
   {
    "duration": 34,
    "start_time": "2022-06-05T16:19:32.076Z"
   },
   {
    "duration": 99,
    "start_time": "2022-06-05T16:19:32.113Z"
   },
   {
    "duration": 5,
    "start_time": "2022-06-05T16:19:32.214Z"
   },
   {
    "duration": 12,
    "start_time": "2022-06-05T16:19:32.220Z"
   },
   {
    "duration": 4534,
    "start_time": "2022-06-05T16:19:32.234Z"
   },
   {
    "duration": 3,
    "start_time": "2022-06-05T16:19:36.770Z"
   },
   {
    "duration": 94,
    "start_time": "2022-06-05T16:19:36.774Z"
   },
   {
    "duration": 9014,
    "start_time": "2022-06-05T16:19:36.873Z"
   },
   {
    "duration": 12,
    "start_time": "2022-06-05T16:19:45.966Z"
   },
   {
    "duration": 86,
    "start_time": "2022-06-05T16:19:45.981Z"
   },
   {
    "duration": 16,
    "start_time": "2022-06-05T16:19:46.069Z"
   },
   {
    "duration": 33127,
    "start_time": "2022-06-05T16:19:46.087Z"
   },
   {
    "duration": 25,
    "start_time": "2022-06-05T16:20:19.216Z"
   },
   {
    "duration": 254984,
    "start_time": "2022-06-05T16:20:19.244Z"
   },
   {
    "duration": 3,
    "start_time": "2022-06-05T16:24:34.230Z"
   },
   {
    "duration": 688,
    "start_time": "2022-06-05T16:24:34.235Z"
   },
   {
    "duration": 5455,
    "start_time": "2022-06-05T16:24:34.925Z"
   },
   {
    "duration": 3,
    "start_time": "2022-06-05T16:24:40.382Z"
   },
   {
    "duration": 13,
    "start_time": "2022-06-05T16:24:40.387Z"
   },
   {
    "duration": 11,
    "start_time": "2022-06-05T16:24:40.402Z"
   },
   {
    "duration": 51,
    "start_time": "2022-06-05T16:24:56.341Z"
   },
   {
    "duration": 41216,
    "start_time": "2022-06-05T18:55:34.114Z"
   },
   {
    "duration": 40493,
    "start_time": "2022-06-05T18:56:28.386Z"
   },
   {
    "duration": 3,
    "start_time": "2022-06-05T18:57:13.006Z"
   },
   {
    "duration": 3,
    "start_time": "2022-06-05T19:00:21.439Z"
   },
   {
    "duration": 323254,
    "start_time": "2022-06-05T19:00:21.850Z"
   },
   {
    "duration": 3,
    "start_time": "2022-06-05T19:05:45.106Z"
   },
   {
    "duration": 111,
    "start_time": "2022-06-05T19:05:45.110Z"
   },
   {
    "duration": 8085,
    "start_time": "2022-06-05T19:05:45.223Z"
   },
   {
    "duration": 3,
    "start_time": "2022-06-05T19:05:53.309Z"
   },
   {
    "duration": 17,
    "start_time": "2022-06-05T19:05:53.315Z"
   },
   {
    "duration": 19,
    "start_time": "2022-06-05T19:05:53.334Z"
   },
   {
    "duration": 207,
    "start_time": "2022-06-05T19:07:30.793Z"
   },
   {
    "duration": 4,
    "start_time": "2022-06-05T19:13:24.982Z"
   },
   {
    "duration": 266,
    "start_time": "2022-06-05T19:58:49.246Z"
   },
   {
    "duration": 3,
    "start_time": "2022-06-05T19:59:05.931Z"
   },
   {
    "duration": 3,
    "start_time": "2022-06-05T19:59:07.403Z"
   },
   {
    "duration": 2431449,
    "start_time": "2022-06-05T19:59:07.851Z"
   },
   {
    "duration": 4,
    "start_time": "2022-06-05T20:39:39.304Z"
   },
   {
    "duration": 429,
    "start_time": "2022-06-05T20:39:39.366Z"
   },
   {
    "duration": 3786,
    "start_time": "2022-06-05T20:39:39.797Z"
   },
   {
    "duration": 5,
    "start_time": "2022-06-05T20:39:43.587Z"
   },
   {
    "duration": 20,
    "start_time": "2022-06-05T20:39:43.594Z"
   },
   {
    "duration": 28,
    "start_time": "2022-06-05T20:39:43.616Z"
   },
   {
    "duration": 12,
    "start_time": "2022-06-05T20:40:23.643Z"
   },
   {
    "duration": 4,
    "start_time": "2022-06-05T20:40:42.993Z"
   },
   {
    "duration": 5,
    "start_time": "2022-06-05T20:41:22.088Z"
   },
   {
    "duration": 11,
    "start_time": "2022-06-05T20:43:01.262Z"
   },
   {
    "duration": 5,
    "start_time": "2022-06-05T20:43:20.564Z"
   },
   {
    "duration": 4,
    "start_time": "2022-06-05T20:43:21.042Z"
   },
   {
    "duration": 11,
    "start_time": "2022-06-05T20:43:21.542Z"
   },
   {
    "duration": 3,
    "start_time": "2022-06-05T20:43:23.229Z"
   },
   {
    "duration": 5,
    "start_time": "2022-06-05T20:43:28.978Z"
   },
   {
    "duration": 8,
    "start_time": "2022-06-05T20:43:43.787Z"
   },
   {
    "duration": 2,
    "start_time": "2022-06-05T20:44:03.643Z"
   },
   {
    "duration": 10,
    "start_time": "2022-06-05T20:44:05.821Z"
   },
   {
    "duration": 5,
    "start_time": "2022-06-05T20:44:15.207Z"
   },
   {
    "duration": 12,
    "start_time": "2022-06-05T20:45:20.186Z"
   },
   {
    "duration": 11,
    "start_time": "2022-06-05T20:45:36.598Z"
   },
   {
    "duration": 14,
    "start_time": "2022-06-05T20:45:46.363Z"
   },
   {
    "duration": 11,
    "start_time": "2022-06-05T20:46:02.106Z"
   },
   {
    "duration": 4,
    "start_time": "2022-06-05T20:46:09.539Z"
   },
   {
    "duration": 10,
    "start_time": "2022-06-05T20:46:17.195Z"
   },
   {
    "duration": 15,
    "start_time": "2022-06-05T20:46:21.462Z"
   },
   {
    "duration": 13,
    "start_time": "2022-06-05T20:46:26.791Z"
   },
   {
    "duration": 16,
    "start_time": "2022-06-05T20:46:38.161Z"
   },
   {
    "duration": 7,
    "start_time": "2022-06-05T20:54:17.181Z"
   },
   {
    "duration": 3,
    "start_time": "2022-06-05T20:54:17.995Z"
   },
   {
    "duration": 1362,
    "start_time": "2022-06-05T20:54:54.878Z"
   },
   {
    "duration": 856,
    "start_time": "2022-06-05T20:54:56.242Z"
   },
   {
    "duration": 13,
    "start_time": "2022-06-05T20:54:57.099Z"
   },
   {
    "duration": 87,
    "start_time": "2022-06-05T20:54:57.113Z"
   },
   {
    "duration": 99,
    "start_time": "2022-06-05T20:54:57.202Z"
   },
   {
    "duration": 144,
    "start_time": "2022-06-05T20:54:57.303Z"
   },
   {
    "duration": 3,
    "start_time": "2022-06-05T20:54:57.449Z"
   },
   {
    "duration": 466,
    "start_time": "2022-06-05T20:54:57.464Z"
   },
   {
    "duration": 1030,
    "start_time": "2022-06-05T20:54:57.932Z"
   },
   {
    "duration": 151,
    "start_time": "2022-06-05T20:54:58.970Z"
   },
   {
    "duration": 65,
    "start_time": "2022-06-05T20:54:59.123Z"
   },
   {
    "duration": 4,
    "start_time": "2022-06-05T20:54:59.190Z"
   },
   {
    "duration": 105,
    "start_time": "2022-06-05T20:54:59.196Z"
   },
   {
    "duration": 117,
    "start_time": "2022-06-05T20:54:59.303Z"
   },
   {
    "duration": 46,
    "start_time": "2022-06-05T20:54:59.422Z"
   },
   {
    "duration": 100,
    "start_time": "2022-06-05T20:54:59.476Z"
   },
   {
    "duration": 34,
    "start_time": "2022-06-05T20:54:59.577Z"
   },
   {
    "duration": 117,
    "start_time": "2022-06-05T20:54:59.613Z"
   },
   {
    "duration": 110,
    "start_time": "2022-06-05T20:54:59.732Z"
   },
   {
    "duration": 109,
    "start_time": "2022-06-05T20:54:59.843Z"
   },
   {
    "duration": 114,
    "start_time": "2022-06-05T20:54:59.962Z"
   },
   {
    "duration": 951,
    "start_time": "2022-06-05T20:55:00.078Z"
   },
   {
    "duration": 13,
    "start_time": "2022-06-05T20:55:01.031Z"
   },
   {
    "duration": 34,
    "start_time": "2022-06-05T20:55:01.046Z"
   },
   {
    "duration": 39,
    "start_time": "2022-06-05T20:55:01.083Z"
   },
   {
    "duration": 1025,
    "start_time": "2022-06-05T20:55:01.124Z"
   },
   {
    "duration": 135,
    "start_time": "2022-06-05T20:55:02.151Z"
   },
   {
    "duration": 9,
    "start_time": "2022-06-05T20:55:02.288Z"
   },
   {
    "duration": 5,
    "start_time": "2022-06-05T20:55:02.299Z"
   },
   {
    "duration": 20,
    "start_time": "2022-06-05T20:55:02.306Z"
   },
   {
    "duration": 54,
    "start_time": "2022-06-05T20:55:02.328Z"
   },
   {
    "duration": 35,
    "start_time": "2022-06-05T20:55:02.383Z"
   },
   {
    "duration": 1362,
    "start_time": "2022-06-05T20:55:02.420Z"
   },
   {
    "duration": 122,
    "start_time": "2022-06-05T20:55:03.783Z"
   },
   {
    "duration": 5,
    "start_time": "2022-06-05T20:55:03.907Z"
   },
   {
    "duration": 211,
    "start_time": "2022-06-05T20:55:03.914Z"
   },
   {
    "duration": 12,
    "start_time": "2022-06-05T20:55:04.127Z"
   },
   {
    "duration": 4,
    "start_time": "2022-06-05T20:55:04.141Z"
   },
   {
    "duration": 105,
    "start_time": "2022-06-05T20:55:04.146Z"
   },
   {
    "duration": 22,
    "start_time": "2022-06-05T20:55:04.252Z"
   },
   {
    "duration": 66,
    "start_time": "2022-06-05T20:55:04.279Z"
   },
   {
    "duration": 170,
    "start_time": "2022-06-05T20:55:04.347Z"
   },
   {
    "duration": 50,
    "start_time": "2022-06-05T20:55:04.519Z"
   },
   {
    "duration": 96,
    "start_time": "2022-06-05T20:55:04.580Z"
   },
   {
    "duration": 11,
    "start_time": "2022-06-05T20:55:04.678Z"
   },
   {
    "duration": 5,
    "start_time": "2022-06-05T20:55:04.691Z"
   },
   {
    "duration": 80,
    "start_time": "2022-06-05T20:55:04.698Z"
   },
   {
    "duration": 9,
    "start_time": "2022-06-05T20:55:04.780Z"
   },
   {
    "duration": 8,
    "start_time": "2022-06-05T20:55:04.791Z"
   },
   {
    "duration": 84,
    "start_time": "2022-06-05T20:55:04.800Z"
   },
   {
    "duration": 7,
    "start_time": "2022-06-05T20:55:04.886Z"
   },
   {
    "duration": 883,
    "start_time": "2022-06-05T20:55:04.895Z"
   },
   {
    "duration": 35,
    "start_time": "2022-06-05T20:55:05.780Z"
   },
   {
    "duration": 71,
    "start_time": "2022-06-05T20:55:05.817Z"
   },
   {
    "duration": 3,
    "start_time": "2022-06-05T20:55:05.890Z"
   },
   {
    "duration": 4703,
    "start_time": "2022-06-05T20:55:05.894Z"
   },
   {
    "duration": 146,
    "start_time": "2022-06-05T20:55:10.670Z"
   },
   {
    "duration": 0,
    "start_time": "2022-06-05T20:55:10.817Z"
   },
   {
    "duration": 0,
    "start_time": "2022-06-05T20:55:10.818Z"
   },
   {
    "duration": 0,
    "start_time": "2022-06-05T20:55:10.819Z"
   },
   {
    "duration": 0,
    "start_time": "2022-06-05T20:55:10.820Z"
   },
   {
    "duration": 0,
    "start_time": "2022-06-05T20:55:10.821Z"
   },
   {
    "duration": 0,
    "start_time": "2022-06-05T20:55:10.822Z"
   },
   {
    "duration": 0,
    "start_time": "2022-06-05T20:55:10.823Z"
   },
   {
    "duration": 0,
    "start_time": "2022-06-05T20:55:10.824Z"
   },
   {
    "duration": 0,
    "start_time": "2022-06-05T20:55:10.825Z"
   },
   {
    "duration": 0,
    "start_time": "2022-06-05T20:55:10.826Z"
   },
   {
    "duration": 0,
    "start_time": "2022-06-05T20:55:10.827Z"
   },
   {
    "duration": 0,
    "start_time": "2022-06-05T20:55:10.828Z"
   },
   {
    "duration": 0,
    "start_time": "2022-06-05T20:55:10.829Z"
   },
   {
    "duration": 0,
    "start_time": "2022-06-05T20:55:10.831Z"
   },
   {
    "duration": 0,
    "start_time": "2022-06-05T20:55:10.832Z"
   },
   {
    "duration": 0,
    "start_time": "2022-06-05T20:55:10.833Z"
   },
   {
    "duration": 0,
    "start_time": "2022-06-05T20:55:10.834Z"
   },
   {
    "duration": 0,
    "start_time": "2022-06-05T20:55:10.834Z"
   },
   {
    "duration": 0,
    "start_time": "2022-06-05T20:55:10.835Z"
   },
   {
    "duration": 0,
    "start_time": "2022-06-05T20:55:10.837Z"
   },
   {
    "duration": 0,
    "start_time": "2022-06-05T20:55:10.838Z"
   },
   {
    "duration": 0,
    "start_time": "2022-06-05T20:55:10.870Z"
   },
   {
    "duration": 0,
    "start_time": "2022-06-05T20:55:10.871Z"
   },
   {
    "duration": 0,
    "start_time": "2022-06-05T20:55:10.872Z"
   },
   {
    "duration": 0,
    "start_time": "2022-06-05T20:55:10.872Z"
   },
   {
    "duration": 0,
    "start_time": "2022-06-05T20:55:10.873Z"
   },
   {
    "duration": 0,
    "start_time": "2022-06-05T20:55:10.877Z"
   },
   {
    "duration": 0,
    "start_time": "2022-06-05T20:55:10.879Z"
   },
   {
    "duration": 0,
    "start_time": "2022-06-05T20:55:10.880Z"
   },
   {
    "duration": 0,
    "start_time": "2022-06-05T20:55:10.881Z"
   },
   {
    "duration": 1335,
    "start_time": "2022-06-05T20:55:33.045Z"
   },
   {
    "duration": 830,
    "start_time": "2022-06-05T20:55:34.381Z"
   },
   {
    "duration": 12,
    "start_time": "2022-06-05T20:55:35.213Z"
   },
   {
    "duration": 91,
    "start_time": "2022-06-05T20:55:35.226Z"
   },
   {
    "duration": 111,
    "start_time": "2022-06-05T20:55:35.319Z"
   },
   {
    "duration": 142,
    "start_time": "2022-06-05T20:55:35.432Z"
   },
   {
    "duration": 3,
    "start_time": "2022-06-05T20:55:35.577Z"
   },
   {
    "duration": 456,
    "start_time": "2022-06-05T20:55:35.581Z"
   },
   {
    "duration": 974,
    "start_time": "2022-06-05T20:55:36.039Z"
   },
   {
    "duration": 110,
    "start_time": "2022-06-05T20:55:37.015Z"
   },
   {
    "duration": 51,
    "start_time": "2022-06-05T20:55:37.127Z"
   },
   {
    "duration": 4,
    "start_time": "2022-06-05T20:55:37.180Z"
   },
   {
    "duration": 98,
    "start_time": "2022-06-05T20:55:37.185Z"
   },
   {
    "duration": 112,
    "start_time": "2022-06-05T20:55:37.285Z"
   },
   {
    "duration": 45,
    "start_time": "2022-06-05T20:55:37.399Z"
   },
   {
    "duration": 129,
    "start_time": "2022-06-05T20:55:37.446Z"
   },
   {
    "duration": 34,
    "start_time": "2022-06-05T20:55:37.577Z"
   },
   {
    "duration": 116,
    "start_time": "2022-06-05T20:55:37.612Z"
   },
   {
    "duration": 114,
    "start_time": "2022-06-05T20:55:37.730Z"
   },
   {
    "duration": 106,
    "start_time": "2022-06-05T20:55:37.845Z"
   },
   {
    "duration": 97,
    "start_time": "2022-06-05T20:55:37.953Z"
   },
   {
    "duration": 1031,
    "start_time": "2022-06-05T20:55:38.051Z"
   },
   {
    "duration": 14,
    "start_time": "2022-06-05T20:55:39.085Z"
   },
   {
    "duration": 13,
    "start_time": "2022-06-05T20:55:39.101Z"
   },
   {
    "duration": 66,
    "start_time": "2022-06-05T20:55:39.116Z"
   },
   {
    "duration": 1018,
    "start_time": "2022-06-05T20:55:39.184Z"
   },
   {
    "duration": 133,
    "start_time": "2022-06-05T20:55:40.204Z"
   },
   {
    "duration": 8,
    "start_time": "2022-06-05T20:55:40.339Z"
   },
   {
    "duration": 27,
    "start_time": "2022-06-05T20:55:40.349Z"
   },
   {
    "duration": 19,
    "start_time": "2022-06-05T20:55:40.378Z"
   },
   {
    "duration": 22,
    "start_time": "2022-06-05T20:55:40.399Z"
   },
   {
    "duration": 45,
    "start_time": "2022-06-05T20:55:40.423Z"
   },
   {
    "duration": 1263,
    "start_time": "2022-06-05T20:55:40.469Z"
   },
   {
    "duration": 127,
    "start_time": "2022-06-05T20:55:41.733Z"
   },
   {
    "duration": 16,
    "start_time": "2022-06-05T20:55:41.864Z"
   },
   {
    "duration": 208,
    "start_time": "2022-06-05T20:55:41.881Z"
   },
   {
    "duration": 11,
    "start_time": "2022-06-05T20:55:42.090Z"
   },
   {
    "duration": 14,
    "start_time": "2022-06-05T20:55:42.103Z"
   },
   {
    "duration": 91,
    "start_time": "2022-06-05T20:55:42.118Z"
   },
   {
    "duration": 6,
    "start_time": "2022-06-05T20:55:42.211Z"
   },
   {
    "duration": 71,
    "start_time": "2022-06-05T20:55:42.221Z"
   },
   {
    "duration": 163,
    "start_time": "2022-06-05T20:55:42.294Z"
   },
   {
    "duration": 44,
    "start_time": "2022-06-05T20:55:42.459Z"
   },
   {
    "duration": 93,
    "start_time": "2022-06-05T20:55:42.504Z"
   },
   {
    "duration": 8,
    "start_time": "2022-06-05T20:55:42.599Z"
   },
   {
    "duration": 6,
    "start_time": "2022-06-05T20:55:42.609Z"
   },
   {
    "duration": 84,
    "start_time": "2022-06-05T20:55:42.617Z"
   },
   {
    "duration": 11,
    "start_time": "2022-06-05T20:55:42.702Z"
   },
   {
    "duration": 5,
    "start_time": "2022-06-05T20:55:42.715Z"
   },
   {
    "duration": 83,
    "start_time": "2022-06-05T20:55:42.722Z"
   },
   {
    "duration": 9,
    "start_time": "2022-06-05T20:55:42.807Z"
   },
   {
    "duration": 886,
    "start_time": "2022-06-05T20:55:42.818Z"
   },
   {
    "duration": 30,
    "start_time": "2022-06-05T20:55:43.707Z"
   },
   {
    "duration": 83,
    "start_time": "2022-06-05T20:55:43.739Z"
   },
   {
    "duration": 2,
    "start_time": "2022-06-05T20:55:43.824Z"
   },
   {
    "duration": 4551,
    "start_time": "2022-06-05T20:55:43.827Z"
   },
   {
    "duration": 7,
    "start_time": "2022-06-05T20:55:48.380Z"
   },
   {
    "duration": 102,
    "start_time": "2022-06-05T20:55:48.389Z"
   },
   {
    "duration": 7178,
    "start_time": "2022-06-05T20:55:48.494Z"
   },
   {
    "duration": 3,
    "start_time": "2022-06-05T20:55:55.674Z"
   },
   {
    "duration": 92,
    "start_time": "2022-06-05T20:55:55.678Z"
   },
   {
    "duration": 94,
    "start_time": "2022-06-05T20:55:55.772Z"
   },
   {
    "duration": 30799,
    "start_time": "2022-06-05T20:55:55.868Z"
   },
   {
    "duration": 20,
    "start_time": "2022-06-05T20:56:26.668Z"
   },
   {
    "duration": 1410,
    "start_time": "2022-06-05T20:56:52.270Z"
   },
   {
    "duration": 827,
    "start_time": "2022-06-05T20:56:53.684Z"
   },
   {
    "duration": 13,
    "start_time": "2022-06-05T20:56:54.512Z"
   },
   {
    "duration": 90,
    "start_time": "2022-06-05T20:56:54.527Z"
   },
   {
    "duration": 105,
    "start_time": "2022-06-05T20:56:54.620Z"
   },
   {
    "duration": 148,
    "start_time": "2022-06-05T20:56:54.727Z"
   },
   {
    "duration": 3,
    "start_time": "2022-06-05T20:56:54.877Z"
   },
   {
    "duration": 483,
    "start_time": "2022-06-05T20:56:54.886Z"
   },
   {
    "duration": 972,
    "start_time": "2022-06-05T20:56:55.371Z"
   },
   {
    "duration": 133,
    "start_time": "2022-06-05T20:56:56.345Z"
   },
   {
    "duration": 44,
    "start_time": "2022-06-05T20:56:56.480Z"
   },
   {
    "duration": 4,
    "start_time": "2022-06-05T20:56:56.525Z"
   },
   {
    "duration": 99,
    "start_time": "2022-06-05T20:56:56.531Z"
   },
   {
    "duration": 119,
    "start_time": "2022-06-05T20:56:56.633Z"
   },
   {
    "duration": 45,
    "start_time": "2022-06-05T20:56:56.754Z"
   },
   {
    "duration": 122,
    "start_time": "2022-06-05T20:56:56.801Z"
   },
   {
    "duration": 53,
    "start_time": "2022-06-05T20:56:56.924Z"
   },
   {
    "duration": 109,
    "start_time": "2022-06-05T20:56:56.979Z"
   },
   {
    "duration": 114,
    "start_time": "2022-06-05T20:56:57.090Z"
   },
   {
    "duration": 103,
    "start_time": "2022-06-05T20:56:57.206Z"
   },
   {
    "duration": 96,
    "start_time": "2022-06-05T20:56:57.311Z"
   },
   {
    "duration": 950,
    "start_time": "2022-06-05T20:56:57.409Z"
   },
   {
    "duration": 20,
    "start_time": "2022-06-05T20:56:58.366Z"
   },
   {
    "duration": 19,
    "start_time": "2022-06-05T20:56:58.388Z"
   },
   {
    "duration": 36,
    "start_time": "2022-06-05T20:56:58.408Z"
   },
   {
    "duration": 1132,
    "start_time": "2022-06-05T20:56:58.445Z"
   },
   {
    "duration": 117,
    "start_time": "2022-06-05T20:56:59.578Z"
   },
   {
    "duration": 9,
    "start_time": "2022-06-05T20:56:59.697Z"
   },
   {
    "duration": 18,
    "start_time": "2022-06-05T20:56:59.707Z"
   },
   {
    "duration": 34,
    "start_time": "2022-06-05T20:56:59.726Z"
   },
   {
    "duration": 36,
    "start_time": "2022-06-05T20:56:59.762Z"
   },
   {
    "duration": 36,
    "start_time": "2022-06-05T20:56:59.799Z"
   },
   {
    "duration": 1317,
    "start_time": "2022-06-05T20:56:59.836Z"
   },
   {
    "duration": 135,
    "start_time": "2022-06-05T20:57:01.155Z"
   },
   {
    "duration": 6,
    "start_time": "2022-06-05T20:57:01.291Z"
   },
   {
    "duration": 213,
    "start_time": "2022-06-05T20:57:01.298Z"
   },
   {
    "duration": 11,
    "start_time": "2022-06-05T20:57:01.512Z"
   },
   {
    "duration": 12,
    "start_time": "2022-06-05T20:57:01.525Z"
   },
   {
    "duration": 100,
    "start_time": "2022-06-05T20:57:01.539Z"
   },
   {
    "duration": 7,
    "start_time": "2022-06-05T20:57:01.640Z"
   },
   {
    "duration": 77,
    "start_time": "2022-06-05T20:57:01.652Z"
   },
   {
    "duration": 172,
    "start_time": "2022-06-05T20:57:01.731Z"
   },
   {
    "duration": 40,
    "start_time": "2022-06-05T20:57:01.905Z"
   },
   {
    "duration": 99,
    "start_time": "2022-06-05T20:57:01.947Z"
   },
   {
    "duration": 8,
    "start_time": "2022-06-05T20:57:02.048Z"
   },
   {
    "duration": 22,
    "start_time": "2022-06-05T20:57:02.057Z"
   },
   {
    "duration": 76,
    "start_time": "2022-06-05T20:57:02.081Z"
   },
   {
    "duration": 21,
    "start_time": "2022-06-05T20:57:02.158Z"
   },
   {
    "duration": 5,
    "start_time": "2022-06-05T20:57:02.180Z"
   },
   {
    "duration": 67,
    "start_time": "2022-06-05T20:57:02.187Z"
   },
   {
    "duration": 20,
    "start_time": "2022-06-05T20:57:02.256Z"
   },
   {
    "duration": 882,
    "start_time": "2022-06-05T20:57:02.278Z"
   },
   {
    "duration": 26,
    "start_time": "2022-06-05T20:57:03.162Z"
   },
   {
    "duration": 84,
    "start_time": "2022-06-05T20:57:03.190Z"
   },
   {
    "duration": 2,
    "start_time": "2022-06-05T20:57:03.276Z"
   },
   {
    "duration": 4702,
    "start_time": "2022-06-05T20:57:03.282Z"
   },
   {
    "duration": 3,
    "start_time": "2022-06-05T20:57:07.985Z"
   },
   {
    "duration": 94,
    "start_time": "2022-06-05T20:57:07.990Z"
   },
   {
    "duration": 6783,
    "start_time": "2022-06-05T20:57:08.090Z"
   },
   {
    "duration": 6,
    "start_time": "2022-06-05T20:57:14.876Z"
   },
   {
    "duration": 198,
    "start_time": "2022-06-05T20:57:14.884Z"
   },
   {
    "duration": 15,
    "start_time": "2022-06-05T20:57:15.084Z"
   },
   {
    "duration": 31692,
    "start_time": "2022-06-05T20:57:15.101Z"
   },
   {
    "duration": 17,
    "start_time": "2022-06-05T20:57:46.795Z"
   },
   {
    "duration": 254223,
    "start_time": "2022-06-05T20:57:46.814Z"
   },
   {
    "duration": 4,
    "start_time": "2022-06-05T21:02:01.038Z"
   },
   {
    "duration": 701,
    "start_time": "2022-06-05T21:02:01.043Z"
   },
   {
    "duration": 5378,
    "start_time": "2022-06-05T21:02:01.746Z"
   },
   {
    "duration": 3,
    "start_time": "2022-06-05T21:02:07.125Z"
   },
   {
    "duration": 24,
    "start_time": "2022-06-05T21:02:07.130Z"
   },
   {
    "duration": 35,
    "start_time": "2022-06-05T21:02:07.156Z"
   },
   {
    "duration": 39,
    "start_time": "2022-06-05T21:02:07.193Z"
   },
   {
    "duration": 328412,
    "start_time": "2022-06-05T21:02:07.233Z"
   },
   {
    "duration": 3,
    "start_time": "2022-06-05T21:07:35.646Z"
   },
   {
    "duration": 120,
    "start_time": "2022-06-05T21:07:35.651Z"
   },
   {
    "duration": 7627,
    "start_time": "2022-06-05T21:07:35.772Z"
   },
   {
    "duration": 2,
    "start_time": "2022-06-05T21:07:43.401Z"
   },
   {
    "duration": 7,
    "start_time": "2022-06-05T21:07:43.405Z"
   },
   {
    "duration": 12,
    "start_time": "2022-06-05T21:07:43.413Z"
   },
   {
    "duration": 6,
    "start_time": "2022-06-05T21:07:43.426Z"
   },
   {
    "duration": 406535,
    "start_time": "2022-06-05T21:07:43.433Z"
   },
   {
    "duration": 3,
    "start_time": "2022-06-05T21:14:29.970Z"
   },
   {
    "duration": 598,
    "start_time": "2022-06-05T21:14:29.974Z"
   },
   {
    "duration": 4414,
    "start_time": "2022-06-05T21:14:30.575Z"
   },
   {
    "duration": 4,
    "start_time": "2022-06-05T21:14:35.064Z"
   },
   {
    "duration": 22,
    "start_time": "2022-06-05T21:14:35.070Z"
   },
   {
    "duration": 15,
    "start_time": "2022-06-05T21:14:35.094Z"
   },
   {
    "duration": 4,
    "start_time": "2022-06-05T21:17:35.854Z"
   },
   {
    "duration": 4,
    "start_time": "2022-06-05T21:17:43.088Z"
   },
   {
    "duration": 5,
    "start_time": "2022-06-05T21:18:01.866Z"
   },
   {
    "duration": 3,
    "start_time": "2022-06-05T21:18:42.669Z"
   },
   {
    "duration": 1472,
    "start_time": "2022-06-05T21:19:32.945Z"
   },
   {
    "duration": 926,
    "start_time": "2022-06-05T21:19:34.419Z"
   },
   {
    "duration": 13,
    "start_time": "2022-06-05T21:19:35.347Z"
   },
   {
    "duration": 81,
    "start_time": "2022-06-05T21:19:35.362Z"
   },
   {
    "duration": 129,
    "start_time": "2022-06-05T21:19:35.445Z"
   },
   {
    "duration": 130,
    "start_time": "2022-06-05T21:19:35.577Z"
   },
   {
    "duration": 4,
    "start_time": "2022-06-05T21:19:35.709Z"
   },
   {
    "duration": 523,
    "start_time": "2022-06-05T21:19:35.715Z"
   },
   {
    "duration": 1086,
    "start_time": "2022-06-05T21:19:36.240Z"
   },
   {
    "duration": 150,
    "start_time": "2022-06-05T21:19:37.329Z"
   },
   {
    "duration": 47,
    "start_time": "2022-06-05T21:19:37.486Z"
   },
   {
    "duration": 4,
    "start_time": "2022-06-05T21:19:37.535Z"
   },
   {
    "duration": 99,
    "start_time": "2022-06-05T21:19:37.541Z"
   },
   {
    "duration": 150,
    "start_time": "2022-06-05T21:19:37.642Z"
   },
   {
    "duration": 52,
    "start_time": "2022-06-05T21:19:37.794Z"
   },
   {
    "duration": 132,
    "start_time": "2022-06-05T21:19:37.848Z"
   },
   {
    "duration": 37,
    "start_time": "2022-06-05T21:19:37.982Z"
   },
   {
    "duration": 119,
    "start_time": "2022-06-05T21:19:38.020Z"
   },
   {
    "duration": 139,
    "start_time": "2022-06-05T21:19:38.141Z"
   },
   {
    "duration": 122,
    "start_time": "2022-06-05T21:19:38.282Z"
   },
   {
    "duration": 92,
    "start_time": "2022-06-05T21:19:38.406Z"
   },
   {
    "duration": 1055,
    "start_time": "2022-06-05T21:19:38.500Z"
   },
   {
    "duration": 15,
    "start_time": "2022-06-05T21:19:39.556Z"
   },
   {
    "duration": 15,
    "start_time": "2022-06-05T21:19:39.573Z"
   },
   {
    "duration": 44,
    "start_time": "2022-06-05T21:19:39.591Z"
   },
   {
    "duration": 1008,
    "start_time": "2022-06-05T21:19:39.637Z"
   },
   {
    "duration": 132,
    "start_time": "2022-06-05T21:19:40.647Z"
   },
   {
    "duration": 119,
    "start_time": "2022-06-05T21:19:40.785Z"
   },
   {
    "duration": 7,
    "start_time": "2022-06-05T21:19:40.906Z"
   },
   {
    "duration": 20,
    "start_time": "2022-06-05T21:19:40.915Z"
   },
   {
    "duration": 47,
    "start_time": "2022-06-05T21:19:40.936Z"
   },
   {
    "duration": 32,
    "start_time": "2022-06-05T21:19:40.985Z"
   },
   {
    "duration": 1233,
    "start_time": "2022-06-05T21:19:41.019Z"
   },
   {
    "duration": 134,
    "start_time": "2022-06-05T21:19:42.253Z"
   },
   {
    "duration": 6,
    "start_time": "2022-06-05T21:19:42.388Z"
   },
   {
    "duration": 223,
    "start_time": "2022-06-05T21:19:42.396Z"
   },
   {
    "duration": 11,
    "start_time": "2022-06-05T21:19:42.621Z"
   },
   {
    "duration": 7,
    "start_time": "2022-06-05T21:19:42.633Z"
   },
   {
    "duration": 102,
    "start_time": "2022-06-05T21:19:42.642Z"
   },
   {
    "duration": 6,
    "start_time": "2022-06-05T21:19:42.747Z"
   },
   {
    "duration": 76,
    "start_time": "2022-06-05T21:19:42.765Z"
   },
   {
    "duration": 27,
    "start_time": "2022-06-05T21:19:42.844Z"
   },
   {
    "duration": 216,
    "start_time": "2022-06-05T21:19:42.873Z"
   },
   {
    "duration": 108,
    "start_time": "2022-06-05T21:19:43.091Z"
   },
   {
    "duration": 10,
    "start_time": "2022-06-05T21:19:43.201Z"
   },
   {
    "duration": 9,
    "start_time": "2022-06-05T21:19:43.213Z"
   },
   {
    "duration": 93,
    "start_time": "2022-06-05T21:19:43.224Z"
   },
   {
    "duration": 12,
    "start_time": "2022-06-05T21:19:43.319Z"
   },
   {
    "duration": 9,
    "start_time": "2022-06-05T21:19:43.332Z"
   },
   {
    "duration": 78,
    "start_time": "2022-06-05T21:19:43.343Z"
   },
   {
    "duration": 8,
    "start_time": "2022-06-05T21:19:43.423Z"
   },
   {
    "duration": 916,
    "start_time": "2022-06-05T21:19:43.433Z"
   },
   {
    "duration": 28,
    "start_time": "2022-06-05T21:19:44.351Z"
   },
   {
    "duration": 67,
    "start_time": "2022-06-05T21:19:44.381Z"
   },
   {
    "duration": 3,
    "start_time": "2022-06-05T21:19:44.465Z"
   },
   {
    "duration": 4598,
    "start_time": "2022-06-05T21:19:44.470Z"
   },
   {
    "duration": 5,
    "start_time": "2022-06-05T21:19:49.070Z"
   },
   {
    "duration": 88,
    "start_time": "2022-06-05T21:19:49.077Z"
   },
   {
    "duration": 8500,
    "start_time": "2022-06-05T21:19:49.168Z"
   },
   {
    "duration": 4,
    "start_time": "2022-06-05T21:19:57.764Z"
   },
   {
    "duration": 95,
    "start_time": "2022-06-05T21:19:57.771Z"
   },
   {
    "duration": 11,
    "start_time": "2022-06-05T21:19:57.868Z"
   },
   {
    "duration": 32049,
    "start_time": "2022-06-05T21:19:57.880Z"
   },
   {
    "duration": 22,
    "start_time": "2022-06-05T21:20:29.931Z"
   },
   {
    "duration": 264573,
    "start_time": "2022-06-05T21:20:29.956Z"
   },
   {
    "duration": 3,
    "start_time": "2022-06-05T21:24:54.532Z"
   },
   {
    "duration": 794,
    "start_time": "2022-06-05T21:24:54.538Z"
   },
   {
    "duration": 5760,
    "start_time": "2022-06-05T21:24:55.334Z"
   },
   {
    "duration": 3,
    "start_time": "2022-06-05T21:25:01.097Z"
   },
   {
    "duration": 44,
    "start_time": "2022-06-05T21:25:01.103Z"
   },
   {
    "duration": 22,
    "start_time": "2022-06-05T21:25:01.149Z"
   },
   {
    "duration": 43,
    "start_time": "2022-06-05T21:25:01.176Z"
   },
   {
    "duration": 353388,
    "start_time": "2022-06-05T21:25:01.222Z"
   },
   {
    "duration": 3,
    "start_time": "2022-06-05T21:30:54.613Z"
   },
   {
    "duration": 139,
    "start_time": "2022-06-05T21:30:54.618Z"
   },
   {
    "duration": 7563,
    "start_time": "2022-06-05T21:30:54.759Z"
   },
   {
    "duration": 4,
    "start_time": "2022-06-05T21:31:02.323Z"
   },
   {
    "duration": 22,
    "start_time": "2022-06-05T21:31:02.329Z"
   },
   {
    "duration": 19,
    "start_time": "2022-06-05T21:31:02.352Z"
   },
   {
    "duration": 8,
    "start_time": "2022-06-05T21:31:02.373Z"
   },
   {
    "duration": 3081690,
    "start_time": "2022-06-05T21:31:02.383Z"
   },
   {
    "duration": 2,
    "start_time": "2022-06-05T22:22:24.080Z"
   },
   {
    "duration": 502,
    "start_time": "2022-06-05T22:22:24.084Z"
   },
   {
    "duration": 4392,
    "start_time": "2022-06-05T22:22:24.589Z"
   },
   {
    "duration": 3,
    "start_time": "2022-06-05T22:22:28.983Z"
   },
   {
    "duration": 12,
    "start_time": "2022-06-05T22:22:28.990Z"
   },
   {
    "duration": 17,
    "start_time": "2022-06-05T22:22:29.004Z"
   },
   {
    "duration": 45,
    "start_time": "2022-06-05T22:22:29.023Z"
   },
   {
    "duration": 19,
    "start_time": "2022-06-05T22:22:29.070Z"
   },
   {
    "duration": 10,
    "start_time": "2022-06-06T02:10:34.124Z"
   },
   {
    "duration": 1470,
    "start_time": "2022-06-06T04:41:55.713Z"
   },
   {
    "duration": 1058,
    "start_time": "2022-06-06T04:41:58.001Z"
   },
   {
    "duration": 13,
    "start_time": "2022-06-06T04:41:59.550Z"
   },
   {
    "duration": 73,
    "start_time": "2022-06-06T04:42:13.056Z"
   },
   {
    "duration": 93,
    "start_time": "2022-06-06T04:42:24.101Z"
   },
   {
    "duration": 115,
    "start_time": "2022-06-06T04:42:24.655Z"
   },
   {
    "duration": 4,
    "start_time": "2022-06-06T04:42:40.360Z"
   },
   {
    "duration": 416,
    "start_time": "2022-06-06T04:42:42.005Z"
   },
   {
    "duration": 932,
    "start_time": "2022-06-06T04:42:44.688Z"
   },
   {
    "duration": 108,
    "start_time": "2022-06-06T04:43:31.022Z"
   },
   {
    "duration": 40,
    "start_time": "2022-06-06T04:43:42.096Z"
   },
   {
    "duration": 4,
    "start_time": "2022-06-06T04:44:36.246Z"
   },
   {
    "duration": 140,
    "start_time": "2022-06-06T04:44:36.870Z"
   },
   {
    "duration": 94,
    "start_time": "2022-06-06T04:45:17.932Z"
   },
   {
    "duration": 93,
    "start_time": "2022-06-06T04:45:25.987Z"
   },
   {
    "duration": 101,
    "start_time": "2022-06-06T04:47:13.927Z"
   },
   {
    "duration": 34,
    "start_time": "2022-06-06T04:47:21.647Z"
   },
   {
    "duration": 97,
    "start_time": "2022-06-06T04:47:25.026Z"
   },
   {
    "duration": 34,
    "start_time": "2022-06-06T04:47:31.657Z"
   },
   {
    "duration": 93,
    "start_time": "2022-06-06T04:47:36.503Z"
   },
   {
    "duration": 98,
    "start_time": "2022-06-06T04:47:41.299Z"
   },
   {
    "duration": 101,
    "start_time": "2022-06-06T04:47:44.354Z"
   },
   {
    "duration": 75,
    "start_time": "2022-06-06T04:48:11.543Z"
   },
   {
    "duration": 928,
    "start_time": "2022-06-06T04:48:29.504Z"
   },
   {
    "duration": 14,
    "start_time": "2022-06-06T04:49:28.950Z"
   },
   {
    "duration": 14,
    "start_time": "2022-06-06T04:49:41.754Z"
   },
   {
    "duration": 26,
    "start_time": "2022-06-06T04:49:44.979Z"
   },
   {
    "duration": 910,
    "start_time": "2022-06-06T04:50:11.218Z"
   },
   {
    "duration": 116,
    "start_time": "2022-06-06T04:50:13.803Z"
   },
   {
    "duration": 10,
    "start_time": "2022-06-06T05:00:44.410Z"
   },
   {
    "duration": 5,
    "start_time": "2022-06-06T05:00:51.778Z"
   },
   {
    "duration": 5,
    "start_time": "2022-06-06T05:01:59.168Z"
   },
   {
    "duration": 17,
    "start_time": "2022-06-06T05:02:47.356Z"
   },
   {
    "duration": 26,
    "start_time": "2022-06-06T05:02:51.093Z"
   },
   {
    "duration": 35,
    "start_time": "2022-06-06T05:03:06.299Z"
   },
   {
    "duration": 338,
    "start_time": "2022-06-06T05:06:08.758Z"
   },
   {
    "duration": 5,
    "start_time": "2022-06-06T05:06:43.296Z"
   },
   {
    "duration": 4,
    "start_time": "2022-06-06T05:07:43.750Z"
   },
   {
    "duration": 88,
    "start_time": "2022-06-06T05:07:44.281Z"
   },
   {
    "duration": 7,
    "start_time": "2022-06-06T05:07:46.086Z"
   },
   {
    "duration": 63,
    "start_time": "2022-06-06T05:07:52.140Z"
   },
   {
    "duration": 11,
    "start_time": "2022-06-06T05:07:55.146Z"
   },
   {
    "duration": 74,
    "start_time": "2022-06-06T05:08:34.687Z"
   },
   {
    "duration": 69,
    "start_time": "2022-06-06T05:08:42.790Z"
   },
   {
    "duration": 10,
    "start_time": "2022-06-06T05:08:44.020Z"
   },
   {
    "duration": 5,
    "start_time": "2022-06-06T05:08:50.392Z"
   },
   {
    "duration": 66,
    "start_time": "2022-06-06T05:08:52.505Z"
   },
   {
    "duration": 9,
    "start_time": "2022-06-06T05:08:53.393Z"
   },
   {
    "duration": 837,
    "start_time": "2022-06-06T05:10:05.784Z"
   },
   {
    "duration": 20,
    "start_time": "2022-06-06T05:10:06.622Z"
   },
   {
    "duration": 65,
    "start_time": "2022-06-06T05:10:21.017Z"
   },
   {
    "duration": 85,
    "start_time": "2022-06-06T05:10:27.881Z"
   },
   {
    "duration": 34,
    "start_time": "2022-06-09T20:17:44.595Z"
   },
   {
    "duration": 47,
    "start_time": "2022-06-09T20:22:03.460Z"
   },
   {
    "duration": 1569,
    "start_time": "2022-06-09T20:22:16.704Z"
   },
   {
    "duration": 3566,
    "start_time": "2022-06-09T20:22:18.276Z"
   },
   {
    "duration": 20,
    "start_time": "2022-06-09T20:22:21.844Z"
   },
   {
    "duration": 102,
    "start_time": "2022-06-09T20:22:21.865Z"
   },
   {
    "duration": 134,
    "start_time": "2022-06-09T20:22:21.970Z"
   },
   {
    "duration": 160,
    "start_time": "2022-06-09T20:22:22.106Z"
   },
   {
    "duration": 4,
    "start_time": "2022-06-09T20:22:22.268Z"
   },
   {
    "duration": 484,
    "start_time": "2022-06-09T20:22:22.274Z"
   },
   {
    "duration": 1009,
    "start_time": "2022-06-09T20:22:22.760Z"
   },
   {
    "duration": 118,
    "start_time": "2022-06-09T20:22:23.771Z"
   },
   {
    "duration": 40,
    "start_time": "2022-06-09T20:22:23.891Z"
   },
   {
    "duration": 4,
    "start_time": "2022-06-09T20:22:23.933Z"
   },
   {
    "duration": 129,
    "start_time": "2022-06-09T20:22:23.939Z"
   },
   {
    "duration": 153,
    "start_time": "2022-06-09T20:22:24.071Z"
   },
   {
    "duration": 44,
    "start_time": "2022-06-09T20:22:24.226Z"
   },
   {
    "duration": 121,
    "start_time": "2022-06-09T20:22:24.272Z"
   },
   {
    "duration": 40,
    "start_time": "2022-06-09T20:22:24.395Z"
   },
   {
    "duration": 136,
    "start_time": "2022-06-09T20:22:24.437Z"
   },
   {
    "duration": 125,
    "start_time": "2022-06-09T20:22:24.575Z"
   },
   {
    "duration": 115,
    "start_time": "2022-06-09T20:22:24.702Z"
   },
   {
    "duration": 103,
    "start_time": "2022-06-09T20:22:24.818Z"
   },
   {
    "duration": 1005,
    "start_time": "2022-06-09T20:22:24.923Z"
   },
   {
    "duration": 12,
    "start_time": "2022-06-09T20:22:25.929Z"
   },
   {
    "duration": 24,
    "start_time": "2022-06-09T20:22:25.943Z"
   },
   {
    "duration": 25,
    "start_time": "2022-06-09T20:22:25.969Z"
   },
   {
    "duration": 1034,
    "start_time": "2022-06-09T20:22:25.996Z"
   },
   {
    "duration": 131,
    "start_time": "2022-06-09T20:22:27.032Z"
   },
   {
    "duration": 9,
    "start_time": "2022-06-09T20:22:27.165Z"
   },
   {
    "duration": 13,
    "start_time": "2022-06-09T20:22:27.175Z"
   },
   {
    "duration": 17,
    "start_time": "2022-06-09T20:22:33.904Z"
   },
   {
    "duration": 5,
    "start_time": "2022-06-09T20:22:49.131Z"
   },
   {
    "duration": 14,
    "start_time": "2022-06-09T20:23:54.643Z"
   },
   {
    "duration": 53,
    "start_time": "2022-06-09T20:24:57.053Z"
   },
   {
    "duration": 134,
    "start_time": "2022-06-09T20:25:11.953Z"
   },
   {
    "duration": 35,
    "start_time": "2022-06-09T20:25:33.757Z"
   },
   {
    "duration": 5,
    "start_time": "2022-06-09T20:25:39.742Z"
   },
   {
    "duration": 27,
    "start_time": "2022-06-09T20:25:54.822Z"
   },
   {
    "duration": 47,
    "start_time": "2022-06-09T20:26:29.419Z"
   },
   {
    "duration": 30,
    "start_time": "2022-06-09T20:26:41.009Z"
   },
   {
    "duration": 3,
    "start_time": "2022-06-09T20:30:54.217Z"
   },
   {
    "duration": 3,
    "start_time": "2022-06-09T20:31:10.405Z"
   },
   {
    "duration": 25,
    "start_time": "2022-06-09T20:36:51.063Z"
   },
   {
    "duration": 10,
    "start_time": "2022-06-09T20:47:37.371Z"
   },
   {
    "duration": 1420,
    "start_time": "2022-06-09T20:47:37.471Z"
   },
   {
    "duration": 907,
    "start_time": "2022-06-09T20:47:38.894Z"
   },
   {
    "duration": 15,
    "start_time": "2022-06-09T20:47:39.802Z"
   },
   {
    "duration": 95,
    "start_time": "2022-06-09T20:47:39.818Z"
   },
   {
    "duration": 115,
    "start_time": "2022-06-09T20:47:39.915Z"
   },
   {
    "duration": 151,
    "start_time": "2022-06-09T20:47:40.032Z"
   },
   {
    "duration": 4,
    "start_time": "2022-06-09T20:47:40.185Z"
   },
   {
    "duration": 534,
    "start_time": "2022-06-09T20:47:40.190Z"
   },
   {
    "duration": 1008,
    "start_time": "2022-06-09T20:47:40.725Z"
   },
   {
    "duration": 211,
    "start_time": "2022-06-09T20:47:41.735Z"
   },
   {
    "duration": 104,
    "start_time": "2022-06-09T20:47:49.915Z"
   },
   {
    "duration": 51,
    "start_time": "2022-06-09T20:47:50.554Z"
   },
   {
    "duration": 7,
    "start_time": "2022-06-09T20:47:51.866Z"
   },
   {
    "duration": 131,
    "start_time": "2022-06-09T20:47:52.157Z"
   },
   {
    "duration": 118,
    "start_time": "2022-06-09T20:47:53.023Z"
   },
   {
    "duration": 38,
    "start_time": "2022-06-09T20:47:53.435Z"
   },
   {
    "duration": 191,
    "start_time": "2022-06-09T21:47:51.410Z"
   },
   {
    "duration": 17,
    "start_time": "2022-06-09T21:52:16.742Z"
   },
   {
    "duration": 53,
    "start_time": "2022-06-09T22:45:00.855Z"
   },
   {
    "duration": 13,
    "start_time": "2022-06-09T22:46:49.215Z"
   },
   {
    "duration": 1476,
    "start_time": "2022-06-09T22:46:49.233Z"
   },
   {
    "duration": 963,
    "start_time": "2022-06-09T22:46:50.711Z"
   },
   {
    "duration": 13,
    "start_time": "2022-06-09T22:46:51.676Z"
   },
   {
    "duration": 104,
    "start_time": "2022-06-09T22:46:51.691Z"
   },
   {
    "duration": 134,
    "start_time": "2022-06-09T22:46:51.798Z"
   },
   {
    "duration": 186,
    "start_time": "2022-06-09T22:46:51.934Z"
   },
   {
    "duration": 4,
    "start_time": "2022-06-09T22:46:52.123Z"
   },
   {
    "duration": 551,
    "start_time": "2022-06-09T22:46:52.130Z"
   },
   {
    "duration": 1128,
    "start_time": "2022-06-09T22:46:52.683Z"
   },
   {
    "duration": 195,
    "start_time": "2022-06-09T22:46:53.813Z"
   },
   {
    "duration": 125,
    "start_time": "2022-06-09T22:46:54.010Z"
   },
   {
    "duration": 55,
    "start_time": "2022-06-09T22:46:54.137Z"
   },
   {
    "duration": 5,
    "start_time": "2022-06-09T22:46:54.194Z"
   },
   {
    "duration": 116,
    "start_time": "2022-06-09T22:46:54.203Z"
   },
   {
    "duration": 128,
    "start_time": "2022-06-09T22:46:54.321Z"
   },
   {
    "duration": 51,
    "start_time": "2022-06-09T22:46:54.451Z"
   },
   {
    "duration": 130,
    "start_time": "2022-06-09T22:46:54.504Z"
   },
   {
    "duration": 55,
    "start_time": "2022-06-09T22:46:54.636Z"
   },
   {
    "duration": 122,
    "start_time": "2022-06-09T22:46:54.692Z"
   },
   {
    "duration": 135,
    "start_time": "2022-06-09T22:46:54.815Z"
   },
   {
    "duration": 135,
    "start_time": "2022-06-09T22:46:54.952Z"
   },
   {
    "duration": 119,
    "start_time": "2022-06-09T22:46:55.090Z"
   },
   {
    "duration": 1088,
    "start_time": "2022-06-09T22:46:55.211Z"
   },
   {
    "duration": 13,
    "start_time": "2022-06-09T22:46:56.301Z"
   },
   {
    "duration": 13,
    "start_time": "2022-06-09T22:46:56.316Z"
   },
   {
    "duration": 56,
    "start_time": "2022-06-09T22:46:56.331Z"
   },
   {
    "duration": 1012,
    "start_time": "2022-06-09T22:46:56.390Z"
   },
   {
    "duration": 126,
    "start_time": "2022-06-09T22:46:57.403Z"
   },
   {
    "duration": 8,
    "start_time": "2022-06-09T22:46:57.531Z"
   },
   {
    "duration": 21,
    "start_time": "2022-06-09T22:46:57.541Z"
   },
   {
    "duration": 28,
    "start_time": "2022-06-09T22:46:57.571Z"
   },
   {
    "duration": 26,
    "start_time": "2022-06-09T22:46:57.601Z"
   },
   {
    "duration": 52,
    "start_time": "2022-06-09T22:46:57.629Z"
   },
   {
    "duration": 1489,
    "start_time": "2022-06-09T22:46:57.684Z"
   },
   {
    "duration": 140,
    "start_time": "2022-06-09T22:46:59.175Z"
   },
   {
    "duration": 52,
    "start_time": "2022-06-09T22:46:59.317Z"
   },
   {
    "duration": 273,
    "start_time": "2022-06-09T22:46:59.374Z"
   },
   {
    "duration": 33,
    "start_time": "2022-06-09T22:46:59.650Z"
   },
   {
    "duration": 163,
    "start_time": "2022-06-09T22:46:59.686Z"
   },
   {
    "duration": 15,
    "start_time": "2022-06-09T22:46:59.850Z"
   },
   {
    "duration": 10,
    "start_time": "2022-06-09T22:47:33.809Z"
   },
   {
    "duration": 1431,
    "start_time": "2022-06-09T22:47:33.821Z"
   },
   {
    "duration": 931,
    "start_time": "2022-06-09T22:47:35.254Z"
   },
   {
    "duration": 17,
    "start_time": "2022-06-09T22:47:36.187Z"
   },
   {
    "duration": 99,
    "start_time": "2022-06-09T22:47:36.208Z"
   },
   {
    "duration": 124,
    "start_time": "2022-06-09T22:47:36.309Z"
   },
   {
    "duration": 166,
    "start_time": "2022-06-09T22:47:36.435Z"
   },
   {
    "duration": 3,
    "start_time": "2022-06-09T22:47:36.603Z"
   },
   {
    "duration": 532,
    "start_time": "2022-06-09T22:47:36.608Z"
   },
   {
    "duration": 1114,
    "start_time": "2022-06-09T22:47:37.142Z"
   },
   {
    "duration": 209,
    "start_time": "2022-06-09T22:47:38.262Z"
   },
   {
    "duration": 120,
    "start_time": "2022-06-09T22:47:38.476Z"
   },
   {
    "duration": 64,
    "start_time": "2022-06-09T22:47:38.598Z"
   },
   {
    "duration": 12,
    "start_time": "2022-06-09T22:47:38.664Z"
   },
   {
    "duration": 109,
    "start_time": "2022-06-09T22:47:38.680Z"
   },
   {
    "duration": 132,
    "start_time": "2022-06-09T22:47:38.791Z"
   },
   {
    "duration": 50,
    "start_time": "2022-06-09T22:47:38.924Z"
   },
   {
    "duration": 120,
    "start_time": "2022-06-09T22:47:38.976Z"
   },
   {
    "duration": 38,
    "start_time": "2022-06-09T22:47:39.098Z"
   },
   {
    "duration": 144,
    "start_time": "2022-06-09T22:47:39.138Z"
   },
   {
    "duration": 121,
    "start_time": "2022-06-09T22:47:39.284Z"
   },
   {
    "duration": 123,
    "start_time": "2022-06-09T22:47:39.407Z"
   },
   {
    "duration": 105,
    "start_time": "2022-06-09T22:47:39.532Z"
   },
   {
    "duration": 1049,
    "start_time": "2022-06-09T22:47:39.639Z"
   },
   {
    "duration": 11,
    "start_time": "2022-06-09T22:47:40.690Z"
   },
   {
    "duration": 17,
    "start_time": "2022-06-09T22:47:40.703Z"
   },
   {
    "duration": 52,
    "start_time": "2022-06-09T22:47:40.722Z"
   },
   {
    "duration": 987,
    "start_time": "2022-06-09T22:47:40.776Z"
   },
   {
    "duration": 152,
    "start_time": "2022-06-09T22:47:41.768Z"
   },
   {
    "duration": 11,
    "start_time": "2022-06-09T22:47:41.922Z"
   },
   {
    "duration": 51,
    "start_time": "2022-06-09T22:47:41.936Z"
   },
   {
    "duration": 33,
    "start_time": "2022-06-09T22:47:41.990Z"
   },
   {
    "duration": 45,
    "start_time": "2022-06-09T22:47:42.026Z"
   },
   {
    "duration": 39,
    "start_time": "2022-06-09T22:47:42.080Z"
   },
   {
    "duration": 1428,
    "start_time": "2022-06-09T22:47:42.121Z"
   },
   {
    "duration": 149,
    "start_time": "2022-06-09T22:47:43.551Z"
   },
   {
    "duration": 6,
    "start_time": "2022-06-09T22:47:43.702Z"
   },
   {
    "duration": 264,
    "start_time": "2022-06-09T22:47:43.711Z"
   },
   {
    "duration": 11,
    "start_time": "2022-06-09T22:47:43.977Z"
   },
   {
    "duration": 178,
    "start_time": "2022-06-09T22:47:43.990Z"
   },
   {
    "duration": 13,
    "start_time": "2022-06-09T22:47:44.169Z"
   },
   {
    "duration": 10,
    "start_time": "2022-06-09T22:48:00.182Z"
   },
   {
    "duration": 10,
    "start_time": "2022-06-09T22:48:00.927Z"
   },
   {
    "duration": 11,
    "start_time": "2022-06-09T22:48:01.334Z"
   },
   {
    "duration": 10,
    "start_time": "2022-06-09T22:48:01.591Z"
   },
   {
    "duration": 13,
    "start_time": "2022-06-09T22:48:01.885Z"
   },
   {
    "duration": 13,
    "start_time": "2022-06-09T22:48:02.077Z"
   },
   {
    "duration": 10,
    "start_time": "2022-06-09T22:48:02.274Z"
   },
   {
    "duration": 10,
    "start_time": "2022-06-09T22:48:02.441Z"
   },
   {
    "duration": 11,
    "start_time": "2022-06-09T22:48:02.590Z"
   },
   {
    "duration": 12,
    "start_time": "2022-06-09T22:48:02.773Z"
   },
   {
    "duration": 11,
    "start_time": "2022-06-09T22:48:02.973Z"
   },
   {
    "duration": 14,
    "start_time": "2022-06-09T22:48:03.149Z"
   },
   {
    "duration": 11,
    "start_time": "2022-06-09T22:48:03.318Z"
   },
   {
    "duration": 11,
    "start_time": "2022-06-09T22:48:03.493Z"
   },
   {
    "duration": 16,
    "start_time": "2022-06-09T22:48:43.483Z"
   },
   {
    "duration": 13,
    "start_time": "2022-06-09T22:48:44.811Z"
   },
   {
    "duration": 9,
    "start_time": "2022-06-09T22:56:06.457Z"
   },
   {
    "duration": 1386,
    "start_time": "2022-06-09T22:56:06.467Z"
   },
   {
    "duration": 896,
    "start_time": "2022-06-09T22:56:07.855Z"
   },
   {
    "duration": 14,
    "start_time": "2022-06-09T22:56:08.753Z"
   },
   {
    "duration": 87,
    "start_time": "2022-06-09T22:56:08.769Z"
   },
   {
    "duration": 122,
    "start_time": "2022-06-09T22:56:08.859Z"
   },
   {
    "duration": 138,
    "start_time": "2022-06-09T22:56:08.983Z"
   },
   {
    "duration": 3,
    "start_time": "2022-06-09T22:56:09.123Z"
   },
   {
    "duration": 485,
    "start_time": "2022-06-09T22:56:09.128Z"
   },
   {
    "duration": 1031,
    "start_time": "2022-06-09T22:56:09.615Z"
   },
   {
    "duration": 199,
    "start_time": "2022-06-09T22:56:10.649Z"
   },
   {
    "duration": 115,
    "start_time": "2022-06-09T22:56:10.850Z"
   },
   {
    "duration": 44,
    "start_time": "2022-06-09T22:56:10.967Z"
   },
   {
    "duration": 5,
    "start_time": "2022-06-09T22:56:11.013Z"
   },
   {
    "duration": 111,
    "start_time": "2022-06-09T22:56:11.020Z"
   },
   {
    "duration": 118,
    "start_time": "2022-06-09T22:56:11.133Z"
   },
   {
    "duration": 39,
    "start_time": "2022-06-09T22:56:11.252Z"
   },
   {
    "duration": 122,
    "start_time": "2022-06-09T22:56:11.294Z"
   },
   {
    "duration": 41,
    "start_time": "2022-06-09T22:56:11.418Z"
   },
   {
    "duration": 114,
    "start_time": "2022-06-09T22:56:11.461Z"
   },
   {
    "duration": 117,
    "start_time": "2022-06-09T22:56:11.577Z"
   },
   {
    "duration": 117,
    "start_time": "2022-06-09T22:56:11.696Z"
   },
   {
    "duration": 125,
    "start_time": "2022-06-09T22:56:11.815Z"
   },
   {
    "duration": 1090,
    "start_time": "2022-06-09T22:56:11.942Z"
   },
   {
    "duration": 12,
    "start_time": "2022-06-09T22:56:13.034Z"
   },
   {
    "duration": 16,
    "start_time": "2022-06-09T22:56:13.060Z"
   },
   {
    "duration": 30,
    "start_time": "2022-06-09T22:56:13.078Z"
   },
   {
    "duration": 1056,
    "start_time": "2022-06-09T22:56:13.109Z"
   },
   {
    "duration": 132,
    "start_time": "2022-06-09T22:56:14.169Z"
   },
   {
    "duration": 9,
    "start_time": "2022-06-09T22:56:14.303Z"
   },
   {
    "duration": 6,
    "start_time": "2022-06-09T22:56:14.314Z"
   },
   {
    "duration": 37,
    "start_time": "2022-06-09T22:56:14.322Z"
   },
   {
    "duration": 35,
    "start_time": "2022-06-09T22:56:14.361Z"
   },
   {
    "duration": 40,
    "start_time": "2022-06-09T22:56:14.398Z"
   },
   {
    "duration": 1412,
    "start_time": "2022-06-09T22:56:14.440Z"
   },
   {
    "duration": 125,
    "start_time": "2022-06-09T22:56:15.858Z"
   },
   {
    "duration": 32,
    "start_time": "2022-06-09T22:56:15.984Z"
   },
   {
    "duration": 252,
    "start_time": "2022-06-09T22:56:16.018Z"
   },
   {
    "duration": 19,
    "start_time": "2022-06-09T22:56:16.273Z"
   },
   {
    "duration": 192,
    "start_time": "2022-06-09T22:56:16.294Z"
   },
   {
    "duration": 4,
    "start_time": "2022-06-09T22:56:16.489Z"
   },
   {
    "duration": 107,
    "start_time": "2022-06-09T22:56:16.495Z"
   },
   {
    "duration": 7,
    "start_time": "2022-06-09T22:56:16.604Z"
   },
   {
    "duration": 92,
    "start_time": "2022-06-09T22:56:16.613Z"
   },
   {
    "duration": 11,
    "start_time": "2022-06-09T22:56:16.707Z"
   },
   {
    "duration": 44,
    "start_time": "2022-06-09T22:56:16.720Z"
   },
   {
    "duration": 122,
    "start_time": "2022-06-09T22:56:16.766Z"
   },
   {
    "duration": 9,
    "start_time": "2022-06-09T22:56:16.890Z"
   },
   {
    "duration": 8,
    "start_time": "2022-06-09T22:56:16.901Z"
   },
   {
    "duration": 98,
    "start_time": "2022-06-09T22:56:16.911Z"
   },
   {
    "duration": 11,
    "start_time": "2022-06-09T22:56:17.011Z"
   },
   {
    "duration": 5,
    "start_time": "2022-06-09T22:56:17.023Z"
   },
   {
    "duration": 83,
    "start_time": "2022-06-09T22:56:17.030Z"
   },
   {
    "duration": 11,
    "start_time": "2022-06-09T22:56:17.115Z"
   },
   {
    "duration": 843,
    "start_time": "2022-06-09T22:56:17.127Z"
   },
   {
    "duration": 24,
    "start_time": "2022-06-09T22:56:17.971Z"
   },
   {
    "duration": 11,
    "start_time": "2022-06-09T22:56:17.997Z"
   },
   {
    "duration": 102,
    "start_time": "2022-06-09T22:56:18.010Z"
   },
   {
    "duration": 9,
    "start_time": "2022-06-10T00:14:35.647Z"
   },
   {
    "duration": 1449,
    "start_time": "2022-06-10T00:14:35.659Z"
   },
   {
    "duration": 889,
    "start_time": "2022-06-10T00:14:37.110Z"
   },
   {
    "duration": 16,
    "start_time": "2022-06-10T00:14:38.001Z"
   },
   {
    "duration": 92,
    "start_time": "2022-06-10T00:14:38.019Z"
   },
   {
    "duration": 119,
    "start_time": "2022-06-10T00:14:38.113Z"
   },
   {
    "duration": 140,
    "start_time": "2022-06-10T00:14:38.234Z"
   },
   {
    "duration": 3,
    "start_time": "2022-06-10T00:14:38.376Z"
   },
   {
    "duration": 482,
    "start_time": "2022-06-10T00:14:38.380Z"
   },
   {
    "duration": 1048,
    "start_time": "2022-06-10T00:14:38.863Z"
   },
   {
    "duration": 193,
    "start_time": "2022-06-10T00:14:39.913Z"
   },
   {
    "duration": 2,
    "start_time": "2022-06-10T00:14:40.108Z"
   },
   {
    "duration": 114,
    "start_time": "2022-06-10T00:14:40.112Z"
   },
   {
    "duration": 54,
    "start_time": "2022-06-10T00:14:40.227Z"
   },
   {
    "duration": 4,
    "start_time": "2022-06-10T00:14:40.283Z"
   },
   {
    "duration": 97,
    "start_time": "2022-06-10T00:14:40.289Z"
   },
   {
    "duration": 116,
    "start_time": "2022-06-10T00:14:40.388Z"
   },
   {
    "duration": 40,
    "start_time": "2022-06-10T00:14:40.505Z"
   },
   {
    "duration": 118,
    "start_time": "2022-06-10T00:14:40.559Z"
   },
   {
    "duration": 36,
    "start_time": "2022-06-10T00:14:40.679Z"
   },
   {
    "duration": 116,
    "start_time": "2022-06-10T00:14:40.717Z"
   },
   {
    "duration": 110,
    "start_time": "2022-06-10T00:14:40.835Z"
   },
   {
    "duration": 114,
    "start_time": "2022-06-10T00:14:40.947Z"
   },
   {
    "duration": 98,
    "start_time": "2022-06-10T00:14:41.063Z"
   },
   {
    "duration": 1042,
    "start_time": "2022-06-10T00:14:41.164Z"
   },
   {
    "duration": 14,
    "start_time": "2022-06-10T00:14:42.208Z"
   },
   {
    "duration": 35,
    "start_time": "2022-06-10T00:14:42.224Z"
   },
   {
    "duration": 24,
    "start_time": "2022-06-10T00:14:42.261Z"
   },
   {
    "duration": 972,
    "start_time": "2022-06-10T00:14:42.289Z"
   },
   {
    "duration": 125,
    "start_time": "2022-06-10T00:14:43.263Z"
   },
   {
    "duration": 9,
    "start_time": "2022-06-10T00:14:43.389Z"
   },
   {
    "duration": 6,
    "start_time": "2022-06-10T00:14:43.400Z"
   },
   {
    "duration": 53,
    "start_time": "2022-06-10T00:14:43.408Z"
   },
   {
    "duration": 32,
    "start_time": "2022-06-10T00:14:43.463Z"
   },
   {
    "duration": 94,
    "start_time": "2022-06-10T00:14:43.497Z"
   },
   {
    "duration": 2276,
    "start_time": "2022-06-10T00:14:43.593Z"
   },
   {
    "duration": 124,
    "start_time": "2022-06-10T00:14:45.871Z"
   },
   {
    "duration": 30,
    "start_time": "2022-06-10T00:14:45.997Z"
   },
   {
    "duration": 229,
    "start_time": "2022-06-10T00:14:46.029Z"
   },
   {
    "duration": 14,
    "start_time": "2022-06-10T00:14:46.260Z"
   },
   {
    "duration": 160,
    "start_time": "2022-06-10T00:14:46.276Z"
   },
   {
    "duration": 3,
    "start_time": "2022-06-10T00:14:46.438Z"
   },
   {
    "duration": 92,
    "start_time": "2022-06-10T00:14:46.443Z"
   },
   {
    "duration": 6,
    "start_time": "2022-06-10T00:14:46.537Z"
   },
   {
    "duration": 65,
    "start_time": "2022-06-10T00:14:46.558Z"
   },
   {
    "duration": 166,
    "start_time": "2022-06-10T00:14:46.625Z"
   },
   {
    "duration": 0,
    "start_time": "2022-06-10T00:14:46.793Z"
   },
   {
    "duration": 0,
    "start_time": "2022-06-10T00:14:46.794Z"
   },
   {
    "duration": 0,
    "start_time": "2022-06-10T00:14:46.795Z"
   },
   {
    "duration": 0,
    "start_time": "2022-06-10T00:14:46.796Z"
   },
   {
    "duration": 0,
    "start_time": "2022-06-10T00:14:46.797Z"
   },
   {
    "duration": 0,
    "start_time": "2022-06-10T00:14:46.798Z"
   },
   {
    "duration": 0,
    "start_time": "2022-06-10T00:14:46.799Z"
   },
   {
    "duration": 0,
    "start_time": "2022-06-10T00:14:46.800Z"
   },
   {
    "duration": 0,
    "start_time": "2022-06-10T00:14:46.801Z"
   },
   {
    "duration": 0,
    "start_time": "2022-06-10T00:14:46.802Z"
   },
   {
    "duration": 0,
    "start_time": "2022-06-10T00:14:46.803Z"
   },
   {
    "duration": 0,
    "start_time": "2022-06-10T00:14:46.804Z"
   },
   {
    "duration": 0,
    "start_time": "2022-06-10T00:14:46.805Z"
   },
   {
    "duration": 13,
    "start_time": "2022-06-10T00:15:34.899Z"
   },
   {
    "duration": 12,
    "start_time": "2022-06-10T00:15:52.045Z"
   },
   {
    "duration": 9,
    "start_time": "2022-06-10T00:16:04.997Z"
   },
   {
    "duration": 1401,
    "start_time": "2022-06-10T00:16:05.008Z"
   },
   {
    "duration": 883,
    "start_time": "2022-06-10T00:16:06.412Z"
   },
   {
    "duration": 14,
    "start_time": "2022-06-10T00:16:07.296Z"
   },
   {
    "duration": 89,
    "start_time": "2022-06-10T00:16:07.313Z"
   },
   {
    "duration": 112,
    "start_time": "2022-06-10T00:16:07.404Z"
   },
   {
    "duration": 147,
    "start_time": "2022-06-10T00:16:07.517Z"
   },
   {
    "duration": 3,
    "start_time": "2022-06-10T00:16:07.666Z"
   },
   {
    "duration": 479,
    "start_time": "2022-06-10T00:16:07.671Z"
   },
   {
    "duration": 1046,
    "start_time": "2022-06-10T00:16:08.152Z"
   },
   {
    "duration": 194,
    "start_time": "2022-06-10T00:16:09.201Z"
   },
   {
    "duration": 3,
    "start_time": "2022-06-10T00:16:09.397Z"
   },
   {
    "duration": 111,
    "start_time": "2022-06-10T00:16:09.402Z"
   },
   {
    "duration": 48,
    "start_time": "2022-06-10T00:16:09.515Z"
   },
   {
    "duration": 5,
    "start_time": "2022-06-10T00:16:09.565Z"
   },
   {
    "duration": 105,
    "start_time": "2022-06-10T00:16:09.571Z"
   },
   {
    "duration": 113,
    "start_time": "2022-06-10T00:16:09.678Z"
   },
   {
    "duration": 36,
    "start_time": "2022-06-10T00:16:09.793Z"
   },
   {
    "duration": 117,
    "start_time": "2022-06-10T00:16:09.830Z"
   },
   {
    "duration": 44,
    "start_time": "2022-06-10T00:16:09.950Z"
   },
   {
    "duration": 112,
    "start_time": "2022-06-10T00:16:09.996Z"
   },
   {
    "duration": 115,
    "start_time": "2022-06-10T00:16:10.110Z"
   },
   {
    "duration": 109,
    "start_time": "2022-06-10T00:16:10.226Z"
   },
   {
    "duration": 94,
    "start_time": "2022-06-10T00:16:10.337Z"
   },
   {
    "duration": 1004,
    "start_time": "2022-06-10T00:16:10.433Z"
   },
   {
    "duration": 20,
    "start_time": "2022-06-10T00:16:11.438Z"
   },
   {
    "duration": 13,
    "start_time": "2022-06-10T00:16:11.460Z"
   },
   {
    "duration": 26,
    "start_time": "2022-06-10T00:16:11.475Z"
   },
   {
    "duration": 1020,
    "start_time": "2022-06-10T00:16:11.504Z"
   },
   {
    "duration": 120,
    "start_time": "2022-06-10T00:16:12.525Z"
   },
   {
    "duration": 14,
    "start_time": "2022-06-10T00:16:12.646Z"
   },
   {
    "duration": 5,
    "start_time": "2022-06-10T00:16:12.662Z"
   },
   {
    "duration": 23,
    "start_time": "2022-06-10T00:16:12.669Z"
   },
   {
    "duration": 23,
    "start_time": "2022-06-10T00:16:12.693Z"
   },
   {
    "duration": 51,
    "start_time": "2022-06-10T00:16:12.718Z"
   },
   {
    "duration": 1450,
    "start_time": "2022-06-10T00:16:12.771Z"
   },
   {
    "duration": 139,
    "start_time": "2022-06-10T00:16:14.223Z"
   },
   {
    "duration": 32,
    "start_time": "2022-06-10T00:16:14.364Z"
   },
   {
    "duration": 231,
    "start_time": "2022-06-10T00:16:14.398Z"
   },
   {
    "duration": 12,
    "start_time": "2022-06-10T00:16:14.630Z"
   },
   {
    "duration": 164,
    "start_time": "2022-06-10T00:16:14.644Z"
   },
   {
    "duration": 4,
    "start_time": "2022-06-10T00:16:14.809Z"
   },
   {
    "duration": 106,
    "start_time": "2022-06-10T00:16:14.814Z"
   },
   {
    "duration": 6,
    "start_time": "2022-06-10T00:16:14.922Z"
   },
   {
    "duration": 80,
    "start_time": "2022-06-10T00:16:14.930Z"
   },
   {
    "duration": 11,
    "start_time": "2022-06-10T00:16:15.012Z"
   },
   {
    "duration": 53,
    "start_time": "2022-06-10T00:16:15.025Z"
   },
   {
    "duration": 108,
    "start_time": "2022-06-10T00:16:15.080Z"
   },
   {
    "duration": 9,
    "start_time": "2022-06-10T00:16:15.189Z"
   },
   {
    "duration": 5,
    "start_time": "2022-06-10T00:16:15.200Z"
   },
   {
    "duration": 91,
    "start_time": "2022-06-10T00:16:15.207Z"
   },
   {
    "duration": 10,
    "start_time": "2022-06-10T00:16:15.300Z"
   },
   {
    "duration": 5,
    "start_time": "2022-06-10T00:16:15.312Z"
   },
   {
    "duration": 85,
    "start_time": "2022-06-10T00:16:15.318Z"
   },
   {
    "duration": 8,
    "start_time": "2022-06-10T00:16:15.405Z"
   },
   {
    "duration": 764,
    "start_time": "2022-06-10T00:16:15.414Z"
   },
   {
    "duration": 25,
    "start_time": "2022-06-10T00:16:16.179Z"
   },
   {
    "duration": 10,
    "start_time": "2022-06-10T00:16:16.206Z"
   },
   {
    "duration": 100,
    "start_time": "2022-06-10T00:16:16.218Z"
   },
   {
    "duration": 7,
    "start_time": "2022-06-11T01:30:47.834Z"
   },
   {
    "duration": 1472,
    "start_time": "2022-06-11T01:30:47.844Z"
   },
   {
    "duration": 1014,
    "start_time": "2022-06-11T01:30:49.318Z"
   },
   {
    "duration": 13,
    "start_time": "2022-06-11T01:30:50.334Z"
   },
   {
    "duration": 78,
    "start_time": "2022-06-11T01:30:50.348Z"
   },
   {
    "duration": 101,
    "start_time": "2022-06-11T01:30:50.428Z"
   },
   {
    "duration": 101,
    "start_time": "2022-06-11T01:30:50.530Z"
   },
   {
    "duration": 3,
    "start_time": "2022-06-11T01:30:50.633Z"
   },
   {
    "duration": 413,
    "start_time": "2022-06-11T01:30:50.637Z"
   },
   {
    "duration": 932,
    "start_time": "2022-06-11T01:30:51.052Z"
   },
   {
    "duration": 182,
    "start_time": "2022-06-11T01:30:51.987Z"
   },
   {
    "duration": 3,
    "start_time": "2022-06-11T01:30:52.170Z"
   },
   {
    "duration": 93,
    "start_time": "2022-06-11T01:30:52.174Z"
   },
   {
    "duration": 40,
    "start_time": "2022-06-11T01:30:52.269Z"
   },
   {
    "duration": 4,
    "start_time": "2022-06-11T01:30:52.311Z"
   },
   {
    "duration": 81,
    "start_time": "2022-06-11T01:30:52.316Z"
   },
   {
    "duration": 102,
    "start_time": "2022-06-11T01:30:52.399Z"
   },
   {
    "duration": 34,
    "start_time": "2022-06-11T01:30:52.503Z"
   },
   {
    "duration": 127,
    "start_time": "2022-06-11T01:30:52.539Z"
   },
   {
    "duration": 29,
    "start_time": "2022-06-11T01:30:52.667Z"
   },
   {
    "duration": 98,
    "start_time": "2022-06-11T01:30:52.698Z"
   },
   {
    "duration": 82,
    "start_time": "2022-06-11T01:30:52.798Z"
   },
   {
    "duration": 84,
    "start_time": "2022-06-11T01:30:52.882Z"
   },
   {
    "duration": 63,
    "start_time": "2022-06-11T01:30:52.968Z"
   },
   {
    "duration": 906,
    "start_time": "2022-06-11T01:30:53.033Z"
   },
   {
    "duration": 15,
    "start_time": "2022-06-11T01:30:53.941Z"
   },
   {
    "duration": 11,
    "start_time": "2022-06-11T01:30:53.957Z"
   },
   {
    "duration": 23,
    "start_time": "2022-06-11T01:30:53.969Z"
   },
   {
    "duration": 855,
    "start_time": "2022-06-11T01:30:53.997Z"
   },
   {
    "duration": 112,
    "start_time": "2022-06-11T01:30:54.854Z"
   },
   {
    "duration": 9,
    "start_time": "2022-06-11T01:30:54.968Z"
   },
   {
    "duration": 14,
    "start_time": "2022-06-11T01:30:54.979Z"
   },
   {
    "duration": 26,
    "start_time": "2022-06-11T01:30:54.994Z"
   },
   {
    "duration": 34,
    "start_time": "2022-06-11T01:30:55.022Z"
   },
   {
    "duration": 27,
    "start_time": "2022-06-11T01:30:55.058Z"
   },
   {
    "duration": 1327,
    "start_time": "2022-06-11T01:30:55.087Z"
   },
   {
    "duration": 110,
    "start_time": "2022-06-11T01:30:56.415Z"
   },
   {
    "duration": 37,
    "start_time": "2022-06-11T01:30:56.527Z"
   },
   {
    "duration": 193,
    "start_time": "2022-06-11T01:30:56.566Z"
   },
   {
    "duration": 10,
    "start_time": "2022-06-11T01:30:56.760Z"
   },
   {
    "duration": 158,
    "start_time": "2022-06-11T01:30:56.771Z"
   },
   {
    "duration": 3,
    "start_time": "2022-06-11T01:30:56.930Z"
   },
   {
    "duration": 74,
    "start_time": "2022-06-11T01:30:56.935Z"
   },
   {
    "duration": 7,
    "start_time": "2022-06-11T01:30:57.011Z"
   },
   {
    "duration": 68,
    "start_time": "2022-06-11T01:30:57.019Z"
   },
   {
    "duration": 12,
    "start_time": "2022-06-11T01:30:57.089Z"
   },
   {
    "duration": 30,
    "start_time": "2022-06-11T01:30:57.103Z"
   },
   {
    "duration": 103,
    "start_time": "2022-06-11T01:30:57.135Z"
   },
   {
    "duration": 20,
    "start_time": "2022-06-11T01:30:57.240Z"
   },
   {
    "duration": 6,
    "start_time": "2022-06-11T01:30:57.262Z"
   },
   {
    "duration": 68,
    "start_time": "2022-06-11T01:30:57.270Z"
   },
   {
    "duration": 20,
    "start_time": "2022-06-11T01:30:57.340Z"
   },
   {
    "duration": 5,
    "start_time": "2022-06-11T01:30:57.362Z"
   },
   {
    "duration": 58,
    "start_time": "2022-06-11T01:30:57.369Z"
   },
   {
    "duration": 26,
    "start_time": "2022-06-11T01:30:57.429Z"
   },
   {
    "duration": 664,
    "start_time": "2022-06-11T01:30:57.457Z"
   },
   {
    "duration": 31,
    "start_time": "2022-06-11T01:30:58.123Z"
   },
   {
    "duration": 10,
    "start_time": "2022-06-11T01:30:58.156Z"
   },
   {
    "duration": 98,
    "start_time": "2022-06-11T01:30:58.168Z"
   },
   {
    "duration": 302,
    "start_time": "2022-06-11T01:30:58.268Z"
   },
   {
    "duration": 3,
    "start_time": "2022-06-11T01:30:58.572Z"
   },
   {
    "duration": 3176,
    "start_time": "2022-06-11T01:30:58.576Z"
   },
   {
    "duration": 5,
    "start_time": "2022-06-11T01:31:01.754Z"
   },
   {
    "duration": 101,
    "start_time": "2022-06-11T01:31:01.760Z"
   },
   {
    "duration": 11290,
    "start_time": "2022-06-11T01:31:01.863Z"
   },
   {
    "duration": 3,
    "start_time": "2022-06-11T01:31:13.155Z"
   },
   {
    "duration": 104,
    "start_time": "2022-06-11T01:31:13.160Z"
   },
   {
    "duration": 12,
    "start_time": "2022-06-11T01:31:13.266Z"
   },
   {
    "duration": 13120,
    "start_time": "2022-06-11T01:31:13.280Z"
   },
   {
    "duration": 0,
    "start_time": "2022-06-11T01:31:26.402Z"
   },
   {
    "duration": 0,
    "start_time": "2022-06-11T01:31:26.403Z"
   },
   {
    "duration": 0,
    "start_time": "2022-06-11T01:31:26.404Z"
   },
   {
    "duration": 0,
    "start_time": "2022-06-11T01:31:26.405Z"
   },
   {
    "duration": 0,
    "start_time": "2022-06-11T01:31:26.406Z"
   },
   {
    "duration": 0,
    "start_time": "2022-06-11T01:31:26.408Z"
   },
   {
    "duration": 0,
    "start_time": "2022-06-11T01:31:26.409Z"
   },
   {
    "duration": 0,
    "start_time": "2022-06-11T01:31:26.410Z"
   },
   {
    "duration": 0,
    "start_time": "2022-06-11T01:31:26.410Z"
   },
   {
    "duration": 0,
    "start_time": "2022-06-11T01:31:26.411Z"
   },
   {
    "duration": 0,
    "start_time": "2022-06-11T01:31:26.412Z"
   },
   {
    "duration": 0,
    "start_time": "2022-06-11T01:31:26.413Z"
   },
   {
    "duration": 0,
    "start_time": "2022-06-11T01:31:26.414Z"
   },
   {
    "duration": 0,
    "start_time": "2022-06-11T01:31:26.415Z"
   },
   {
    "duration": 0,
    "start_time": "2022-06-11T01:31:26.416Z"
   },
   {
    "duration": 0,
    "start_time": "2022-06-11T01:31:26.417Z"
   },
   {
    "duration": 0,
    "start_time": "2022-06-11T01:31:26.418Z"
   },
   {
    "duration": 0,
    "start_time": "2022-06-11T01:31:26.419Z"
   },
   {
    "duration": 0,
    "start_time": "2022-06-11T01:31:26.419Z"
   },
   {
    "duration": 0,
    "start_time": "2022-06-11T01:31:26.420Z"
   },
   {
    "duration": 0,
    "start_time": "2022-06-11T01:31:26.421Z"
   },
   {
    "duration": 0,
    "start_time": "2022-06-11T01:31:26.452Z"
   },
   {
    "duration": 0,
    "start_time": "2022-06-11T01:31:26.453Z"
   },
   {
    "duration": 0,
    "start_time": "2022-06-11T01:31:26.454Z"
   },
   {
    "duration": 0,
    "start_time": "2022-06-11T01:31:26.455Z"
   },
   {
    "duration": 0,
    "start_time": "2022-06-11T01:31:26.456Z"
   },
   {
    "duration": 0,
    "start_time": "2022-06-11T01:31:26.457Z"
   },
   {
    "duration": 0,
    "start_time": "2022-06-11T01:31:26.458Z"
   },
   {
    "duration": 0,
    "start_time": "2022-06-11T01:31:26.458Z"
   },
   {
    "duration": 0,
    "start_time": "2022-06-11T01:31:26.459Z"
   },
   {
    "duration": 0,
    "start_time": "2022-06-11T01:31:26.460Z"
   },
   {
    "duration": 0,
    "start_time": "2022-06-11T01:31:26.461Z"
   },
   {
    "duration": 9,
    "start_time": "2022-06-11T01:31:39.004Z"
   },
   {
    "duration": 1421,
    "start_time": "2022-06-11T01:31:39.015Z"
   },
   {
    "duration": 786,
    "start_time": "2022-06-11T01:31:40.438Z"
   },
   {
    "duration": 13,
    "start_time": "2022-06-11T01:31:41.227Z"
   },
   {
    "duration": 87,
    "start_time": "2022-06-11T01:31:41.242Z"
   },
   {
    "duration": 109,
    "start_time": "2022-06-11T01:31:41.331Z"
   },
   {
    "duration": 124,
    "start_time": "2022-06-11T01:31:41.442Z"
   },
   {
    "duration": 3,
    "start_time": "2022-06-11T01:31:41.567Z"
   },
   {
    "duration": 443,
    "start_time": "2022-06-11T01:31:41.572Z"
   },
   {
    "duration": 900,
    "start_time": "2022-06-11T01:31:42.016Z"
   },
   {
    "duration": 179,
    "start_time": "2022-06-11T01:31:42.917Z"
   },
   {
    "duration": 2,
    "start_time": "2022-06-11T01:31:43.097Z"
   },
   {
    "duration": 97,
    "start_time": "2022-06-11T01:31:43.101Z"
   },
   {
    "duration": 43,
    "start_time": "2022-06-11T01:31:43.199Z"
   },
   {
    "duration": 10,
    "start_time": "2022-06-11T01:31:43.243Z"
   },
   {
    "duration": 72,
    "start_time": "2022-06-11T01:31:43.254Z"
   },
   {
    "duration": 91,
    "start_time": "2022-06-11T01:31:43.327Z"
   },
   {
    "duration": 37,
    "start_time": "2022-06-11T01:31:43.419Z"
   },
   {
    "duration": 77,
    "start_time": "2022-06-11T01:31:43.458Z"
   },
   {
    "duration": 37,
    "start_time": "2022-06-11T01:31:43.536Z"
   },
   {
    "duration": 88,
    "start_time": "2022-06-11T01:31:43.574Z"
   },
   {
    "duration": 78,
    "start_time": "2022-06-11T01:31:43.663Z"
   },
   {
    "duration": 74,
    "start_time": "2022-06-11T01:31:43.751Z"
   },
   {
    "duration": 78,
    "start_time": "2022-06-11T01:31:43.828Z"
   },
   {
    "duration": 903,
    "start_time": "2022-06-11T01:31:43.907Z"
   },
   {
    "duration": 10,
    "start_time": "2022-06-11T01:31:44.812Z"
   },
   {
    "duration": 10,
    "start_time": "2022-06-11T01:31:44.824Z"
   },
   {
    "duration": 36,
    "start_time": "2022-06-11T01:31:44.835Z"
   },
   {
    "duration": 914,
    "start_time": "2022-06-11T01:31:44.873Z"
   },
   {
    "duration": 115,
    "start_time": "2022-06-11T01:31:45.789Z"
   },
   {
    "duration": 8,
    "start_time": "2022-06-11T01:31:45.906Z"
   },
   {
    "duration": 12,
    "start_time": "2022-06-11T01:31:45.915Z"
   },
   {
    "duration": 26,
    "start_time": "2022-06-11T01:31:45.928Z"
   },
   {
    "duration": 21,
    "start_time": "2022-06-11T01:31:45.955Z"
   },
   {
    "duration": 25,
    "start_time": "2022-06-11T01:31:45.978Z"
   },
   {
    "duration": 1205,
    "start_time": "2022-06-11T01:31:46.005Z"
   },
   {
    "duration": 116,
    "start_time": "2022-06-11T01:31:47.212Z"
   },
   {
    "duration": 35,
    "start_time": "2022-06-11T01:31:47.330Z"
   },
   {
    "duration": 198,
    "start_time": "2022-06-11T01:31:47.366Z"
   },
   {
    "duration": 10,
    "start_time": "2022-06-11T01:31:47.565Z"
   },
   {
    "duration": 137,
    "start_time": "2022-06-11T01:31:47.576Z"
   },
   {
    "duration": 3,
    "start_time": "2022-06-11T01:31:47.715Z"
   },
   {
    "duration": 70,
    "start_time": "2022-06-11T01:31:47.719Z"
   },
   {
    "duration": 5,
    "start_time": "2022-06-11T01:31:47.791Z"
   },
   {
    "duration": 67,
    "start_time": "2022-06-11T01:31:47.798Z"
   },
   {
    "duration": 10,
    "start_time": "2022-06-11T01:31:47.867Z"
   },
   {
    "duration": 27,
    "start_time": "2022-06-11T01:31:47.879Z"
   },
   {
    "duration": 110,
    "start_time": "2022-06-11T01:31:47.907Z"
   },
   {
    "duration": 7,
    "start_time": "2022-06-11T01:31:48.019Z"
   },
   {
    "duration": 6,
    "start_time": "2022-06-11T01:31:48.027Z"
   },
   {
    "duration": 75,
    "start_time": "2022-06-11T01:31:48.034Z"
   },
   {
    "duration": 9,
    "start_time": "2022-06-11T01:31:48.110Z"
   },
   {
    "duration": 4,
    "start_time": "2022-06-11T01:31:48.121Z"
   },
   {
    "duration": 70,
    "start_time": "2022-06-11T01:31:48.127Z"
   },
   {
    "duration": 7,
    "start_time": "2022-06-11T01:31:48.199Z"
   },
   {
    "duration": 633,
    "start_time": "2022-06-11T01:31:48.208Z"
   },
   {
    "duration": 20,
    "start_time": "2022-06-11T01:31:48.843Z"
   },
   {
    "duration": 9,
    "start_time": "2022-06-11T01:31:48.865Z"
   },
   {
    "duration": 79,
    "start_time": "2022-06-11T01:31:48.876Z"
   },
   {
    "duration": 277,
    "start_time": "2022-06-11T01:31:48.956Z"
   },
   {
    "duration": 2,
    "start_time": "2022-06-11T01:31:49.235Z"
   },
   {
    "duration": 2819,
    "start_time": "2022-06-11T01:31:49.238Z"
   },
   {
    "duration": 3,
    "start_time": "2022-06-11T01:31:52.059Z"
   },
   {
    "duration": 90,
    "start_time": "2022-06-11T01:31:52.064Z"
   },
   {
    "duration": 11598,
    "start_time": "2022-06-11T01:31:52.158Z"
   },
   {
    "duration": 2,
    "start_time": "2022-06-11T01:32:03.757Z"
   },
   {
    "duration": 93,
    "start_time": "2022-06-11T01:32:03.761Z"
   },
   {
    "duration": 114,
    "start_time": "2022-06-11T01:32:03.856Z"
   },
   {
    "duration": 16117,
    "start_time": "2022-06-11T01:32:03.975Z"
   },
   {
    "duration": 12,
    "start_time": "2022-06-11T01:32:20.094Z"
   },
   {
    "duration": 125262,
    "start_time": "2022-06-11T01:32:20.108Z"
   },
   {
    "duration": 3,
    "start_time": "2022-06-11T01:34:25.372Z"
   },
   {
    "duration": 453,
    "start_time": "2022-06-11T01:34:25.376Z"
   },
   {
    "duration": 3530,
    "start_time": "2022-06-11T01:34:25.830Z"
   },
   {
    "duration": 3,
    "start_time": "2022-06-11T01:34:29.362Z"
   },
   {
    "duration": 10,
    "start_time": "2022-06-11T01:34:29.366Z"
   },
   {
    "duration": 10,
    "start_time": "2022-06-11T01:34:29.378Z"
   },
   {
    "duration": 16,
    "start_time": "2022-06-11T01:34:29.390Z"
   },
   {
    "duration": 207863,
    "start_time": "2022-06-11T01:34:29.408Z"
   },
   {
    "duration": 3,
    "start_time": "2022-06-11T01:37:57.273Z"
   },
   {
    "duration": 71,
    "start_time": "2022-06-11T01:37:57.278Z"
   },
   {
    "duration": 5240,
    "start_time": "2022-06-11T01:37:57.351Z"
   },
   {
    "duration": 4,
    "start_time": "2022-06-11T01:38:02.593Z"
   },
   {
    "duration": 26,
    "start_time": "2022-06-11T01:38:02.598Z"
   },
   {
    "duration": 16,
    "start_time": "2022-06-11T01:38:02.625Z"
   },
   {
    "duration": 14,
    "start_time": "2022-06-11T01:38:02.643Z"
   },
   {
    "duration": 109100,
    "start_time": "2022-06-11T01:38:02.659Z"
   },
   {
    "duration": 2,
    "start_time": "2022-06-11T01:39:51.761Z"
   },
   {
    "duration": 399,
    "start_time": "2022-06-11T01:39:51.765Z"
   },
   {
    "duration": 3301,
    "start_time": "2022-06-11T01:39:52.166Z"
   },
   {
    "duration": 2,
    "start_time": "2022-06-11T01:39:55.469Z"
   },
   {
    "duration": 4,
    "start_time": "2022-06-11T01:39:55.553Z"
   },
   {
    "duration": 21,
    "start_time": "2022-06-11T01:39:55.559Z"
   },
   {
    "duration": 15,
    "start_time": "2022-06-11T01:39:55.582Z"
   },
   {
    "duration": 124128,
    "start_time": "2022-06-11T01:39:55.598Z"
   },
   {
    "duration": 3,
    "start_time": "2022-06-11T01:41:59.727Z"
   },
   {
    "duration": 487,
    "start_time": "2022-06-11T01:41:59.731Z"
   },
   {
    "duration": 3516,
    "start_time": "2022-06-11T01:42:00.220Z"
   },
   {
    "duration": 3,
    "start_time": "2022-06-11T01:42:03.738Z"
   },
   {
    "duration": 11,
    "start_time": "2022-06-11T01:42:03.742Z"
   },
   {
    "duration": 11,
    "start_time": "2022-06-11T01:42:03.754Z"
   }
  ],
  "kernelspec": {
   "display_name": "Python 3 (ipykernel)",
   "language": "python",
   "name": "python3"
  },
  "language_info": {
   "codemirror_mode": {
    "name": "ipython",
    "version": 3
   },
   "file_extension": ".py",
   "mimetype": "text/x-python",
   "name": "python",
   "nbconvert_exporter": "python",
   "pygments_lexer": "ipython3",
   "version": "3.9.5"
  },
  "toc": {
   "base_numbering": 1,
   "nav_menu": {},
   "number_sections": true,
   "sideBar": true,
   "skip_h1_title": true,
   "title_cell": "Table of Contents",
   "title_sidebar": "Contents",
   "toc_cell": false,
   "toc_position": {
    "height": "calc(100% - 180px)",
    "left": "10px",
    "top": "150px",
    "width": "314.8px"
   },
   "toc_section_display": true,
   "toc_window_display": true
  }
 },
 "nbformat": 4,
 "nbformat_minor": 2
}